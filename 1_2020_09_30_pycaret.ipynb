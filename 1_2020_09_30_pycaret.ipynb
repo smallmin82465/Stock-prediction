{
 "cells": [
  {
   "cell_type": "markdown",
   "metadata": {},
   "source": [
    "測試資料\n",
    "---\n",
    "1. Download data, 如何下載資料\n",
    "- Using Database by Pandas, 如何使用資料庫\n",
    "- Technical Index Introducing, 引進技術指標\n",
    "- TSM as example, 用台積電當例子\n",
    "- Use pycaret to make prediction models for popular known machine learning schemes.\n",
    "\n",
    "Note\n",
    "---\n",
    "1. has to install all the required packages, for instance, talib. install by pip:\n",
    "```\n",
    "> pip install yfinance\n",
    "```\n",
    "- Complete the case.\n",
    "\n",
    "- (2020/09/30) Use pycaret, test all the prediction schemes,\n",
    "- (...)\n",
    "\n",
    "Date: 2020/09/23"
   ]
  },
  {
   "cell_type": "markdown",
   "metadata": {},
   "source": [
    "- put all the python files in same directory."
   ]
  },
  {
   "cell_type": "code",
   "execution_count": 1,
   "metadata": {},
   "outputs": [],
   "source": [
    "import warnings\n",
    "warnings.filterwarnings(action='ignore')"
   ]
  },
  {
   "cell_type": "code",
   "execution_count": 1,
   "metadata": {},
   "outputs": [],
   "source": [
    "import matplotlib.dates as dates\n",
    "#import pandas_datareader.data as web\n",
    "from pandas_datareader import data as web\n",
    "import datetime as dt\n",
    "import gc\n",
    "import pandas as pd\n",
    "import numpy as np\n",
    "import matplotlib.pyplot as plt\n",
    "\n",
    "#from hmmlearn.hmm import GaussianHMM\n",
    "import yfinance as yf\n",
    "yf.pdr_override()"
   ]
  },
  {
   "cell_type": "code",
   "execution_count": 2,
   "metadata": {},
   "outputs": [],
   "source": [
    "from datetime import date\n",
    "today = date.today()"
   ]
  },
  {
   "cell_type": "code",
   "execution_count": 3,
   "metadata": {},
   "outputs": [],
   "source": [
    "# Observe recent changes\n",
    "\n",
    "start = dt.datetime(2019, 1, 1)\n",
    "end = today"
   ]
  },
  {
   "cell_type": "code",
   "execution_count": 4,
   "metadata": {},
   "outputs": [],
   "source": [
    "AAPL='AAPL'\n",
    "AAPL_t='蘋果'\n",
    "\n",
    "TSM='2330.TW'\n",
    "TSM_t='台積電'\n",
    "MediaT='2454.TW'\n",
    "MediaT_t='聯發科'\n",
    "Macronix='2337.TW'\n",
    "Macronix_t='旺宏電子'"
   ]
  },
  {
   "cell_type": "code",
   "execution_count": 5,
   "metadata": {},
   "outputs": [],
   "source": [
    "def get_stock(target,start,end):\n",
    "    df=web.get_data_yahoo([target],start, end)\n",
    "    df.fillna(method='ffill',inplace=True)\n",
    "    df.fillna(method='bfill',inplace=True)\n",
    "    return df"
   ]
  },
  {
   "cell_type": "code",
   "execution_count": 7,
   "metadata": {},
   "outputs": [
    {
     "name": "stdout",
     "output_type": "stream",
     "text": [
      "[*********************100%***********************]  1 of 1 completed\n"
     ]
    }
   ],
   "source": [
    "df_AAPL=web.get_data_yahoo([AAPL],start, end)"
   ]
  },
  {
   "cell_type": "code",
   "execution_count": 6,
   "metadata": {},
   "outputs": [
    {
     "name": "stdout",
     "output_type": "stream",
     "text": [
      "[*********************100%***********************]  1 of 1 completed\n"
     ]
    }
   ],
   "source": [
    "df_TSM=web.get_data_yahoo([TSM],start, end)"
   ]
  },
  {
   "cell_type": "code",
   "execution_count": 7,
   "metadata": {},
   "outputs": [
    {
     "name": "stdout",
     "output_type": "stream",
     "text": [
      "<class 'pandas.core.frame.DataFrame'>\n",
      "DatetimeIndex: 429 entries, 2019-01-02 to 2020-10-13\n",
      "Data columns (total 6 columns):\n",
      " #   Column     Non-Null Count  Dtype  \n",
      "---  ------     --------------  -----  \n",
      " 0   Open       429 non-null    float64\n",
      " 1   High       429 non-null    float64\n",
      " 2   Low        429 non-null    float64\n",
      " 3   Close      429 non-null    float64\n",
      " 4   Adj Close  429 non-null    float64\n",
      " 5   Volume     429 non-null    int64  \n",
      "dtypes: float64(5), int64(1)\n",
      "memory usage: 23.5 KB\n"
     ]
    }
   ],
   "source": [
    "df_TSM.info()"
   ]
  },
  {
   "cell_type": "code",
   "execution_count": 8,
   "metadata": {},
   "outputs": [],
   "source": [
    "y=df_TSM['Close'].shift(-1).values\n",
    "#y[0]=y[1]\n",
    "#df_TSM['y']=y"
   ]
  },
  {
   "cell_type": "code",
   "execution_count": 9,
   "metadata": {},
   "outputs": [],
   "source": [
    "y[-1]=y[-2]\n",
    "df_TSM['y']=y"
   ]
  },
  {
   "cell_type": "code",
   "execution_count": 15,
   "metadata": {},
   "outputs": [
    {
     "data": {
      "text/html": [
       "<div>\n",
       "<style scoped>\n",
       "    .dataframe tbody tr th:only-of-type {\n",
       "        vertical-align: middle;\n",
       "    }\n",
       "\n",
       "    .dataframe tbody tr th {\n",
       "        vertical-align: top;\n",
       "    }\n",
       "\n",
       "    .dataframe thead th {\n",
       "        text-align: right;\n",
       "    }\n",
       "</style>\n",
       "<table border=\"1\" class=\"dataframe\">\n",
       "  <thead>\n",
       "    <tr style=\"text-align: right;\">\n",
       "      <th></th>\n",
       "      <th>Open</th>\n",
       "      <th>High</th>\n",
       "      <th>Low</th>\n",
       "      <th>Close</th>\n",
       "      <th>Adj Close</th>\n",
       "      <th>Volume</th>\n",
       "      <th>y</th>\n",
       "    </tr>\n",
       "    <tr>\n",
       "      <th>Date</th>\n",
       "      <th></th>\n",
       "      <th></th>\n",
       "      <th></th>\n",
       "      <th></th>\n",
       "      <th></th>\n",
       "      <th></th>\n",
       "      <th></th>\n",
       "    </tr>\n",
       "  </thead>\n",
       "  <tbody>\n",
       "    <tr>\n",
       "      <th>2020-09-30</th>\n",
       "      <td>430.5</td>\n",
       "      <td>435.0</td>\n",
       "      <td>430.5</td>\n",
       "      <td>433.0</td>\n",
       "      <td>433.0</td>\n",
       "      <td>27334204</td>\n",
       "      <td>432.5</td>\n",
       "    </tr>\n",
       "    <tr>\n",
       "      <th>2020-10-05</th>\n",
       "      <td>438.0</td>\n",
       "      <td>438.0</td>\n",
       "      <td>431.5</td>\n",
       "      <td>432.5</td>\n",
       "      <td>432.5</td>\n",
       "      <td>32945832</td>\n",
       "      <td>439.5</td>\n",
       "    </tr>\n",
       "    <tr>\n",
       "      <th>2020-10-06</th>\n",
       "      <td>441.5</td>\n",
       "      <td>442.0</td>\n",
       "      <td>437.5</td>\n",
       "      <td>439.5</td>\n",
       "      <td>439.5</td>\n",
       "      <td>35775395</td>\n",
       "      <td>443.0</td>\n",
       "    </tr>\n",
       "    <tr>\n",
       "      <th>2020-10-07</th>\n",
       "      <td>435.0</td>\n",
       "      <td>445.0</td>\n",
       "      <td>435.0</td>\n",
       "      <td>443.0</td>\n",
       "      <td>443.0</td>\n",
       "      <td>42926239</td>\n",
       "      <td>453.0</td>\n",
       "    </tr>\n",
       "    <tr>\n",
       "      <th>2020-10-08</th>\n",
       "      <td>450.0</td>\n",
       "      <td>454.0</td>\n",
       "      <td>448.5</td>\n",
       "      <td>453.0</td>\n",
       "      <td>453.0</td>\n",
       "      <td>60853811</td>\n",
       "      <td>453.0</td>\n",
       "    </tr>\n",
       "  </tbody>\n",
       "</table>\n",
       "</div>"
      ],
      "text/plain": [
       "             Open   High    Low  Close  Adj Close    Volume      y\n",
       "Date                                                              \n",
       "2020-09-30  430.5  435.0  430.5  433.0      433.0  27334204  432.5\n",
       "2020-10-05  438.0  438.0  431.5  432.5      432.5  32945832  439.5\n",
       "2020-10-06  441.5  442.0  437.5  439.5      439.5  35775395  443.0\n",
       "2020-10-07  435.0  445.0  435.0  443.0      443.0  42926239  453.0\n",
       "2020-10-08  450.0  454.0  448.5  453.0      453.0  60853811  453.0"
      ]
     },
     "execution_count": 15,
     "metadata": {},
     "output_type": "execute_result"
    }
   ],
   "source": [
    "df_TSM.tail()"
   ]
  },
  {
   "cell_type": "code",
   "execution_count": 10,
   "metadata": {},
   "outputs": [],
   "source": [
    "from pycaret.regression import *"
   ]
  },
  {
   "cell_type": "code",
   "execution_count": 17,
   "metadata": {},
   "outputs": [
    {
     "data": {
      "text/plain": [
       "Index(['Open', 'High', 'Low', 'Close', 'Adj Close', 'Volume', 'y'], dtype='object')"
      ]
     },
     "execution_count": 17,
     "metadata": {},
     "output_type": "execute_result"
    }
   ],
   "source": [
    "df_TSM.columns"
   ]
  },
  {
   "cell_type": "code",
   "execution_count": 11,
   "metadata": {},
   "outputs": [],
   "source": [
    "features=['Open', 'High', 'Low', 'Close', 'Volume', 'y']"
   ]
  },
  {
   "cell_type": "raw",
   "metadata": {},
   "source": [
    "# 80% to train, 20% for valid\n",
    "ratio=len(df_TSM)//10*8"
   ]
  },
  {
   "cell_type": "code",
   "execution_count": 13,
   "metadata": {},
   "outputs": [],
   "source": [
    "# predict for next 5 days, next week \n",
    "ratio=-5\n",
    "train=df_TSM.iloc[:ratio,:]\n",
    "test=df_TSM.iloc[ratio:,:]"
   ]
  },
  {
   "cell_type": "code",
   "execution_count": 19,
   "metadata": {},
   "outputs": [
    {
     "name": "stdout",
     "output_type": "stream",
     "text": [
      "<class 'pandas.core.frame.DataFrame'>\n",
      "DatetimeIndex: 424 entries, 2019-01-02 to 2020-10-05\n",
      "Data columns (total 7 columns):\n",
      " #   Column     Non-Null Count  Dtype  \n",
      "---  ------     --------------  -----  \n",
      " 0   Open       424 non-null    float64\n",
      " 1   High       424 non-null    float64\n",
      " 2   Low        424 non-null    float64\n",
      " 3   Close      424 non-null    float64\n",
      " 4   Adj Close  424 non-null    float64\n",
      " 5   Volume     424 non-null    int64  \n",
      " 6   y          424 non-null    float64\n",
      "dtypes: float64(6), int64(1)\n",
      "memory usage: 26.5 KB\n"
     ]
    }
   ],
   "source": [
    "train.info()"
   ]
  },
  {
   "cell_type": "code",
   "execution_count": 25,
   "metadata": {},
   "outputs": [],
   "source": [
    "setup?"
   ]
  },
  {
   "cell_type": "code",
   "execution_count": 20,
   "metadata": {},
   "outputs": [
    {
     "name": "stdout",
     "output_type": "stream",
     "text": [
      " \n",
      "Setup Succesfully Completed.\n"
     ]
    },
    {
     "data": {
      "text/html": [
       "<style  type=\"text/css\" >\n",
       "#T_a7b83fa4_0dc6_11eb_a671_003ee1c6c0a9row15_col1{\n",
       "            background-color:  yellow;\n",
       "        }</style><table id=\"T_a7b83fa4_0dc6_11eb_a671_003ee1c6c0a9\" ><thead>    <tr>        <th class=\"blank level0\" ></th>        <th class=\"col_heading level0 col0\" >Description</th>        <th class=\"col_heading level0 col1\" >Value</th>    </tr></thead><tbody>\n",
       "                <tr>\n",
       "                        <th id=\"T_a7b83fa4_0dc6_11eb_a671_003ee1c6c0a9level0_row0\" class=\"row_heading level0 row0\" >0</th>\n",
       "                        <td id=\"T_a7b83fa4_0dc6_11eb_a671_003ee1c6c0a9row0_col0\" class=\"data row0 col0\" >session_id</td>\n",
       "                        <td id=\"T_a7b83fa4_0dc6_11eb_a671_003ee1c6c0a9row0_col1\" class=\"data row0 col1\" >6427</td>\n",
       "            </tr>\n",
       "            <tr>\n",
       "                        <th id=\"T_a7b83fa4_0dc6_11eb_a671_003ee1c6c0a9level0_row1\" class=\"row_heading level0 row1\" >1</th>\n",
       "                        <td id=\"T_a7b83fa4_0dc6_11eb_a671_003ee1c6c0a9row1_col0\" class=\"data row1 col0\" >Transform Target </td>\n",
       "                        <td id=\"T_a7b83fa4_0dc6_11eb_a671_003ee1c6c0a9row1_col1\" class=\"data row1 col1\" >False</td>\n",
       "            </tr>\n",
       "            <tr>\n",
       "                        <th id=\"T_a7b83fa4_0dc6_11eb_a671_003ee1c6c0a9level0_row2\" class=\"row_heading level0 row2\" >2</th>\n",
       "                        <td id=\"T_a7b83fa4_0dc6_11eb_a671_003ee1c6c0a9row2_col0\" class=\"data row2 col0\" >Transform Target Method</td>\n",
       "                        <td id=\"T_a7b83fa4_0dc6_11eb_a671_003ee1c6c0a9row2_col1\" class=\"data row2 col1\" >None</td>\n",
       "            </tr>\n",
       "            <tr>\n",
       "                        <th id=\"T_a7b83fa4_0dc6_11eb_a671_003ee1c6c0a9level0_row3\" class=\"row_heading level0 row3\" >3</th>\n",
       "                        <td id=\"T_a7b83fa4_0dc6_11eb_a671_003ee1c6c0a9row3_col0\" class=\"data row3 col0\" >Original Data</td>\n",
       "                        <td id=\"T_a7b83fa4_0dc6_11eb_a671_003ee1c6c0a9row3_col1\" class=\"data row3 col1\" >(424, 6)</td>\n",
       "            </tr>\n",
       "            <tr>\n",
       "                        <th id=\"T_a7b83fa4_0dc6_11eb_a671_003ee1c6c0a9level0_row4\" class=\"row_heading level0 row4\" >4</th>\n",
       "                        <td id=\"T_a7b83fa4_0dc6_11eb_a671_003ee1c6c0a9row4_col0\" class=\"data row4 col0\" >Missing Values </td>\n",
       "                        <td id=\"T_a7b83fa4_0dc6_11eb_a671_003ee1c6c0a9row4_col1\" class=\"data row4 col1\" >False</td>\n",
       "            </tr>\n",
       "            <tr>\n",
       "                        <th id=\"T_a7b83fa4_0dc6_11eb_a671_003ee1c6c0a9level0_row5\" class=\"row_heading level0 row5\" >5</th>\n",
       "                        <td id=\"T_a7b83fa4_0dc6_11eb_a671_003ee1c6c0a9row5_col0\" class=\"data row5 col0\" >Numeric Features </td>\n",
       "                        <td id=\"T_a7b83fa4_0dc6_11eb_a671_003ee1c6c0a9row5_col1\" class=\"data row5 col1\" >5</td>\n",
       "            </tr>\n",
       "            <tr>\n",
       "                        <th id=\"T_a7b83fa4_0dc6_11eb_a671_003ee1c6c0a9level0_row6\" class=\"row_heading level0 row6\" >6</th>\n",
       "                        <td id=\"T_a7b83fa4_0dc6_11eb_a671_003ee1c6c0a9row6_col0\" class=\"data row6 col0\" >Categorical Features </td>\n",
       "                        <td id=\"T_a7b83fa4_0dc6_11eb_a671_003ee1c6c0a9row6_col1\" class=\"data row6 col1\" >0</td>\n",
       "            </tr>\n",
       "            <tr>\n",
       "                        <th id=\"T_a7b83fa4_0dc6_11eb_a671_003ee1c6c0a9level0_row7\" class=\"row_heading level0 row7\" >7</th>\n",
       "                        <td id=\"T_a7b83fa4_0dc6_11eb_a671_003ee1c6c0a9row7_col0\" class=\"data row7 col0\" >Ordinal Features </td>\n",
       "                        <td id=\"T_a7b83fa4_0dc6_11eb_a671_003ee1c6c0a9row7_col1\" class=\"data row7 col1\" >False</td>\n",
       "            </tr>\n",
       "            <tr>\n",
       "                        <th id=\"T_a7b83fa4_0dc6_11eb_a671_003ee1c6c0a9level0_row8\" class=\"row_heading level0 row8\" >8</th>\n",
       "                        <td id=\"T_a7b83fa4_0dc6_11eb_a671_003ee1c6c0a9row8_col0\" class=\"data row8 col0\" >High Cardinality Features </td>\n",
       "                        <td id=\"T_a7b83fa4_0dc6_11eb_a671_003ee1c6c0a9row8_col1\" class=\"data row8 col1\" >False</td>\n",
       "            </tr>\n",
       "            <tr>\n",
       "                        <th id=\"T_a7b83fa4_0dc6_11eb_a671_003ee1c6c0a9level0_row9\" class=\"row_heading level0 row9\" >9</th>\n",
       "                        <td id=\"T_a7b83fa4_0dc6_11eb_a671_003ee1c6c0a9row9_col0\" class=\"data row9 col0\" >High Cardinality Method </td>\n",
       "                        <td id=\"T_a7b83fa4_0dc6_11eb_a671_003ee1c6c0a9row9_col1\" class=\"data row9 col1\" >None</td>\n",
       "            </tr>\n",
       "            <tr>\n",
       "                        <th id=\"T_a7b83fa4_0dc6_11eb_a671_003ee1c6c0a9level0_row10\" class=\"row_heading level0 row10\" >10</th>\n",
       "                        <td id=\"T_a7b83fa4_0dc6_11eb_a671_003ee1c6c0a9row10_col0\" class=\"data row10 col0\" >Sampled Data</td>\n",
       "                        <td id=\"T_a7b83fa4_0dc6_11eb_a671_003ee1c6c0a9row10_col1\" class=\"data row10 col1\" >(424, 6)</td>\n",
       "            </tr>\n",
       "            <tr>\n",
       "                        <th id=\"T_a7b83fa4_0dc6_11eb_a671_003ee1c6c0a9level0_row11\" class=\"row_heading level0 row11\" >11</th>\n",
       "                        <td id=\"T_a7b83fa4_0dc6_11eb_a671_003ee1c6c0a9row11_col0\" class=\"data row11 col0\" >Transformed Train Set</td>\n",
       "                        <td id=\"T_a7b83fa4_0dc6_11eb_a671_003ee1c6c0a9row11_col1\" class=\"data row11 col1\" >(339, 5)</td>\n",
       "            </tr>\n",
       "            <tr>\n",
       "                        <th id=\"T_a7b83fa4_0dc6_11eb_a671_003ee1c6c0a9level0_row12\" class=\"row_heading level0 row12\" >12</th>\n",
       "                        <td id=\"T_a7b83fa4_0dc6_11eb_a671_003ee1c6c0a9row12_col0\" class=\"data row12 col0\" >Transformed Test Set</td>\n",
       "                        <td id=\"T_a7b83fa4_0dc6_11eb_a671_003ee1c6c0a9row12_col1\" class=\"data row12 col1\" >(85, 5)</td>\n",
       "            </tr>\n",
       "            <tr>\n",
       "                        <th id=\"T_a7b83fa4_0dc6_11eb_a671_003ee1c6c0a9level0_row13\" class=\"row_heading level0 row13\" >13</th>\n",
       "                        <td id=\"T_a7b83fa4_0dc6_11eb_a671_003ee1c6c0a9row13_col0\" class=\"data row13 col0\" >Numeric Imputer </td>\n",
       "                        <td id=\"T_a7b83fa4_0dc6_11eb_a671_003ee1c6c0a9row13_col1\" class=\"data row13 col1\" >mean</td>\n",
       "            </tr>\n",
       "            <tr>\n",
       "                        <th id=\"T_a7b83fa4_0dc6_11eb_a671_003ee1c6c0a9level0_row14\" class=\"row_heading level0 row14\" >14</th>\n",
       "                        <td id=\"T_a7b83fa4_0dc6_11eb_a671_003ee1c6c0a9row14_col0\" class=\"data row14 col0\" >Categorical Imputer </td>\n",
       "                        <td id=\"T_a7b83fa4_0dc6_11eb_a671_003ee1c6c0a9row14_col1\" class=\"data row14 col1\" >constant</td>\n",
       "            </tr>\n",
       "            <tr>\n",
       "                        <th id=\"T_a7b83fa4_0dc6_11eb_a671_003ee1c6c0a9level0_row15\" class=\"row_heading level0 row15\" >15</th>\n",
       "                        <td id=\"T_a7b83fa4_0dc6_11eb_a671_003ee1c6c0a9row15_col0\" class=\"data row15 col0\" >Normalize </td>\n",
       "                        <td id=\"T_a7b83fa4_0dc6_11eb_a671_003ee1c6c0a9row15_col1\" class=\"data row15 col1\" >True</td>\n",
       "            </tr>\n",
       "            <tr>\n",
       "                        <th id=\"T_a7b83fa4_0dc6_11eb_a671_003ee1c6c0a9level0_row16\" class=\"row_heading level0 row16\" >16</th>\n",
       "                        <td id=\"T_a7b83fa4_0dc6_11eb_a671_003ee1c6c0a9row16_col0\" class=\"data row16 col0\" >Normalize Method </td>\n",
       "                        <td id=\"T_a7b83fa4_0dc6_11eb_a671_003ee1c6c0a9row16_col1\" class=\"data row16 col1\" >zscore</td>\n",
       "            </tr>\n",
       "            <tr>\n",
       "                        <th id=\"T_a7b83fa4_0dc6_11eb_a671_003ee1c6c0a9level0_row17\" class=\"row_heading level0 row17\" >17</th>\n",
       "                        <td id=\"T_a7b83fa4_0dc6_11eb_a671_003ee1c6c0a9row17_col0\" class=\"data row17 col0\" >Transformation </td>\n",
       "                        <td id=\"T_a7b83fa4_0dc6_11eb_a671_003ee1c6c0a9row17_col1\" class=\"data row17 col1\" >False</td>\n",
       "            </tr>\n",
       "            <tr>\n",
       "                        <th id=\"T_a7b83fa4_0dc6_11eb_a671_003ee1c6c0a9level0_row18\" class=\"row_heading level0 row18\" >18</th>\n",
       "                        <td id=\"T_a7b83fa4_0dc6_11eb_a671_003ee1c6c0a9row18_col0\" class=\"data row18 col0\" >Transformation Method </td>\n",
       "                        <td id=\"T_a7b83fa4_0dc6_11eb_a671_003ee1c6c0a9row18_col1\" class=\"data row18 col1\" >None</td>\n",
       "            </tr>\n",
       "            <tr>\n",
       "                        <th id=\"T_a7b83fa4_0dc6_11eb_a671_003ee1c6c0a9level0_row19\" class=\"row_heading level0 row19\" >19</th>\n",
       "                        <td id=\"T_a7b83fa4_0dc6_11eb_a671_003ee1c6c0a9row19_col0\" class=\"data row19 col0\" >PCA </td>\n",
       "                        <td id=\"T_a7b83fa4_0dc6_11eb_a671_003ee1c6c0a9row19_col1\" class=\"data row19 col1\" >False</td>\n",
       "            </tr>\n",
       "            <tr>\n",
       "                        <th id=\"T_a7b83fa4_0dc6_11eb_a671_003ee1c6c0a9level0_row20\" class=\"row_heading level0 row20\" >20</th>\n",
       "                        <td id=\"T_a7b83fa4_0dc6_11eb_a671_003ee1c6c0a9row20_col0\" class=\"data row20 col0\" >PCA Method </td>\n",
       "                        <td id=\"T_a7b83fa4_0dc6_11eb_a671_003ee1c6c0a9row20_col1\" class=\"data row20 col1\" >None</td>\n",
       "            </tr>\n",
       "            <tr>\n",
       "                        <th id=\"T_a7b83fa4_0dc6_11eb_a671_003ee1c6c0a9level0_row21\" class=\"row_heading level0 row21\" >21</th>\n",
       "                        <td id=\"T_a7b83fa4_0dc6_11eb_a671_003ee1c6c0a9row21_col0\" class=\"data row21 col0\" >PCA Components </td>\n",
       "                        <td id=\"T_a7b83fa4_0dc6_11eb_a671_003ee1c6c0a9row21_col1\" class=\"data row21 col1\" >None</td>\n",
       "            </tr>\n",
       "            <tr>\n",
       "                        <th id=\"T_a7b83fa4_0dc6_11eb_a671_003ee1c6c0a9level0_row22\" class=\"row_heading level0 row22\" >22</th>\n",
       "                        <td id=\"T_a7b83fa4_0dc6_11eb_a671_003ee1c6c0a9row22_col0\" class=\"data row22 col0\" >Ignore Low Variance </td>\n",
       "                        <td id=\"T_a7b83fa4_0dc6_11eb_a671_003ee1c6c0a9row22_col1\" class=\"data row22 col1\" >False</td>\n",
       "            </tr>\n",
       "            <tr>\n",
       "                        <th id=\"T_a7b83fa4_0dc6_11eb_a671_003ee1c6c0a9level0_row23\" class=\"row_heading level0 row23\" >23</th>\n",
       "                        <td id=\"T_a7b83fa4_0dc6_11eb_a671_003ee1c6c0a9row23_col0\" class=\"data row23 col0\" >Combine Rare Levels </td>\n",
       "                        <td id=\"T_a7b83fa4_0dc6_11eb_a671_003ee1c6c0a9row23_col1\" class=\"data row23 col1\" >False</td>\n",
       "            </tr>\n",
       "            <tr>\n",
       "                        <th id=\"T_a7b83fa4_0dc6_11eb_a671_003ee1c6c0a9level0_row24\" class=\"row_heading level0 row24\" >24</th>\n",
       "                        <td id=\"T_a7b83fa4_0dc6_11eb_a671_003ee1c6c0a9row24_col0\" class=\"data row24 col0\" >Rare Level Threshold </td>\n",
       "                        <td id=\"T_a7b83fa4_0dc6_11eb_a671_003ee1c6c0a9row24_col1\" class=\"data row24 col1\" >None</td>\n",
       "            </tr>\n",
       "            <tr>\n",
       "                        <th id=\"T_a7b83fa4_0dc6_11eb_a671_003ee1c6c0a9level0_row25\" class=\"row_heading level0 row25\" >25</th>\n",
       "                        <td id=\"T_a7b83fa4_0dc6_11eb_a671_003ee1c6c0a9row25_col0\" class=\"data row25 col0\" >Numeric Binning </td>\n",
       "                        <td id=\"T_a7b83fa4_0dc6_11eb_a671_003ee1c6c0a9row25_col1\" class=\"data row25 col1\" >False</td>\n",
       "            </tr>\n",
       "            <tr>\n",
       "                        <th id=\"T_a7b83fa4_0dc6_11eb_a671_003ee1c6c0a9level0_row26\" class=\"row_heading level0 row26\" >26</th>\n",
       "                        <td id=\"T_a7b83fa4_0dc6_11eb_a671_003ee1c6c0a9row26_col0\" class=\"data row26 col0\" >Remove Outliers </td>\n",
       "                        <td id=\"T_a7b83fa4_0dc6_11eb_a671_003ee1c6c0a9row26_col1\" class=\"data row26 col1\" >False</td>\n",
       "            </tr>\n",
       "            <tr>\n",
       "                        <th id=\"T_a7b83fa4_0dc6_11eb_a671_003ee1c6c0a9level0_row27\" class=\"row_heading level0 row27\" >27</th>\n",
       "                        <td id=\"T_a7b83fa4_0dc6_11eb_a671_003ee1c6c0a9row27_col0\" class=\"data row27 col0\" >Outliers Threshold </td>\n",
       "                        <td id=\"T_a7b83fa4_0dc6_11eb_a671_003ee1c6c0a9row27_col1\" class=\"data row27 col1\" >None</td>\n",
       "            </tr>\n",
       "            <tr>\n",
       "                        <th id=\"T_a7b83fa4_0dc6_11eb_a671_003ee1c6c0a9level0_row28\" class=\"row_heading level0 row28\" >28</th>\n",
       "                        <td id=\"T_a7b83fa4_0dc6_11eb_a671_003ee1c6c0a9row28_col0\" class=\"data row28 col0\" >Remove Multicollinearity </td>\n",
       "                        <td id=\"T_a7b83fa4_0dc6_11eb_a671_003ee1c6c0a9row28_col1\" class=\"data row28 col1\" >False</td>\n",
       "            </tr>\n",
       "            <tr>\n",
       "                        <th id=\"T_a7b83fa4_0dc6_11eb_a671_003ee1c6c0a9level0_row29\" class=\"row_heading level0 row29\" >29</th>\n",
       "                        <td id=\"T_a7b83fa4_0dc6_11eb_a671_003ee1c6c0a9row29_col0\" class=\"data row29 col0\" >Multicollinearity Threshold </td>\n",
       "                        <td id=\"T_a7b83fa4_0dc6_11eb_a671_003ee1c6c0a9row29_col1\" class=\"data row29 col1\" >None</td>\n",
       "            </tr>\n",
       "            <tr>\n",
       "                        <th id=\"T_a7b83fa4_0dc6_11eb_a671_003ee1c6c0a9level0_row30\" class=\"row_heading level0 row30\" >30</th>\n",
       "                        <td id=\"T_a7b83fa4_0dc6_11eb_a671_003ee1c6c0a9row30_col0\" class=\"data row30 col0\" >Clustering </td>\n",
       "                        <td id=\"T_a7b83fa4_0dc6_11eb_a671_003ee1c6c0a9row30_col1\" class=\"data row30 col1\" >False</td>\n",
       "            </tr>\n",
       "            <tr>\n",
       "                        <th id=\"T_a7b83fa4_0dc6_11eb_a671_003ee1c6c0a9level0_row31\" class=\"row_heading level0 row31\" >31</th>\n",
       "                        <td id=\"T_a7b83fa4_0dc6_11eb_a671_003ee1c6c0a9row31_col0\" class=\"data row31 col0\" >Clustering Iteration </td>\n",
       "                        <td id=\"T_a7b83fa4_0dc6_11eb_a671_003ee1c6c0a9row31_col1\" class=\"data row31 col1\" >None</td>\n",
       "            </tr>\n",
       "            <tr>\n",
       "                        <th id=\"T_a7b83fa4_0dc6_11eb_a671_003ee1c6c0a9level0_row32\" class=\"row_heading level0 row32\" >32</th>\n",
       "                        <td id=\"T_a7b83fa4_0dc6_11eb_a671_003ee1c6c0a9row32_col0\" class=\"data row32 col0\" >Polynomial Features </td>\n",
       "                        <td id=\"T_a7b83fa4_0dc6_11eb_a671_003ee1c6c0a9row32_col1\" class=\"data row32 col1\" >False</td>\n",
       "            </tr>\n",
       "            <tr>\n",
       "                        <th id=\"T_a7b83fa4_0dc6_11eb_a671_003ee1c6c0a9level0_row33\" class=\"row_heading level0 row33\" >33</th>\n",
       "                        <td id=\"T_a7b83fa4_0dc6_11eb_a671_003ee1c6c0a9row33_col0\" class=\"data row33 col0\" >Polynomial Degree </td>\n",
       "                        <td id=\"T_a7b83fa4_0dc6_11eb_a671_003ee1c6c0a9row33_col1\" class=\"data row33 col1\" >None</td>\n",
       "            </tr>\n",
       "            <tr>\n",
       "                        <th id=\"T_a7b83fa4_0dc6_11eb_a671_003ee1c6c0a9level0_row34\" class=\"row_heading level0 row34\" >34</th>\n",
       "                        <td id=\"T_a7b83fa4_0dc6_11eb_a671_003ee1c6c0a9row34_col0\" class=\"data row34 col0\" >Trignometry Features </td>\n",
       "                        <td id=\"T_a7b83fa4_0dc6_11eb_a671_003ee1c6c0a9row34_col1\" class=\"data row34 col1\" >False</td>\n",
       "            </tr>\n",
       "            <tr>\n",
       "                        <th id=\"T_a7b83fa4_0dc6_11eb_a671_003ee1c6c0a9level0_row35\" class=\"row_heading level0 row35\" >35</th>\n",
       "                        <td id=\"T_a7b83fa4_0dc6_11eb_a671_003ee1c6c0a9row35_col0\" class=\"data row35 col0\" >Polynomial Threshold </td>\n",
       "                        <td id=\"T_a7b83fa4_0dc6_11eb_a671_003ee1c6c0a9row35_col1\" class=\"data row35 col1\" >None</td>\n",
       "            </tr>\n",
       "            <tr>\n",
       "                        <th id=\"T_a7b83fa4_0dc6_11eb_a671_003ee1c6c0a9level0_row36\" class=\"row_heading level0 row36\" >36</th>\n",
       "                        <td id=\"T_a7b83fa4_0dc6_11eb_a671_003ee1c6c0a9row36_col0\" class=\"data row36 col0\" >Group Features </td>\n",
       "                        <td id=\"T_a7b83fa4_0dc6_11eb_a671_003ee1c6c0a9row36_col1\" class=\"data row36 col1\" >False</td>\n",
       "            </tr>\n",
       "            <tr>\n",
       "                        <th id=\"T_a7b83fa4_0dc6_11eb_a671_003ee1c6c0a9level0_row37\" class=\"row_heading level0 row37\" >37</th>\n",
       "                        <td id=\"T_a7b83fa4_0dc6_11eb_a671_003ee1c6c0a9row37_col0\" class=\"data row37 col0\" >Feature Selection </td>\n",
       "                        <td id=\"T_a7b83fa4_0dc6_11eb_a671_003ee1c6c0a9row37_col1\" class=\"data row37 col1\" >False</td>\n",
       "            </tr>\n",
       "            <tr>\n",
       "                        <th id=\"T_a7b83fa4_0dc6_11eb_a671_003ee1c6c0a9level0_row38\" class=\"row_heading level0 row38\" >38</th>\n",
       "                        <td id=\"T_a7b83fa4_0dc6_11eb_a671_003ee1c6c0a9row38_col0\" class=\"data row38 col0\" >Features Selection Threshold </td>\n",
       "                        <td id=\"T_a7b83fa4_0dc6_11eb_a671_003ee1c6c0a9row38_col1\" class=\"data row38 col1\" >None</td>\n",
       "            </tr>\n",
       "            <tr>\n",
       "                        <th id=\"T_a7b83fa4_0dc6_11eb_a671_003ee1c6c0a9level0_row39\" class=\"row_heading level0 row39\" >39</th>\n",
       "                        <td id=\"T_a7b83fa4_0dc6_11eb_a671_003ee1c6c0a9row39_col0\" class=\"data row39 col0\" >Feature Interaction </td>\n",
       "                        <td id=\"T_a7b83fa4_0dc6_11eb_a671_003ee1c6c0a9row39_col1\" class=\"data row39 col1\" >False</td>\n",
       "            </tr>\n",
       "            <tr>\n",
       "                        <th id=\"T_a7b83fa4_0dc6_11eb_a671_003ee1c6c0a9level0_row40\" class=\"row_heading level0 row40\" >40</th>\n",
       "                        <td id=\"T_a7b83fa4_0dc6_11eb_a671_003ee1c6c0a9row40_col0\" class=\"data row40 col0\" >Feature Ratio </td>\n",
       "                        <td id=\"T_a7b83fa4_0dc6_11eb_a671_003ee1c6c0a9row40_col1\" class=\"data row40 col1\" >False</td>\n",
       "            </tr>\n",
       "            <tr>\n",
       "                        <th id=\"T_a7b83fa4_0dc6_11eb_a671_003ee1c6c0a9level0_row41\" class=\"row_heading level0 row41\" >41</th>\n",
       "                        <td id=\"T_a7b83fa4_0dc6_11eb_a671_003ee1c6c0a9row41_col0\" class=\"data row41 col0\" >Interaction Threshold </td>\n",
       "                        <td id=\"T_a7b83fa4_0dc6_11eb_a671_003ee1c6c0a9row41_col1\" class=\"data row41 col1\" >None</td>\n",
       "            </tr>\n",
       "    </tbody></table>"
      ],
      "text/plain": [
       "<pandas.io.formats.style.Styler at 0x7f185b9b7d90>"
      ]
     },
     "metadata": {},
     "output_type": "display_data"
    }
   ],
   "source": [
    "clf = setup(data = train[features], target = features[-1],train_size=0.8,normalize=True)"
   ]
  },
  {
   "cell_type": "code",
   "execution_count": 21,
   "metadata": {},
   "outputs": [
    {
     "data": {
      "text/html": [
       "<style  type=\"text/css\" >\n",
       "    #T_d20718c0_0dc6_11eb_a671_003ee1c6c0a9 th {\n",
       "          text-align: left;\n",
       "    }#T_d20718c0_0dc6_11eb_a671_003ee1c6c0a9row0_col0,#T_d20718c0_0dc6_11eb_a671_003ee1c6c0a9row1_col0,#T_d20718c0_0dc6_11eb_a671_003ee1c6c0a9row1_col1,#T_d20718c0_0dc6_11eb_a671_003ee1c6c0a9row1_col2,#T_d20718c0_0dc6_11eb_a671_003ee1c6c0a9row1_col3,#T_d20718c0_0dc6_11eb_a671_003ee1c6c0a9row1_col4,#T_d20718c0_0dc6_11eb_a671_003ee1c6c0a9row1_col5,#T_d20718c0_0dc6_11eb_a671_003ee1c6c0a9row1_col6,#T_d20718c0_0dc6_11eb_a671_003ee1c6c0a9row2_col0,#T_d20718c0_0dc6_11eb_a671_003ee1c6c0a9row2_col1,#T_d20718c0_0dc6_11eb_a671_003ee1c6c0a9row2_col2,#T_d20718c0_0dc6_11eb_a671_003ee1c6c0a9row2_col3,#T_d20718c0_0dc6_11eb_a671_003ee1c6c0a9row2_col4,#T_d20718c0_0dc6_11eb_a671_003ee1c6c0a9row2_col5,#T_d20718c0_0dc6_11eb_a671_003ee1c6c0a9row2_col6,#T_d20718c0_0dc6_11eb_a671_003ee1c6c0a9row3_col0,#T_d20718c0_0dc6_11eb_a671_003ee1c6c0a9row3_col1,#T_d20718c0_0dc6_11eb_a671_003ee1c6c0a9row3_col2,#T_d20718c0_0dc6_11eb_a671_003ee1c6c0a9row3_col3,#T_d20718c0_0dc6_11eb_a671_003ee1c6c0a9row3_col4,#T_d20718c0_0dc6_11eb_a671_003ee1c6c0a9row3_col5,#T_d20718c0_0dc6_11eb_a671_003ee1c6c0a9row3_col6,#T_d20718c0_0dc6_11eb_a671_003ee1c6c0a9row4_col0,#T_d20718c0_0dc6_11eb_a671_003ee1c6c0a9row4_col1,#T_d20718c0_0dc6_11eb_a671_003ee1c6c0a9row4_col2,#T_d20718c0_0dc6_11eb_a671_003ee1c6c0a9row4_col3,#T_d20718c0_0dc6_11eb_a671_003ee1c6c0a9row4_col4,#T_d20718c0_0dc6_11eb_a671_003ee1c6c0a9row4_col5,#T_d20718c0_0dc6_11eb_a671_003ee1c6c0a9row4_col6,#T_d20718c0_0dc6_11eb_a671_003ee1c6c0a9row5_col0,#T_d20718c0_0dc6_11eb_a671_003ee1c6c0a9row5_col1,#T_d20718c0_0dc6_11eb_a671_003ee1c6c0a9row5_col2,#T_d20718c0_0dc6_11eb_a671_003ee1c6c0a9row5_col3,#T_d20718c0_0dc6_11eb_a671_003ee1c6c0a9row5_col4,#T_d20718c0_0dc6_11eb_a671_003ee1c6c0a9row5_col5,#T_d20718c0_0dc6_11eb_a671_003ee1c6c0a9row5_col6,#T_d20718c0_0dc6_11eb_a671_003ee1c6c0a9row6_col0,#T_d20718c0_0dc6_11eb_a671_003ee1c6c0a9row6_col1,#T_d20718c0_0dc6_11eb_a671_003ee1c6c0a9row6_col2,#T_d20718c0_0dc6_11eb_a671_003ee1c6c0a9row6_col3,#T_d20718c0_0dc6_11eb_a671_003ee1c6c0a9row6_col4,#T_d20718c0_0dc6_11eb_a671_003ee1c6c0a9row6_col5,#T_d20718c0_0dc6_11eb_a671_003ee1c6c0a9row6_col6,#T_d20718c0_0dc6_11eb_a671_003ee1c6c0a9row7_col0,#T_d20718c0_0dc6_11eb_a671_003ee1c6c0a9row7_col1,#T_d20718c0_0dc6_11eb_a671_003ee1c6c0a9row7_col2,#T_d20718c0_0dc6_11eb_a671_003ee1c6c0a9row7_col3,#T_d20718c0_0dc6_11eb_a671_003ee1c6c0a9row7_col4,#T_d20718c0_0dc6_11eb_a671_003ee1c6c0a9row7_col5,#T_d20718c0_0dc6_11eb_a671_003ee1c6c0a9row7_col6,#T_d20718c0_0dc6_11eb_a671_003ee1c6c0a9row8_col0,#T_d20718c0_0dc6_11eb_a671_003ee1c6c0a9row8_col1,#T_d20718c0_0dc6_11eb_a671_003ee1c6c0a9row8_col2,#T_d20718c0_0dc6_11eb_a671_003ee1c6c0a9row8_col3,#T_d20718c0_0dc6_11eb_a671_003ee1c6c0a9row8_col4,#T_d20718c0_0dc6_11eb_a671_003ee1c6c0a9row8_col5,#T_d20718c0_0dc6_11eb_a671_003ee1c6c0a9row8_col6,#T_d20718c0_0dc6_11eb_a671_003ee1c6c0a9row9_col0,#T_d20718c0_0dc6_11eb_a671_003ee1c6c0a9row9_col1,#T_d20718c0_0dc6_11eb_a671_003ee1c6c0a9row9_col2,#T_d20718c0_0dc6_11eb_a671_003ee1c6c0a9row9_col3,#T_d20718c0_0dc6_11eb_a671_003ee1c6c0a9row9_col4,#T_d20718c0_0dc6_11eb_a671_003ee1c6c0a9row9_col5,#T_d20718c0_0dc6_11eb_a671_003ee1c6c0a9row9_col6,#T_d20718c0_0dc6_11eb_a671_003ee1c6c0a9row10_col0,#T_d20718c0_0dc6_11eb_a671_003ee1c6c0a9row10_col1,#T_d20718c0_0dc6_11eb_a671_003ee1c6c0a9row10_col2,#T_d20718c0_0dc6_11eb_a671_003ee1c6c0a9row10_col3,#T_d20718c0_0dc6_11eb_a671_003ee1c6c0a9row10_col4,#T_d20718c0_0dc6_11eb_a671_003ee1c6c0a9row10_col5,#T_d20718c0_0dc6_11eb_a671_003ee1c6c0a9row10_col6,#T_d20718c0_0dc6_11eb_a671_003ee1c6c0a9row11_col0,#T_d20718c0_0dc6_11eb_a671_003ee1c6c0a9row11_col1,#T_d20718c0_0dc6_11eb_a671_003ee1c6c0a9row11_col2,#T_d20718c0_0dc6_11eb_a671_003ee1c6c0a9row11_col3,#T_d20718c0_0dc6_11eb_a671_003ee1c6c0a9row11_col4,#T_d20718c0_0dc6_11eb_a671_003ee1c6c0a9row11_col5,#T_d20718c0_0dc6_11eb_a671_003ee1c6c0a9row11_col6,#T_d20718c0_0dc6_11eb_a671_003ee1c6c0a9row12_col0,#T_d20718c0_0dc6_11eb_a671_003ee1c6c0a9row12_col1,#T_d20718c0_0dc6_11eb_a671_003ee1c6c0a9row12_col2,#T_d20718c0_0dc6_11eb_a671_003ee1c6c0a9row12_col3,#T_d20718c0_0dc6_11eb_a671_003ee1c6c0a9row12_col4,#T_d20718c0_0dc6_11eb_a671_003ee1c6c0a9row12_col5,#T_d20718c0_0dc6_11eb_a671_003ee1c6c0a9row12_col6,#T_d20718c0_0dc6_11eb_a671_003ee1c6c0a9row13_col0,#T_d20718c0_0dc6_11eb_a671_003ee1c6c0a9row13_col1,#T_d20718c0_0dc6_11eb_a671_003ee1c6c0a9row13_col2,#T_d20718c0_0dc6_11eb_a671_003ee1c6c0a9row13_col3,#T_d20718c0_0dc6_11eb_a671_003ee1c6c0a9row13_col4,#T_d20718c0_0dc6_11eb_a671_003ee1c6c0a9row13_col5,#T_d20718c0_0dc6_11eb_a671_003ee1c6c0a9row13_col6,#T_d20718c0_0dc6_11eb_a671_003ee1c6c0a9row14_col0,#T_d20718c0_0dc6_11eb_a671_003ee1c6c0a9row14_col1,#T_d20718c0_0dc6_11eb_a671_003ee1c6c0a9row14_col2,#T_d20718c0_0dc6_11eb_a671_003ee1c6c0a9row14_col3,#T_d20718c0_0dc6_11eb_a671_003ee1c6c0a9row14_col4,#T_d20718c0_0dc6_11eb_a671_003ee1c6c0a9row14_col5,#T_d20718c0_0dc6_11eb_a671_003ee1c6c0a9row14_col6,#T_d20718c0_0dc6_11eb_a671_003ee1c6c0a9row15_col0,#T_d20718c0_0dc6_11eb_a671_003ee1c6c0a9row15_col1,#T_d20718c0_0dc6_11eb_a671_003ee1c6c0a9row15_col2,#T_d20718c0_0dc6_11eb_a671_003ee1c6c0a9row15_col3,#T_d20718c0_0dc6_11eb_a671_003ee1c6c0a9row15_col4,#T_d20718c0_0dc6_11eb_a671_003ee1c6c0a9row15_col5,#T_d20718c0_0dc6_11eb_a671_003ee1c6c0a9row15_col6,#T_d20718c0_0dc6_11eb_a671_003ee1c6c0a9row16_col0,#T_d20718c0_0dc6_11eb_a671_003ee1c6c0a9row16_col1,#T_d20718c0_0dc6_11eb_a671_003ee1c6c0a9row16_col2,#T_d20718c0_0dc6_11eb_a671_003ee1c6c0a9row16_col3,#T_d20718c0_0dc6_11eb_a671_003ee1c6c0a9row16_col4,#T_d20718c0_0dc6_11eb_a671_003ee1c6c0a9row16_col5,#T_d20718c0_0dc6_11eb_a671_003ee1c6c0a9row16_col6,#T_d20718c0_0dc6_11eb_a671_003ee1c6c0a9row17_col0,#T_d20718c0_0dc6_11eb_a671_003ee1c6c0a9row17_col1,#T_d20718c0_0dc6_11eb_a671_003ee1c6c0a9row17_col2,#T_d20718c0_0dc6_11eb_a671_003ee1c6c0a9row17_col3,#T_d20718c0_0dc6_11eb_a671_003ee1c6c0a9row17_col4,#T_d20718c0_0dc6_11eb_a671_003ee1c6c0a9row17_col5,#T_d20718c0_0dc6_11eb_a671_003ee1c6c0a9row17_col6,#T_d20718c0_0dc6_11eb_a671_003ee1c6c0a9row18_col0,#T_d20718c0_0dc6_11eb_a671_003ee1c6c0a9row18_col1,#T_d20718c0_0dc6_11eb_a671_003ee1c6c0a9row18_col2,#T_d20718c0_0dc6_11eb_a671_003ee1c6c0a9row18_col3,#T_d20718c0_0dc6_11eb_a671_003ee1c6c0a9row18_col4,#T_d20718c0_0dc6_11eb_a671_003ee1c6c0a9row18_col5,#T_d20718c0_0dc6_11eb_a671_003ee1c6c0a9row18_col6,#T_d20718c0_0dc6_11eb_a671_003ee1c6c0a9row19_col0,#T_d20718c0_0dc6_11eb_a671_003ee1c6c0a9row19_col1,#T_d20718c0_0dc6_11eb_a671_003ee1c6c0a9row19_col2,#T_d20718c0_0dc6_11eb_a671_003ee1c6c0a9row19_col3,#T_d20718c0_0dc6_11eb_a671_003ee1c6c0a9row19_col4,#T_d20718c0_0dc6_11eb_a671_003ee1c6c0a9row19_col5,#T_d20718c0_0dc6_11eb_a671_003ee1c6c0a9row19_col6,#T_d20718c0_0dc6_11eb_a671_003ee1c6c0a9row20_col0,#T_d20718c0_0dc6_11eb_a671_003ee1c6c0a9row20_col1,#T_d20718c0_0dc6_11eb_a671_003ee1c6c0a9row20_col2,#T_d20718c0_0dc6_11eb_a671_003ee1c6c0a9row20_col3,#T_d20718c0_0dc6_11eb_a671_003ee1c6c0a9row20_col4,#T_d20718c0_0dc6_11eb_a671_003ee1c6c0a9row20_col5,#T_d20718c0_0dc6_11eb_a671_003ee1c6c0a9row20_col6,#T_d20718c0_0dc6_11eb_a671_003ee1c6c0a9row21_col0,#T_d20718c0_0dc6_11eb_a671_003ee1c6c0a9row21_col1,#T_d20718c0_0dc6_11eb_a671_003ee1c6c0a9row21_col2,#T_d20718c0_0dc6_11eb_a671_003ee1c6c0a9row21_col3,#T_d20718c0_0dc6_11eb_a671_003ee1c6c0a9row21_col4,#T_d20718c0_0dc6_11eb_a671_003ee1c6c0a9row21_col5,#T_d20718c0_0dc6_11eb_a671_003ee1c6c0a9row21_col6{\n",
       "            text-align:  left;\n",
       "        }#T_d20718c0_0dc6_11eb_a671_003ee1c6c0a9row0_col1,#T_d20718c0_0dc6_11eb_a671_003ee1c6c0a9row0_col2,#T_d20718c0_0dc6_11eb_a671_003ee1c6c0a9row0_col3,#T_d20718c0_0dc6_11eb_a671_003ee1c6c0a9row0_col4,#T_d20718c0_0dc6_11eb_a671_003ee1c6c0a9row0_col5,#T_d20718c0_0dc6_11eb_a671_003ee1c6c0a9row0_col6{\n",
       "            background-color:  yellow;\n",
       "            text-align:  left;\n",
       "        }#T_d20718c0_0dc6_11eb_a671_003ee1c6c0a9row0_col7,#T_d20718c0_0dc6_11eb_a671_003ee1c6c0a9row1_col7,#T_d20718c0_0dc6_11eb_a671_003ee1c6c0a9row2_col7,#T_d20718c0_0dc6_11eb_a671_003ee1c6c0a9row3_col7,#T_d20718c0_0dc6_11eb_a671_003ee1c6c0a9row4_col7,#T_d20718c0_0dc6_11eb_a671_003ee1c6c0a9row5_col7,#T_d20718c0_0dc6_11eb_a671_003ee1c6c0a9row6_col7,#T_d20718c0_0dc6_11eb_a671_003ee1c6c0a9row7_col7,#T_d20718c0_0dc6_11eb_a671_003ee1c6c0a9row8_col7,#T_d20718c0_0dc6_11eb_a671_003ee1c6c0a9row9_col7,#T_d20718c0_0dc6_11eb_a671_003ee1c6c0a9row10_col7,#T_d20718c0_0dc6_11eb_a671_003ee1c6c0a9row11_col7,#T_d20718c0_0dc6_11eb_a671_003ee1c6c0a9row12_col7,#T_d20718c0_0dc6_11eb_a671_003ee1c6c0a9row13_col7,#T_d20718c0_0dc6_11eb_a671_003ee1c6c0a9row14_col7,#T_d20718c0_0dc6_11eb_a671_003ee1c6c0a9row15_col7,#T_d20718c0_0dc6_11eb_a671_003ee1c6c0a9row16_col7,#T_d20718c0_0dc6_11eb_a671_003ee1c6c0a9row17_col7,#T_d20718c0_0dc6_11eb_a671_003ee1c6c0a9row18_col7,#T_d20718c0_0dc6_11eb_a671_003ee1c6c0a9row19_col7,#T_d20718c0_0dc6_11eb_a671_003ee1c6c0a9row20_col7,#T_d20718c0_0dc6_11eb_a671_003ee1c6c0a9row21_col7{\n",
       "            background-color:  lightgrey;\n",
       "            text-align:  left;\n",
       "        }</style><table id=\"T_d20718c0_0dc6_11eb_a671_003ee1c6c0a9\" ><thead>    <tr>        <th class=\"blank level0\" ></th>        <th class=\"col_heading level0 col0\" >Model</th>        <th class=\"col_heading level0 col1\" >MAE</th>        <th class=\"col_heading level0 col2\" >MSE</th>        <th class=\"col_heading level0 col3\" >RMSE</th>        <th class=\"col_heading level0 col4\" >R2</th>        <th class=\"col_heading level0 col5\" >RMSLE</th>        <th class=\"col_heading level0 col6\" >MAPE</th>        <th class=\"col_heading level0 col7\" >TT (Sec)</th>    </tr></thead><tbody>\n",
       "                <tr>\n",
       "                        <th id=\"T_d20718c0_0dc6_11eb_a671_003ee1c6c0a9level0_row0\" class=\"row_heading level0 row0\" >0</th>\n",
       "                        <td id=\"T_d20718c0_0dc6_11eb_a671_003ee1c6c0a9row0_col0\" class=\"data row0 col0\" >Orthogonal Matching Pursuit</td>\n",
       "                        <td id=\"T_d20718c0_0dc6_11eb_a671_003ee1c6c0a9row0_col1\" class=\"data row0 col1\" >3.7600</td>\n",
       "                        <td id=\"T_d20718c0_0dc6_11eb_a671_003ee1c6c0a9row0_col2\" class=\"data row0 col2\" >28.1439</td>\n",
       "                        <td id=\"T_d20718c0_0dc6_11eb_a671_003ee1c6c0a9row0_col3\" class=\"data row0 col3\" >5.1567</td>\n",
       "                        <td id=\"T_d20718c0_0dc6_11eb_a671_003ee1c6c0a9row0_col4\" class=\"data row0 col4\" >0.9922</td>\n",
       "                        <td id=\"T_d20718c0_0dc6_11eb_a671_003ee1c6c0a9row0_col5\" class=\"data row0 col5\" >0.0168</td>\n",
       "                        <td id=\"T_d20718c0_0dc6_11eb_a671_003ee1c6c0a9row0_col6\" class=\"data row0 col6\" >0.0126</td>\n",
       "                        <td id=\"T_d20718c0_0dc6_11eb_a671_003ee1c6c0a9row0_col7\" class=\"data row0 col7\" >0.0066</td>\n",
       "            </tr>\n",
       "            <tr>\n",
       "                        <th id=\"T_d20718c0_0dc6_11eb_a671_003ee1c6c0a9level0_row1\" class=\"row_heading level0 row1\" >1</th>\n",
       "                        <td id=\"T_d20718c0_0dc6_11eb_a671_003ee1c6c0a9row1_col0\" class=\"data row1 col0\" >TheilSen Regressor</td>\n",
       "                        <td id=\"T_d20718c0_0dc6_11eb_a671_003ee1c6c0a9row1_col1\" class=\"data row1 col1\" >3.8134</td>\n",
       "                        <td id=\"T_d20718c0_0dc6_11eb_a671_003ee1c6c0a9row1_col2\" class=\"data row1 col2\" >28.8454</td>\n",
       "                        <td id=\"T_d20718c0_0dc6_11eb_a671_003ee1c6c0a9row1_col3\" class=\"data row1 col3\" >5.2082</td>\n",
       "                        <td id=\"T_d20718c0_0dc6_11eb_a671_003ee1c6c0a9row1_col4\" class=\"data row1 col4\" >0.9920</td>\n",
       "                        <td id=\"T_d20718c0_0dc6_11eb_a671_003ee1c6c0a9row1_col5\" class=\"data row1 col5\" >0.0170</td>\n",
       "                        <td id=\"T_d20718c0_0dc6_11eb_a671_003ee1c6c0a9row1_col6\" class=\"data row1 col6\" >0.0128</td>\n",
       "                        <td id=\"T_d20718c0_0dc6_11eb_a671_003ee1c6c0a9row1_col7\" class=\"data row1 col7\" >1.5823</td>\n",
       "            </tr>\n",
       "            <tr>\n",
       "                        <th id=\"T_d20718c0_0dc6_11eb_a671_003ee1c6c0a9level0_row2\" class=\"row_heading level0 row2\" >2</th>\n",
       "                        <td id=\"T_d20718c0_0dc6_11eb_a671_003ee1c6c0a9row2_col0\" class=\"data row2 col0\" >Least Angle Regression</td>\n",
       "                        <td id=\"T_d20718c0_0dc6_11eb_a671_003ee1c6c0a9row2_col1\" class=\"data row2 col1\" >3.8225</td>\n",
       "                        <td id=\"T_d20718c0_0dc6_11eb_a671_003ee1c6c0a9row2_col2\" class=\"data row2 col2\" >29.9353</td>\n",
       "                        <td id=\"T_d20718c0_0dc6_11eb_a671_003ee1c6c0a9row2_col3\" class=\"data row2 col3\" >5.3023</td>\n",
       "                        <td id=\"T_d20718c0_0dc6_11eb_a671_003ee1c6c0a9row2_col4\" class=\"data row2 col4\" >0.9917</td>\n",
       "                        <td id=\"T_d20718c0_0dc6_11eb_a671_003ee1c6c0a9row2_col5\" class=\"data row2 col5\" >0.0172</td>\n",
       "                        <td id=\"T_d20718c0_0dc6_11eb_a671_003ee1c6c0a9row2_col6\" class=\"data row2 col6\" >0.0128</td>\n",
       "                        <td id=\"T_d20718c0_0dc6_11eb_a671_003ee1c6c0a9row2_col7\" class=\"data row2 col7\" >0.0106</td>\n",
       "            </tr>\n",
       "            <tr>\n",
       "                        <th id=\"T_d20718c0_0dc6_11eb_a671_003ee1c6c0a9level0_row3\" class=\"row_heading level0 row3\" >3</th>\n",
       "                        <td id=\"T_d20718c0_0dc6_11eb_a671_003ee1c6c0a9row3_col0\" class=\"data row3 col0\" >Huber Regressor</td>\n",
       "                        <td id=\"T_d20718c0_0dc6_11eb_a671_003ee1c6c0a9row3_col1\" class=\"data row3 col1\" >3.8170</td>\n",
       "                        <td id=\"T_d20718c0_0dc6_11eb_a671_003ee1c6c0a9row3_col2\" class=\"data row3 col2\" >30.1268</td>\n",
       "                        <td id=\"T_d20718c0_0dc6_11eb_a671_003ee1c6c0a9row3_col3\" class=\"data row3 col3\" >5.3034</td>\n",
       "                        <td id=\"T_d20718c0_0dc6_11eb_a671_003ee1c6c0a9row3_col4\" class=\"data row3 col4\" >0.9917</td>\n",
       "                        <td id=\"T_d20718c0_0dc6_11eb_a671_003ee1c6c0a9row3_col5\" class=\"data row3 col5\" >0.0172</td>\n",
       "                        <td id=\"T_d20718c0_0dc6_11eb_a671_003ee1c6c0a9row3_col6\" class=\"data row3 col6\" >0.0127</td>\n",
       "                        <td id=\"T_d20718c0_0dc6_11eb_a671_003ee1c6c0a9row3_col7\" class=\"data row3 col7\" >0.0558</td>\n",
       "            </tr>\n",
       "            <tr>\n",
       "                        <th id=\"T_d20718c0_0dc6_11eb_a671_003ee1c6c0a9level0_row4\" class=\"row_heading level0 row4\" >4</th>\n",
       "                        <td id=\"T_d20718c0_0dc6_11eb_a671_003ee1c6c0a9row4_col0\" class=\"data row4 col0\" >Linear Regression</td>\n",
       "                        <td id=\"T_d20718c0_0dc6_11eb_a671_003ee1c6c0a9row4_col1\" class=\"data row4 col1\" >3.8220</td>\n",
       "                        <td id=\"T_d20718c0_0dc6_11eb_a671_003ee1c6c0a9row4_col2\" class=\"data row4 col2\" >30.2205</td>\n",
       "                        <td id=\"T_d20718c0_0dc6_11eb_a671_003ee1c6c0a9row4_col3\" class=\"data row4 col3\" >5.3336</td>\n",
       "                        <td id=\"T_d20718c0_0dc6_11eb_a671_003ee1c6c0a9row4_col4\" class=\"data row4 col4\" >0.9916</td>\n",
       "                        <td id=\"T_d20718c0_0dc6_11eb_a671_003ee1c6c0a9row4_col5\" class=\"data row4 col5\" >0.0172</td>\n",
       "                        <td id=\"T_d20718c0_0dc6_11eb_a671_003ee1c6c0a9row4_col6\" class=\"data row4 col6\" >0.0128</td>\n",
       "                        <td id=\"T_d20718c0_0dc6_11eb_a671_003ee1c6c0a9row4_col7\" class=\"data row4 col7\" >0.0150</td>\n",
       "            </tr>\n",
       "            <tr>\n",
       "                        <th id=\"T_d20718c0_0dc6_11eb_a671_003ee1c6c0a9level0_row5\" class=\"row_heading level0 row5\" >5</th>\n",
       "                        <td id=\"T_d20718c0_0dc6_11eb_a671_003ee1c6c0a9row5_col0\" class=\"data row5 col0\" >Lasso Regression</td>\n",
       "                        <td id=\"T_d20718c0_0dc6_11eb_a671_003ee1c6c0a9row5_col1\" class=\"data row5 col1\" >3.8408</td>\n",
       "                        <td id=\"T_d20718c0_0dc6_11eb_a671_003ee1c6c0a9row5_col2\" class=\"data row5 col2\" >30.7327</td>\n",
       "                        <td id=\"T_d20718c0_0dc6_11eb_a671_003ee1c6c0a9row5_col3\" class=\"data row5 col3\" >5.3745</td>\n",
       "                        <td id=\"T_d20718c0_0dc6_11eb_a671_003ee1c6c0a9row5_col4\" class=\"data row5 col4\" >0.9916</td>\n",
       "                        <td id=\"T_d20718c0_0dc6_11eb_a671_003ee1c6c0a9row5_col5\" class=\"data row5 col5\" >0.0174</td>\n",
       "                        <td id=\"T_d20718c0_0dc6_11eb_a671_003ee1c6c0a9row5_col6\" class=\"data row5 col6\" >0.0128</td>\n",
       "                        <td id=\"T_d20718c0_0dc6_11eb_a671_003ee1c6c0a9row5_col7\" class=\"data row5 col7\" >0.0096</td>\n",
       "            </tr>\n",
       "            <tr>\n",
       "                        <th id=\"T_d20718c0_0dc6_11eb_a671_003ee1c6c0a9level0_row6\" class=\"row_heading level0 row6\" >6</th>\n",
       "                        <td id=\"T_d20718c0_0dc6_11eb_a671_003ee1c6c0a9row6_col0\" class=\"data row6 col0\" >Bayesian Ridge</td>\n",
       "                        <td id=\"T_d20718c0_0dc6_11eb_a671_003ee1c6c0a9row6_col1\" class=\"data row6 col1\" >3.8173</td>\n",
       "                        <td id=\"T_d20718c0_0dc6_11eb_a671_003ee1c6c0a9row6_col2\" class=\"data row6 col2\" >30.3438</td>\n",
       "                        <td id=\"T_d20718c0_0dc6_11eb_a671_003ee1c6c0a9row6_col3\" class=\"data row6 col3\" >5.3485</td>\n",
       "                        <td id=\"T_d20718c0_0dc6_11eb_a671_003ee1c6c0a9row6_col4\" class=\"data row6 col4\" >0.9916</td>\n",
       "                        <td id=\"T_d20718c0_0dc6_11eb_a671_003ee1c6c0a9row6_col5\" class=\"data row6 col5\" >0.0173</td>\n",
       "                        <td id=\"T_d20718c0_0dc6_11eb_a671_003ee1c6c0a9row6_col6\" class=\"data row6 col6\" >0.0128</td>\n",
       "                        <td id=\"T_d20718c0_0dc6_11eb_a671_003ee1c6c0a9row6_col7\" class=\"data row6 col7\" >0.0084</td>\n",
       "            </tr>\n",
       "            <tr>\n",
       "                        <th id=\"T_d20718c0_0dc6_11eb_a671_003ee1c6c0a9level0_row7\" class=\"row_heading level0 row7\" >7</th>\n",
       "                        <td id=\"T_d20718c0_0dc6_11eb_a671_003ee1c6c0a9row7_col0\" class=\"data row7 col0\" >Random Sample Consensus</td>\n",
       "                        <td id=\"T_d20718c0_0dc6_11eb_a671_003ee1c6c0a9row7_col1\" class=\"data row7 col1\" >3.8220</td>\n",
       "                        <td id=\"T_d20718c0_0dc6_11eb_a671_003ee1c6c0a9row7_col2\" class=\"data row7 col2\" >30.2205</td>\n",
       "                        <td id=\"T_d20718c0_0dc6_11eb_a671_003ee1c6c0a9row7_col3\" class=\"data row7 col3\" >5.3336</td>\n",
       "                        <td id=\"T_d20718c0_0dc6_11eb_a671_003ee1c6c0a9row7_col4\" class=\"data row7 col4\" >0.9916</td>\n",
       "                        <td id=\"T_d20718c0_0dc6_11eb_a671_003ee1c6c0a9row7_col5\" class=\"data row7 col5\" >0.0172</td>\n",
       "                        <td id=\"T_d20718c0_0dc6_11eb_a671_003ee1c6c0a9row7_col6\" class=\"data row7 col6\" >0.0128</td>\n",
       "                        <td id=\"T_d20718c0_0dc6_11eb_a671_003ee1c6c0a9row7_col7\" class=\"data row7 col7\" >0.0155</td>\n",
       "            </tr>\n",
       "            <tr>\n",
       "                        <th id=\"T_d20718c0_0dc6_11eb_a671_003ee1c6c0a9level0_row8\" class=\"row_heading level0 row8\" >8</th>\n",
       "                        <td id=\"T_d20718c0_0dc6_11eb_a671_003ee1c6c0a9row8_col0\" class=\"data row8 col0\" >Ridge Regression</td>\n",
       "                        <td id=\"T_d20718c0_0dc6_11eb_a671_003ee1c6c0a9row8_col1\" class=\"data row8 col1\" >3.8738</td>\n",
       "                        <td id=\"T_d20718c0_0dc6_11eb_a671_003ee1c6c0a9row8_col2\" class=\"data row8 col2\" >31.5057</td>\n",
       "                        <td id=\"T_d20718c0_0dc6_11eb_a671_003ee1c6c0a9row8_col3\" class=\"data row8 col3\" >5.4917</td>\n",
       "                        <td id=\"T_d20718c0_0dc6_11eb_a671_003ee1c6c0a9row8_col4\" class=\"data row8 col4\" >0.9913</td>\n",
       "                        <td id=\"T_d20718c0_0dc6_11eb_a671_003ee1c6c0a9row8_col5\" class=\"data row8 col5\" >0.0177</td>\n",
       "                        <td id=\"T_d20718c0_0dc6_11eb_a671_003ee1c6c0a9row8_col6\" class=\"data row8 col6\" >0.0130</td>\n",
       "                        <td id=\"T_d20718c0_0dc6_11eb_a671_003ee1c6c0a9row8_col7\" class=\"data row8 col7\" >0.0096</td>\n",
       "            </tr>\n",
       "            <tr>\n",
       "                        <th id=\"T_d20718c0_0dc6_11eb_a671_003ee1c6c0a9level0_row9\" class=\"row_heading level0 row9\" >9</th>\n",
       "                        <td id=\"T_d20718c0_0dc6_11eb_a671_003ee1c6c0a9row9_col0\" class=\"data row9 col0\" >CatBoost Regressor</td>\n",
       "                        <td id=\"T_d20718c0_0dc6_11eb_a671_003ee1c6c0a9row9_col1\" class=\"data row9 col1\" >4.2832</td>\n",
       "                        <td id=\"T_d20718c0_0dc6_11eb_a671_003ee1c6c0a9row9_col2\" class=\"data row9 col2\" >34.0315</td>\n",
       "                        <td id=\"T_d20718c0_0dc6_11eb_a671_003ee1c6c0a9row9_col3\" class=\"data row9 col3\" >5.7392</td>\n",
       "                        <td id=\"T_d20718c0_0dc6_11eb_a671_003ee1c6c0a9row9_col4\" class=\"data row9 col4\" >0.9908</td>\n",
       "                        <td id=\"T_d20718c0_0dc6_11eb_a671_003ee1c6c0a9row9_col5\" class=\"data row9 col5\" >0.0188</td>\n",
       "                        <td id=\"T_d20718c0_0dc6_11eb_a671_003ee1c6c0a9row9_col6\" class=\"data row9 col6\" >0.0144</td>\n",
       "                        <td id=\"T_d20718c0_0dc6_11eb_a671_003ee1c6c0a9row9_col7\" class=\"data row9 col7\" >0.6922</td>\n",
       "            </tr>\n",
       "            <tr>\n",
       "                        <th id=\"T_d20718c0_0dc6_11eb_a671_003ee1c6c0a9level0_row10\" class=\"row_heading level0 row10\" >10</th>\n",
       "                        <td id=\"T_d20718c0_0dc6_11eb_a671_003ee1c6c0a9row10_col0\" class=\"data row10 col0\" >Random Forest</td>\n",
       "                        <td id=\"T_d20718c0_0dc6_11eb_a671_003ee1c6c0a9row10_col1\" class=\"data row10 col1\" >4.2098</td>\n",
       "                        <td id=\"T_d20718c0_0dc6_11eb_a671_003ee1c6c0a9row10_col2\" class=\"data row10 col2\" >33.9427</td>\n",
       "                        <td id=\"T_d20718c0_0dc6_11eb_a671_003ee1c6c0a9row10_col3\" class=\"data row10 col3\" >5.6921</td>\n",
       "                        <td id=\"T_d20718c0_0dc6_11eb_a671_003ee1c6c0a9row10_col4\" class=\"data row10 col4\" >0.9908</td>\n",
       "                        <td id=\"T_d20718c0_0dc6_11eb_a671_003ee1c6c0a9row10_col5\" class=\"data row10 col5\" >0.0187</td>\n",
       "                        <td id=\"T_d20718c0_0dc6_11eb_a671_003ee1c6c0a9row10_col6\" class=\"data row10 col6\" >0.0142</td>\n",
       "                        <td id=\"T_d20718c0_0dc6_11eb_a671_003ee1c6c0a9row10_col7\" class=\"data row10 col7\" >0.4344</td>\n",
       "            </tr>\n",
       "            <tr>\n",
       "                        <th id=\"T_d20718c0_0dc6_11eb_a671_003ee1c6c0a9level0_row11\" class=\"row_heading level0 row11\" >11</th>\n",
       "                        <td id=\"T_d20718c0_0dc6_11eb_a671_003ee1c6c0a9row11_col0\" class=\"data row11 col0\" >Extra Trees Regressor</td>\n",
       "                        <td id=\"T_d20718c0_0dc6_11eb_a671_003ee1c6c0a9row11_col1\" class=\"data row11 col1\" >4.2371</td>\n",
       "                        <td id=\"T_d20718c0_0dc6_11eb_a671_003ee1c6c0a9row11_col2\" class=\"data row11 col2\" >34.3564</td>\n",
       "                        <td id=\"T_d20718c0_0dc6_11eb_a671_003ee1c6c0a9row11_col3\" class=\"data row11 col3\" >5.7572</td>\n",
       "                        <td id=\"T_d20718c0_0dc6_11eb_a671_003ee1c6c0a9row11_col4\" class=\"data row11 col4\" >0.9907</td>\n",
       "                        <td id=\"T_d20718c0_0dc6_11eb_a671_003ee1c6c0a9row11_col5\" class=\"data row11 col5\" >0.0192</td>\n",
       "                        <td id=\"T_d20718c0_0dc6_11eb_a671_003ee1c6c0a9row11_col6\" class=\"data row11 col6\" >0.0144</td>\n",
       "                        <td id=\"T_d20718c0_0dc6_11eb_a671_003ee1c6c0a9row11_col7\" class=\"data row11 col7\" >0.3075</td>\n",
       "            </tr>\n",
       "            <tr>\n",
       "                        <th id=\"T_d20718c0_0dc6_11eb_a671_003ee1c6c0a9level0_row12\" class=\"row_heading level0 row12\" >12</th>\n",
       "                        <td id=\"T_d20718c0_0dc6_11eb_a671_003ee1c6c0a9row12_col0\" class=\"data row12 col0\" >Gradient Boosting Regressor</td>\n",
       "                        <td id=\"T_d20718c0_0dc6_11eb_a671_003ee1c6c0a9row12_col1\" class=\"data row12 col1\" >4.3729</td>\n",
       "                        <td id=\"T_d20718c0_0dc6_11eb_a671_003ee1c6c0a9row12_col2\" class=\"data row12 col2\" >36.9865</td>\n",
       "                        <td id=\"T_d20718c0_0dc6_11eb_a671_003ee1c6c0a9row12_col3\" class=\"data row12 col3\" >5.9793</td>\n",
       "                        <td id=\"T_d20718c0_0dc6_11eb_a671_003ee1c6c0a9row12_col4\" class=\"data row12 col4\" >0.9900</td>\n",
       "                        <td id=\"T_d20718c0_0dc6_11eb_a671_003ee1c6c0a9row12_col5\" class=\"data row12 col5\" >0.0199</td>\n",
       "                        <td id=\"T_d20718c0_0dc6_11eb_a671_003ee1c6c0a9row12_col6\" class=\"data row12 col6\" >0.0148</td>\n",
       "                        <td id=\"T_d20718c0_0dc6_11eb_a671_003ee1c6c0a9row12_col7\" class=\"data row12 col7\" >0.1557</td>\n",
       "            </tr>\n",
       "            <tr>\n",
       "                        <th id=\"T_d20718c0_0dc6_11eb_a671_003ee1c6c0a9level0_row13\" class=\"row_heading level0 row13\" >13</th>\n",
       "                        <td id=\"T_d20718c0_0dc6_11eb_a671_003ee1c6c0a9row13_col0\" class=\"data row13 col0\" >AdaBoost Regressor</td>\n",
       "                        <td id=\"T_d20718c0_0dc6_11eb_a671_003ee1c6c0a9row13_col1\" class=\"data row13 col1\" >4.8048</td>\n",
       "                        <td id=\"T_d20718c0_0dc6_11eb_a671_003ee1c6c0a9row13_col2\" class=\"data row13 col2\" >42.6585</td>\n",
       "                        <td id=\"T_d20718c0_0dc6_11eb_a671_003ee1c6c0a9row13_col3\" class=\"data row13 col3\" >6.4345</td>\n",
       "                        <td id=\"T_d20718c0_0dc6_11eb_a671_003ee1c6c0a9row13_col4\" class=\"data row13 col4\" >0.9885</td>\n",
       "                        <td id=\"T_d20718c0_0dc6_11eb_a671_003ee1c6c0a9row13_col5\" class=\"data row13 col5\" >0.0216</td>\n",
       "                        <td id=\"T_d20718c0_0dc6_11eb_a671_003ee1c6c0a9row13_col6\" class=\"data row13 col6\" >0.0164</td>\n",
       "                        <td id=\"T_d20718c0_0dc6_11eb_a671_003ee1c6c0a9row13_col7\" class=\"data row13 col7\" >0.2053</td>\n",
       "            </tr>\n",
       "            <tr>\n",
       "                        <th id=\"T_d20718c0_0dc6_11eb_a671_003ee1c6c0a9level0_row14\" class=\"row_heading level0 row14\" >14</th>\n",
       "                        <td id=\"T_d20718c0_0dc6_11eb_a671_003ee1c6c0a9row14_col0\" class=\"data row14 col0\" >Light Gradient Boosting Machine</td>\n",
       "                        <td id=\"T_d20718c0_0dc6_11eb_a671_003ee1c6c0a9row14_col1\" class=\"data row14 col1\" >4.6921</td>\n",
       "                        <td id=\"T_d20718c0_0dc6_11eb_a671_003ee1c6c0a9row14_col2\" class=\"data row14 col2\" >42.7928</td>\n",
       "                        <td id=\"T_d20718c0_0dc6_11eb_a671_003ee1c6c0a9row14_col3\" class=\"data row14 col3\" >6.4296</td>\n",
       "                        <td id=\"T_d20718c0_0dc6_11eb_a671_003ee1c6c0a9row14_col4\" class=\"data row14 col4\" >0.9885</td>\n",
       "                        <td id=\"T_d20718c0_0dc6_11eb_a671_003ee1c6c0a9row14_col5\" class=\"data row14 col5\" >0.0207</td>\n",
       "                        <td id=\"T_d20718c0_0dc6_11eb_a671_003ee1c6c0a9row14_col6\" class=\"data row14 col6\" >0.0157</td>\n",
       "                        <td id=\"T_d20718c0_0dc6_11eb_a671_003ee1c6c0a9row14_col7\" class=\"data row14 col7\" >0.0596</td>\n",
       "            </tr>\n",
       "            <tr>\n",
       "                        <th id=\"T_d20718c0_0dc6_11eb_a671_003ee1c6c0a9level0_row15\" class=\"row_heading level0 row15\" >15</th>\n",
       "                        <td id=\"T_d20718c0_0dc6_11eb_a671_003ee1c6c0a9row15_col0\" class=\"data row15 col0\" >Extreme Gradient Boosting</td>\n",
       "                        <td id=\"T_d20718c0_0dc6_11eb_a671_003ee1c6c0a9row15_col1\" class=\"data row15 col1\" >4.7406</td>\n",
       "                        <td id=\"T_d20718c0_0dc6_11eb_a671_003ee1c6c0a9row15_col2\" class=\"data row15 col2\" >42.8273</td>\n",
       "                        <td id=\"T_d20718c0_0dc6_11eb_a671_003ee1c6c0a9row15_col3\" class=\"data row15 col3\" >6.4309</td>\n",
       "                        <td id=\"T_d20718c0_0dc6_11eb_a671_003ee1c6c0a9row15_col4\" class=\"data row15 col4\" >0.9884</td>\n",
       "                        <td id=\"T_d20718c0_0dc6_11eb_a671_003ee1c6c0a9row15_col5\" class=\"data row15 col5\" >0.0214</td>\n",
       "                        <td id=\"T_d20718c0_0dc6_11eb_a671_003ee1c6c0a9row15_col6\" class=\"data row15 col6\" >0.0161</td>\n",
       "                        <td id=\"T_d20718c0_0dc6_11eb_a671_003ee1c6c0a9row15_col7\" class=\"data row15 col7\" >0.0926</td>\n",
       "            </tr>\n",
       "            <tr>\n",
       "                        <th id=\"T_d20718c0_0dc6_11eb_a671_003ee1c6c0a9level0_row16\" class=\"row_heading level0 row16\" >16</th>\n",
       "                        <td id=\"T_d20718c0_0dc6_11eb_a671_003ee1c6c0a9row16_col0\" class=\"data row16 col0\" >K Neighbors Regressor</td>\n",
       "                        <td id=\"T_d20718c0_0dc6_11eb_a671_003ee1c6c0a9row16_col1\" class=\"data row16 col1\" >4.8178</td>\n",
       "                        <td id=\"T_d20718c0_0dc6_11eb_a671_003ee1c6c0a9row16_col2\" class=\"data row16 col2\" >43.8918</td>\n",
       "                        <td id=\"T_d20718c0_0dc6_11eb_a671_003ee1c6c0a9row16_col3\" class=\"data row16 col3\" >6.5770</td>\n",
       "                        <td id=\"T_d20718c0_0dc6_11eb_a671_003ee1c6c0a9row16_col4\" class=\"data row16 col4\" >0.9880</td>\n",
       "                        <td id=\"T_d20718c0_0dc6_11eb_a671_003ee1c6c0a9row16_col5\" class=\"data row16 col5\" >0.0215</td>\n",
       "                        <td id=\"T_d20718c0_0dc6_11eb_a671_003ee1c6c0a9row16_col6\" class=\"data row16 col6\" >0.0163</td>\n",
       "                        <td id=\"T_d20718c0_0dc6_11eb_a671_003ee1c6c0a9row16_col7\" class=\"data row16 col7\" >0.0060</td>\n",
       "            </tr>\n",
       "            <tr>\n",
       "                        <th id=\"T_d20718c0_0dc6_11eb_a671_003ee1c6c0a9level0_row17\" class=\"row_heading level0 row17\" >17</th>\n",
       "                        <td id=\"T_d20718c0_0dc6_11eb_a671_003ee1c6c0a9row17_col0\" class=\"data row17 col0\" >Passive Aggressive Regressor</td>\n",
       "                        <td id=\"T_d20718c0_0dc6_11eb_a671_003ee1c6c0a9row17_col1\" class=\"data row17 col1\" >4.9991</td>\n",
       "                        <td id=\"T_d20718c0_0dc6_11eb_a671_003ee1c6c0a9row17_col2\" class=\"data row17 col2\" >49.9010</td>\n",
       "                        <td id=\"T_d20718c0_0dc6_11eb_a671_003ee1c6c0a9row17_col3\" class=\"data row17 col3\" >6.7174</td>\n",
       "                        <td id=\"T_d20718c0_0dc6_11eb_a671_003ee1c6c0a9row17_col4\" class=\"data row17 col4\" >0.9865</td>\n",
       "                        <td id=\"T_d20718c0_0dc6_11eb_a671_003ee1c6c0a9row17_col5\" class=\"data row17 col5\" >0.0213</td>\n",
       "                        <td id=\"T_d20718c0_0dc6_11eb_a671_003ee1c6c0a9row17_col6\" class=\"data row17 col6\" >0.0165</td>\n",
       "                        <td id=\"T_d20718c0_0dc6_11eb_a671_003ee1c6c0a9row17_col7\" class=\"data row17 col7\" >0.0064</td>\n",
       "            </tr>\n",
       "            <tr>\n",
       "                        <th id=\"T_d20718c0_0dc6_11eb_a671_003ee1c6c0a9level0_row18\" class=\"row_heading level0 row18\" >18</th>\n",
       "                        <td id=\"T_d20718c0_0dc6_11eb_a671_003ee1c6c0a9row18_col0\" class=\"data row18 col0\" >Decision Tree</td>\n",
       "                        <td id=\"T_d20718c0_0dc6_11eb_a671_003ee1c6c0a9row18_col1\" class=\"data row18 col1\" >5.1098</td>\n",
       "                        <td id=\"T_d20718c0_0dc6_11eb_a671_003ee1c6c0a9row18_col2\" class=\"data row18 col2\" >50.3810</td>\n",
       "                        <td id=\"T_d20718c0_0dc6_11eb_a671_003ee1c6c0a9row18_col3\" class=\"data row18 col3\" >7.0178</td>\n",
       "                        <td id=\"T_d20718c0_0dc6_11eb_a671_003ee1c6c0a9row18_col4\" class=\"data row18 col4\" >0.9863</td>\n",
       "                        <td id=\"T_d20718c0_0dc6_11eb_a671_003ee1c6c0a9row18_col5\" class=\"data row18 col5\" >0.0236</td>\n",
       "                        <td id=\"T_d20718c0_0dc6_11eb_a671_003ee1c6c0a9row18_col6\" class=\"data row18 col6\" >0.0175</td>\n",
       "                        <td id=\"T_d20718c0_0dc6_11eb_a671_003ee1c6c0a9row18_col7\" class=\"data row18 col7\" >0.0081</td>\n",
       "            </tr>\n",
       "            <tr>\n",
       "                        <th id=\"T_d20718c0_0dc6_11eb_a671_003ee1c6c0a9level0_row19\" class=\"row_heading level0 row19\" >19</th>\n",
       "                        <td id=\"T_d20718c0_0dc6_11eb_a671_003ee1c6c0a9row19_col0\" class=\"data row19 col0\" >Elastic Net</td>\n",
       "                        <td id=\"T_d20718c0_0dc6_11eb_a671_003ee1c6c0a9row19_col1\" class=\"data row19 col1\" >6.9659</td>\n",
       "                        <td id=\"T_d20718c0_0dc6_11eb_a671_003ee1c6c0a9row19_col2\" class=\"data row19 col2\" >85.7817</td>\n",
       "                        <td id=\"T_d20718c0_0dc6_11eb_a671_003ee1c6c0a9row19_col3\" class=\"data row19 col3\" >9.1055</td>\n",
       "                        <td id=\"T_d20718c0_0dc6_11eb_a671_003ee1c6c0a9row19_col4\" class=\"data row19 col4\" >0.9770</td>\n",
       "                        <td id=\"T_d20718c0_0dc6_11eb_a671_003ee1c6c0a9row19_col5\" class=\"data row19 col5\" >0.0286</td>\n",
       "                        <td id=\"T_d20718c0_0dc6_11eb_a671_003ee1c6c0a9row19_col6\" class=\"data row19 col6\" >0.0231</td>\n",
       "                        <td id=\"T_d20718c0_0dc6_11eb_a671_003ee1c6c0a9row19_col7\" class=\"data row19 col7\" >0.0069</td>\n",
       "            </tr>\n",
       "            <tr>\n",
       "                        <th id=\"T_d20718c0_0dc6_11eb_a671_003ee1c6c0a9level0_row20\" class=\"row_heading level0 row20\" >20</th>\n",
       "                        <td id=\"T_d20718c0_0dc6_11eb_a671_003ee1c6c0a9row20_col0\" class=\"data row20 col0\" >Lasso Least Angle Regression</td>\n",
       "                        <td id=\"T_d20718c0_0dc6_11eb_a671_003ee1c6c0a9row20_col1\" class=\"data row20 col1\" >14.1795</td>\n",
       "                        <td id=\"T_d20718c0_0dc6_11eb_a671_003ee1c6c0a9row20_col2\" class=\"data row20 col2\" >335.5146</td>\n",
       "                        <td id=\"T_d20718c0_0dc6_11eb_a671_003ee1c6c0a9row20_col3\" class=\"data row20 col3\" >18.1524</td>\n",
       "                        <td id=\"T_d20718c0_0dc6_11eb_a671_003ee1c6c0a9row20_col4\" class=\"data row20 col4\" >0.9108</td>\n",
       "                        <td id=\"T_d20718c0_0dc6_11eb_a671_003ee1c6c0a9row20_col5\" class=\"data row20 col5\" >0.0567</td>\n",
       "                        <td id=\"T_d20718c0_0dc6_11eb_a671_003ee1c6c0a9row20_col6\" class=\"data row20 col6\" >0.0473</td>\n",
       "                        <td id=\"T_d20718c0_0dc6_11eb_a671_003ee1c6c0a9row20_col7\" class=\"data row20 col7\" >0.0069</td>\n",
       "            </tr>\n",
       "            <tr>\n",
       "                        <th id=\"T_d20718c0_0dc6_11eb_a671_003ee1c6c0a9level0_row21\" class=\"row_heading level0 row21\" >21</th>\n",
       "                        <td id=\"T_d20718c0_0dc6_11eb_a671_003ee1c6c0a9row21_col0\" class=\"data row21 col0\" >Support Vector Machine</td>\n",
       "                        <td id=\"T_d20718c0_0dc6_11eb_a671_003ee1c6c0a9row21_col1\" class=\"data row21 col1\" >18.9919</td>\n",
       "                        <td id=\"T_d20718c0_0dc6_11eb_a671_003ee1c6c0a9row21_col2\" class=\"data row21 col2\" >1342.3401</td>\n",
       "                        <td id=\"T_d20718c0_0dc6_11eb_a671_003ee1c6c0a9row21_col3\" class=\"data row21 col3\" >36.0304</td>\n",
       "                        <td id=\"T_d20718c0_0dc6_11eb_a671_003ee1c6c0a9row21_col4\" class=\"data row21 col4\" >0.6532</td>\n",
       "                        <td id=\"T_d20718c0_0dc6_11eb_a671_003ee1c6c0a9row21_col5\" class=\"data row21 col5\" >0.0998</td>\n",
       "                        <td id=\"T_d20718c0_0dc6_11eb_a671_003ee1c6c0a9row21_col6\" class=\"data row21 col6\" >0.0543</td>\n",
       "                        <td id=\"T_d20718c0_0dc6_11eb_a671_003ee1c6c0a9row21_col7\" class=\"data row21 col7\" >0.0150</td>\n",
       "            </tr>\n",
       "    </tbody></table>"
      ],
      "text/plain": [
       "<pandas.io.formats.style.Styler at 0x7f185b5b4160>"
      ]
     },
     "metadata": {},
     "output_type": "display_data"
    },
    {
     "data": {
      "text/plain": [
       "OrthogonalMatchingPursuit(fit_intercept=True, n_nonzero_coefs=None,\n",
       "                          normalize=True, precompute='auto', tol=None)"
      ]
     },
     "execution_count": 21,
     "metadata": {},
     "output_type": "execute_result"
    }
   ],
   "source": [
    "compare_models()"
   ]
  },
  {
   "cell_type": "code",
   "execution_count": 22,
   "metadata": {},
   "outputs": [
    {
     "data": {
      "text/html": [
       "<style  type=\"text/css\" >\n",
       "#T_07e2f0cc_0dc7_11eb_a671_003ee1c6c0a9row10_col0,#T_07e2f0cc_0dc7_11eb_a671_003ee1c6c0a9row10_col1,#T_07e2f0cc_0dc7_11eb_a671_003ee1c6c0a9row10_col2,#T_07e2f0cc_0dc7_11eb_a671_003ee1c6c0a9row10_col3,#T_07e2f0cc_0dc7_11eb_a671_003ee1c6c0a9row10_col4,#T_07e2f0cc_0dc7_11eb_a671_003ee1c6c0a9row10_col5{\n",
       "            background:  yellow;\n",
       "        }</style><table id=\"T_07e2f0cc_0dc7_11eb_a671_003ee1c6c0a9\" ><thead>    <tr>        <th class=\"blank level0\" ></th>        <th class=\"col_heading level0 col0\" >MAE</th>        <th class=\"col_heading level0 col1\" >MSE</th>        <th class=\"col_heading level0 col2\" >RMSE</th>        <th class=\"col_heading level0 col3\" >R2</th>        <th class=\"col_heading level0 col4\" >RMSLE</th>        <th class=\"col_heading level0 col5\" >MAPE</th>    </tr></thead><tbody>\n",
       "                <tr>\n",
       "                        <th id=\"T_07e2f0cc_0dc7_11eb_a671_003ee1c6c0a9level0_row0\" class=\"row_heading level0 row0\" >0</th>\n",
       "                        <td id=\"T_07e2f0cc_0dc7_11eb_a671_003ee1c6c0a9row0_col0\" class=\"data row0 col0\" >4.6706</td>\n",
       "                        <td id=\"T_07e2f0cc_0dc7_11eb_a671_003ee1c6c0a9row0_col1\" class=\"data row0 col1\" >77.5137</td>\n",
       "                        <td id=\"T_07e2f0cc_0dc7_11eb_a671_003ee1c6c0a9row0_col2\" class=\"data row0 col2\" >8.8042</td>\n",
       "                        <td id=\"T_07e2f0cc_0dc7_11eb_a671_003ee1c6c0a9row0_col3\" class=\"data row0 col3\" >0.9788</td>\n",
       "                        <td id=\"T_07e2f0cc_0dc7_11eb_a671_003ee1c6c0a9row0_col4\" class=\"data row0 col4\" >0.0252</td>\n",
       "                        <td id=\"T_07e2f0cc_0dc7_11eb_a671_003ee1c6c0a9row0_col5\" class=\"data row0 col5\" >0.0146</td>\n",
       "            </tr>\n",
       "            <tr>\n",
       "                        <th id=\"T_07e2f0cc_0dc7_11eb_a671_003ee1c6c0a9level0_row1\" class=\"row_heading level0 row1\" >1</th>\n",
       "                        <td id=\"T_07e2f0cc_0dc7_11eb_a671_003ee1c6c0a9row1_col0\" class=\"data row1 col0\" >3.8779</td>\n",
       "                        <td id=\"T_07e2f0cc_0dc7_11eb_a671_003ee1c6c0a9row1_col1\" class=\"data row1 col1\" >24.0958</td>\n",
       "                        <td id=\"T_07e2f0cc_0dc7_11eb_a671_003ee1c6c0a9row1_col2\" class=\"data row1 col2\" >4.9087</td>\n",
       "                        <td id=\"T_07e2f0cc_0dc7_11eb_a671_003ee1c6c0a9row1_col3\" class=\"data row1 col3\" >0.9936</td>\n",
       "                        <td id=\"T_07e2f0cc_0dc7_11eb_a671_003ee1c6c0a9row1_col4\" class=\"data row1 col4\" >0.0157</td>\n",
       "                        <td id=\"T_07e2f0cc_0dc7_11eb_a671_003ee1c6c0a9row1_col5\" class=\"data row1 col5\" >0.0129</td>\n",
       "            </tr>\n",
       "            <tr>\n",
       "                        <th id=\"T_07e2f0cc_0dc7_11eb_a671_003ee1c6c0a9level0_row2\" class=\"row_heading level0 row2\" >2</th>\n",
       "                        <td id=\"T_07e2f0cc_0dc7_11eb_a671_003ee1c6c0a9row2_col0\" class=\"data row2 col0\" >4.2665</td>\n",
       "                        <td id=\"T_07e2f0cc_0dc7_11eb_a671_003ee1c6c0a9row2_col1\" class=\"data row2 col1\" >41.3610</td>\n",
       "                        <td id=\"T_07e2f0cc_0dc7_11eb_a671_003ee1c6c0a9row2_col2\" class=\"data row2 col2\" >6.4313</td>\n",
       "                        <td id=\"T_07e2f0cc_0dc7_11eb_a671_003ee1c6c0a9row2_col3\" class=\"data row2 col3\" >0.9907</td>\n",
       "                        <td id=\"T_07e2f0cc_0dc7_11eb_a671_003ee1c6c0a9row2_col4\" class=\"data row2 col4\" >0.0220</td>\n",
       "                        <td id=\"T_07e2f0cc_0dc7_11eb_a671_003ee1c6c0a9row2_col5\" class=\"data row2 col5\" >0.0145</td>\n",
       "            </tr>\n",
       "            <tr>\n",
       "                        <th id=\"T_07e2f0cc_0dc7_11eb_a671_003ee1c6c0a9level0_row3\" class=\"row_heading level0 row3\" >3</th>\n",
       "                        <td id=\"T_07e2f0cc_0dc7_11eb_a671_003ee1c6c0a9row3_col0\" class=\"data row3 col0\" >4.6907</td>\n",
       "                        <td id=\"T_07e2f0cc_0dc7_11eb_a671_003ee1c6c0a9row3_col1\" class=\"data row3 col1\" >38.3530</td>\n",
       "                        <td id=\"T_07e2f0cc_0dc7_11eb_a671_003ee1c6c0a9row3_col2\" class=\"data row3 col2\" >6.1930</td>\n",
       "                        <td id=\"T_07e2f0cc_0dc7_11eb_a671_003ee1c6c0a9row3_col3\" class=\"data row3 col3\" >0.9914</td>\n",
       "                        <td id=\"T_07e2f0cc_0dc7_11eb_a671_003ee1c6c0a9row3_col4\" class=\"data row3 col4\" >0.0192</td>\n",
       "                        <td id=\"T_07e2f0cc_0dc7_11eb_a671_003ee1c6c0a9row3_col5\" class=\"data row3 col5\" >0.0152</td>\n",
       "            </tr>\n",
       "            <tr>\n",
       "                        <th id=\"T_07e2f0cc_0dc7_11eb_a671_003ee1c6c0a9level0_row4\" class=\"row_heading level0 row4\" >4</th>\n",
       "                        <td id=\"T_07e2f0cc_0dc7_11eb_a671_003ee1c6c0a9row4_col0\" class=\"data row4 col0\" >4.1757</td>\n",
       "                        <td id=\"T_07e2f0cc_0dc7_11eb_a671_003ee1c6c0a9row4_col1\" class=\"data row4 col1\" >27.2359</td>\n",
       "                        <td id=\"T_07e2f0cc_0dc7_11eb_a671_003ee1c6c0a9row4_col2\" class=\"data row4 col2\" >5.2188</td>\n",
       "                        <td id=\"T_07e2f0cc_0dc7_11eb_a671_003ee1c6c0a9row4_col3\" class=\"data row4 col3\" >0.9914</td>\n",
       "                        <td id=\"T_07e2f0cc_0dc7_11eb_a671_003ee1c6c0a9row4_col4\" class=\"data row4 col4\" >0.0190</td>\n",
       "                        <td id=\"T_07e2f0cc_0dc7_11eb_a671_003ee1c6c0a9row4_col5\" class=\"data row4 col5\" >0.0152</td>\n",
       "            </tr>\n",
       "            <tr>\n",
       "                        <th id=\"T_07e2f0cc_0dc7_11eb_a671_003ee1c6c0a9level0_row5\" class=\"row_heading level0 row5\" >5</th>\n",
       "                        <td id=\"T_07e2f0cc_0dc7_11eb_a671_003ee1c6c0a9row5_col0\" class=\"data row5 col0\" >3.8061</td>\n",
       "                        <td id=\"T_07e2f0cc_0dc7_11eb_a671_003ee1c6c0a9row5_col1\" class=\"data row5 col1\" >22.6200</td>\n",
       "                        <td id=\"T_07e2f0cc_0dc7_11eb_a671_003ee1c6c0a9row5_col2\" class=\"data row5 col2\" >4.7560</td>\n",
       "                        <td id=\"T_07e2f0cc_0dc7_11eb_a671_003ee1c6c0a9row5_col3\" class=\"data row5 col3\" >0.9929</td>\n",
       "                        <td id=\"T_07e2f0cc_0dc7_11eb_a671_003ee1c6c0a9row5_col4\" class=\"data row5 col4\" >0.0164</td>\n",
       "                        <td id=\"T_07e2f0cc_0dc7_11eb_a671_003ee1c6c0a9row5_col5\" class=\"data row5 col5\" >0.0130</td>\n",
       "            </tr>\n",
       "            <tr>\n",
       "                        <th id=\"T_07e2f0cc_0dc7_11eb_a671_003ee1c6c0a9level0_row6\" class=\"row_heading level0 row6\" >6</th>\n",
       "                        <td id=\"T_07e2f0cc_0dc7_11eb_a671_003ee1c6c0a9row6_col0\" class=\"data row6 col0\" >3.4978</td>\n",
       "                        <td id=\"T_07e2f0cc_0dc7_11eb_a671_003ee1c6c0a9row6_col1\" class=\"data row6 col1\" >19.5866</td>\n",
       "                        <td id=\"T_07e2f0cc_0dc7_11eb_a671_003ee1c6c0a9row6_col2\" class=\"data row6 col2\" >4.4257</td>\n",
       "                        <td id=\"T_07e2f0cc_0dc7_11eb_a671_003ee1c6c0a9row6_col3\" class=\"data row6 col3\" >0.9903</td>\n",
       "                        <td id=\"T_07e2f0cc_0dc7_11eb_a671_003ee1c6c0a9row6_col4\" class=\"data row6 col4\" >0.0159</td>\n",
       "                        <td id=\"T_07e2f0cc_0dc7_11eb_a671_003ee1c6c0a9row6_col5\" class=\"data row6 col5\" >0.0125</td>\n",
       "            </tr>\n",
       "            <tr>\n",
       "                        <th id=\"T_07e2f0cc_0dc7_11eb_a671_003ee1c6c0a9level0_row7\" class=\"row_heading level0 row7\" >7</th>\n",
       "                        <td id=\"T_07e2f0cc_0dc7_11eb_a671_003ee1c6c0a9row7_col0\" class=\"data row7 col0\" >4.1617</td>\n",
       "                        <td id=\"T_07e2f0cc_0dc7_11eb_a671_003ee1c6c0a9row7_col1\" class=\"data row7 col1\" >27.7719</td>\n",
       "                        <td id=\"T_07e2f0cc_0dc7_11eb_a671_003ee1c6c0a9row7_col2\" class=\"data row7 col2\" >5.2699</td>\n",
       "                        <td id=\"T_07e2f0cc_0dc7_11eb_a671_003ee1c6c0a9row7_col3\" class=\"data row7 col3\" >0.9933</td>\n",
       "                        <td id=\"T_07e2f0cc_0dc7_11eb_a671_003ee1c6c0a9row7_col4\" class=\"data row7 col4\" >0.0168</td>\n",
       "                        <td id=\"T_07e2f0cc_0dc7_11eb_a671_003ee1c6c0a9row7_col5\" class=\"data row7 col5\" >0.0140</td>\n",
       "            </tr>\n",
       "            <tr>\n",
       "                        <th id=\"T_07e2f0cc_0dc7_11eb_a671_003ee1c6c0a9level0_row8\" class=\"row_heading level0 row8\" >8</th>\n",
       "                        <td id=\"T_07e2f0cc_0dc7_11eb_a671_003ee1c6c0a9row8_col0\" class=\"data row8 col0\" >3.6995</td>\n",
       "                        <td id=\"T_07e2f0cc_0dc7_11eb_a671_003ee1c6c0a9row8_col1\" class=\"data row8 col1\" >21.2551</td>\n",
       "                        <td id=\"T_07e2f0cc_0dc7_11eb_a671_003ee1c6c0a9row8_col2\" class=\"data row8 col2\" >4.6103</td>\n",
       "                        <td id=\"T_07e2f0cc_0dc7_11eb_a671_003ee1c6c0a9row8_col3\" class=\"data row8 col3\" >0.9946</td>\n",
       "                        <td id=\"T_07e2f0cc_0dc7_11eb_a671_003ee1c6c0a9row8_col4\" class=\"data row8 col4\" >0.0150</td>\n",
       "                        <td id=\"T_07e2f0cc_0dc7_11eb_a671_003ee1c6c0a9row8_col5\" class=\"data row8 col5\" >0.0120</td>\n",
       "            </tr>\n",
       "            <tr>\n",
       "                        <th id=\"T_07e2f0cc_0dc7_11eb_a671_003ee1c6c0a9level0_row9\" class=\"row_heading level0 row9\" >9</th>\n",
       "                        <td id=\"T_07e2f0cc_0dc7_11eb_a671_003ee1c6c0a9row9_col0\" class=\"data row9 col0\" >4.3892</td>\n",
       "                        <td id=\"T_07e2f0cc_0dc7_11eb_a671_003ee1c6c0a9row9_col1\" class=\"data row9 col1\" >33.9508</td>\n",
       "                        <td id=\"T_07e2f0cc_0dc7_11eb_a671_003ee1c6c0a9row9_col2\" class=\"data row9 col2\" >5.8267</td>\n",
       "                        <td id=\"T_07e2f0cc_0dc7_11eb_a671_003ee1c6c0a9row9_col3\" class=\"data row9 col3\" >0.9930</td>\n",
       "                        <td id=\"T_07e2f0cc_0dc7_11eb_a671_003ee1c6c0a9row9_col4\" class=\"data row9 col4\" >0.0197</td>\n",
       "                        <td id=\"T_07e2f0cc_0dc7_11eb_a671_003ee1c6c0a9row9_col5\" class=\"data row9 col5\" >0.0151</td>\n",
       "            </tr>\n",
       "            <tr>\n",
       "                        <th id=\"T_07e2f0cc_0dc7_11eb_a671_003ee1c6c0a9level0_row10\" class=\"row_heading level0 row10\" >Mean</th>\n",
       "                        <td id=\"T_07e2f0cc_0dc7_11eb_a671_003ee1c6c0a9row10_col0\" class=\"data row10 col0\" >4.1236</td>\n",
       "                        <td id=\"T_07e2f0cc_0dc7_11eb_a671_003ee1c6c0a9row10_col1\" class=\"data row10 col1\" >33.3744</td>\n",
       "                        <td id=\"T_07e2f0cc_0dc7_11eb_a671_003ee1c6c0a9row10_col2\" class=\"data row10 col2\" >5.6445</td>\n",
       "                        <td id=\"T_07e2f0cc_0dc7_11eb_a671_003ee1c6c0a9row10_col3\" class=\"data row10 col3\" >0.9910</td>\n",
       "                        <td id=\"T_07e2f0cc_0dc7_11eb_a671_003ee1c6c0a9row10_col4\" class=\"data row10 col4\" >0.0185</td>\n",
       "                        <td id=\"T_07e2f0cc_0dc7_11eb_a671_003ee1c6c0a9row10_col5\" class=\"data row10 col5\" >0.0139</td>\n",
       "            </tr>\n",
       "            <tr>\n",
       "                        <th id=\"T_07e2f0cc_0dc7_11eb_a671_003ee1c6c0a9level0_row11\" class=\"row_heading level0 row11\" >SD</th>\n",
       "                        <td id=\"T_07e2f0cc_0dc7_11eb_a671_003ee1c6c0a9row11_col0\" class=\"data row11 col0\" >0.3806</td>\n",
       "                        <td id=\"T_07e2f0cc_0dc7_11eb_a671_003ee1c6c0a9row11_col1\" class=\"data row11 col1\" >16.2634</td>\n",
       "                        <td id=\"T_07e2f0cc_0dc7_11eb_a671_003ee1c6c0a9row11_col2\" class=\"data row11 col2\" >1.2306</td>\n",
       "                        <td id=\"T_07e2f0cc_0dc7_11eb_a671_003ee1c6c0a9row11_col3\" class=\"data row11 col3\" >0.0043</td>\n",
       "                        <td id=\"T_07e2f0cc_0dc7_11eb_a671_003ee1c6c0a9row11_col4\" class=\"data row11 col4\" >0.0031</td>\n",
       "                        <td id=\"T_07e2f0cc_0dc7_11eb_a671_003ee1c6c0a9row11_col5\" class=\"data row11 col5\" >0.0011</td>\n",
       "            </tr>\n",
       "    </tbody></table>"
      ],
      "text/plain": [
       "<pandas.io.formats.style.Styler at 0x7f185b5c4520>"
      ]
     },
     "metadata": {},
     "output_type": "display_data"
    }
   ],
   "source": [
    "clf_rf = create_model('rf')\n",
    "tuned_rf = tune_model(clf_rf)"
   ]
  },
  {
   "cell_type": "code",
   "execution_count": 26,
   "metadata": {},
   "outputs": [],
   "source": [
    "predict_clf=predict_model(tuned_rf,data=test[features])\n",
    "oop=predict_clf['Label'].values"
   ]
  },
  {
   "cell_type": "code",
   "execution_count": 27,
   "metadata": {},
   "outputs": [
    {
     "data": {
      "text/plain": [
       "(5, 5)"
      ]
     },
     "execution_count": 27,
     "metadata": {},
     "output_type": "execute_result"
    }
   ],
   "source": [
    "len(oop),len(test)"
   ]
  },
  {
   "cell_type": "code",
   "execution_count": 28,
   "metadata": {},
   "outputs": [],
   "source": [
    "test['pred']=oop"
   ]
  },
  {
   "cell_type": "code",
   "execution_count": 29,
   "metadata": {},
   "outputs": [
    {
     "data": {
      "text/plain": [
       "<AxesSubplot:xlabel='Date'>"
      ]
     },
     "execution_count": 29,
     "metadata": {},
     "output_type": "execute_result"
    },
    {
     "data": {
      "image/png": "[encoded data removed]",
      "text/plain": [
       "<Figure size 432x288 with 1 Axes>"
      ]
     },
     "metadata": {
      "needs_background": "light"
     },
     "output_type": "display_data"
    }
   ],
   "source": [
    "test[['Close','pred']].plot()"
   ]
  },
  {
   "cell_type": "code",
   "execution_count": 30,
   "metadata": {},
   "outputs": [],
   "source": [
    "import plotly.express as ex"
   ]
  },
  {
   "cell_type": "code",
   "execution_count": 31,
   "metadata": {},
   "outputs": [
    {
     "data": {
      "application/vnd.plotly.v1+json": {
       "config": {
        "plotlyServerURL": "https://plot.ly"
       },
       "data": [
        {
         "hovertemplate": "variable=Open<br>Date=%{x}<br>value=%{y}<extra></extra>",
         "legendgroup": "Open",
         "line": {
          "color": "#636efa",
          "dash": "solid"
         },
         "mode": "lines",
         "name": "Open",
         "orientation": "v",
         "showlegend": true,
         "type": "scatter",
         "x": [
          "2020-10-06T00:00:00",
          "2020-10-07T00:00:00",
          "2020-10-08T00:00:00",
          "2020-10-12T00:00:00",
          "2020-10-13T00:00:00"
         ],
         "xaxis": "x",
         "y": [
          441.5,
          435,
          450,
          458,
          465
         ],
         "yaxis": "y"
        },
        {
         "hovertemplate": "variable=High<br>Date=%{x}<br>value=%{y}<extra></extra>",
         "legendgroup": "High",
         "line": {
          "color": "#EF553B",
          "dash": "solid"
         },
         "mode": "lines",
         "name": "High",
         "orientation": "v",
         "showlegend": true,
         "type": "scatter",
         "x": [
          "2020-10-06T00:00:00",
          "2020-10-07T00:00:00",
          "2020-10-08T00:00:00",
          "2020-10-12T00:00:00",
          "2020-10-13T00:00:00"
         ],
         "xaxis": "x",
         "y": [
          442,
          445,
          454,
          462,
          465
         ],
         "yaxis": "y"
        },
        {
         "hovertemplate": "variable=Low<br>Date=%{x}<br>value=%{y}<extra></extra>",
         "legendgroup": "Low",
         "line": {
          "color": "#00cc96",
          "dash": "solid"
         },
         "mode": "lines",
         "name": "Low",
         "orientation": "v",
         "showlegend": true,
         "type": "scatter",
         "x": [
          "2020-10-06T00:00:00",
          "2020-10-07T00:00:00",
          "2020-10-08T00:00:00",
          "2020-10-12T00:00:00",
          "2020-10-13T00:00:00"
         ],
         "xaxis": "x",
         "y": [
          437.5,
          435,
          448.5,
          457.5,
          456.5
         ],
         "yaxis": "y"
        },
        {
         "hovertemplate": "variable=Close<br>Date=%{x}<br>value=%{y}<extra></extra>",
         "legendgroup": "Close",
         "line": {
          "color": "#ab63fa",
          "dash": "solid"
         },
         "mode": "lines",
         "name": "Close",
         "orientation": "v",
         "showlegend": true,
         "type": "scatter",
         "x": [
          "2020-10-06T00:00:00",
          "2020-10-07T00:00:00",
          "2020-10-08T00:00:00",
          "2020-10-12T00:00:00",
          "2020-10-13T00:00:00"
         ],
         "xaxis": "x",
         "y": [
          439.5,
          443,
          453,
          460,
          462
         ],
         "yaxis": "y"
        },
        {
         "hovertemplate": "variable=pred<br>Date=%{x}<br>value=%{y}<extra></extra>",
         "legendgroup": "pred",
         "line": {
          "color": "#FFA15A",
          "dash": "solid"
         },
         "mode": "lines",
         "name": "pred",
         "orientation": "v",
         "showlegend": true,
         "type": "scatter",
         "x": [
          "2020-10-06T00:00:00",
          "2020-10-07T00:00:00",
          "2020-10-08T00:00:00",
          "2020-10-12T00:00:00",
          "2020-10-13T00:00:00"
         ],
         "xaxis": "x",
         "y": [
          441.1267,
          441.5707,
          444.8724,
          444.931,
          443.9509
         ],
         "yaxis": "y"
        }
       ],
       "layout": {
        "legend": {
         "title": {
          "text": "variable"
         },
         "tracegroupgap": 0
        },
        "margin": {
         "t": 60
        },
        "template": {
         "data": {
          "bar": [
           {
            "error_x": {
             "color": "#2a3f5f"
            },
            "error_y": {
             "color": "#2a3f5f"
            },
            "marker": {
             "line": {
              "color": "#E5ECF6",
              "width": 0.5
             }
            },
            "type": "bar"
           }
          ],
          "barpolar": [
           {
            "marker": {
             "line": {
              "color": "#E5ECF6",
              "width": 0.5
             }
            },
            "type": "barpolar"
           }
          ],
          "carpet": [
           {
            "aaxis": {
             "endlinecolor": "#2a3f5f",
             "gridcolor": "white",
             "linecolor": "white",
             "minorgridcolor": "white",
             "startlinecolor": "#2a3f5f"
            },
            "baxis": {
             "endlinecolor": "#2a3f5f",
             "gridcolor": "white",
             "linecolor": "white",
             "minorgridcolor": "white",
             "startlinecolor": "#2a3f5f"
            },
            "type": "carpet"
           }
          ],
          "choropleth": [
           {
            "colorbar": {
             "outlinewidth": 0,
             "ticks": ""
            },
            "type": "choropleth"
           }
          ],
          "contour": [
           {
            "colorbar": {
             "outlinewidth": 0,
             "ticks": ""
            },
            "colorscale": [
             [
              0,
              "#0d0887"
             ],
             [
              0.1111111111111111,
              "#46039f"
             ],
             [
              0.2222222222222222,
              "#7201a8"
             ],
             [
              0.3333333333333333,
              "#9c179e"
             ],
             [
              0.4444444444444444,
              "#bd3786"
             ],
             [
              0.5555555555555556,
              "#d8576b"
             ],
             [
              0.6666666666666666,
              "#ed7953"
             ],
             [
              0.7777777777777778,
              "#fb9f3a"
             ],
             [
              0.8888888888888888,
              "#fdca26"
             ],
             [
              1,
              "#f0f921"
             ]
            ],
            "type": "contour"
           }
          ],
          "contourcarpet": [
           {
            "colorbar": {
             "outlinewidth": 0,
             "ticks": ""
            },
            "type": "contourcarpet"
           }
          ],
          "heatmap": [
           {
            "colorbar": {
             "outlinewidth": 0,
             "ticks": ""
            },
            "colorscale": [
             [
              0,
              "#0d0887"
             ],
             [
              0.1111111111111111,
              "#46039f"
             ],
             [
              0.2222222222222222,
              "#7201a8"
             ],
             [
              0.3333333333333333,
              "#9c179e"
             ],
             [
              0.4444444444444444,
              "#bd3786"
             ],
             [
              0.5555555555555556,
              "#d8576b"
             ],
             [
              0.6666666666666666,
              "#ed7953"
             ],
             [
              0.7777777777777778,
              "#fb9f3a"
             ],
             [
              0.8888888888888888,
              "#fdca26"
             ],
             [
              1,
              "#f0f921"
             ]
            ],
            "type": "heatmap"
           }
          ],
          "heatmapgl": [
           {
            "colorbar": {
             "outlinewidth": 0,
             "ticks": ""
            },
            "colorscale": [
             [
              0,
              "#0d0887"
             ],
             [
              0.1111111111111111,
              "#46039f"
             ],
             [
              0.2222222222222222,
              "#7201a8"
             ],
             [
              0.3333333333333333,
              "#9c179e"
             ],
             [
              0.4444444444444444,
              "#bd3786"
             ],
             [
              0.5555555555555556,
              "#d8576b"
             ],
             [
              0.6666666666666666,
              "#ed7953"
             ],
             [
              0.7777777777777778,
              "#fb9f3a"
             ],
             [
              0.8888888888888888,
              "#fdca26"
             ],
             [
              1,
              "#f0f921"
             ]
            ],
            "type": "heatmapgl"
           }
          ],
          "histogram": [
           {
            "marker": {
             "colorbar": {
              "outlinewidth": 0,
              "ticks": ""
             }
            },
            "type": "histogram"
           }
          ],
          "histogram2d": [
           {
            "colorbar": {
             "outlinewidth": 0,
             "ticks": ""
            },
            "colorscale": [
             [
              0,
              "#0d0887"
             ],
             [
              0.1111111111111111,
              "#46039f"
             ],
             [
              0.2222222222222222,
              "#7201a8"
             ],
             [
              0.3333333333333333,
              "#9c179e"
             ],
             [
              0.4444444444444444,
              "#bd3786"
             ],
             [
              0.5555555555555556,
              "#d8576b"
             ],
             [
              0.6666666666666666,
              "#ed7953"
             ],
             [
              0.7777777777777778,
              "#fb9f3a"
             ],
             [
              0.8888888888888888,
              "#fdca26"
             ],
             [
              1,
              "#f0f921"
             ]
            ],
            "type": "histogram2d"
           }
          ],
          "histogram2dcontour": [
           {
            "colorbar": {
             "outlinewidth": 0,
             "ticks": ""
            },
            "colorscale": [
             [
              0,
              "#0d0887"
             ],
             [
              0.1111111111111111,
              "#46039f"
             ],
             [
              0.2222222222222222,
              "#7201a8"
             ],
             [
              0.3333333333333333,
              "#9c179e"
             ],
             [
              0.4444444444444444,
              "#bd3786"
             ],
             [
              0.5555555555555556,
              "#d8576b"
             ],
             [
              0.6666666666666666,
              "#ed7953"
             ],
             [
              0.7777777777777778,
              "#fb9f3a"
             ],
             [
              0.8888888888888888,
              "#fdca26"
             ],
             [
              1,
              "#f0f921"
             ]
            ],
            "type": "histogram2dcontour"
           }
          ],
          "mesh3d": [
           {
            "colorbar": {
             "outlinewidth": 0,
             "ticks": ""
            },
            "type": "mesh3d"
           }
          ],
          "parcoords": [
           {
            "line": {
             "colorbar": {
              "outlinewidth": 0,
              "ticks": ""
             }
            },
            "type": "parcoords"
           }
          ],
          "pie": [
           {
            "automargin": true,
            "type": "pie"
           }
          ],
          "scatter": [
           {
            "marker": {
             "colorbar": {
              "outlinewidth": 0,
              "ticks": ""
             }
            },
            "type": "scatter"
           }
          ],
          "scatter3d": [
           {
            "line": {
             "colorbar": {
              "outlinewidth": 0,
              "ticks": ""
             }
            },
            "marker": {
             "colorbar": {
              "outlinewidth": 0,
              "ticks": ""
             }
            },
            "type": "scatter3d"
           }
          ],
          "scattercarpet": [
           {
            "marker": {
             "colorbar": {
              "outlinewidth": 0,
              "ticks": ""
             }
            },
            "type": "scattercarpet"
           }
          ],
          "scattergeo": [
           {
            "marker": {
             "colorbar": {
              "outlinewidth": 0,
              "ticks": ""
             }
            },
            "type": "scattergeo"
           }
          ],
          "scattergl": [
           {
            "marker": {
             "colorbar": {
              "outlinewidth": 0,
              "ticks": ""
             }
            },
            "type": "scattergl"
           }
          ],
          "scattermapbox": [
           {
            "marker": {
             "colorbar": {
              "outlinewidth": 0,
              "ticks": ""
             }
            },
            "type": "scattermapbox"
           }
          ],
          "scatterpolar": [
           {
            "marker": {
             "colorbar": {
              "outlinewidth": 0,
              "ticks": ""
             }
            },
            "type": "scatterpolar"
           }
          ],
          "scatterpolargl": [
           {
            "marker": {
             "colorbar": {
              "outlinewidth": 0,
              "ticks": ""
             }
            },
            "type": "scatterpolargl"
           }
          ],
          "scatterternary": [
           {
            "marker": {
             "colorbar": {
              "outlinewidth": 0,
              "ticks": ""
             }
            },
            "type": "scatterternary"
           }
          ],
          "surface": [
           {
            "colorbar": {
             "outlinewidth": 0,
             "ticks": ""
            },
            "colorscale": [
             [
              0,
              "#0d0887"
             ],
             [
              0.1111111111111111,
              "#46039f"
             ],
             [
              0.2222222222222222,
              "#7201a8"
             ],
             [
              0.3333333333333333,
              "#9c179e"
             ],
             [
              0.4444444444444444,
              "#bd3786"
             ],
             [
              0.5555555555555556,
              "#d8576b"
             ],
             [
              0.6666666666666666,
              "#ed7953"
             ],
             [
              0.7777777777777778,
              "#fb9f3a"
             ],
             [
              0.8888888888888888,
              "#fdca26"
             ],
             [
              1,
              "#f0f921"
             ]
            ],
            "type": "surface"
           }
          ],
          "table": [
           {
            "cells": {
             "fill": {
              "color": "#EBF0F8"
             },
             "line": {
              "color": "white"
             }
            },
            "header": {
             "fill": {
              "color": "#C8D4E3"
             },
             "line": {
              "color": "white"
             }
            },
            "type": "table"
           }
          ]
         },
         "layout": {
          "annotationdefaults": {
           "arrowcolor": "#2a3f5f",
           "arrowhead": 0,
           "arrowwidth": 1
          },
          "coloraxis": {
           "colorbar": {
            "outlinewidth": 0,
            "ticks": ""
           }
          },
          "colorscale": {
           "diverging": [
            [
             0,
             "#8e0152"
            ],
            [
             0.1,
             "#c51b7d"
            ],
            [
             0.2,
             "#de77ae"
            ],
            [
             0.3,
             "#f1b6da"
            ],
            [
             0.4,
             "#fde0ef"
            ],
            [
             0.5,
             "#f7f7f7"
            ],
            [
             0.6,
             "#e6f5d0"
            ],
            [
             0.7,
             "#b8e186"
            ],
            [
             0.8,
             "#7fbc41"
            ],
            [
             0.9,
             "#4d9221"
            ],
            [
             1,
             "#276419"
            ]
           ],
           "sequential": [
            [
             0,
             "#0d0887"
            ],
            [
             0.1111111111111111,
             "#46039f"
            ],
            [
             0.2222222222222222,
             "#7201a8"
            ],
            [
             0.3333333333333333,
             "#9c179e"
            ],
            [
             0.4444444444444444,
             "#bd3786"
            ],
            [
             0.5555555555555556,
             "#d8576b"
            ],
            [
             0.6666666666666666,
             "#ed7953"
            ],
            [
             0.7777777777777778,
             "#fb9f3a"
            ],
            [
             0.8888888888888888,
             "#fdca26"
            ],
            [
             1,
             "#f0f921"
            ]
           ],
           "sequentialminus": [
            [
             0,
             "#0d0887"
            ],
            [
             0.1111111111111111,
             "#46039f"
            ],
            [
             0.2222222222222222,
             "#7201a8"
            ],
            [
             0.3333333333333333,
             "#9c179e"
            ],
            [
             0.4444444444444444,
             "#bd3786"
            ],
            [
             0.5555555555555556,
             "#d8576b"
            ],
            [
             0.6666666666666666,
             "#ed7953"
            ],
            [
             0.7777777777777778,
             "#fb9f3a"
            ],
            [
             0.8888888888888888,
             "#fdca26"
            ],
            [
             1,
             "#f0f921"
            ]
           ]
          },
          "colorway": [
           "#636efa",
           "#EF553B",
           "#00cc96",
           "#ab63fa",
           "#FFA15A",
           "#19d3f3",
           "#FF6692",
           "#B6E880",
           "#FF97FF",
           "#FECB52"
          ],
          "font": {
           "color": "#2a3f5f"
          },
          "geo": {
           "bgcolor": "white",
           "lakecolor": "white",
           "landcolor": "#E5ECF6",
           "showlakes": true,
           "showland": true,
           "subunitcolor": "white"
          },
          "hoverlabel": {
           "align": "left"
          },
          "hovermode": "closest",
          "mapbox": {
           "style": "light"
          },
          "paper_bgcolor": "white",
          "plot_bgcolor": "#E5ECF6",
          "polar": {
           "angularaxis": {
            "gridcolor": "white",
            "linecolor": "white",
            "ticks": ""
           },
           "bgcolor": "#E5ECF6",
           "radialaxis": {
            "gridcolor": "white",
            "linecolor": "white",
            "ticks": ""
           }
          },
          "scene": {
           "xaxis": {
            "backgroundcolor": "#E5ECF6",
            "gridcolor": "white",
            "gridwidth": 2,
            "linecolor": "white",
            "showbackground": true,
            "ticks": "",
            "zerolinecolor": "white"
           },
           "yaxis": {
            "backgroundcolor": "#E5ECF6",
            "gridcolor": "white",
            "gridwidth": 2,
            "linecolor": "white",
            "showbackground": true,
            "ticks": "",
            "zerolinecolor": "white"
           },
           "zaxis": {
            "backgroundcolor": "#E5ECF6",
            "gridcolor": "white",
            "gridwidth": 2,
            "linecolor": "white",
            "showbackground": true,
            "ticks": "",
            "zerolinecolor": "white"
           }
          },
          "shapedefaults": {
           "line": {
            "color": "#2a3f5f"
           }
          },
          "ternary": {
           "aaxis": {
            "gridcolor": "white",
            "linecolor": "white",
            "ticks": ""
           },
           "baxis": {
            "gridcolor": "white",
            "linecolor": "white",
            "ticks": ""
           },
           "bgcolor": "#E5ECF6",
           "caxis": {
            "gridcolor": "white",
            "linecolor": "white",
            "ticks": ""
           }
          },
          "title": {
           "x": 0.05
          },
          "xaxis": {
           "automargin": true,
           "gridcolor": "white",
           "linecolor": "white",
           "ticks": "",
           "title": {
            "standoff": 15
           },
           "zerolinecolor": "white",
           "zerolinewidth": 2
          },
          "yaxis": {
           "automargin": true,
           "gridcolor": "white",
           "linecolor": "white",
           "ticks": "",
           "title": {
            "standoff": 15
           },
           "zerolinecolor": "white",
           "zerolinewidth": 2
          }
         }
        },
        "xaxis": {
         "anchor": "y",
         "domain": [
          0,
          1
         ],
         "title": {
          "text": "Date"
         }
        },
        "yaxis": {
         "anchor": "x",
         "domain": [
          0,
          1
         ],
         "title": {
          "text": "value"
         }
        }
       }
      },
      "text/html": [
       "<div>                            <div id=\"9a2bbaf6-1680-4f8f-a1ce-0c034adb5527\" class=\"plotly-graph-div\" style=\"height:525px; width:100%;\"></div>            <script type=\"text/javascript\">                require([\"plotly\"], function(Plotly) {                    window.PLOTLYENV=window.PLOTLYENV || {};                                    if (document.getElementById(\"9a2bbaf6-1680-4f8f-a1ce-0c034adb5527\")) {                    Plotly.newPlot(                        \"9a2bbaf6-1680-4f8f-a1ce-0c034adb5527\",                        [{\"hovertemplate\": \"variable=Open<br>Date=%{x}<br>value=%{y}<extra></extra>\", \"legendgroup\": \"Open\", \"line\": {\"color\": \"#636efa\", \"dash\": \"solid\"}, \"mode\": \"lines\", \"name\": \"Open\", \"orientation\": \"v\", \"showlegend\": true, \"type\": \"scatter\", \"x\": [\"2020-10-06T00:00:00\", \"2020-10-07T00:00:00\", \"2020-10-08T00:00:00\", \"2020-10-12T00:00:00\", \"2020-10-13T00:00:00\"], \"xaxis\": \"x\", \"y\": [441.5, 435.0, 450.0, 458.0, 465.0], \"yaxis\": \"y\"}, {\"hovertemplate\": \"variable=High<br>Date=%{x}<br>value=%{y}<extra></extra>\", \"legendgroup\": \"High\", \"line\": {\"color\": \"#EF553B\", \"dash\": \"solid\"}, \"mode\": \"lines\", \"name\": \"High\", \"orientation\": \"v\", \"showlegend\": true, \"type\": \"scatter\", \"x\": [\"2020-10-06T00:00:00\", \"2020-10-07T00:00:00\", \"2020-10-08T00:00:00\", \"2020-10-12T00:00:00\", \"2020-10-13T00:00:00\"], \"xaxis\": \"x\", \"y\": [442.0, 445.0, 454.0, 462.0, 465.0], \"yaxis\": \"y\"}, {\"hovertemplate\": \"variable=Low<br>Date=%{x}<br>value=%{y}<extra></extra>\", \"legendgroup\": \"Low\", \"line\": {\"color\": \"#00cc96\", \"dash\": \"solid\"}, \"mode\": \"lines\", \"name\": \"Low\", \"orientation\": \"v\", \"showlegend\": true, \"type\": \"scatter\", \"x\": [\"2020-10-06T00:00:00\", \"2020-10-07T00:00:00\", \"2020-10-08T00:00:00\", \"2020-10-12T00:00:00\", \"2020-10-13T00:00:00\"], \"xaxis\": \"x\", \"y\": [437.5, 435.0, 448.5, 457.5, 456.5], \"yaxis\": \"y\"}, {\"hovertemplate\": \"variable=Close<br>Date=%{x}<br>value=%{y}<extra></extra>\", \"legendgroup\": \"Close\", \"line\": {\"color\": \"#ab63fa\", \"dash\": \"solid\"}, \"mode\": \"lines\", \"name\": \"Close\", \"orientation\": \"v\", \"showlegend\": true, \"type\": \"scatter\", \"x\": [\"2020-10-06T00:00:00\", \"2020-10-07T00:00:00\", \"2020-10-08T00:00:00\", \"2020-10-12T00:00:00\", \"2020-10-13T00:00:00\"], \"xaxis\": \"x\", \"y\": [439.5, 443.0, 453.0, 460.0, 462.0], \"yaxis\": \"y\"}, {\"hovertemplate\": \"variable=pred<br>Date=%{x}<br>value=%{y}<extra></extra>\", \"legendgroup\": \"pred\", \"line\": {\"color\": \"#FFA15A\", \"dash\": \"solid\"}, \"mode\": \"lines\", \"name\": \"pred\", \"orientation\": \"v\", \"showlegend\": true, \"type\": \"scatter\", \"x\": [\"2020-10-06T00:00:00\", \"2020-10-07T00:00:00\", \"2020-10-08T00:00:00\", \"2020-10-12T00:00:00\", \"2020-10-13T00:00:00\"], \"xaxis\": \"x\", \"y\": [441.1267, 441.5707, 444.8724, 444.931, 443.9509], \"yaxis\": \"y\"}],                        {\"legend\": {\"title\": {\"text\": \"variable\"}, \"tracegroupgap\": 0}, \"margin\": {\"t\": 60}, \"template\": {\"data\": {\"bar\": [{\"error_x\": {\"color\": \"#2a3f5f\"}, \"error_y\": {\"color\": \"#2a3f5f\"}, \"marker\": {\"line\": {\"color\": \"#E5ECF6\", \"width\": 0.5}}, \"type\": \"bar\"}], \"barpolar\": [{\"marker\": {\"line\": {\"color\": \"#E5ECF6\", \"width\": 0.5}}, \"type\": \"barpolar\"}], \"carpet\": [{\"aaxis\": {\"endlinecolor\": \"#2a3f5f\", \"gridcolor\": \"white\", \"linecolor\": \"white\", \"minorgridcolor\": \"white\", \"startlinecolor\": \"#2a3f5f\"}, \"baxis\": {\"endlinecolor\": \"#2a3f5f\", \"gridcolor\": \"white\", \"linecolor\": \"white\", \"minorgridcolor\": \"white\", \"startlinecolor\": \"#2a3f5f\"}, \"type\": \"carpet\"}], \"choropleth\": [{\"colorbar\": {\"outlinewidth\": 0, \"ticks\": \"\"}, \"type\": \"choropleth\"}], \"contour\": [{\"colorbar\": {\"outlinewidth\": 0, \"ticks\": \"\"}, \"colorscale\": [[0.0, \"#0d0887\"], [0.1111111111111111, \"#46039f\"], [0.2222222222222222, \"#7201a8\"], [0.3333333333333333, \"#9c179e\"], [0.4444444444444444, \"#bd3786\"], [0.5555555555555556, \"#d8576b\"], [0.6666666666666666, \"#ed7953\"], [0.7777777777777778, \"#fb9f3a\"], [0.8888888888888888, \"#fdca26\"], [1.0, \"#f0f921\"]], \"type\": \"contour\"}], \"contourcarpet\": [{\"colorbar\": {\"outlinewidth\": 0, \"ticks\": \"\"}, \"type\": \"contourcarpet\"}], \"heatmap\": [{\"colorbar\": {\"outlinewidth\": 0, \"ticks\": \"\"}, \"colorscale\": [[0.0, \"#0d0887\"], [0.1111111111111111, \"#46039f\"], [0.2222222222222222, \"#7201a8\"], [0.3333333333333333, \"#9c179e\"], [0.4444444444444444, \"#bd3786\"], [0.5555555555555556, \"#d8576b\"], [0.6666666666666666, \"#ed7953\"], [0.7777777777777778, \"#fb9f3a\"], [0.8888888888888888, \"#fdca26\"], [1.0, \"#f0f921\"]], \"type\": \"heatmap\"}], \"heatmapgl\": [{\"colorbar\": {\"outlinewidth\": 0, \"ticks\": \"\"}, \"colorscale\": [[0.0, \"#0d0887\"], [0.1111111111111111, \"#46039f\"], [0.2222222222222222, \"#7201a8\"], [0.3333333333333333, \"#9c179e\"], [0.4444444444444444, \"#bd3786\"], [0.5555555555555556, \"#d8576b\"], [0.6666666666666666, \"#ed7953\"], [0.7777777777777778, \"#fb9f3a\"], [0.8888888888888888, \"#fdca26\"], [1.0, \"#f0f921\"]], \"type\": \"heatmapgl\"}], \"histogram\": [{\"marker\": {\"colorbar\": {\"outlinewidth\": 0, \"ticks\": \"\"}}, \"type\": \"histogram\"}], \"histogram2d\": [{\"colorbar\": {\"outlinewidth\": 0, \"ticks\": \"\"}, \"colorscale\": [[0.0, \"#0d0887\"], [0.1111111111111111, \"#46039f\"], [0.2222222222222222, \"#7201a8\"], [0.3333333333333333, \"#9c179e\"], [0.4444444444444444, \"#bd3786\"], [0.5555555555555556, \"#d8576b\"], [0.6666666666666666, \"#ed7953\"], [0.7777777777777778, \"#fb9f3a\"], [0.8888888888888888, \"#fdca26\"], [1.0, \"#f0f921\"]], \"type\": \"histogram2d\"}], \"histogram2dcontour\": [{\"colorbar\": {\"outlinewidth\": 0, \"ticks\": \"\"}, \"colorscale\": [[0.0, \"#0d0887\"], [0.1111111111111111, \"#46039f\"], [0.2222222222222222, \"#7201a8\"], [0.3333333333333333, \"#9c179e\"], [0.4444444444444444, \"#bd3786\"], [0.5555555555555556, \"#d8576b\"], [0.6666666666666666, \"#ed7953\"], [0.7777777777777778, \"#fb9f3a\"], [0.8888888888888888, \"#fdca26\"], [1.0, \"#f0f921\"]], \"type\": \"histogram2dcontour\"}], \"mesh3d\": [{\"colorbar\": {\"outlinewidth\": 0, \"ticks\": \"\"}, \"type\": \"mesh3d\"}], \"parcoords\": [{\"line\": {\"colorbar\": {\"outlinewidth\": 0, \"ticks\": \"\"}}, \"type\": \"parcoords\"}], \"pie\": [{\"automargin\": true, \"type\": \"pie\"}], \"scatter\": [{\"marker\": {\"colorbar\": {\"outlinewidth\": 0, \"ticks\": \"\"}}, \"type\": \"scatter\"}], \"scatter3d\": [{\"line\": {\"colorbar\": {\"outlinewidth\": 0, \"ticks\": \"\"}}, \"marker\": {\"colorbar\": {\"outlinewidth\": 0, \"ticks\": \"\"}}, \"type\": \"scatter3d\"}], \"scattercarpet\": [{\"marker\": {\"colorbar\": {\"outlinewidth\": 0, \"ticks\": \"\"}}, \"type\": \"scattercarpet\"}], \"scattergeo\": [{\"marker\": {\"colorbar\": {\"outlinewidth\": 0, \"ticks\": \"\"}}, \"type\": \"scattergeo\"}], \"scattergl\": [{\"marker\": {\"colorbar\": {\"outlinewidth\": 0, \"ticks\": \"\"}}, \"type\": \"scattergl\"}], \"scattermapbox\": [{\"marker\": {\"colorbar\": {\"outlinewidth\": 0, \"ticks\": \"\"}}, \"type\": \"scattermapbox\"}], \"scatterpolar\": [{\"marker\": {\"colorbar\": {\"outlinewidth\": 0, \"ticks\": \"\"}}, \"type\": \"scatterpolar\"}], \"scatterpolargl\": [{\"marker\": {\"colorbar\": {\"outlinewidth\": 0, \"ticks\": \"\"}}, \"type\": \"scatterpolargl\"}], \"scatterternary\": [{\"marker\": {\"colorbar\": {\"outlinewidth\": 0, \"ticks\": \"\"}}, \"type\": \"scatterternary\"}], \"surface\": [{\"colorbar\": {\"outlinewidth\": 0, \"ticks\": \"\"}, \"colorscale\": [[0.0, \"#0d0887\"], [0.1111111111111111, \"#46039f\"], [0.2222222222222222, \"#7201a8\"], [0.3333333333333333, \"#9c179e\"], [0.4444444444444444, \"#bd3786\"], [0.5555555555555556, \"#d8576b\"], [0.6666666666666666, \"#ed7953\"], [0.7777777777777778, \"#fb9f3a\"], [0.8888888888888888, \"#fdca26\"], [1.0, \"#f0f921\"]], \"type\": \"surface\"}], \"table\": [{\"cells\": {\"fill\": {\"color\": \"#EBF0F8\"}, \"line\": {\"color\": \"white\"}}, \"header\": {\"fill\": {\"color\": \"#C8D4E3\"}, \"line\": {\"color\": \"white\"}}, \"type\": \"table\"}]}, \"layout\": {\"annotationdefaults\": {\"arrowcolor\": \"#2a3f5f\", \"arrowhead\": 0, \"arrowwidth\": 1}, \"coloraxis\": {\"colorbar\": {\"outlinewidth\": 0, \"ticks\": \"\"}}, \"colorscale\": {\"diverging\": [[0, \"#8e0152\"], [0.1, \"#c51b7d\"], [0.2, \"#de77ae\"], [0.3, \"#f1b6da\"], [0.4, \"#fde0ef\"], [0.5, \"#f7f7f7\"], [0.6, \"#e6f5d0\"], [0.7, \"#b8e186\"], [0.8, \"#7fbc41\"], [0.9, \"#4d9221\"], [1, \"#276419\"]], \"sequential\": [[0.0, \"#0d0887\"], [0.1111111111111111, \"#46039f\"], [0.2222222222222222, \"#7201a8\"], [0.3333333333333333, \"#9c179e\"], [0.4444444444444444, \"#bd3786\"], [0.5555555555555556, \"#d8576b\"], [0.6666666666666666, \"#ed7953\"], [0.7777777777777778, \"#fb9f3a\"], [0.8888888888888888, \"#fdca26\"], [1.0, \"#f0f921\"]], \"sequentialminus\": [[0.0, \"#0d0887\"], [0.1111111111111111, \"#46039f\"], [0.2222222222222222, \"#7201a8\"], [0.3333333333333333, \"#9c179e\"], [0.4444444444444444, \"#bd3786\"], [0.5555555555555556, \"#d8576b\"], [0.6666666666666666, \"#ed7953\"], [0.7777777777777778, \"#fb9f3a\"], [0.8888888888888888, \"#fdca26\"], [1.0, \"#f0f921\"]]}, \"colorway\": [\"#636efa\", \"#EF553B\", \"#00cc96\", \"#ab63fa\", \"#FFA15A\", \"#19d3f3\", \"#FF6692\", \"#B6E880\", \"#FF97FF\", \"#FECB52\"], \"font\": {\"color\": \"#2a3f5f\"}, \"geo\": {\"bgcolor\": \"white\", \"lakecolor\": \"white\", \"landcolor\": \"#E5ECF6\", \"showlakes\": true, \"showland\": true, \"subunitcolor\": \"white\"}, \"hoverlabel\": {\"align\": \"left\"}, \"hovermode\": \"closest\", \"mapbox\": {\"style\": \"light\"}, \"paper_bgcolor\": \"white\", \"plot_bgcolor\": \"#E5ECF6\", \"polar\": {\"angularaxis\": {\"gridcolor\": \"white\", \"linecolor\": \"white\", \"ticks\": \"\"}, \"bgcolor\": \"#E5ECF6\", \"radialaxis\": {\"gridcolor\": \"white\", \"linecolor\": \"white\", \"ticks\": \"\"}}, \"scene\": {\"xaxis\": {\"backgroundcolor\": \"#E5ECF6\", \"gridcolor\": \"white\", \"gridwidth\": 2, \"linecolor\": \"white\", \"showbackground\": true, \"ticks\": \"\", \"zerolinecolor\": \"white\"}, \"yaxis\": {\"backgroundcolor\": \"#E5ECF6\", \"gridcolor\": \"white\", \"gridwidth\": 2, \"linecolor\": \"white\", \"showbackground\": true, \"ticks\": \"\", \"zerolinecolor\": \"white\"}, \"zaxis\": {\"backgroundcolor\": \"#E5ECF6\", \"gridcolor\": \"white\", \"gridwidth\": 2, \"linecolor\": \"white\", \"showbackground\": true, \"ticks\": \"\", \"zerolinecolor\": \"white\"}}, \"shapedefaults\": {\"line\": {\"color\": \"#2a3f5f\"}}, \"ternary\": {\"aaxis\": {\"gridcolor\": \"white\", \"linecolor\": \"white\", \"ticks\": \"\"}, \"baxis\": {\"gridcolor\": \"white\", \"linecolor\": \"white\", \"ticks\": \"\"}, \"bgcolor\": \"#E5ECF6\", \"caxis\": {\"gridcolor\": \"white\", \"linecolor\": \"white\", \"ticks\": \"\"}}, \"title\": {\"x\": 0.05}, \"xaxis\": {\"automargin\": true, \"gridcolor\": \"white\", \"linecolor\": \"white\", \"ticks\": \"\", \"title\": {\"standoff\": 15}, \"zerolinecolor\": \"white\", \"zerolinewidth\": 2}, \"yaxis\": {\"automargin\": true, \"gridcolor\": \"white\", \"linecolor\": \"white\", \"ticks\": \"\", \"title\": {\"standoff\": 15}, \"zerolinecolor\": \"white\", \"zerolinewidth\": 2}}}, \"xaxis\": {\"anchor\": \"y\", \"domain\": [0.0, 1.0], \"title\": {\"text\": \"Date\"}}, \"yaxis\": {\"anchor\": \"x\", \"domain\": [0.0, 1.0], \"title\": {\"text\": \"value\"}}},                        {\"responsive\": true}                    ).then(function(){\n",
       "                            \n",
       "var gd = document.getElementById('9a2bbaf6-1680-4f8f-a1ce-0c034adb5527');\n",
       "var x = new MutationObserver(function (mutations, observer) {{\n",
       "        var display = window.getComputedStyle(gd).display;\n",
       "        if (!display || display === 'none') {{\n",
       "            console.log([gd, 'removed!']);\n",
       "            Plotly.purge(gd);\n",
       "            observer.disconnect();\n",
       "        }}\n",
       "}});\n",
       "\n",
       "// Listen for the removal of the full notebook cells\n",
       "var notebookContainer = gd.closest('#notebook-container');\n",
       "if (notebookContainer) {{\n",
       "    x.observe(notebookContainer, {childList: true});\n",
       "}}\n",
       "\n",
       "// Listen for the clearing of the current output cell\n",
       "var outputEl = gd.closest('.output');\n",
       "if (outputEl) {{\n",
       "    x.observe(outputEl, {childList: true});\n",
       "}}\n",
       "\n",
       "                        })                };                });            </script>        </div>"
      ]
     },
     "metadata": {},
     "output_type": "display_data"
    }
   ],
   "source": [
    "ex.line(test[['Open','High','Low','Close','pred']])"
   ]
  },
  {
   "cell_type": "code",
   "execution_count": null,
   "metadata": {},
   "outputs": [],
   "source": []
  },
  {
   "cell_type": "code",
   "execution_count": null,
   "metadata": {},
   "outputs": [],
   "source": []
  },
  {
   "cell_type": "code",
   "execution_count": 8,
   "metadata": {},
   "outputs": [],
   "source": [
    "df_TSM.to_csv(\"csv/TSM.csv\")"
   ]
  },
  {
   "cell_type": "code",
   "execution_count": null,
   "metadata": {},
   "outputs": [],
   "source": [
    "df_MediaT=web.get_data_yahoo([MediaT],start, end)"
   ]
  },
  {
   "cell_type": "code",
   "execution_count": null,
   "metadata": {},
   "outputs": [],
   "source": [
    "df_Macronix=web.get_data_yahoo([Macronix],start, end)"
   ]
  },
  {
   "cell_type": "code",
   "execution_count": null,
   "metadata": {},
   "outputs": [],
   "source": [
    "len(df_AAPL),len(df_TSM)"
   ]
  },
  {
   "cell_type": "code",
   "execution_count": null,
   "metadata": {},
   "outputs": [],
   "source": [
    "df=df_AAPL[['Close']].copy()"
   ]
  },
  {
   "cell_type": "code",
   "execution_count": null,
   "metadata": {},
   "outputs": [],
   "source": [
    "df.rename(columns={'Close':'AAPL'},inplace=True)\n"
   ]
  },
  {
   "cell_type": "code",
   "execution_count": null,
   "metadata": {},
   "outputs": [],
   "source": [
    "df['TSM']=df_TSM['Close']"
   ]
  },
  {
   "cell_type": "code",
   "execution_count": null,
   "metadata": {},
   "outputs": [],
   "source": [
    "df.fillna(method='bfill',inplace=True)"
   ]
  },
  {
   "cell_type": "code",
   "execution_count": null,
   "metadata": {},
   "outputs": [],
   "source": [
    "df.info()"
   ]
  },
  {
   "cell_type": "code",
   "execution_count": null,
   "metadata": {},
   "outputs": [],
   "source": [
    "df.head()"
   ]
  },
  {
   "cell_type": "code",
   "execution_count": null,
   "metadata": {},
   "outputs": [],
   "source": [
    "df.plot(figsize=[12,6])"
   ]
  },
  {
   "cell_type": "code",
   "execution_count": null,
   "metadata": {},
   "outputs": [],
   "source": [
    "(df/df.iloc[0]).plot(figsize=[12,6],title=\"Profit, $p_i/p_{i-1}$\");"
   ]
  },
  {
   "cell_type": "code",
   "execution_count": null,
   "metadata": {},
   "outputs": [],
   "source": [
    "Return=np.log(df/df.shift(1))\n",
    "Return=Return.dropna()\n"
   ]
  },
  {
   "cell_type": "markdown",
   "metadata": {},
   "source": [
    "Return.hist(bins=25,figsize=(12,4));"
   ]
  },
  {
   "cell_type": "markdown",
   "metadata": {},
   "source": [
    "Execellent visualization, right? But we can  do this better by plotly!"
   ]
  },
  {
   "cell_type": "code",
   "execution_count": null,
   "metadata": {},
   "outputs": [],
   "source": [
    "Return.hist?"
   ]
  },
  {
   "cell_type": "code",
   "execution_count": null,
   "metadata": {},
   "outputs": [],
   "source": [
    "pd.options.plotting.backend =\"plotly\""
   ]
  },
  {
   "cell_type": "code",
   "execution_count": null,
   "metadata": {},
   "outputs": [],
   "source": [
    "Return.plot(kind=\"hist\", opacity=0.6, bins=25,title=\" Returrns of Comanies\")"
   ]
  },
  {
   "cell_type": "markdown",
   "metadata": {},
   "source": [
    "As expected, more flexibly than matplotlib redering. You can try other otionals: \n",
    "```\n",
    "histnorm='probability density',\n",
    "marginal='box',\n",
    "```"
   ]
  },
  {
   "cell_type": "code",
   "execution_count": null,
   "metadata": {},
   "outputs": [],
   "source": [
    "Ret_mean=Return.mean()*252\n",
    "Ret_mean"
   ]
  },
  {
   "cell_type": "code",
   "execution_count": null,
   "metadata": {},
   "outputs": [],
   "source": [
    "Ret_cov=Return.cov()*252\n",
    "Ret_cov"
   ]
  },
  {
   "cell_type": "code",
   "execution_count": null,
   "metadata": {},
   "outputs": [],
   "source": []
  },
  {
   "cell_type": "code",
   "execution_count": null,
   "metadata": {},
   "outputs": [],
   "source": [
    "Ret_cor=Return.corr()\n",
    "Ret_cor"
   ]
  },
  {
   "cell_type": "code",
   "execution_count": null,
   "metadata": {},
   "outputs": [],
   "source": []
  },
  {
   "cell_type": "code",
   "execution_count": null,
   "metadata": {},
   "outputs": [],
   "source": [
    "x=np.random.random(len(df.columns))\n",
    "w=x/x.sum()\n",
    "w"
   ]
  },
  {
   "cell_type": "code",
   "execution_count": null,
   "metadata": {},
   "outputs": [],
   "source": [
    "R_Bin=np.sum(w*Ret_mean)\n",
    "R_Bin"
   ]
  },
  {
   "cell_type": "code",
   "execution_count": null,
   "metadata": {},
   "outputs": [],
   "source": [
    "vol_Bin=np.sqrt(np.dot(w,np.dot(Ret_cov,w.T)))\n",
    "vol_Bin"
   ]
  },
  {
   "cell_type": "code",
   "execution_count": null,
   "metadata": {},
   "outputs": [],
   "source": [
    "print(\"Portfolio: \",list(df.columns))\n",
    "\n",
    "print(\"Weights: %6.4f, %6.4f\" %(w[0],w[1]))\n",
    "\n",
    "print(\"Profit, %6.4f, with volatility, %6.4f\" %(R_Bin,vol_Bin))"
   ]
  },
  {
   "cell_type": "code",
   "execution_count": null,
   "metadata": {},
   "outputs": [],
   "source": []
  }
 ],
 "metadata": {
  "kernelspec": {
   "display_name": "Python 3",
   "language": "python",
   "name": "python3"
  },
  "language_info": {
   "codemirror_mode": {
    "name": "ipython",
    "version": 3
   },
   "file_extension": ".py",
   "mimetype": "text/x-python",
   "name": "python",
   "nbconvert_exporter": "python",
   "pygments_lexer": "ipython3",
   "version": "3.8.3"
  }
 },
 "nbformat": 4,
 "nbformat_minor": 2
}
