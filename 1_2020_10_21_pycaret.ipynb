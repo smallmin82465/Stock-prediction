{
 "cells": [
  {
   "cell_type": "markdown",
   "metadata": {},
   "source": [
    "測試資料\n",
    "---\n",
    "1. Download data, 如何下載資料\n",
    "- Using Database by Pandas, 如何使用資料庫\n",
    "- Technical Index Introducing, 引進技術指標\n",
    "- TSM as example, 用台積電當例子\n",
    "- Use pycaret to make prediction models for popular known machine learning schemes.\n",
    "\n",
    "Note\n",
    "---\n",
    "1. has to install all the required packages, for instance, talib. install by pip:\n",
    "```\n",
    "> pip install yfinance\n",
    "```\n",
    "- Complete the case.\n",
    "\n",
    "- (2020/09/30) Use pycaret, test all the prediction schemes,\n",
    "- (2020/10/18) Stationary test\n",
    "\n",
    "Date: 2020/09/23"
   ]
  },
  {
   "cell_type": "markdown",
   "metadata": {},
   "source": [
    "- put all the python files in same directory."
   ]
  },
  {
   "cell_type": "code",
   "execution_count": 1,
   "metadata": {},
   "outputs": [],
   "source": [
    "import warnings\n",
    "warnings.filterwarnings(action='ignore')"
   ]
  },
  {
   "cell_type": "code",
   "execution_count": 2,
   "metadata": {},
   "outputs": [],
   "source": [
    "import matplotlib.dates as dates\n",
    "#import pandas_datareader.data as web\n",
    "from pandas_datareader import data as web\n",
    "import datetime as dt\n",
    "import gc\n",
    "import pandas as pd\n",
    "import pandas_ta as ta\n",
    "\n",
    "import numpy as np\n",
    "import matplotlib.pyplot as plt\n",
    "import plotly.express as ex\n",
    "\n",
    "from statsmodels.tsa.stattools import adfuller\n",
    "from statsmodels.tsa import stattools\n",
    "import statsmodels\n",
    "\n",
    "#from hmmlearn.hmm import GaussianHMM\n",
    "import yfinance as yf\n",
    "yf.pdr_override()"
   ]
  },
  {
   "cell_type": "code",
   "execution_count": 3,
   "metadata": {},
   "outputs": [],
   "source": [
    "from datetime import date\n",
    "today = date.today()"
   ]
  },
  {
   "cell_type": "code",
   "execution_count": 4,
   "metadata": {},
   "outputs": [],
   "source": [
    "# Observe recent changes\n",
    "\n",
    "start = dt.datetime(2019, 1, 1)\n",
    "end = today"
   ]
  },
  {
   "cell_type": "code",
   "execution_count": 5,
   "metadata": {},
   "outputs": [],
   "source": [
    "AAPL='AAPL'\n",
    "AAPL_t='蘋果'\n",
    "\n",
    "TSM='2330.TW'\n",
    "TSM_t='台積電'\n",
    "MediaT='2454.TW'\n",
    "MediaT_t='聯發科'\n",
    "Macronix='2337.TW'\n",
    "Macronix_t='旺宏電子'"
   ]
  },
  {
   "cell_type": "code",
   "execution_count": 6,
   "metadata": {},
   "outputs": [],
   "source": [
    "def get_stock(target,start,end):\n",
    "    df=web.get_data_yahoo([target],start, end)\n",
    "    df.fillna(method='ffill',inplace=True)\n",
    "    df.fillna(method='bfill',inplace=True)\n",
    "    return df"
   ]
  },
  {
   "cell_type": "raw",
   "metadata": {},
   "source": [
    "df_AAPL=web.get_data_yahoo([AAPL],start, end)"
   ]
  },
  {
   "cell_type": "code",
   "execution_count": 7,
   "metadata": {},
   "outputs": [
    {
     "name": "stdout",
     "output_type": "stream",
     "text": [
      "[*********************100%***********************]  1 of 1 completed\n"
     ]
    }
   ],
   "source": [
    "df_TSM=web.get_data_yahoo([TSM],start, end)"
   ]
  },
  {
   "cell_type": "code",
   "execution_count": 8,
   "metadata": {},
   "outputs": [
    {
     "name": "stdout",
     "output_type": "stream",
     "text": [
      "<class 'pandas.core.frame.DataFrame'>\n",
      "DatetimeIndex: 434 entries, 2019-01-02 to 2020-10-20\n",
      "Data columns (total 6 columns):\n",
      " #   Column     Non-Null Count  Dtype  \n",
      "---  ------     --------------  -----  \n",
      " 0   Open       434 non-null    float64\n",
      " 1   High       434 non-null    float64\n",
      " 2   Low        434 non-null    float64\n",
      " 3   Close      434 non-null    float64\n",
      " 4   Adj Close  434 non-null    float64\n",
      " 5   Volume     434 non-null    int64  \n",
      "dtypes: float64(5), int64(1)\n",
      "memory usage: 23.7 KB\n"
     ]
    }
   ],
   "source": [
    "df_TSM.info()"
   ]
  },
  {
   "cell_type": "code",
   "execution_count": 8,
   "metadata": {},
   "outputs": [],
   "source": [
    "y=df_TSM['Close'].shift(-1).values\n",
    "#y[0]=y[1]\n",
    "#df_TSM['y']=y"
   ]
  },
  {
   "cell_type": "code",
   "execution_count": 9,
   "metadata": {},
   "outputs": [],
   "source": [
    "y[-1]=y[-2]\n",
    "df_TSM['y']=y"
   ]
  },
  {
   "cell_type": "code",
   "execution_count": 10,
   "metadata": {},
   "outputs": [
    {
     "data": {
      "text/html": [
       "<div>\n",
       "<style scoped>\n",
       "    .dataframe tbody tr th:only-of-type {\n",
       "        vertical-align: middle;\n",
       "    }\n",
       "\n",
       "    .dataframe tbody tr th {\n",
       "        vertical-align: top;\n",
       "    }\n",
       "\n",
       "    .dataframe thead th {\n",
       "        text-align: right;\n",
       "    }\n",
       "</style>\n",
       "<table border=\"1\" class=\"dataframe\">\n",
       "  <thead>\n",
       "    <tr style=\"text-align: right;\">\n",
       "      <th></th>\n",
       "      <th>Open</th>\n",
       "      <th>High</th>\n",
       "      <th>Low</th>\n",
       "      <th>Close</th>\n",
       "      <th>Adj Close</th>\n",
       "      <th>Volume</th>\n",
       "      <th>y</th>\n",
       "    </tr>\n",
       "    <tr>\n",
       "      <th>Date</th>\n",
       "      <th></th>\n",
       "      <th></th>\n",
       "      <th></th>\n",
       "      <th></th>\n",
       "      <th></th>\n",
       "      <th></th>\n",
       "      <th></th>\n",
       "    </tr>\n",
       "  </thead>\n",
       "  <tbody>\n",
       "    <tr>\n",
       "      <th>2020-10-14</th>\n",
       "      <td>460.5</td>\n",
       "      <td>461.0</td>\n",
       "      <td>457.0</td>\n",
       "      <td>459.0</td>\n",
       "      <td>459.0</td>\n",
       "      <td>40809241</td>\n",
       "      <td>453.0</td>\n",
       "    </tr>\n",
       "    <tr>\n",
       "      <th>2020-10-15</th>\n",
       "      <td>456.0</td>\n",
       "      <td>456.5</td>\n",
       "      <td>450.0</td>\n",
       "      <td>453.0</td>\n",
       "      <td>453.0</td>\n",
       "      <td>47775028</td>\n",
       "      <td>449.0</td>\n",
       "    </tr>\n",
       "    <tr>\n",
       "      <th>2020-10-16</th>\n",
       "      <td>451.0</td>\n",
       "      <td>456.0</td>\n",
       "      <td>448.5</td>\n",
       "      <td>449.0</td>\n",
       "      <td>449.0</td>\n",
       "      <td>46876801</td>\n",
       "      <td>457.5</td>\n",
       "    </tr>\n",
       "    <tr>\n",
       "      <th>2020-10-19</th>\n",
       "      <td>453.0</td>\n",
       "      <td>457.5</td>\n",
       "      <td>451.0</td>\n",
       "      <td>457.5</td>\n",
       "      <td>457.5</td>\n",
       "      <td>34470906</td>\n",
       "      <td>451.0</td>\n",
       "    </tr>\n",
       "    <tr>\n",
       "      <th>2020-10-20</th>\n",
       "      <td>455.5</td>\n",
       "      <td>457.0</td>\n",
       "      <td>451.0</td>\n",
       "      <td>451.0</td>\n",
       "      <td>451.0</td>\n",
       "      <td>25205638</td>\n",
       "      <td>451.0</td>\n",
       "    </tr>\n",
       "  </tbody>\n",
       "</table>\n",
       "</div>"
      ],
      "text/plain": [
       "             Open   High    Low  Close  Adj Close    Volume      y\n",
       "Date                                                              \n",
       "2020-10-14  460.5  461.0  457.0  459.0      459.0  40809241  453.0\n",
       "2020-10-15  456.0  456.5  450.0  453.0      453.0  47775028  449.0\n",
       "2020-10-16  451.0  456.0  448.5  449.0      449.0  46876801  457.5\n",
       "2020-10-19  453.0  457.5  451.0  457.5      457.5  34470906  451.0\n",
       "2020-10-20  455.5  457.0  451.0  451.0      451.0  25205638  451.0"
      ]
     },
     "execution_count": 10,
     "metadata": {},
     "output_type": "execute_result"
    }
   ],
   "source": [
    "df_TSM.tail()"
   ]
  },
  {
   "cell_type": "markdown",
   "metadata": {},
   "source": [
    "Technique Indexes Introduction,\n",
    "---\n",
    "Now type integrate the Moving Average of week (5 days), and  month (20 days)."
   ]
  },
  {
   "cell_type": "code",
   "execution_count": 11,
   "metadata": {},
   "outputs": [
    {
     "data": {
      "text/plain": [
       "date\n",
       "2019-01-02           NaN\n",
       "2019-01-03           NaN\n",
       "2019-01-04           NaN\n",
       "2019-01-07           NaN\n",
       "2019-01-08           NaN\n",
       "                 ...    \n",
       "2020-10-14    442.761997\n",
       "2020-10-15    443.737045\n",
       "2020-10-16    444.238279\n",
       "2020-10-19    445.501300\n",
       "2020-10-20    446.024986\n",
       "Name: EMA_20, Length: 434, dtype: float64"
      ]
     },
     "execution_count": 11,
     "metadata": {},
     "output_type": "execute_result"
    }
   ],
   "source": [
    "# pandas_da uses `close` as target column, Upper character changed to lower case\n",
    "\n",
    "#df_TSM['close']=df_TSM['Close']\n",
    "df_TSM.ta(kind='ema', length=5,append=True)\n",
    "df_TSM.ta(kind='ema', length=20,append=True)            "
   ]
  },
  {
   "cell_type": "code",
   "execution_count": 10,
   "metadata": {},
   "outputs": [
    {
     "data": {
      "text/html": [
       "<div>\n",
       "<style scoped>\n",
       "    .dataframe tbody tr th:only-of-type {\n",
       "        vertical-align: middle;\n",
       "    }\n",
       "\n",
       "    .dataframe tbody tr th {\n",
       "        vertical-align: top;\n",
       "    }\n",
       "\n",
       "    .dataframe thead th {\n",
       "        text-align: right;\n",
       "    }\n",
       "</style>\n",
       "<table border=\"1\" class=\"dataframe\">\n",
       "  <thead>\n",
       "    <tr style=\"text-align: right;\">\n",
       "      <th></th>\n",
       "      <th>open</th>\n",
       "      <th>high</th>\n",
       "      <th>low</th>\n",
       "      <th>close</th>\n",
       "      <th>adj_close</th>\n",
       "      <th>volume</th>\n",
       "      <th>y</th>\n",
       "      <th>EMA_5</th>\n",
       "      <th>EMA_20</th>\n",
       "    </tr>\n",
       "    <tr>\n",
       "      <th>date</th>\n",
       "      <th></th>\n",
       "      <th></th>\n",
       "      <th></th>\n",
       "      <th></th>\n",
       "      <th></th>\n",
       "      <th></th>\n",
       "      <th></th>\n",
       "      <th></th>\n",
       "      <th></th>\n",
       "    </tr>\n",
       "  </thead>\n",
       "  <tbody>\n",
       "    <tr>\n",
       "      <th>2019-01-02</th>\n",
       "      <td>226.5</td>\n",
       "      <td>226.5</td>\n",
       "      <td>219.0</td>\n",
       "      <td>219.5</td>\n",
       "      <td>204.531845</td>\n",
       "      <td>32900482</td>\n",
       "      <td>215.5</td>\n",
       "      <td>NaN</td>\n",
       "      <td>NaN</td>\n",
       "    </tr>\n",
       "    <tr>\n",
       "      <th>2019-01-03</th>\n",
       "      <td>214.0</td>\n",
       "      <td>218.0</td>\n",
       "      <td>214.0</td>\n",
       "      <td>215.5</td>\n",
       "      <td>200.804611</td>\n",
       "      <td>34087620</td>\n",
       "      <td>208.0</td>\n",
       "      <td>NaN</td>\n",
       "      <td>NaN</td>\n",
       "    </tr>\n",
       "    <tr>\n",
       "      <th>2019-01-04</th>\n",
       "      <td>211.5</td>\n",
       "      <td>211.5</td>\n",
       "      <td>206.5</td>\n",
       "      <td>208.0</td>\n",
       "      <td>193.816055</td>\n",
       "      <td>65943521</td>\n",
       "      <td>213.0</td>\n",
       "      <td>NaN</td>\n",
       "      <td>NaN</td>\n",
       "    </tr>\n",
       "    <tr>\n",
       "      <th>2019-01-07</th>\n",
       "      <td>212.0</td>\n",
       "      <td>214.0</td>\n",
       "      <td>211.0</td>\n",
       "      <td>213.0</td>\n",
       "      <td>198.475113</td>\n",
       "      <td>35442176</td>\n",
       "      <td>211.0</td>\n",
       "      <td>NaN</td>\n",
       "      <td>NaN</td>\n",
       "    </tr>\n",
       "    <tr>\n",
       "      <th>2019-01-08</th>\n",
       "      <td>212.0</td>\n",
       "      <td>212.5</td>\n",
       "      <td>210.0</td>\n",
       "      <td>211.0</td>\n",
       "      <td>196.611496</td>\n",
       "      <td>22694481</td>\n",
       "      <td>215.5</td>\n",
       "      <td>213.400000</td>\n",
       "      <td>NaN</td>\n",
       "    </tr>\n",
       "    <tr>\n",
       "      <th>...</th>\n",
       "      <td>...</td>\n",
       "      <td>...</td>\n",
       "      <td>...</td>\n",
       "      <td>...</td>\n",
       "      <td>...</td>\n",
       "      <td>...</td>\n",
       "      <td>...</td>\n",
       "      <td>...</td>\n",
       "      <td>...</td>\n",
       "    </tr>\n",
       "    <tr>\n",
       "      <th>2020-10-14</th>\n",
       "      <td>460.5</td>\n",
       "      <td>461.0</td>\n",
       "      <td>457.0</td>\n",
       "      <td>459.0</td>\n",
       "      <td>459.000000</td>\n",
       "      <td>40809241</td>\n",
       "      <td>453.0</td>\n",
       "      <td>454.930702</td>\n",
       "      <td>442.761997</td>\n",
       "    </tr>\n",
       "    <tr>\n",
       "      <th>2020-10-15</th>\n",
       "      <td>456.0</td>\n",
       "      <td>456.5</td>\n",
       "      <td>450.0</td>\n",
       "      <td>453.0</td>\n",
       "      <td>453.000000</td>\n",
       "      <td>47775028</td>\n",
       "      <td>449.0</td>\n",
       "      <td>454.287135</td>\n",
       "      <td>443.737045</td>\n",
       "    </tr>\n",
       "    <tr>\n",
       "      <th>2020-10-16</th>\n",
       "      <td>451.0</td>\n",
       "      <td>456.0</td>\n",
       "      <td>448.5</td>\n",
       "      <td>449.0</td>\n",
       "      <td>449.000000</td>\n",
       "      <td>46876801</td>\n",
       "      <td>457.5</td>\n",
       "      <td>452.524756</td>\n",
       "      <td>444.238279</td>\n",
       "    </tr>\n",
       "    <tr>\n",
       "      <th>2020-10-19</th>\n",
       "      <td>453.0</td>\n",
       "      <td>457.5</td>\n",
       "      <td>451.0</td>\n",
       "      <td>457.5</td>\n",
       "      <td>457.500000</td>\n",
       "      <td>34470906</td>\n",
       "      <td>451.0</td>\n",
       "      <td>454.183171</td>\n",
       "      <td>445.501300</td>\n",
       "    </tr>\n",
       "    <tr>\n",
       "      <th>2020-10-20</th>\n",
       "      <td>455.5</td>\n",
       "      <td>457.0</td>\n",
       "      <td>451.0</td>\n",
       "      <td>451.0</td>\n",
       "      <td>451.000000</td>\n",
       "      <td>25205638</td>\n",
       "      <td>451.0</td>\n",
       "      <td>453.122114</td>\n",
       "      <td>446.024986</td>\n",
       "    </tr>\n",
       "  </tbody>\n",
       "</table>\n",
       "<p>434 rows × 9 columns</p>\n",
       "</div>"
      ],
      "text/plain": [
       "             open   high    low  close   adj_close    volume      y  \\\n",
       "date                                                                  \n",
       "2019-01-02  226.5  226.5  219.0  219.5  204.531845  32900482  215.5   \n",
       "2019-01-03  214.0  218.0  214.0  215.5  200.804611  34087620  208.0   \n",
       "2019-01-04  211.5  211.5  206.5  208.0  193.816055  65943521  213.0   \n",
       "2019-01-07  212.0  214.0  211.0  213.0  198.475113  35442176  211.0   \n",
       "2019-01-08  212.0  212.5  210.0  211.0  196.611496  22694481  215.5   \n",
       "...           ...    ...    ...    ...         ...       ...    ...   \n",
       "2020-10-14  460.5  461.0  457.0  459.0  459.000000  40809241  453.0   \n",
       "2020-10-15  456.0  456.5  450.0  453.0  453.000000  47775028  449.0   \n",
       "2020-10-16  451.0  456.0  448.5  449.0  449.000000  46876801  457.5   \n",
       "2020-10-19  453.0  457.5  451.0  457.5  457.500000  34470906  451.0   \n",
       "2020-10-20  455.5  457.0  451.0  451.0  451.000000  25205638  451.0   \n",
       "\n",
       "                 EMA_5      EMA_20  \n",
       "date                                \n",
       "2019-01-02         NaN         NaN  \n",
       "2019-01-03         NaN         NaN  \n",
       "2019-01-04         NaN         NaN  \n",
       "2019-01-07         NaN         NaN  \n",
       "2019-01-08  213.400000         NaN  \n",
       "...                ...         ...  \n",
       "2020-10-14  454.930702  442.761997  \n",
       "2020-10-15  454.287135  443.737045  \n",
       "2020-10-16  452.524756  444.238279  \n",
       "2020-10-19  454.183171  445.501300  \n",
       "2020-10-20  453.122114  446.024986  \n",
       "\n",
       "[434 rows x 9 columns]"
      ]
     },
     "execution_count": 10,
     "metadata": {},
     "output_type": "execute_result"
    }
   ],
   "source": [
    "df_TSM"
   ]
  },
  {
   "cell_type": "code",
   "execution_count": 12,
   "metadata": {
    "scrolled": true
   },
   "outputs": [],
   "source": [
    "df_TSM['MA5']=df_TSM['EMA_5']\n",
    "df_TSM['MA20']=df_TSM['EMA_20']\n",
    "\n",
    "# prevant nan's in the first Moving average\n",
    "\n",
    "df_TSM.fillna(method='bfill',inplace=True)\n",
    "\n"
   ]
  },
  {
   "cell_type": "code",
   "execution_count": 12,
   "metadata": {},
   "outputs": [
    {
     "data": {
      "text/html": [
       "<div>\n",
       "<style scoped>\n",
       "    .dataframe tbody tr th:only-of-type {\n",
       "        vertical-align: middle;\n",
       "    }\n",
       "\n",
       "    .dataframe tbody tr th {\n",
       "        vertical-align: top;\n",
       "    }\n",
       "\n",
       "    .dataframe thead th {\n",
       "        text-align: right;\n",
       "    }\n",
       "</style>\n",
       "<table border=\"1\" class=\"dataframe\">\n",
       "  <thead>\n",
       "    <tr style=\"text-align: right;\">\n",
       "      <th></th>\n",
       "      <th>open</th>\n",
       "      <th>high</th>\n",
       "      <th>low</th>\n",
       "      <th>close</th>\n",
       "      <th>adj_close</th>\n",
       "      <th>volume</th>\n",
       "      <th>y</th>\n",
       "      <th>EMA_5</th>\n",
       "      <th>EMA_20</th>\n",
       "      <th>MA5</th>\n",
       "      <th>MA20</th>\n",
       "    </tr>\n",
       "    <tr>\n",
       "      <th>date</th>\n",
       "      <th></th>\n",
       "      <th></th>\n",
       "      <th></th>\n",
       "      <th></th>\n",
       "      <th></th>\n",
       "      <th></th>\n",
       "      <th></th>\n",
       "      <th></th>\n",
       "      <th></th>\n",
       "      <th></th>\n",
       "      <th></th>\n",
       "    </tr>\n",
       "  </thead>\n",
       "  <tbody>\n",
       "    <tr>\n",
       "      <th>2019-01-02</th>\n",
       "      <td>226.5</td>\n",
       "      <td>226.5</td>\n",
       "      <td>219.0</td>\n",
       "      <td>219.5</td>\n",
       "      <td>204.531845</td>\n",
       "      <td>32900482</td>\n",
       "      <td>215.5</td>\n",
       "      <td>213.4</td>\n",
       "      <td>218.975</td>\n",
       "      <td>213.4</td>\n",
       "      <td>218.975</td>\n",
       "    </tr>\n",
       "    <tr>\n",
       "      <th>2019-01-03</th>\n",
       "      <td>214.0</td>\n",
       "      <td>218.0</td>\n",
       "      <td>214.0</td>\n",
       "      <td>215.5</td>\n",
       "      <td>200.804611</td>\n",
       "      <td>34087620</td>\n",
       "      <td>208.0</td>\n",
       "      <td>213.4</td>\n",
       "      <td>218.975</td>\n",
       "      <td>213.4</td>\n",
       "      <td>218.975</td>\n",
       "    </tr>\n",
       "    <tr>\n",
       "      <th>2019-01-04</th>\n",
       "      <td>211.5</td>\n",
       "      <td>211.5</td>\n",
       "      <td>206.5</td>\n",
       "      <td>208.0</td>\n",
       "      <td>193.816055</td>\n",
       "      <td>65943521</td>\n",
       "      <td>213.0</td>\n",
       "      <td>213.4</td>\n",
       "      <td>218.975</td>\n",
       "      <td>213.4</td>\n",
       "      <td>218.975</td>\n",
       "    </tr>\n",
       "    <tr>\n",
       "      <th>2019-01-07</th>\n",
       "      <td>212.0</td>\n",
       "      <td>214.0</td>\n",
       "      <td>211.0</td>\n",
       "      <td>213.0</td>\n",
       "      <td>198.475113</td>\n",
       "      <td>35442176</td>\n",
       "      <td>211.0</td>\n",
       "      <td>213.4</td>\n",
       "      <td>218.975</td>\n",
       "      <td>213.4</td>\n",
       "      <td>218.975</td>\n",
       "    </tr>\n",
       "    <tr>\n",
       "      <th>2019-01-08</th>\n",
       "      <td>212.0</td>\n",
       "      <td>212.5</td>\n",
       "      <td>210.0</td>\n",
       "      <td>211.0</td>\n",
       "      <td>196.611496</td>\n",
       "      <td>22694481</td>\n",
       "      <td>215.5</td>\n",
       "      <td>213.4</td>\n",
       "      <td>218.975</td>\n",
       "      <td>213.4</td>\n",
       "      <td>218.975</td>\n",
       "    </tr>\n",
       "  </tbody>\n",
       "</table>\n",
       "</div>"
      ],
      "text/plain": [
       "             open   high    low  close   adj_close    volume      y  EMA_5  \\\n",
       "date                                                                         \n",
       "2019-01-02  226.5  226.5  219.0  219.5  204.531845  32900482  215.5  213.4   \n",
       "2019-01-03  214.0  218.0  214.0  215.5  200.804611  34087620  208.0  213.4   \n",
       "2019-01-04  211.5  211.5  206.5  208.0  193.816055  65943521  213.0  213.4   \n",
       "2019-01-07  212.0  214.0  211.0  213.0  198.475113  35442176  211.0  213.4   \n",
       "2019-01-08  212.0  212.5  210.0  211.0  196.611496  22694481  215.5  213.4   \n",
       "\n",
       "             EMA_20    MA5     MA20  \n",
       "date                                 \n",
       "2019-01-02  218.975  213.4  218.975  \n",
       "2019-01-03  218.975  213.4  218.975  \n",
       "2019-01-04  218.975  213.4  218.975  \n",
       "2019-01-07  218.975  213.4  218.975  \n",
       "2019-01-08  218.975  213.4  218.975  "
      ]
     },
     "execution_count": 12,
     "metadata": {},
     "output_type": "execute_result"
    }
   ],
   "source": [
    "df_TSM.head()"
   ]
  },
  {
   "cell_type": "code",
   "execution_count": 47,
   "metadata": {},
   "outputs": [],
   "source": []
  },
  {
   "cell_type": "code",
   "execution_count": 13,
   "metadata": {},
   "outputs": [
    {
     "data": {
      "text/plain": [
       "<AxesSubplot:xlabel='date'>"
      ]
     },
     "execution_count": 13,
     "metadata": {},
     "output_type": "execute_result"
    },
    {
     "data": {
      "image/png": "[encoded data removed]",
      "text/plain": [
       "<Figure size 864x432 with 1 Axes>"
      ]
     },
     "metadata": {
      "needs_background": "light"
     },
     "output_type": "display_data"
    }
   ],
   "source": [
    "df_TSM[['close','MA5','MA20']].plot(figsize=[12,6])"
   ]
  },
  {
   "cell_type": "markdown",
   "metadata": {},
   "source": [
    "Stationary Test\n",
    "---\n",
    "Before making prediction, we apply Augmented Dickey-Fuller Test, a common statistical test used to test whether a given Time series is stationary or not on the target sataset. We can achieve this by defining the null and alternate hypothesis:\n",
    "- $H_0$: Null Hypothesis: Time Series is non-stationary. It gives a time-dependent trend.\n",
    "- $H_1$: Alternate Hypothesis: Time Series is stationary. In another term, the series doesn’t depend on time.\n",
    "\n",
    "From the following calculusion, we conclude that \n",
    "- the native `prediction`, $y$, is not non-staiontary; thus, we use the `difference` method to make data stionary:\n",
    "- the difference of data is stationary now; "
   ]
  },
  {
   "cell_type": "code",
   "execution_count": 14,
   "metadata": {},
   "outputs": [
    {
     "name": "stdout",
     "output_type": "stream",
     "text": [
      "ADF Statistic: 0.260948\n",
      "\tp-value: 0.975480\n",
      "Critical Values:\n",
      "\t1%: -3.446\n",
      "\t5%: -2.868\n",
      "\t10%: -2.570\n",
      "Do not Reject Ho - Time Series is Non-Stationary\n"
     ]
    }
   ],
   "source": [
    "# ADF statistic to check stationarity\n",
    "t = df_TSM[\"close\"].values\n",
    "timeseries = adfuller(t)\n",
    "print('ADF Statistic: %f' % timeseries[0])\n",
    "print('\\tp-value: %f' % timeseries[1])\n",
    "print('Critical Values:')\n",
    "for key, value in timeseries[4].items():\n",
    "    print('\\t%s: %.3f' % (key, value))\n",
    "if timeseries[0] > timeseries[4][\"5%\"]:\n",
    "   print (\"Do not Reject Ho - Time Series is Non-Stationary\")\n",
    "else:\n",
    "   print (\"Reject Ho - Time Series is Stationary\")"
   ]
  },
  {
   "cell_type": "code",
   "execution_count": 15,
   "metadata": {},
   "outputs": [],
   "source": [
    "df_TSM.ta.log_return(cumulative=False, append=True);"
   ]
  },
  {
   "cell_type": "code",
   "execution_count": 16,
   "metadata": {},
   "outputs": [
    {
     "data": {
      "text/html": [
       "<div>\n",
       "<style scoped>\n",
       "    .dataframe tbody tr th:only-of-type {\n",
       "        vertical-align: middle;\n",
       "    }\n",
       "\n",
       "    .dataframe tbody tr th {\n",
       "        vertical-align: top;\n",
       "    }\n",
       "\n",
       "    .dataframe thead th {\n",
       "        text-align: right;\n",
       "    }\n",
       "</style>\n",
       "<table border=\"1\" class=\"dataframe\">\n",
       "  <thead>\n",
       "    <tr style=\"text-align: right;\">\n",
       "      <th></th>\n",
       "      <th>open</th>\n",
       "      <th>high</th>\n",
       "      <th>low</th>\n",
       "      <th>close</th>\n",
       "      <th>adj_close</th>\n",
       "      <th>volume</th>\n",
       "      <th>y</th>\n",
       "      <th>EMA_5</th>\n",
       "      <th>EMA_20</th>\n",
       "      <th>MA5</th>\n",
       "      <th>MA20</th>\n",
       "      <th>LOGRET_1</th>\n",
       "    </tr>\n",
       "    <tr>\n",
       "      <th>date</th>\n",
       "      <th></th>\n",
       "      <th></th>\n",
       "      <th></th>\n",
       "      <th></th>\n",
       "      <th></th>\n",
       "      <th></th>\n",
       "      <th></th>\n",
       "      <th></th>\n",
       "      <th></th>\n",
       "      <th></th>\n",
       "      <th></th>\n",
       "      <th></th>\n",
       "    </tr>\n",
       "  </thead>\n",
       "  <tbody>\n",
       "    <tr>\n",
       "      <th>2019-01-02</th>\n",
       "      <td>226.5</td>\n",
       "      <td>226.5</td>\n",
       "      <td>219.0</td>\n",
       "      <td>219.5</td>\n",
       "      <td>204.531845</td>\n",
       "      <td>32900482</td>\n",
       "      <td>215.5</td>\n",
       "      <td>213.4</td>\n",
       "      <td>218.975</td>\n",
       "      <td>213.4</td>\n",
       "      <td>218.975</td>\n",
       "      <td>NaN</td>\n",
       "    </tr>\n",
       "    <tr>\n",
       "      <th>2019-01-03</th>\n",
       "      <td>214.0</td>\n",
       "      <td>218.0</td>\n",
       "      <td>214.0</td>\n",
       "      <td>215.5</td>\n",
       "      <td>200.804611</td>\n",
       "      <td>34087620</td>\n",
       "      <td>208.0</td>\n",
       "      <td>213.4</td>\n",
       "      <td>218.975</td>\n",
       "      <td>213.4</td>\n",
       "      <td>218.975</td>\n",
       "      <td>-0.018391</td>\n",
       "    </tr>\n",
       "    <tr>\n",
       "      <th>2019-01-04</th>\n",
       "      <td>211.5</td>\n",
       "      <td>211.5</td>\n",
       "      <td>206.5</td>\n",
       "      <td>208.0</td>\n",
       "      <td>193.816055</td>\n",
       "      <td>65943521</td>\n",
       "      <td>213.0</td>\n",
       "      <td>213.4</td>\n",
       "      <td>218.975</td>\n",
       "      <td>213.4</td>\n",
       "      <td>218.975</td>\n",
       "      <td>-0.035423</td>\n",
       "    </tr>\n",
       "    <tr>\n",
       "      <th>2019-01-07</th>\n",
       "      <td>212.0</td>\n",
       "      <td>214.0</td>\n",
       "      <td>211.0</td>\n",
       "      <td>213.0</td>\n",
       "      <td>198.475113</td>\n",
       "      <td>35442176</td>\n",
       "      <td>211.0</td>\n",
       "      <td>213.4</td>\n",
       "      <td>218.975</td>\n",
       "      <td>213.4</td>\n",
       "      <td>218.975</td>\n",
       "      <td>0.023754</td>\n",
       "    </tr>\n",
       "    <tr>\n",
       "      <th>2019-01-08</th>\n",
       "      <td>212.0</td>\n",
       "      <td>212.5</td>\n",
       "      <td>210.0</td>\n",
       "      <td>211.0</td>\n",
       "      <td>196.611496</td>\n",
       "      <td>22694481</td>\n",
       "      <td>215.5</td>\n",
       "      <td>213.4</td>\n",
       "      <td>218.975</td>\n",
       "      <td>213.4</td>\n",
       "      <td>218.975</td>\n",
       "      <td>-0.009434</td>\n",
       "    </tr>\n",
       "  </tbody>\n",
       "</table>\n",
       "</div>"
      ],
      "text/plain": [
       "             open   high    low  close   adj_close    volume      y  EMA_5  \\\n",
       "date                                                                         \n",
       "2019-01-02  226.5  226.5  219.0  219.5  204.531845  32900482  215.5  213.4   \n",
       "2019-01-03  214.0  218.0  214.0  215.5  200.804611  34087620  208.0  213.4   \n",
       "2019-01-04  211.5  211.5  206.5  208.0  193.816055  65943521  213.0  213.4   \n",
       "2019-01-07  212.0  214.0  211.0  213.0  198.475113  35442176  211.0  213.4   \n",
       "2019-01-08  212.0  212.5  210.0  211.0  196.611496  22694481  215.5  213.4   \n",
       "\n",
       "             EMA_20    MA5     MA20  LOGRET_1  \n",
       "date                                           \n",
       "2019-01-02  218.975  213.4  218.975       NaN  \n",
       "2019-01-03  218.975  213.4  218.975 -0.018391  \n",
       "2019-01-04  218.975  213.4  218.975 -0.035423  \n",
       "2019-01-07  218.975  213.4  218.975  0.023754  \n",
       "2019-01-08  218.975  213.4  218.975 -0.009434  "
      ]
     },
     "execution_count": 16,
     "metadata": {},
     "output_type": "execute_result"
    }
   ],
   "source": [
    "df_TSM.head()"
   ]
  },
  {
   "cell_type": "code",
   "execution_count": 17,
   "metadata": {},
   "outputs": [],
   "source": [
    "df_TSM['logRet']=df_TSM['LOGRET_1']"
   ]
  },
  {
   "cell_type": "raw",
   "metadata": {},
   "source": [
    "df_TSM['Ret']=df_TSM[\"y\"]-df_TSM[\"Close\"]"
   ]
  },
  {
   "cell_type": "code",
   "execution_count": 18,
   "metadata": {},
   "outputs": [
    {
     "data": {
      "text/html": [
       "<div>\n",
       "<style scoped>\n",
       "    .dataframe tbody tr th:only-of-type {\n",
       "        vertical-align: middle;\n",
       "    }\n",
       "\n",
       "    .dataframe tbody tr th {\n",
       "        vertical-align: top;\n",
       "    }\n",
       "\n",
       "    .dataframe thead th {\n",
       "        text-align: right;\n",
       "    }\n",
       "</style>\n",
       "<table border=\"1\" class=\"dataframe\">\n",
       "  <thead>\n",
       "    <tr style=\"text-align: right;\">\n",
       "      <th></th>\n",
       "      <th>open</th>\n",
       "      <th>high</th>\n",
       "      <th>low</th>\n",
       "      <th>close</th>\n",
       "      <th>adj_close</th>\n",
       "      <th>volume</th>\n",
       "      <th>y</th>\n",
       "      <th>EMA_5</th>\n",
       "      <th>EMA_20</th>\n",
       "      <th>MA5</th>\n",
       "      <th>MA20</th>\n",
       "      <th>LOGRET_1</th>\n",
       "      <th>logRet</th>\n",
       "    </tr>\n",
       "    <tr>\n",
       "      <th>date</th>\n",
       "      <th></th>\n",
       "      <th></th>\n",
       "      <th></th>\n",
       "      <th></th>\n",
       "      <th></th>\n",
       "      <th></th>\n",
       "      <th></th>\n",
       "      <th></th>\n",
       "      <th></th>\n",
       "      <th></th>\n",
       "      <th></th>\n",
       "      <th></th>\n",
       "      <th></th>\n",
       "    </tr>\n",
       "  </thead>\n",
       "  <tbody>\n",
       "    <tr>\n",
       "      <th>2019-01-02</th>\n",
       "      <td>226.5</td>\n",
       "      <td>226.5</td>\n",
       "      <td>219.0</td>\n",
       "      <td>219.5</td>\n",
       "      <td>204.531845</td>\n",
       "      <td>32900482</td>\n",
       "      <td>215.5</td>\n",
       "      <td>213.4</td>\n",
       "      <td>218.975</td>\n",
       "      <td>213.4</td>\n",
       "      <td>218.975</td>\n",
       "      <td>-0.018391</td>\n",
       "      <td>-0.018391</td>\n",
       "    </tr>\n",
       "    <tr>\n",
       "      <th>2019-01-03</th>\n",
       "      <td>214.0</td>\n",
       "      <td>218.0</td>\n",
       "      <td>214.0</td>\n",
       "      <td>215.5</td>\n",
       "      <td>200.804611</td>\n",
       "      <td>34087620</td>\n",
       "      <td>208.0</td>\n",
       "      <td>213.4</td>\n",
       "      <td>218.975</td>\n",
       "      <td>213.4</td>\n",
       "      <td>218.975</td>\n",
       "      <td>-0.018391</td>\n",
       "      <td>-0.018391</td>\n",
       "    </tr>\n",
       "    <tr>\n",
       "      <th>2019-01-04</th>\n",
       "      <td>211.5</td>\n",
       "      <td>211.5</td>\n",
       "      <td>206.5</td>\n",
       "      <td>208.0</td>\n",
       "      <td>193.816055</td>\n",
       "      <td>65943521</td>\n",
       "      <td>213.0</td>\n",
       "      <td>213.4</td>\n",
       "      <td>218.975</td>\n",
       "      <td>213.4</td>\n",
       "      <td>218.975</td>\n",
       "      <td>-0.035423</td>\n",
       "      <td>-0.035423</td>\n",
       "    </tr>\n",
       "    <tr>\n",
       "      <th>2019-01-07</th>\n",
       "      <td>212.0</td>\n",
       "      <td>214.0</td>\n",
       "      <td>211.0</td>\n",
       "      <td>213.0</td>\n",
       "      <td>198.475113</td>\n",
       "      <td>35442176</td>\n",
       "      <td>211.0</td>\n",
       "      <td>213.4</td>\n",
       "      <td>218.975</td>\n",
       "      <td>213.4</td>\n",
       "      <td>218.975</td>\n",
       "      <td>0.023754</td>\n",
       "      <td>0.023754</td>\n",
       "    </tr>\n",
       "    <tr>\n",
       "      <th>2019-01-08</th>\n",
       "      <td>212.0</td>\n",
       "      <td>212.5</td>\n",
       "      <td>210.0</td>\n",
       "      <td>211.0</td>\n",
       "      <td>196.611496</td>\n",
       "      <td>22694481</td>\n",
       "      <td>215.5</td>\n",
       "      <td>213.4</td>\n",
       "      <td>218.975</td>\n",
       "      <td>213.4</td>\n",
       "      <td>218.975</td>\n",
       "      <td>-0.009434</td>\n",
       "      <td>-0.009434</td>\n",
       "    </tr>\n",
       "  </tbody>\n",
       "</table>\n",
       "</div>"
      ],
      "text/plain": [
       "             open   high    low  close   adj_close    volume      y  EMA_5  \\\n",
       "date                                                                         \n",
       "2019-01-02  226.5  226.5  219.0  219.5  204.531845  32900482  215.5  213.4   \n",
       "2019-01-03  214.0  218.0  214.0  215.5  200.804611  34087620  208.0  213.4   \n",
       "2019-01-04  211.5  211.5  206.5  208.0  193.816055  65943521  213.0  213.4   \n",
       "2019-01-07  212.0  214.0  211.0  213.0  198.475113  35442176  211.0  213.4   \n",
       "2019-01-08  212.0  212.5  210.0  211.0  196.611496  22694481  215.5  213.4   \n",
       "\n",
       "             EMA_20    MA5     MA20  LOGRET_1    logRet  \n",
       "date                                                     \n",
       "2019-01-02  218.975  213.4  218.975 -0.018391 -0.018391  \n",
       "2019-01-03  218.975  213.4  218.975 -0.018391 -0.018391  \n",
       "2019-01-04  218.975  213.4  218.975 -0.035423 -0.035423  \n",
       "2019-01-07  218.975  213.4  218.975  0.023754  0.023754  \n",
       "2019-01-08  218.975  213.4  218.975 -0.009434 -0.009434  "
      ]
     },
     "execution_count": 18,
     "metadata": {},
     "output_type": "execute_result"
    }
   ],
   "source": [
    "df_TSM.fillna(method='bfill',inplace=True)\n",
    "df_TSM.head()"
   ]
  },
  {
   "cell_type": "code",
   "execution_count": 19,
   "metadata": {},
   "outputs": [
    {
     "name": "stdout",
     "output_type": "stream",
     "text": [
      "ADF Statistic: -21.335930\n",
      "\tp-value: 0.000000\n",
      "Critical Values:\n",
      "\t1%: -3.446\n",
      "\t5%: -2.868\n",
      "\t10%: -2.570\n",
      "Reject Ho - Time Series is Stationary\n"
     ]
    }
   ],
   "source": [
    "#ADF statistic to check stationarity\n",
    "t = df_TSM[\"logRet\"].values\n",
    "timeseries = adfuller(t)\n",
    "print('ADF Statistic: %f' % timeseries[0])\n",
    "print('\\tp-value: %f' % timeseries[1])\n",
    "print('Critical Values:')\n",
    "for key, value in timeseries[4].items():\n",
    "    print('\\t%s: %.3f' % (key, value))\n",
    "if timeseries[0] > timeseries[4][\"5%\"]:\n",
    "   print (\"Failed to Reject Ho - Time Series is Non-Stationary\")\n",
    "else:\n",
    "   print (\"Reject Ho - Time Series is Stationary\")"
   ]
  },
  {
   "cell_type": "code",
   "execution_count": 68,
   "metadata": {},
   "outputs": [],
   "source": [
    "### Make a plot to display stationary and non-stationary data"
   ]
  },
  {
   "cell_type": "markdown",
   "metadata": {},
   "source": [
    "Random Noise Test\n",
    "---\n",
    "Use Ljung-Box test whether the target data is ramdom noise;\n",
    "- $H_0:$ sequence of data is random noise,\n",
    "- $H_1:$ data is self-correlated."
   ]
  },
  {
   "cell_type": "code",
   "execution_count": 20,
   "metadata": {},
   "outputs": [],
   "source": [
    "def LJtest(arr,level=0.01):\n",
    "    LJ=stattools.q_stat(stattools.acf(arr)[1:13],len(arr))\n",
    "    p=LJ[1][-1]\n",
    "\n",
    "    print(\"p-value: %5.2f\" %p)\n",
    "    if (p<=0.05):\n",
    "        print(\"Do not reject Ho - data are self-correlated.\")\n",
    "    else:\n",
    "        print(\"Reject Ho - data are random noise.\")\n",
    "    #return LJ[1][-1]"
   ]
  },
  {
   "cell_type": "code",
   "execution_count": 21,
   "metadata": {},
   "outputs": [
    {
     "name": "stdout",
     "output_type": "stream",
     "text": [
      "p-value:  0.48\n",
      "Reject Ho - data are random noise.\n"
     ]
    }
   ],
   "source": [
    "LJtest(t)"
   ]
  },
  {
   "cell_type": "code",
   "execution_count": 22,
   "metadata": {},
   "outputs": [
    {
     "name": "stdout",
     "output_type": "stream",
     "text": [
      "p-value:  0.00\n",
      "Do not reject Ho - data are self-correlated.\n"
     ]
    }
   ],
   "source": [
    "LJtest(df_TSM['close'].values)"
   ]
  },
  {
   "cell_type": "code",
   "execution_count": null,
   "metadata": {},
   "outputs": [],
   "source": []
  },
  {
   "cell_type": "markdown",
   "metadata": {},
   "source": [
    "Conclusion\n",
    "---\n",
    "`LogRet` column is stationary and self-correlated, such that we can make predict on it by these features."
   ]
  },
  {
   "cell_type": "code",
   "execution_count": null,
   "metadata": {},
   "outputs": [],
   "source": []
  },
  {
   "cell_type": "code",
   "execution_count": 55,
   "metadata": {},
   "outputs": [
    {
     "data": {
      "text/html": [
       "<div>\n",
       "<style scoped>\n",
       "    .dataframe tbody tr th:only-of-type {\n",
       "        vertical-align: middle;\n",
       "    }\n",
       "\n",
       "    .dataframe tbody tr th {\n",
       "        vertical-align: top;\n",
       "    }\n",
       "\n",
       "    .dataframe thead th {\n",
       "        text-align: right;\n",
       "    }\n",
       "</style>\n",
       "<table border=\"1\" class=\"dataframe\">\n",
       "  <thead>\n",
       "    <tr style=\"text-align: right;\">\n",
       "      <th></th>\n",
       "      <th>Open</th>\n",
       "      <th>High</th>\n",
       "      <th>Low</th>\n",
       "      <th>Close</th>\n",
       "      <th>Adj Close</th>\n",
       "      <th>Volume</th>\n",
       "      <th>y</th>\n",
       "      <th>MA5</th>\n",
       "      <th>MA20</th>\n",
       "      <th>Ret</th>\n",
       "    </tr>\n",
       "    <tr>\n",
       "      <th>Date</th>\n",
       "      <th></th>\n",
       "      <th></th>\n",
       "      <th></th>\n",
       "      <th></th>\n",
       "      <th></th>\n",
       "      <th></th>\n",
       "      <th></th>\n",
       "      <th></th>\n",
       "      <th></th>\n",
       "      <th></th>\n",
       "    </tr>\n",
       "  </thead>\n",
       "  <tbody>\n",
       "    <tr>\n",
       "      <th>2019-01-02</th>\n",
       "      <td>226.5</td>\n",
       "      <td>226.5</td>\n",
       "      <td>219.0</td>\n",
       "      <td>219.5</td>\n",
       "      <td>204.53</td>\n",
       "      <td>32900482</td>\n",
       "      <td>215.5</td>\n",
       "      <td>213.4</td>\n",
       "      <td>218.975</td>\n",
       "      <td>-4.0</td>\n",
       "    </tr>\n",
       "    <tr>\n",
       "      <th>2019-01-03</th>\n",
       "      <td>214.0</td>\n",
       "      <td>218.0</td>\n",
       "      <td>214.0</td>\n",
       "      <td>215.5</td>\n",
       "      <td>200.80</td>\n",
       "      <td>34087620</td>\n",
       "      <td>208.0</td>\n",
       "      <td>213.4</td>\n",
       "      <td>218.975</td>\n",
       "      <td>-7.5</td>\n",
       "    </tr>\n",
       "    <tr>\n",
       "      <th>2019-01-04</th>\n",
       "      <td>211.5</td>\n",
       "      <td>211.5</td>\n",
       "      <td>206.5</td>\n",
       "      <td>208.0</td>\n",
       "      <td>193.82</td>\n",
       "      <td>65943521</td>\n",
       "      <td>213.0</td>\n",
       "      <td>213.4</td>\n",
       "      <td>218.975</td>\n",
       "      <td>5.0</td>\n",
       "    </tr>\n",
       "    <tr>\n",
       "      <th>2019-01-07</th>\n",
       "      <td>212.0</td>\n",
       "      <td>214.0</td>\n",
       "      <td>211.0</td>\n",
       "      <td>213.0</td>\n",
       "      <td>198.48</td>\n",
       "      <td>35442176</td>\n",
       "      <td>211.0</td>\n",
       "      <td>213.4</td>\n",
       "      <td>218.975</td>\n",
       "      <td>-2.0</td>\n",
       "    </tr>\n",
       "    <tr>\n",
       "      <th>2019-01-08</th>\n",
       "      <td>212.0</td>\n",
       "      <td>212.5</td>\n",
       "      <td>210.0</td>\n",
       "      <td>211.0</td>\n",
       "      <td>196.61</td>\n",
       "      <td>22694481</td>\n",
       "      <td>215.5</td>\n",
       "      <td>213.4</td>\n",
       "      <td>218.975</td>\n",
       "      <td>4.5</td>\n",
       "    </tr>\n",
       "  </tbody>\n",
       "</table>\n",
       "</div>"
      ],
      "text/plain": [
       "             Open   High    Low  Close  Adj Close    Volume      y    MA5  \\\n",
       "Date                                                                        \n",
       "2019-01-02  226.5  226.5  219.0  219.5     204.53  32900482  215.5  213.4   \n",
       "2019-01-03  214.0  218.0  214.0  215.5     200.80  34087620  208.0  213.4   \n",
       "2019-01-04  211.5  211.5  206.5  208.0     193.82  65943521  213.0  213.4   \n",
       "2019-01-07  212.0  214.0  211.0  213.0     198.48  35442176  211.0  213.4   \n",
       "2019-01-08  212.0  212.5  210.0  211.0     196.61  22694481  215.5  213.4   \n",
       "\n",
       "               MA20  Ret  \n",
       "Date                      \n",
       "2019-01-02  218.975 -4.0  \n",
       "2019-01-03  218.975 -7.5  \n",
       "2019-01-04  218.975  5.0  \n",
       "2019-01-07  218.975 -2.0  \n",
       "2019-01-08  218.975  4.5  "
      ]
     },
     "execution_count": 55,
     "metadata": {},
     "output_type": "execute_result"
    }
   ],
   "source": [
    "df_TSM.head()"
   ]
  },
  {
   "cell_type": "code",
   "execution_count": 23,
   "metadata": {},
   "outputs": [],
   "source": [
    "from pycaret.regression import *"
   ]
  },
  {
   "cell_type": "code",
   "execution_count": 24,
   "metadata": {},
   "outputs": [
    {
     "data": {
      "text/plain": [
       "Index(['open', 'high', 'low', 'close', 'adj_close', 'volume', 'y', 'EMA_5',\n",
       "       'EMA_20', 'MA5', 'MA20', 'LOGRET_1', 'logRet'],\n",
       "      dtype='object')"
      ]
     },
     "execution_count": 24,
     "metadata": {},
     "output_type": "execute_result"
    }
   ],
   "source": [
    "df_TSM.columns"
   ]
  },
  {
   "cell_type": "code",
   "execution_count": 25,
   "metadata": {},
   "outputs": [],
   "source": [
    "features=['open', 'high', 'low', 'close', 'volume','MA5','MA20', 'logRet']"
   ]
  },
  {
   "cell_type": "code",
   "execution_count": 26,
   "metadata": {},
   "outputs": [],
   "source": [
    "ratio=len(df_TSM)//10*8"
   ]
  },
  {
   "cell_type": "code",
   "execution_count": 27,
   "metadata": {},
   "outputs": [],
   "source": [
    "ratio=-5\n",
    "train=df_TSM.iloc[:ratio,:]\n",
    "test=df_TSM.iloc[ratio:,:]"
   ]
  },
  {
   "cell_type": "code",
   "execution_count": 28,
   "metadata": {},
   "outputs": [
    {
     "data": {
      "text/html": [
       "<div>\n",
       "<style scoped>\n",
       "    .dataframe tbody tr th:only-of-type {\n",
       "        vertical-align: middle;\n",
       "    }\n",
       "\n",
       "    .dataframe tbody tr th {\n",
       "        vertical-align: top;\n",
       "    }\n",
       "\n",
       "    .dataframe thead th {\n",
       "        text-align: right;\n",
       "    }\n",
       "</style>\n",
       "<table border=\"1\" class=\"dataframe\">\n",
       "  <thead>\n",
       "    <tr style=\"text-align: right;\">\n",
       "      <th></th>\n",
       "      <th>open</th>\n",
       "      <th>high</th>\n",
       "      <th>low</th>\n",
       "      <th>close</th>\n",
       "      <th>adj_close</th>\n",
       "      <th>volume</th>\n",
       "      <th>y</th>\n",
       "      <th>EMA_5</th>\n",
       "      <th>EMA_20</th>\n",
       "      <th>MA5</th>\n",
       "      <th>MA20</th>\n",
       "      <th>LOGRET_1</th>\n",
       "      <th>logRet</th>\n",
       "    </tr>\n",
       "    <tr>\n",
       "      <th>date</th>\n",
       "      <th></th>\n",
       "      <th></th>\n",
       "      <th></th>\n",
       "      <th></th>\n",
       "      <th></th>\n",
       "      <th></th>\n",
       "      <th></th>\n",
       "      <th></th>\n",
       "      <th></th>\n",
       "      <th></th>\n",
       "      <th></th>\n",
       "      <th></th>\n",
       "      <th></th>\n",
       "    </tr>\n",
       "  </thead>\n",
       "  <tbody>\n",
       "    <tr>\n",
       "      <th>2020-10-06</th>\n",
       "      <td>441.5</td>\n",
       "      <td>442.0</td>\n",
       "      <td>437.5</td>\n",
       "      <td>439.5</td>\n",
       "      <td>439.5</td>\n",
       "      <td>35775395</td>\n",
       "      <td>443.0</td>\n",
       "      <td>434.411268</td>\n",
       "      <td>434.044189</td>\n",
       "      <td>434.411268</td>\n",
       "      <td>434.044189</td>\n",
       "      <td>0.016055</td>\n",
       "      <td>0.016055</td>\n",
       "    </tr>\n",
       "    <tr>\n",
       "      <th>2020-10-07</th>\n",
       "      <td>435.0</td>\n",
       "      <td>445.0</td>\n",
       "      <td>435.0</td>\n",
       "      <td>443.0</td>\n",
       "      <td>443.0</td>\n",
       "      <td>42926239</td>\n",
       "      <td>453.0</td>\n",
       "      <td>437.274179</td>\n",
       "      <td>434.897123</td>\n",
       "      <td>437.274179</td>\n",
       "      <td>434.897123</td>\n",
       "      <td>0.007932</td>\n",
       "      <td>0.007932</td>\n",
       "    </tr>\n",
       "    <tr>\n",
       "      <th>2020-10-08</th>\n",
       "      <td>450.0</td>\n",
       "      <td>454.0</td>\n",
       "      <td>448.5</td>\n",
       "      <td>453.0</td>\n",
       "      <td>453.0</td>\n",
       "      <td>60853811</td>\n",
       "      <td>460.0</td>\n",
       "      <td>442.516119</td>\n",
       "      <td>436.621206</td>\n",
       "      <td>442.516119</td>\n",
       "      <td>436.621206</td>\n",
       "      <td>0.022322</td>\n",
       "      <td>0.022322</td>\n",
       "    </tr>\n",
       "    <tr>\n",
       "      <th>2020-10-12</th>\n",
       "      <td>458.0</td>\n",
       "      <td>462.0</td>\n",
       "      <td>457.5</td>\n",
       "      <td>460.0</td>\n",
       "      <td>460.0</td>\n",
       "      <td>64719223</td>\n",
       "      <td>462.0</td>\n",
       "      <td>448.344080</td>\n",
       "      <td>438.847758</td>\n",
       "      <td>448.344080</td>\n",
       "      <td>438.847758</td>\n",
       "      <td>0.015334</td>\n",
       "      <td>0.015334</td>\n",
       "    </tr>\n",
       "    <tr>\n",
       "      <th>2020-10-13</th>\n",
       "      <td>465.0</td>\n",
       "      <td>465.0</td>\n",
       "      <td>456.5</td>\n",
       "      <td>462.0</td>\n",
       "      <td>462.0</td>\n",
       "      <td>45750738</td>\n",
       "      <td>459.0</td>\n",
       "      <td>452.896053</td>\n",
       "      <td>441.052734</td>\n",
       "      <td>452.896053</td>\n",
       "      <td>441.052734</td>\n",
       "      <td>0.004338</td>\n",
       "      <td>0.004338</td>\n",
       "    </tr>\n",
       "  </tbody>\n",
       "</table>\n",
       "</div>"
      ],
      "text/plain": [
       "             open   high    low  close  adj_close    volume      y  \\\n",
       "date                                                                 \n",
       "2020-10-06  441.5  442.0  437.5  439.5      439.5  35775395  443.0   \n",
       "2020-10-07  435.0  445.0  435.0  443.0      443.0  42926239  453.0   \n",
       "2020-10-08  450.0  454.0  448.5  453.0      453.0  60853811  460.0   \n",
       "2020-10-12  458.0  462.0  457.5  460.0      460.0  64719223  462.0   \n",
       "2020-10-13  465.0  465.0  456.5  462.0      462.0  45750738  459.0   \n",
       "\n",
       "                 EMA_5      EMA_20         MA5        MA20  LOGRET_1    logRet  \n",
       "date                                                                            \n",
       "2020-10-06  434.411268  434.044189  434.411268  434.044189  0.016055  0.016055  \n",
       "2020-10-07  437.274179  434.897123  437.274179  434.897123  0.007932  0.007932  \n",
       "2020-10-08  442.516119  436.621206  442.516119  436.621206  0.022322  0.022322  \n",
       "2020-10-12  448.344080  438.847758  448.344080  438.847758  0.015334  0.015334  \n",
       "2020-10-13  452.896053  441.052734  452.896053  441.052734  0.004338  0.004338  "
      ]
     },
     "execution_count": 28,
     "metadata": {},
     "output_type": "execute_result"
    }
   ],
   "source": [
    "train.tail()"
   ]
  },
  {
   "cell_type": "code",
   "execution_count": null,
   "metadata": {},
   "outputs": [],
   "source": []
  },
  {
   "cell_type": "code",
   "execution_count": 29,
   "metadata": {},
   "outputs": [
    {
     "name": "stdout",
     "output_type": "stream",
     "text": [
      " \n",
      "Setup Succesfully Completed.\n"
     ]
    },
    {
     "data": {
      "text/html": [
       "<style  type=\"text/css\" >\n",
       "#T_a4a1f874_1351_11eb_ae48_003ee1c6c0a9row15_col1{\n",
       "            background-color:  yellow;\n",
       "        }</style><table id=\"T_a4a1f874_1351_11eb_ae48_003ee1c6c0a9\" ><thead>    <tr>        <th class=\"blank level0\" ></th>        <th class=\"col_heading level0 col0\" >Description</th>        <th class=\"col_heading level0 col1\" >Value</th>    </tr></thead><tbody>\n",
       "                <tr>\n",
       "                        <th id=\"T_a4a1f874_1351_11eb_ae48_003ee1c6c0a9level0_row0\" class=\"row_heading level0 row0\" >0</th>\n",
       "                        <td id=\"T_a4a1f874_1351_11eb_ae48_003ee1c6c0a9row0_col0\" class=\"data row0 col0\" >session_id</td>\n",
       "                        <td id=\"T_a4a1f874_1351_11eb_ae48_003ee1c6c0a9row0_col1\" class=\"data row0 col1\" >5133</td>\n",
       "            </tr>\n",
       "            <tr>\n",
       "                        <th id=\"T_a4a1f874_1351_11eb_ae48_003ee1c6c0a9level0_row1\" class=\"row_heading level0 row1\" >1</th>\n",
       "                        <td id=\"T_a4a1f874_1351_11eb_ae48_003ee1c6c0a9row1_col0\" class=\"data row1 col0\" >Transform Target </td>\n",
       "                        <td id=\"T_a4a1f874_1351_11eb_ae48_003ee1c6c0a9row1_col1\" class=\"data row1 col1\" >False</td>\n",
       "            </tr>\n",
       "            <tr>\n",
       "                        <th id=\"T_a4a1f874_1351_11eb_ae48_003ee1c6c0a9level0_row2\" class=\"row_heading level0 row2\" >2</th>\n",
       "                        <td id=\"T_a4a1f874_1351_11eb_ae48_003ee1c6c0a9row2_col0\" class=\"data row2 col0\" >Transform Target Method</td>\n",
       "                        <td id=\"T_a4a1f874_1351_11eb_ae48_003ee1c6c0a9row2_col1\" class=\"data row2 col1\" >None</td>\n",
       "            </tr>\n",
       "            <tr>\n",
       "                        <th id=\"T_a4a1f874_1351_11eb_ae48_003ee1c6c0a9level0_row3\" class=\"row_heading level0 row3\" >3</th>\n",
       "                        <td id=\"T_a4a1f874_1351_11eb_ae48_003ee1c6c0a9row3_col0\" class=\"data row3 col0\" >Original Data</td>\n",
       "                        <td id=\"T_a4a1f874_1351_11eb_ae48_003ee1c6c0a9row3_col1\" class=\"data row3 col1\" >(429, 8)</td>\n",
       "            </tr>\n",
       "            <tr>\n",
       "                        <th id=\"T_a4a1f874_1351_11eb_ae48_003ee1c6c0a9level0_row4\" class=\"row_heading level0 row4\" >4</th>\n",
       "                        <td id=\"T_a4a1f874_1351_11eb_ae48_003ee1c6c0a9row4_col0\" class=\"data row4 col0\" >Missing Values </td>\n",
       "                        <td id=\"T_a4a1f874_1351_11eb_ae48_003ee1c6c0a9row4_col1\" class=\"data row4 col1\" >False</td>\n",
       "            </tr>\n",
       "            <tr>\n",
       "                        <th id=\"T_a4a1f874_1351_11eb_ae48_003ee1c6c0a9level0_row5\" class=\"row_heading level0 row5\" >5</th>\n",
       "                        <td id=\"T_a4a1f874_1351_11eb_ae48_003ee1c6c0a9row5_col0\" class=\"data row5 col0\" >Numeric Features </td>\n",
       "                        <td id=\"T_a4a1f874_1351_11eb_ae48_003ee1c6c0a9row5_col1\" class=\"data row5 col1\" >7</td>\n",
       "            </tr>\n",
       "            <tr>\n",
       "                        <th id=\"T_a4a1f874_1351_11eb_ae48_003ee1c6c0a9level0_row6\" class=\"row_heading level0 row6\" >6</th>\n",
       "                        <td id=\"T_a4a1f874_1351_11eb_ae48_003ee1c6c0a9row6_col0\" class=\"data row6 col0\" >Categorical Features </td>\n",
       "                        <td id=\"T_a4a1f874_1351_11eb_ae48_003ee1c6c0a9row6_col1\" class=\"data row6 col1\" >0</td>\n",
       "            </tr>\n",
       "            <tr>\n",
       "                        <th id=\"T_a4a1f874_1351_11eb_ae48_003ee1c6c0a9level0_row7\" class=\"row_heading level0 row7\" >7</th>\n",
       "                        <td id=\"T_a4a1f874_1351_11eb_ae48_003ee1c6c0a9row7_col0\" class=\"data row7 col0\" >Ordinal Features </td>\n",
       "                        <td id=\"T_a4a1f874_1351_11eb_ae48_003ee1c6c0a9row7_col1\" class=\"data row7 col1\" >False</td>\n",
       "            </tr>\n",
       "            <tr>\n",
       "                        <th id=\"T_a4a1f874_1351_11eb_ae48_003ee1c6c0a9level0_row8\" class=\"row_heading level0 row8\" >8</th>\n",
       "                        <td id=\"T_a4a1f874_1351_11eb_ae48_003ee1c6c0a9row8_col0\" class=\"data row8 col0\" >High Cardinality Features </td>\n",
       "                        <td id=\"T_a4a1f874_1351_11eb_ae48_003ee1c6c0a9row8_col1\" class=\"data row8 col1\" >False</td>\n",
       "            </tr>\n",
       "            <tr>\n",
       "                        <th id=\"T_a4a1f874_1351_11eb_ae48_003ee1c6c0a9level0_row9\" class=\"row_heading level0 row9\" >9</th>\n",
       "                        <td id=\"T_a4a1f874_1351_11eb_ae48_003ee1c6c0a9row9_col0\" class=\"data row9 col0\" >High Cardinality Method </td>\n",
       "                        <td id=\"T_a4a1f874_1351_11eb_ae48_003ee1c6c0a9row9_col1\" class=\"data row9 col1\" >None</td>\n",
       "            </tr>\n",
       "            <tr>\n",
       "                        <th id=\"T_a4a1f874_1351_11eb_ae48_003ee1c6c0a9level0_row10\" class=\"row_heading level0 row10\" >10</th>\n",
       "                        <td id=\"T_a4a1f874_1351_11eb_ae48_003ee1c6c0a9row10_col0\" class=\"data row10 col0\" >Sampled Data</td>\n",
       "                        <td id=\"T_a4a1f874_1351_11eb_ae48_003ee1c6c0a9row10_col1\" class=\"data row10 col1\" >(429, 8)</td>\n",
       "            </tr>\n",
       "            <tr>\n",
       "                        <th id=\"T_a4a1f874_1351_11eb_ae48_003ee1c6c0a9level0_row11\" class=\"row_heading level0 row11\" >11</th>\n",
       "                        <td id=\"T_a4a1f874_1351_11eb_ae48_003ee1c6c0a9row11_col0\" class=\"data row11 col0\" >Transformed Train Set</td>\n",
       "                        <td id=\"T_a4a1f874_1351_11eb_ae48_003ee1c6c0a9row11_col1\" class=\"data row11 col1\" >(343, 7)</td>\n",
       "            </tr>\n",
       "            <tr>\n",
       "                        <th id=\"T_a4a1f874_1351_11eb_ae48_003ee1c6c0a9level0_row12\" class=\"row_heading level0 row12\" >12</th>\n",
       "                        <td id=\"T_a4a1f874_1351_11eb_ae48_003ee1c6c0a9row12_col0\" class=\"data row12 col0\" >Transformed Test Set</td>\n",
       "                        <td id=\"T_a4a1f874_1351_11eb_ae48_003ee1c6c0a9row12_col1\" class=\"data row12 col1\" >(86, 7)</td>\n",
       "            </tr>\n",
       "            <tr>\n",
       "                        <th id=\"T_a4a1f874_1351_11eb_ae48_003ee1c6c0a9level0_row13\" class=\"row_heading level0 row13\" >13</th>\n",
       "                        <td id=\"T_a4a1f874_1351_11eb_ae48_003ee1c6c0a9row13_col0\" class=\"data row13 col0\" >Numeric Imputer </td>\n",
       "                        <td id=\"T_a4a1f874_1351_11eb_ae48_003ee1c6c0a9row13_col1\" class=\"data row13 col1\" >mean</td>\n",
       "            </tr>\n",
       "            <tr>\n",
       "                        <th id=\"T_a4a1f874_1351_11eb_ae48_003ee1c6c0a9level0_row14\" class=\"row_heading level0 row14\" >14</th>\n",
       "                        <td id=\"T_a4a1f874_1351_11eb_ae48_003ee1c6c0a9row14_col0\" class=\"data row14 col0\" >Categorical Imputer </td>\n",
       "                        <td id=\"T_a4a1f874_1351_11eb_ae48_003ee1c6c0a9row14_col1\" class=\"data row14 col1\" >constant</td>\n",
       "            </tr>\n",
       "            <tr>\n",
       "                        <th id=\"T_a4a1f874_1351_11eb_ae48_003ee1c6c0a9level0_row15\" class=\"row_heading level0 row15\" >15</th>\n",
       "                        <td id=\"T_a4a1f874_1351_11eb_ae48_003ee1c6c0a9row15_col0\" class=\"data row15 col0\" >Normalize </td>\n",
       "                        <td id=\"T_a4a1f874_1351_11eb_ae48_003ee1c6c0a9row15_col1\" class=\"data row15 col1\" >True</td>\n",
       "            </tr>\n",
       "            <tr>\n",
       "                        <th id=\"T_a4a1f874_1351_11eb_ae48_003ee1c6c0a9level0_row16\" class=\"row_heading level0 row16\" >16</th>\n",
       "                        <td id=\"T_a4a1f874_1351_11eb_ae48_003ee1c6c0a9row16_col0\" class=\"data row16 col0\" >Normalize Method </td>\n",
       "                        <td id=\"T_a4a1f874_1351_11eb_ae48_003ee1c6c0a9row16_col1\" class=\"data row16 col1\" >zscore</td>\n",
       "            </tr>\n",
       "            <tr>\n",
       "                        <th id=\"T_a4a1f874_1351_11eb_ae48_003ee1c6c0a9level0_row17\" class=\"row_heading level0 row17\" >17</th>\n",
       "                        <td id=\"T_a4a1f874_1351_11eb_ae48_003ee1c6c0a9row17_col0\" class=\"data row17 col0\" >Transformation </td>\n",
       "                        <td id=\"T_a4a1f874_1351_11eb_ae48_003ee1c6c0a9row17_col1\" class=\"data row17 col1\" >False</td>\n",
       "            </tr>\n",
       "            <tr>\n",
       "                        <th id=\"T_a4a1f874_1351_11eb_ae48_003ee1c6c0a9level0_row18\" class=\"row_heading level0 row18\" >18</th>\n",
       "                        <td id=\"T_a4a1f874_1351_11eb_ae48_003ee1c6c0a9row18_col0\" class=\"data row18 col0\" >Transformation Method </td>\n",
       "                        <td id=\"T_a4a1f874_1351_11eb_ae48_003ee1c6c0a9row18_col1\" class=\"data row18 col1\" >None</td>\n",
       "            </tr>\n",
       "            <tr>\n",
       "                        <th id=\"T_a4a1f874_1351_11eb_ae48_003ee1c6c0a9level0_row19\" class=\"row_heading level0 row19\" >19</th>\n",
       "                        <td id=\"T_a4a1f874_1351_11eb_ae48_003ee1c6c0a9row19_col0\" class=\"data row19 col0\" >PCA </td>\n",
       "                        <td id=\"T_a4a1f874_1351_11eb_ae48_003ee1c6c0a9row19_col1\" class=\"data row19 col1\" >False</td>\n",
       "            </tr>\n",
       "            <tr>\n",
       "                        <th id=\"T_a4a1f874_1351_11eb_ae48_003ee1c6c0a9level0_row20\" class=\"row_heading level0 row20\" >20</th>\n",
       "                        <td id=\"T_a4a1f874_1351_11eb_ae48_003ee1c6c0a9row20_col0\" class=\"data row20 col0\" >PCA Method </td>\n",
       "                        <td id=\"T_a4a1f874_1351_11eb_ae48_003ee1c6c0a9row20_col1\" class=\"data row20 col1\" >None</td>\n",
       "            </tr>\n",
       "            <tr>\n",
       "                        <th id=\"T_a4a1f874_1351_11eb_ae48_003ee1c6c0a9level0_row21\" class=\"row_heading level0 row21\" >21</th>\n",
       "                        <td id=\"T_a4a1f874_1351_11eb_ae48_003ee1c6c0a9row21_col0\" class=\"data row21 col0\" >PCA Components </td>\n",
       "                        <td id=\"T_a4a1f874_1351_11eb_ae48_003ee1c6c0a9row21_col1\" class=\"data row21 col1\" >None</td>\n",
       "            </tr>\n",
       "            <tr>\n",
       "                        <th id=\"T_a4a1f874_1351_11eb_ae48_003ee1c6c0a9level0_row22\" class=\"row_heading level0 row22\" >22</th>\n",
       "                        <td id=\"T_a4a1f874_1351_11eb_ae48_003ee1c6c0a9row22_col0\" class=\"data row22 col0\" >Ignore Low Variance </td>\n",
       "                        <td id=\"T_a4a1f874_1351_11eb_ae48_003ee1c6c0a9row22_col1\" class=\"data row22 col1\" >False</td>\n",
       "            </tr>\n",
       "            <tr>\n",
       "                        <th id=\"T_a4a1f874_1351_11eb_ae48_003ee1c6c0a9level0_row23\" class=\"row_heading level0 row23\" >23</th>\n",
       "                        <td id=\"T_a4a1f874_1351_11eb_ae48_003ee1c6c0a9row23_col0\" class=\"data row23 col0\" >Combine Rare Levels </td>\n",
       "                        <td id=\"T_a4a1f874_1351_11eb_ae48_003ee1c6c0a9row23_col1\" class=\"data row23 col1\" >False</td>\n",
       "            </tr>\n",
       "            <tr>\n",
       "                        <th id=\"T_a4a1f874_1351_11eb_ae48_003ee1c6c0a9level0_row24\" class=\"row_heading level0 row24\" >24</th>\n",
       "                        <td id=\"T_a4a1f874_1351_11eb_ae48_003ee1c6c0a9row24_col0\" class=\"data row24 col0\" >Rare Level Threshold </td>\n",
       "                        <td id=\"T_a4a1f874_1351_11eb_ae48_003ee1c6c0a9row24_col1\" class=\"data row24 col1\" >None</td>\n",
       "            </tr>\n",
       "            <tr>\n",
       "                        <th id=\"T_a4a1f874_1351_11eb_ae48_003ee1c6c0a9level0_row25\" class=\"row_heading level0 row25\" >25</th>\n",
       "                        <td id=\"T_a4a1f874_1351_11eb_ae48_003ee1c6c0a9row25_col0\" class=\"data row25 col0\" >Numeric Binning </td>\n",
       "                        <td id=\"T_a4a1f874_1351_11eb_ae48_003ee1c6c0a9row25_col1\" class=\"data row25 col1\" >False</td>\n",
       "            </tr>\n",
       "            <tr>\n",
       "                        <th id=\"T_a4a1f874_1351_11eb_ae48_003ee1c6c0a9level0_row26\" class=\"row_heading level0 row26\" >26</th>\n",
       "                        <td id=\"T_a4a1f874_1351_11eb_ae48_003ee1c6c0a9row26_col0\" class=\"data row26 col0\" >Remove Outliers </td>\n",
       "                        <td id=\"T_a4a1f874_1351_11eb_ae48_003ee1c6c0a9row26_col1\" class=\"data row26 col1\" >False</td>\n",
       "            </tr>\n",
       "            <tr>\n",
       "                        <th id=\"T_a4a1f874_1351_11eb_ae48_003ee1c6c0a9level0_row27\" class=\"row_heading level0 row27\" >27</th>\n",
       "                        <td id=\"T_a4a1f874_1351_11eb_ae48_003ee1c6c0a9row27_col0\" class=\"data row27 col0\" >Outliers Threshold </td>\n",
       "                        <td id=\"T_a4a1f874_1351_11eb_ae48_003ee1c6c0a9row27_col1\" class=\"data row27 col1\" >None</td>\n",
       "            </tr>\n",
       "            <tr>\n",
       "                        <th id=\"T_a4a1f874_1351_11eb_ae48_003ee1c6c0a9level0_row28\" class=\"row_heading level0 row28\" >28</th>\n",
       "                        <td id=\"T_a4a1f874_1351_11eb_ae48_003ee1c6c0a9row28_col0\" class=\"data row28 col0\" >Remove Multicollinearity </td>\n",
       "                        <td id=\"T_a4a1f874_1351_11eb_ae48_003ee1c6c0a9row28_col1\" class=\"data row28 col1\" >False</td>\n",
       "            </tr>\n",
       "            <tr>\n",
       "                        <th id=\"T_a4a1f874_1351_11eb_ae48_003ee1c6c0a9level0_row29\" class=\"row_heading level0 row29\" >29</th>\n",
       "                        <td id=\"T_a4a1f874_1351_11eb_ae48_003ee1c6c0a9row29_col0\" class=\"data row29 col0\" >Multicollinearity Threshold </td>\n",
       "                        <td id=\"T_a4a1f874_1351_11eb_ae48_003ee1c6c0a9row29_col1\" class=\"data row29 col1\" >None</td>\n",
       "            </tr>\n",
       "            <tr>\n",
       "                        <th id=\"T_a4a1f874_1351_11eb_ae48_003ee1c6c0a9level0_row30\" class=\"row_heading level0 row30\" >30</th>\n",
       "                        <td id=\"T_a4a1f874_1351_11eb_ae48_003ee1c6c0a9row30_col0\" class=\"data row30 col0\" >Clustering </td>\n",
       "                        <td id=\"T_a4a1f874_1351_11eb_ae48_003ee1c6c0a9row30_col1\" class=\"data row30 col1\" >False</td>\n",
       "            </tr>\n",
       "            <tr>\n",
       "                        <th id=\"T_a4a1f874_1351_11eb_ae48_003ee1c6c0a9level0_row31\" class=\"row_heading level0 row31\" >31</th>\n",
       "                        <td id=\"T_a4a1f874_1351_11eb_ae48_003ee1c6c0a9row31_col0\" class=\"data row31 col0\" >Clustering Iteration </td>\n",
       "                        <td id=\"T_a4a1f874_1351_11eb_ae48_003ee1c6c0a9row31_col1\" class=\"data row31 col1\" >None</td>\n",
       "            </tr>\n",
       "            <tr>\n",
       "                        <th id=\"T_a4a1f874_1351_11eb_ae48_003ee1c6c0a9level0_row32\" class=\"row_heading level0 row32\" >32</th>\n",
       "                        <td id=\"T_a4a1f874_1351_11eb_ae48_003ee1c6c0a9row32_col0\" class=\"data row32 col0\" >Polynomial Features </td>\n",
       "                        <td id=\"T_a4a1f874_1351_11eb_ae48_003ee1c6c0a9row32_col1\" class=\"data row32 col1\" >False</td>\n",
       "            </tr>\n",
       "            <tr>\n",
       "                        <th id=\"T_a4a1f874_1351_11eb_ae48_003ee1c6c0a9level0_row33\" class=\"row_heading level0 row33\" >33</th>\n",
       "                        <td id=\"T_a4a1f874_1351_11eb_ae48_003ee1c6c0a9row33_col0\" class=\"data row33 col0\" >Polynomial Degree </td>\n",
       "                        <td id=\"T_a4a1f874_1351_11eb_ae48_003ee1c6c0a9row33_col1\" class=\"data row33 col1\" >None</td>\n",
       "            </tr>\n",
       "            <tr>\n",
       "                        <th id=\"T_a4a1f874_1351_11eb_ae48_003ee1c6c0a9level0_row34\" class=\"row_heading level0 row34\" >34</th>\n",
       "                        <td id=\"T_a4a1f874_1351_11eb_ae48_003ee1c6c0a9row34_col0\" class=\"data row34 col0\" >Trignometry Features </td>\n",
       "                        <td id=\"T_a4a1f874_1351_11eb_ae48_003ee1c6c0a9row34_col1\" class=\"data row34 col1\" >False</td>\n",
       "            </tr>\n",
       "            <tr>\n",
       "                        <th id=\"T_a4a1f874_1351_11eb_ae48_003ee1c6c0a9level0_row35\" class=\"row_heading level0 row35\" >35</th>\n",
       "                        <td id=\"T_a4a1f874_1351_11eb_ae48_003ee1c6c0a9row35_col0\" class=\"data row35 col0\" >Polynomial Threshold </td>\n",
       "                        <td id=\"T_a4a1f874_1351_11eb_ae48_003ee1c6c0a9row35_col1\" class=\"data row35 col1\" >None</td>\n",
       "            </tr>\n",
       "            <tr>\n",
       "                        <th id=\"T_a4a1f874_1351_11eb_ae48_003ee1c6c0a9level0_row36\" class=\"row_heading level0 row36\" >36</th>\n",
       "                        <td id=\"T_a4a1f874_1351_11eb_ae48_003ee1c6c0a9row36_col0\" class=\"data row36 col0\" >Group Features </td>\n",
       "                        <td id=\"T_a4a1f874_1351_11eb_ae48_003ee1c6c0a9row36_col1\" class=\"data row36 col1\" >False</td>\n",
       "            </tr>\n",
       "            <tr>\n",
       "                        <th id=\"T_a4a1f874_1351_11eb_ae48_003ee1c6c0a9level0_row37\" class=\"row_heading level0 row37\" >37</th>\n",
       "                        <td id=\"T_a4a1f874_1351_11eb_ae48_003ee1c6c0a9row37_col0\" class=\"data row37 col0\" >Feature Selection </td>\n",
       "                        <td id=\"T_a4a1f874_1351_11eb_ae48_003ee1c6c0a9row37_col1\" class=\"data row37 col1\" >False</td>\n",
       "            </tr>\n",
       "            <tr>\n",
       "                        <th id=\"T_a4a1f874_1351_11eb_ae48_003ee1c6c0a9level0_row38\" class=\"row_heading level0 row38\" >38</th>\n",
       "                        <td id=\"T_a4a1f874_1351_11eb_ae48_003ee1c6c0a9row38_col0\" class=\"data row38 col0\" >Features Selection Threshold </td>\n",
       "                        <td id=\"T_a4a1f874_1351_11eb_ae48_003ee1c6c0a9row38_col1\" class=\"data row38 col1\" >None</td>\n",
       "            </tr>\n",
       "            <tr>\n",
       "                        <th id=\"T_a4a1f874_1351_11eb_ae48_003ee1c6c0a9level0_row39\" class=\"row_heading level0 row39\" >39</th>\n",
       "                        <td id=\"T_a4a1f874_1351_11eb_ae48_003ee1c6c0a9row39_col0\" class=\"data row39 col0\" >Feature Interaction </td>\n",
       "                        <td id=\"T_a4a1f874_1351_11eb_ae48_003ee1c6c0a9row39_col1\" class=\"data row39 col1\" >False</td>\n",
       "            </tr>\n",
       "            <tr>\n",
       "                        <th id=\"T_a4a1f874_1351_11eb_ae48_003ee1c6c0a9level0_row40\" class=\"row_heading level0 row40\" >40</th>\n",
       "                        <td id=\"T_a4a1f874_1351_11eb_ae48_003ee1c6c0a9row40_col0\" class=\"data row40 col0\" >Feature Ratio </td>\n",
       "                        <td id=\"T_a4a1f874_1351_11eb_ae48_003ee1c6c0a9row40_col1\" class=\"data row40 col1\" >False</td>\n",
       "            </tr>\n",
       "            <tr>\n",
       "                        <th id=\"T_a4a1f874_1351_11eb_ae48_003ee1c6c0a9level0_row41\" class=\"row_heading level0 row41\" >41</th>\n",
       "                        <td id=\"T_a4a1f874_1351_11eb_ae48_003ee1c6c0a9row41_col0\" class=\"data row41 col0\" >Interaction Threshold </td>\n",
       "                        <td id=\"T_a4a1f874_1351_11eb_ae48_003ee1c6c0a9row41_col1\" class=\"data row41 col1\" >None</td>\n",
       "            </tr>\n",
       "    </tbody></table>"
      ],
      "text/plain": [
       "<pandas.io.formats.style.Styler at 0x7f50fd2c25b0>"
      ]
     },
     "metadata": {},
     "output_type": "display_data"
    }
   ],
   "source": [
    "clf = setup(data = train[features], target = features[-1],train_size=0.8,normalize=True)"
   ]
  },
  {
   "cell_type": "code",
   "execution_count": 30,
   "metadata": {},
   "outputs": [
    {
     "data": {
      "text/html": [
       "<style  type=\"text/css\" >\n",
       "    #T_c4c91a9c_1351_11eb_ae48_003ee1c6c0a9 th {\n",
       "          text-align: left;\n",
       "    }#T_c4c91a9c_1351_11eb_ae48_003ee1c6c0a9row0_col0,#T_c4c91a9c_1351_11eb_ae48_003ee1c6c0a9row0_col3,#T_c4c91a9c_1351_11eb_ae48_003ee1c6c0a9row0_col5,#T_c4c91a9c_1351_11eb_ae48_003ee1c6c0a9row0_col6,#T_c4c91a9c_1351_11eb_ae48_003ee1c6c0a9row1_col0,#T_c4c91a9c_1351_11eb_ae48_003ee1c6c0a9row1_col4,#T_c4c91a9c_1351_11eb_ae48_003ee1c6c0a9row1_col6,#T_c4c91a9c_1351_11eb_ae48_003ee1c6c0a9row2_col0,#T_c4c91a9c_1351_11eb_ae48_003ee1c6c0a9row2_col3,#T_c4c91a9c_1351_11eb_ae48_003ee1c6c0a9row2_col4,#T_c4c91a9c_1351_11eb_ae48_003ee1c6c0a9row2_col5,#T_c4c91a9c_1351_11eb_ae48_003ee1c6c0a9row2_col6,#T_c4c91a9c_1351_11eb_ae48_003ee1c6c0a9row3_col0,#T_c4c91a9c_1351_11eb_ae48_003ee1c6c0a9row3_col1,#T_c4c91a9c_1351_11eb_ae48_003ee1c6c0a9row3_col3,#T_c4c91a9c_1351_11eb_ae48_003ee1c6c0a9row3_col4,#T_c4c91a9c_1351_11eb_ae48_003ee1c6c0a9row3_col5,#T_c4c91a9c_1351_11eb_ae48_003ee1c6c0a9row3_col6,#T_c4c91a9c_1351_11eb_ae48_003ee1c6c0a9row4_col0,#T_c4c91a9c_1351_11eb_ae48_003ee1c6c0a9row4_col1,#T_c4c91a9c_1351_11eb_ae48_003ee1c6c0a9row4_col3,#T_c4c91a9c_1351_11eb_ae48_003ee1c6c0a9row4_col4,#T_c4c91a9c_1351_11eb_ae48_003ee1c6c0a9row4_col5,#T_c4c91a9c_1351_11eb_ae48_003ee1c6c0a9row4_col6,#T_c4c91a9c_1351_11eb_ae48_003ee1c6c0a9row5_col0,#T_c4c91a9c_1351_11eb_ae48_003ee1c6c0a9row5_col1,#T_c4c91a9c_1351_11eb_ae48_003ee1c6c0a9row5_col2,#T_c4c91a9c_1351_11eb_ae48_003ee1c6c0a9row5_col3,#T_c4c91a9c_1351_11eb_ae48_003ee1c6c0a9row5_col4,#T_c4c91a9c_1351_11eb_ae48_003ee1c6c0a9row5_col5,#T_c4c91a9c_1351_11eb_ae48_003ee1c6c0a9row5_col6,#T_c4c91a9c_1351_11eb_ae48_003ee1c6c0a9row6_col0,#T_c4c91a9c_1351_11eb_ae48_003ee1c6c0a9row6_col1,#T_c4c91a9c_1351_11eb_ae48_003ee1c6c0a9row6_col2,#T_c4c91a9c_1351_11eb_ae48_003ee1c6c0a9row6_col3,#T_c4c91a9c_1351_11eb_ae48_003ee1c6c0a9row6_col4,#T_c4c91a9c_1351_11eb_ae48_003ee1c6c0a9row6_col5,#T_c4c91a9c_1351_11eb_ae48_003ee1c6c0a9row6_col6,#T_c4c91a9c_1351_11eb_ae48_003ee1c6c0a9row7_col0,#T_c4c91a9c_1351_11eb_ae48_003ee1c6c0a9row7_col1,#T_c4c91a9c_1351_11eb_ae48_003ee1c6c0a9row7_col2,#T_c4c91a9c_1351_11eb_ae48_003ee1c6c0a9row7_col3,#T_c4c91a9c_1351_11eb_ae48_003ee1c6c0a9row7_col4,#T_c4c91a9c_1351_11eb_ae48_003ee1c6c0a9row7_col5,#T_c4c91a9c_1351_11eb_ae48_003ee1c6c0a9row7_col6,#T_c4c91a9c_1351_11eb_ae48_003ee1c6c0a9row8_col0,#T_c4c91a9c_1351_11eb_ae48_003ee1c6c0a9row8_col1,#T_c4c91a9c_1351_11eb_ae48_003ee1c6c0a9row8_col2,#T_c4c91a9c_1351_11eb_ae48_003ee1c6c0a9row8_col3,#T_c4c91a9c_1351_11eb_ae48_003ee1c6c0a9row8_col4,#T_c4c91a9c_1351_11eb_ae48_003ee1c6c0a9row8_col5,#T_c4c91a9c_1351_11eb_ae48_003ee1c6c0a9row8_col6,#T_c4c91a9c_1351_11eb_ae48_003ee1c6c0a9row9_col0,#T_c4c91a9c_1351_11eb_ae48_003ee1c6c0a9row9_col1,#T_c4c91a9c_1351_11eb_ae48_003ee1c6c0a9row9_col2,#T_c4c91a9c_1351_11eb_ae48_003ee1c6c0a9row9_col3,#T_c4c91a9c_1351_11eb_ae48_003ee1c6c0a9row9_col4,#T_c4c91a9c_1351_11eb_ae48_003ee1c6c0a9row9_col5,#T_c4c91a9c_1351_11eb_ae48_003ee1c6c0a9row9_col6,#T_c4c91a9c_1351_11eb_ae48_003ee1c6c0a9row10_col0,#T_c4c91a9c_1351_11eb_ae48_003ee1c6c0a9row10_col1,#T_c4c91a9c_1351_11eb_ae48_003ee1c6c0a9row10_col2,#T_c4c91a9c_1351_11eb_ae48_003ee1c6c0a9row10_col3,#T_c4c91a9c_1351_11eb_ae48_003ee1c6c0a9row10_col4,#T_c4c91a9c_1351_11eb_ae48_003ee1c6c0a9row10_col5,#T_c4c91a9c_1351_11eb_ae48_003ee1c6c0a9row10_col6,#T_c4c91a9c_1351_11eb_ae48_003ee1c6c0a9row11_col0,#T_c4c91a9c_1351_11eb_ae48_003ee1c6c0a9row11_col1,#T_c4c91a9c_1351_11eb_ae48_003ee1c6c0a9row11_col2,#T_c4c91a9c_1351_11eb_ae48_003ee1c6c0a9row11_col3,#T_c4c91a9c_1351_11eb_ae48_003ee1c6c0a9row11_col4,#T_c4c91a9c_1351_11eb_ae48_003ee1c6c0a9row11_col5,#T_c4c91a9c_1351_11eb_ae48_003ee1c6c0a9row11_col6,#T_c4c91a9c_1351_11eb_ae48_003ee1c6c0a9row12_col0,#T_c4c91a9c_1351_11eb_ae48_003ee1c6c0a9row12_col1,#T_c4c91a9c_1351_11eb_ae48_003ee1c6c0a9row12_col2,#T_c4c91a9c_1351_11eb_ae48_003ee1c6c0a9row12_col3,#T_c4c91a9c_1351_11eb_ae48_003ee1c6c0a9row12_col4,#T_c4c91a9c_1351_11eb_ae48_003ee1c6c0a9row12_col5,#T_c4c91a9c_1351_11eb_ae48_003ee1c6c0a9row12_col6,#T_c4c91a9c_1351_11eb_ae48_003ee1c6c0a9row13_col0,#T_c4c91a9c_1351_11eb_ae48_003ee1c6c0a9row13_col1,#T_c4c91a9c_1351_11eb_ae48_003ee1c6c0a9row13_col2,#T_c4c91a9c_1351_11eb_ae48_003ee1c6c0a9row13_col3,#T_c4c91a9c_1351_11eb_ae48_003ee1c6c0a9row13_col4,#T_c4c91a9c_1351_11eb_ae48_003ee1c6c0a9row13_col5,#T_c4c91a9c_1351_11eb_ae48_003ee1c6c0a9row13_col6,#T_c4c91a9c_1351_11eb_ae48_003ee1c6c0a9row14_col0,#T_c4c91a9c_1351_11eb_ae48_003ee1c6c0a9row14_col1,#T_c4c91a9c_1351_11eb_ae48_003ee1c6c0a9row14_col2,#T_c4c91a9c_1351_11eb_ae48_003ee1c6c0a9row14_col3,#T_c4c91a9c_1351_11eb_ae48_003ee1c6c0a9row14_col4,#T_c4c91a9c_1351_11eb_ae48_003ee1c6c0a9row14_col5,#T_c4c91a9c_1351_11eb_ae48_003ee1c6c0a9row14_col6,#T_c4c91a9c_1351_11eb_ae48_003ee1c6c0a9row15_col0,#T_c4c91a9c_1351_11eb_ae48_003ee1c6c0a9row15_col1,#T_c4c91a9c_1351_11eb_ae48_003ee1c6c0a9row15_col2,#T_c4c91a9c_1351_11eb_ae48_003ee1c6c0a9row15_col3,#T_c4c91a9c_1351_11eb_ae48_003ee1c6c0a9row15_col4,#T_c4c91a9c_1351_11eb_ae48_003ee1c6c0a9row15_col5,#T_c4c91a9c_1351_11eb_ae48_003ee1c6c0a9row15_col6,#T_c4c91a9c_1351_11eb_ae48_003ee1c6c0a9row16_col0,#T_c4c91a9c_1351_11eb_ae48_003ee1c6c0a9row16_col1,#T_c4c91a9c_1351_11eb_ae48_003ee1c6c0a9row16_col2,#T_c4c91a9c_1351_11eb_ae48_003ee1c6c0a9row16_col3,#T_c4c91a9c_1351_11eb_ae48_003ee1c6c0a9row16_col4,#T_c4c91a9c_1351_11eb_ae48_003ee1c6c0a9row16_col5,#T_c4c91a9c_1351_11eb_ae48_003ee1c6c0a9row16_col6,#T_c4c91a9c_1351_11eb_ae48_003ee1c6c0a9row17_col0,#T_c4c91a9c_1351_11eb_ae48_003ee1c6c0a9row17_col1,#T_c4c91a9c_1351_11eb_ae48_003ee1c6c0a9row17_col2,#T_c4c91a9c_1351_11eb_ae48_003ee1c6c0a9row17_col3,#T_c4c91a9c_1351_11eb_ae48_003ee1c6c0a9row17_col4,#T_c4c91a9c_1351_11eb_ae48_003ee1c6c0a9row17_col5,#T_c4c91a9c_1351_11eb_ae48_003ee1c6c0a9row17_col6,#T_c4c91a9c_1351_11eb_ae48_003ee1c6c0a9row18_col0,#T_c4c91a9c_1351_11eb_ae48_003ee1c6c0a9row18_col1,#T_c4c91a9c_1351_11eb_ae48_003ee1c6c0a9row18_col2,#T_c4c91a9c_1351_11eb_ae48_003ee1c6c0a9row18_col3,#T_c4c91a9c_1351_11eb_ae48_003ee1c6c0a9row18_col4,#T_c4c91a9c_1351_11eb_ae48_003ee1c6c0a9row18_col5,#T_c4c91a9c_1351_11eb_ae48_003ee1c6c0a9row18_col6,#T_c4c91a9c_1351_11eb_ae48_003ee1c6c0a9row19_col0,#T_c4c91a9c_1351_11eb_ae48_003ee1c6c0a9row19_col1,#T_c4c91a9c_1351_11eb_ae48_003ee1c6c0a9row19_col2,#T_c4c91a9c_1351_11eb_ae48_003ee1c6c0a9row19_col3,#T_c4c91a9c_1351_11eb_ae48_003ee1c6c0a9row19_col4,#T_c4c91a9c_1351_11eb_ae48_003ee1c6c0a9row19_col5,#T_c4c91a9c_1351_11eb_ae48_003ee1c6c0a9row19_col6,#T_c4c91a9c_1351_11eb_ae48_003ee1c6c0a9row20_col0,#T_c4c91a9c_1351_11eb_ae48_003ee1c6c0a9row20_col1,#T_c4c91a9c_1351_11eb_ae48_003ee1c6c0a9row20_col2,#T_c4c91a9c_1351_11eb_ae48_003ee1c6c0a9row20_col3,#T_c4c91a9c_1351_11eb_ae48_003ee1c6c0a9row20_col4,#T_c4c91a9c_1351_11eb_ae48_003ee1c6c0a9row20_col5,#T_c4c91a9c_1351_11eb_ae48_003ee1c6c0a9row20_col6,#T_c4c91a9c_1351_11eb_ae48_003ee1c6c0a9row21_col0,#T_c4c91a9c_1351_11eb_ae48_003ee1c6c0a9row21_col1,#T_c4c91a9c_1351_11eb_ae48_003ee1c6c0a9row21_col2,#T_c4c91a9c_1351_11eb_ae48_003ee1c6c0a9row21_col3,#T_c4c91a9c_1351_11eb_ae48_003ee1c6c0a9row21_col4,#T_c4c91a9c_1351_11eb_ae48_003ee1c6c0a9row21_col5{\n",
       "            text-align:  left;\n",
       "        }#T_c4c91a9c_1351_11eb_ae48_003ee1c6c0a9row0_col1,#T_c4c91a9c_1351_11eb_ae48_003ee1c6c0a9row0_col2,#T_c4c91a9c_1351_11eb_ae48_003ee1c6c0a9row0_col4,#T_c4c91a9c_1351_11eb_ae48_003ee1c6c0a9row1_col1,#T_c4c91a9c_1351_11eb_ae48_003ee1c6c0a9row1_col2,#T_c4c91a9c_1351_11eb_ae48_003ee1c6c0a9row1_col3,#T_c4c91a9c_1351_11eb_ae48_003ee1c6c0a9row1_col5,#T_c4c91a9c_1351_11eb_ae48_003ee1c6c0a9row2_col1,#T_c4c91a9c_1351_11eb_ae48_003ee1c6c0a9row2_col2,#T_c4c91a9c_1351_11eb_ae48_003ee1c6c0a9row3_col2,#T_c4c91a9c_1351_11eb_ae48_003ee1c6c0a9row4_col2,#T_c4c91a9c_1351_11eb_ae48_003ee1c6c0a9row21_col6{\n",
       "            background-color:  yellow;\n",
       "            text-align:  left;\n",
       "        }#T_c4c91a9c_1351_11eb_ae48_003ee1c6c0a9row0_col7,#T_c4c91a9c_1351_11eb_ae48_003ee1c6c0a9row1_col7,#T_c4c91a9c_1351_11eb_ae48_003ee1c6c0a9row2_col7,#T_c4c91a9c_1351_11eb_ae48_003ee1c6c0a9row3_col7,#T_c4c91a9c_1351_11eb_ae48_003ee1c6c0a9row4_col7,#T_c4c91a9c_1351_11eb_ae48_003ee1c6c0a9row5_col7,#T_c4c91a9c_1351_11eb_ae48_003ee1c6c0a9row6_col7,#T_c4c91a9c_1351_11eb_ae48_003ee1c6c0a9row7_col7,#T_c4c91a9c_1351_11eb_ae48_003ee1c6c0a9row8_col7,#T_c4c91a9c_1351_11eb_ae48_003ee1c6c0a9row9_col7,#T_c4c91a9c_1351_11eb_ae48_003ee1c6c0a9row10_col7,#T_c4c91a9c_1351_11eb_ae48_003ee1c6c0a9row11_col7,#T_c4c91a9c_1351_11eb_ae48_003ee1c6c0a9row12_col7,#T_c4c91a9c_1351_11eb_ae48_003ee1c6c0a9row13_col7,#T_c4c91a9c_1351_11eb_ae48_003ee1c6c0a9row14_col7,#T_c4c91a9c_1351_11eb_ae48_003ee1c6c0a9row15_col7,#T_c4c91a9c_1351_11eb_ae48_003ee1c6c0a9row16_col7,#T_c4c91a9c_1351_11eb_ae48_003ee1c6c0a9row17_col7,#T_c4c91a9c_1351_11eb_ae48_003ee1c6c0a9row18_col7,#T_c4c91a9c_1351_11eb_ae48_003ee1c6c0a9row19_col7,#T_c4c91a9c_1351_11eb_ae48_003ee1c6c0a9row20_col7,#T_c4c91a9c_1351_11eb_ae48_003ee1c6c0a9row21_col7{\n",
       "            background-color:  lightgrey;\n",
       "            text-align:  left;\n",
       "        }</style><table id=\"T_c4c91a9c_1351_11eb_ae48_003ee1c6c0a9\" ><thead>    <tr>        <th class=\"blank level0\" ></th>        <th class=\"col_heading level0 col0\" >Model</th>        <th class=\"col_heading level0 col1\" >MAE</th>        <th class=\"col_heading level0 col2\" >MSE</th>        <th class=\"col_heading level0 col3\" >RMSE</th>        <th class=\"col_heading level0 col4\" >R2</th>        <th class=\"col_heading level0 col5\" >RMSLE</th>        <th class=\"col_heading level0 col6\" >MAPE</th>        <th class=\"col_heading level0 col7\" >TT (Sec)</th>    </tr></thead><tbody>\n",
       "                <tr>\n",
       "                        <th id=\"T_c4c91a9c_1351_11eb_ae48_003ee1c6c0a9level0_row0\" class=\"row_heading level0 row0\" >0</th>\n",
       "                        <td id=\"T_c4c91a9c_1351_11eb_ae48_003ee1c6c0a9row0_col0\" class=\"data row0 col0\" >Huber Regressor</td>\n",
       "                        <td id=\"T_c4c91a9c_1351_11eb_ae48_003ee1c6c0a9row0_col1\" class=\"data row0 col1\" >0.0075</td>\n",
       "                        <td id=\"T_c4c91a9c_1351_11eb_ae48_003ee1c6c0a9row0_col2\" class=\"data row0 col2\" >0.0001</td>\n",
       "                        <td id=\"T_c4c91a9c_1351_11eb_ae48_003ee1c6c0a9row0_col3\" class=\"data row0 col3\" >0.0101</td>\n",
       "                        <td id=\"T_c4c91a9c_1351_11eb_ae48_003ee1c6c0a9row0_col4\" class=\"data row0 col4\" >0.6105</td>\n",
       "                        <td id=\"T_c4c91a9c_1351_11eb_ae48_003ee1c6c0a9row0_col5\" class=\"data row0 col5\" >0.0090</td>\n",
       "                        <td id=\"T_c4c91a9c_1351_11eb_ae48_003ee1c6c0a9row0_col6\" class=\"data row0 col6\" >0.0108</td>\n",
       "                        <td id=\"T_c4c91a9c_1351_11eb_ae48_003ee1c6c0a9row0_col7\" class=\"data row0 col7\" >0.0912</td>\n",
       "            </tr>\n",
       "            <tr>\n",
       "                        <th id=\"T_c4c91a9c_1351_11eb_ae48_003ee1c6c0a9level0_row1\" class=\"row_heading level0 row1\" >1</th>\n",
       "                        <td id=\"T_c4c91a9c_1351_11eb_ae48_003ee1c6c0a9row1_col0\" class=\"data row1 col0\" >TheilSen Regressor</td>\n",
       "                        <td id=\"T_c4c91a9c_1351_11eb_ae48_003ee1c6c0a9row1_col1\" class=\"data row1 col1\" >0.0075</td>\n",
       "                        <td id=\"T_c4c91a9c_1351_11eb_ae48_003ee1c6c0a9row1_col2\" class=\"data row1 col2\" >0.0001</td>\n",
       "                        <td id=\"T_c4c91a9c_1351_11eb_ae48_003ee1c6c0a9row1_col3\" class=\"data row1 col3\" >0.0100</td>\n",
       "                        <td id=\"T_c4c91a9c_1351_11eb_ae48_003ee1c6c0a9row1_col4\" class=\"data row1 col4\" >0.6037</td>\n",
       "                        <td id=\"T_c4c91a9c_1351_11eb_ae48_003ee1c6c0a9row1_col5\" class=\"data row1 col5\" >0.0087</td>\n",
       "                        <td id=\"T_c4c91a9c_1351_11eb_ae48_003ee1c6c0a9row1_col6\" class=\"data row1 col6\" >0.0015</td>\n",
       "                        <td id=\"T_c4c91a9c_1351_11eb_ae48_003ee1c6c0a9row1_col7\" class=\"data row1 col7\" >1.5068</td>\n",
       "            </tr>\n",
       "            <tr>\n",
       "                        <th id=\"T_c4c91a9c_1351_11eb_ae48_003ee1c6c0a9level0_row2\" class=\"row_heading level0 row2\" >2</th>\n",
       "                        <td id=\"T_c4c91a9c_1351_11eb_ae48_003ee1c6c0a9row2_col0\" class=\"data row2 col0\" >Bayesian Ridge</td>\n",
       "                        <td id=\"T_c4c91a9c_1351_11eb_ae48_003ee1c6c0a9row2_col1\" class=\"data row2 col1\" >0.0075</td>\n",
       "                        <td id=\"T_c4c91a9c_1351_11eb_ae48_003ee1c6c0a9row2_col2\" class=\"data row2 col2\" >0.0001</td>\n",
       "                        <td id=\"T_c4c91a9c_1351_11eb_ae48_003ee1c6c0a9row2_col3\" class=\"data row2 col3\" >0.0101</td>\n",
       "                        <td id=\"T_c4c91a9c_1351_11eb_ae48_003ee1c6c0a9row2_col4\" class=\"data row2 col4\" >0.6005</td>\n",
       "                        <td id=\"T_c4c91a9c_1351_11eb_ae48_003ee1c6c0a9row2_col5\" class=\"data row2 col5\" >0.0090</td>\n",
       "                        <td id=\"T_c4c91a9c_1351_11eb_ae48_003ee1c6c0a9row2_col6\" class=\"data row2 col6\" >0.0208</td>\n",
       "                        <td id=\"T_c4c91a9c_1351_11eb_ae48_003ee1c6c0a9row2_col7\" class=\"data row2 col7\" >0.0085</td>\n",
       "            </tr>\n",
       "            <tr>\n",
       "                        <th id=\"T_c4c91a9c_1351_11eb_ae48_003ee1c6c0a9level0_row3\" class=\"row_heading level0 row3\" >3</th>\n",
       "                        <td id=\"T_c4c91a9c_1351_11eb_ae48_003ee1c6c0a9row3_col0\" class=\"data row3 col0\" >Linear Regression</td>\n",
       "                        <td id=\"T_c4c91a9c_1351_11eb_ae48_003ee1c6c0a9row3_col1\" class=\"data row3 col1\" >0.0076</td>\n",
       "                        <td id=\"T_c4c91a9c_1351_11eb_ae48_003ee1c6c0a9row3_col2\" class=\"data row3 col2\" >0.0001</td>\n",
       "                        <td id=\"T_c4c91a9c_1351_11eb_ae48_003ee1c6c0a9row3_col3\" class=\"data row3 col3\" >0.0102</td>\n",
       "                        <td id=\"T_c4c91a9c_1351_11eb_ae48_003ee1c6c0a9row3_col4\" class=\"data row3 col4\" >0.5977</td>\n",
       "                        <td id=\"T_c4c91a9c_1351_11eb_ae48_003ee1c6c0a9row3_col5\" class=\"data row3 col5\" >0.0090</td>\n",
       "                        <td id=\"T_c4c91a9c_1351_11eb_ae48_003ee1c6c0a9row3_col6\" class=\"data row3 col6\" >0.0201</td>\n",
       "                        <td id=\"T_c4c91a9c_1351_11eb_ae48_003ee1c6c0a9row3_col7\" class=\"data row3 col7\" >0.0065</td>\n",
       "            </tr>\n",
       "            <tr>\n",
       "                        <th id=\"T_c4c91a9c_1351_11eb_ae48_003ee1c6c0a9level0_row4\" class=\"row_heading level0 row4\" >4</th>\n",
       "                        <td id=\"T_c4c91a9c_1351_11eb_ae48_003ee1c6c0a9row4_col0\" class=\"data row4 col0\" >Random Sample Consensus</td>\n",
       "                        <td id=\"T_c4c91a9c_1351_11eb_ae48_003ee1c6c0a9row4_col1\" class=\"data row4 col1\" >0.0077</td>\n",
       "                        <td id=\"T_c4c91a9c_1351_11eb_ae48_003ee1c6c0a9row4_col2\" class=\"data row4 col2\" >0.0001</td>\n",
       "                        <td id=\"T_c4c91a9c_1351_11eb_ae48_003ee1c6c0a9row4_col3\" class=\"data row4 col3\" >0.0103</td>\n",
       "                        <td id=\"T_c4c91a9c_1351_11eb_ae48_003ee1c6c0a9row4_col4\" class=\"data row4 col4\" >0.5919</td>\n",
       "                        <td id=\"T_c4c91a9c_1351_11eb_ae48_003ee1c6c0a9row4_col5\" class=\"data row4 col5\" >0.0092</td>\n",
       "                        <td id=\"T_c4c91a9c_1351_11eb_ae48_003ee1c6c0a9row4_col6\" class=\"data row4 col6\" >0.0177</td>\n",
       "                        <td id=\"T_c4c91a9c_1351_11eb_ae48_003ee1c6c0a9row4_col7\" class=\"data row4 col7\" >0.1807</td>\n",
       "            </tr>\n",
       "            <tr>\n",
       "                        <th id=\"T_c4c91a9c_1351_11eb_ae48_003ee1c6c0a9level0_row5\" class=\"row_heading level0 row5\" >5</th>\n",
       "                        <td id=\"T_c4c91a9c_1351_11eb_ae48_003ee1c6c0a9row5_col0\" class=\"data row5 col0\" >Ridge Regression</td>\n",
       "                        <td id=\"T_c4c91a9c_1351_11eb_ae48_003ee1c6c0a9row5_col1\" class=\"data row5 col1\" >0.0100</td>\n",
       "                        <td id=\"T_c4c91a9c_1351_11eb_ae48_003ee1c6c0a9row5_col2\" class=\"data row5 col2\" >0.0002</td>\n",
       "                        <td id=\"T_c4c91a9c_1351_11eb_ae48_003ee1c6c0a9row5_col3\" class=\"data row5 col3\" >0.0135</td>\n",
       "                        <td id=\"T_c4c91a9c_1351_11eb_ae48_003ee1c6c0a9row5_col4\" class=\"data row5 col4\" >0.3464</td>\n",
       "                        <td id=\"T_c4c91a9c_1351_11eb_ae48_003ee1c6c0a9row5_col5\" class=\"data row5 col5\" >0.0122</td>\n",
       "                        <td id=\"T_c4c91a9c_1351_11eb_ae48_003ee1c6c0a9row5_col6\" class=\"data row5 col6\" >-0.0466</td>\n",
       "                        <td id=\"T_c4c91a9c_1351_11eb_ae48_003ee1c6c0a9row5_col7\" class=\"data row5 col7\" >0.0068</td>\n",
       "            </tr>\n",
       "            <tr>\n",
       "                        <th id=\"T_c4c91a9c_1351_11eb_ae48_003ee1c6c0a9level0_row6\" class=\"row_heading level0 row6\" >6</th>\n",
       "                        <td id=\"T_c4c91a9c_1351_11eb_ae48_003ee1c6c0a9row6_col0\" class=\"data row6 col0\" >Light Gradient Boosting Machine</td>\n",
       "                        <td id=\"T_c4c91a9c_1351_11eb_ae48_003ee1c6c0a9row6_col1\" class=\"data row6 col1\" >0.0120</td>\n",
       "                        <td id=\"T_c4c91a9c_1351_11eb_ae48_003ee1c6c0a9row6_col2\" class=\"data row6 col2\" >0.0003</td>\n",
       "                        <td id=\"T_c4c91a9c_1351_11eb_ae48_003ee1c6c0a9row6_col3\" class=\"data row6 col3\" >0.0165</td>\n",
       "                        <td id=\"T_c4c91a9c_1351_11eb_ae48_003ee1c6c0a9row6_col4\" class=\"data row6 col4\" >0.0299</td>\n",
       "                        <td id=\"T_c4c91a9c_1351_11eb_ae48_003ee1c6c0a9row6_col5\" class=\"data row6 col5\" >0.0131</td>\n",
       "                        <td id=\"T_c4c91a9c_1351_11eb_ae48_003ee1c6c0a9row6_col6\" class=\"data row6 col6\" >-0.0806</td>\n",
       "                        <td id=\"T_c4c91a9c_1351_11eb_ae48_003ee1c6c0a9row6_col7\" class=\"data row6 col7\" >0.0487</td>\n",
       "            </tr>\n",
       "            <tr>\n",
       "                        <th id=\"T_c4c91a9c_1351_11eb_ae48_003ee1c6c0a9level0_row7\" class=\"row_heading level0 row7\" >7</th>\n",
       "                        <td id=\"T_c4c91a9c_1351_11eb_ae48_003ee1c6c0a9row7_col0\" class=\"data row7 col0\" >Passive Aggressive Regressor</td>\n",
       "                        <td id=\"T_c4c91a9c_1351_11eb_ae48_003ee1c6c0a9row7_col1\" class=\"data row7 col1\" >0.0128</td>\n",
       "                        <td id=\"T_c4c91a9c_1351_11eb_ae48_003ee1c6c0a9row7_col2\" class=\"data row7 col2\" >0.0003</td>\n",
       "                        <td id=\"T_c4c91a9c_1351_11eb_ae48_003ee1c6c0a9row7_col3\" class=\"data row7 col3\" >0.0171</td>\n",
       "                        <td id=\"T_c4c91a9c_1351_11eb_ae48_003ee1c6c0a9row7_col4\" class=\"data row7 col4\" >-0.0542</td>\n",
       "                        <td id=\"T_c4c91a9c_1351_11eb_ae48_003ee1c6c0a9row7_col5\" class=\"data row7 col5\" >0.0168</td>\n",
       "                        <td id=\"T_c4c91a9c_1351_11eb_ae48_003ee1c6c0a9row7_col6\" class=\"data row7 col6\" >0.0573</td>\n",
       "                        <td id=\"T_c4c91a9c_1351_11eb_ae48_003ee1c6c0a9row7_col7\" class=\"data row7 col7\" >0.0076</td>\n",
       "            </tr>\n",
       "            <tr>\n",
       "                        <th id=\"T_c4c91a9c_1351_11eb_ae48_003ee1c6c0a9level0_row8\" class=\"row_heading level0 row8\" >8</th>\n",
       "                        <td id=\"T_c4c91a9c_1351_11eb_ae48_003ee1c6c0a9row8_col0\" class=\"data row8 col0\" >Lasso Regression</td>\n",
       "                        <td id=\"T_c4c91a9c_1351_11eb_ae48_003ee1c6c0a9row8_col1\" class=\"data row8 col1\" >0.0129</td>\n",
       "                        <td id=\"T_c4c91a9c_1351_11eb_ae48_003ee1c6c0a9row8_col2\" class=\"data row8 col2\" >0.0003</td>\n",
       "                        <td id=\"T_c4c91a9c_1351_11eb_ae48_003ee1c6c0a9row8_col3\" class=\"data row8 col3\" >0.0172</td>\n",
       "                        <td id=\"T_c4c91a9c_1351_11eb_ae48_003ee1c6c0a9row8_col4\" class=\"data row8 col4\" >-0.0585</td>\n",
       "                        <td id=\"T_c4c91a9c_1351_11eb_ae48_003ee1c6c0a9row8_col5\" class=\"data row8 col5\" >0.0158</td>\n",
       "                        <td id=\"T_c4c91a9c_1351_11eb_ae48_003ee1c6c0a9row8_col6\" class=\"data row8 col6\" >-0.1334</td>\n",
       "                        <td id=\"T_c4c91a9c_1351_11eb_ae48_003ee1c6c0a9row8_col7\" class=\"data row8 col7\" >0.0076</td>\n",
       "            </tr>\n",
       "            <tr>\n",
       "                        <th id=\"T_c4c91a9c_1351_11eb_ae48_003ee1c6c0a9level0_row9\" class=\"row_heading level0 row9\" >9</th>\n",
       "                        <td id=\"T_c4c91a9c_1351_11eb_ae48_003ee1c6c0a9row9_col0\" class=\"data row9 col0\" >Lasso Least Angle Regression</td>\n",
       "                        <td id=\"T_c4c91a9c_1351_11eb_ae48_003ee1c6c0a9row9_col1\" class=\"data row9 col1\" >0.0129</td>\n",
       "                        <td id=\"T_c4c91a9c_1351_11eb_ae48_003ee1c6c0a9row9_col2\" class=\"data row9 col2\" >0.0003</td>\n",
       "                        <td id=\"T_c4c91a9c_1351_11eb_ae48_003ee1c6c0a9row9_col3\" class=\"data row9 col3\" >0.0172</td>\n",
       "                        <td id=\"T_c4c91a9c_1351_11eb_ae48_003ee1c6c0a9row9_col4\" class=\"data row9 col4\" >-0.0585</td>\n",
       "                        <td id=\"T_c4c91a9c_1351_11eb_ae48_003ee1c6c0a9row9_col5\" class=\"data row9 col5\" >0.0158</td>\n",
       "                        <td id=\"T_c4c91a9c_1351_11eb_ae48_003ee1c6c0a9row9_col6\" class=\"data row9 col6\" >-0.1334</td>\n",
       "                        <td id=\"T_c4c91a9c_1351_11eb_ae48_003ee1c6c0a9row9_col7\" class=\"data row9 col7\" >0.0077</td>\n",
       "            </tr>\n",
       "            <tr>\n",
       "                        <th id=\"T_c4c91a9c_1351_11eb_ae48_003ee1c6c0a9level0_row10\" class=\"row_heading level0 row10\" >10</th>\n",
       "                        <td id=\"T_c4c91a9c_1351_11eb_ae48_003ee1c6c0a9row10_col0\" class=\"data row10 col0\" >Elastic Net</td>\n",
       "                        <td id=\"T_c4c91a9c_1351_11eb_ae48_003ee1c6c0a9row10_col1\" class=\"data row10 col1\" >0.0129</td>\n",
       "                        <td id=\"T_c4c91a9c_1351_11eb_ae48_003ee1c6c0a9row10_col2\" class=\"data row10 col2\" >0.0003</td>\n",
       "                        <td id=\"T_c4c91a9c_1351_11eb_ae48_003ee1c6c0a9row10_col3\" class=\"data row10 col3\" >0.0172</td>\n",
       "                        <td id=\"T_c4c91a9c_1351_11eb_ae48_003ee1c6c0a9row10_col4\" class=\"data row10 col4\" >-0.0585</td>\n",
       "                        <td id=\"T_c4c91a9c_1351_11eb_ae48_003ee1c6c0a9row10_col5\" class=\"data row10 col5\" >0.0158</td>\n",
       "                        <td id=\"T_c4c91a9c_1351_11eb_ae48_003ee1c6c0a9row10_col6\" class=\"data row10 col6\" >-0.1334</td>\n",
       "                        <td id=\"T_c4c91a9c_1351_11eb_ae48_003ee1c6c0a9row10_col7\" class=\"data row10 col7\" >0.0084</td>\n",
       "            </tr>\n",
       "            <tr>\n",
       "                        <th id=\"T_c4c91a9c_1351_11eb_ae48_003ee1c6c0a9level0_row11\" class=\"row_heading level0 row11\" >11</th>\n",
       "                        <td id=\"T_c4c91a9c_1351_11eb_ae48_003ee1c6c0a9row11_col0\" class=\"data row11 col0\" >Orthogonal Matching Pursuit</td>\n",
       "                        <td id=\"T_c4c91a9c_1351_11eb_ae48_003ee1c6c0a9row11_col1\" class=\"data row11 col1\" >0.0129</td>\n",
       "                        <td id=\"T_c4c91a9c_1351_11eb_ae48_003ee1c6c0a9row11_col2\" class=\"data row11 col2\" >0.0003</td>\n",
       "                        <td id=\"T_c4c91a9c_1351_11eb_ae48_003ee1c6c0a9row11_col3\" class=\"data row11 col3\" >0.0172</td>\n",
       "                        <td id=\"T_c4c91a9c_1351_11eb_ae48_003ee1c6c0a9row11_col4\" class=\"data row11 col4\" >-0.0622</td>\n",
       "                        <td id=\"T_c4c91a9c_1351_11eb_ae48_003ee1c6c0a9row11_col5\" class=\"data row11 col5\" >0.0155</td>\n",
       "                        <td id=\"T_c4c91a9c_1351_11eb_ae48_003ee1c6c0a9row11_col6\" class=\"data row11 col6\" >-0.1119</td>\n",
       "                        <td id=\"T_c4c91a9c_1351_11eb_ae48_003ee1c6c0a9row11_col7\" class=\"data row11 col7\" >0.0085</td>\n",
       "            </tr>\n",
       "            <tr>\n",
       "                        <th id=\"T_c4c91a9c_1351_11eb_ae48_003ee1c6c0a9level0_row12\" class=\"row_heading level0 row12\" >12</th>\n",
       "                        <td id=\"T_c4c91a9c_1351_11eb_ae48_003ee1c6c0a9row12_col0\" class=\"data row12 col0\" >CatBoost Regressor</td>\n",
       "                        <td id=\"T_c4c91a9c_1351_11eb_ae48_003ee1c6c0a9row12_col1\" class=\"data row12 col1\" >0.0125</td>\n",
       "                        <td id=\"T_c4c91a9c_1351_11eb_ae48_003ee1c6c0a9row12_col2\" class=\"data row12 col2\" >0.0003</td>\n",
       "                        <td id=\"T_c4c91a9c_1351_11eb_ae48_003ee1c6c0a9row12_col3\" class=\"data row12 col3\" >0.0172</td>\n",
       "                        <td id=\"T_c4c91a9c_1351_11eb_ae48_003ee1c6c0a9row12_col4\" class=\"data row12 col4\" >-0.0661</td>\n",
       "                        <td id=\"T_c4c91a9c_1351_11eb_ae48_003ee1c6c0a9row12_col5\" class=\"data row12 col5\" >0.0131</td>\n",
       "                        <td id=\"T_c4c91a9c_1351_11eb_ae48_003ee1c6c0a9row12_col6\" class=\"data row12 col6\" >-0.1083</td>\n",
       "                        <td id=\"T_c4c91a9c_1351_11eb_ae48_003ee1c6c0a9row12_col7\" class=\"data row12 col7\" >0.7631</td>\n",
       "            </tr>\n",
       "            <tr>\n",
       "                        <th id=\"T_c4c91a9c_1351_11eb_ae48_003ee1c6c0a9level0_row13\" class=\"row_heading level0 row13\" >13</th>\n",
       "                        <td id=\"T_c4c91a9c_1351_11eb_ae48_003ee1c6c0a9row13_col0\" class=\"data row13 col0\" >Least Angle Regression</td>\n",
       "                        <td id=\"T_c4c91a9c_1351_11eb_ae48_003ee1c6c0a9row13_col1\" class=\"data row13 col1\" >0.0116</td>\n",
       "                        <td id=\"T_c4c91a9c_1351_11eb_ae48_003ee1c6c0a9row13_col2\" class=\"data row13 col2\" >0.0003</td>\n",
       "                        <td id=\"T_c4c91a9c_1351_11eb_ae48_003ee1c6c0a9row13_col3\" class=\"data row13 col3\" >0.0156</td>\n",
       "                        <td id=\"T_c4c91a9c_1351_11eb_ae48_003ee1c6c0a9row13_col4\" class=\"data row13 col4\" >-0.2054</td>\n",
       "                        <td id=\"T_c4c91a9c_1351_11eb_ae48_003ee1c6c0a9row13_col5\" class=\"data row13 col5\" >0.0132</td>\n",
       "                        <td id=\"T_c4c91a9c_1351_11eb_ae48_003ee1c6c0a9row13_col6\" class=\"data row13 col6\" >-0.0382</td>\n",
       "                        <td id=\"T_c4c91a9c_1351_11eb_ae48_003ee1c6c0a9row13_col7\" class=\"data row13 col7\" >0.0117</td>\n",
       "            </tr>\n",
       "            <tr>\n",
       "                        <th id=\"T_c4c91a9c_1351_11eb_ae48_003ee1c6c0a9level0_row14\" class=\"row_heading level0 row14\" >14</th>\n",
       "                        <td id=\"T_c4c91a9c_1351_11eb_ae48_003ee1c6c0a9row14_col0\" class=\"data row14 col0\" >Gradient Boosting Regressor</td>\n",
       "                        <td id=\"T_c4c91a9c_1351_11eb_ae48_003ee1c6c0a9row14_col1\" class=\"data row14 col1\" >0.0131</td>\n",
       "                        <td id=\"T_c4c91a9c_1351_11eb_ae48_003ee1c6c0a9row14_col2\" class=\"data row14 col2\" >0.0004</td>\n",
       "                        <td id=\"T_c4c91a9c_1351_11eb_ae48_003ee1c6c0a9row14_col3\" class=\"data row14 col3\" >0.0184</td>\n",
       "                        <td id=\"T_c4c91a9c_1351_11eb_ae48_003ee1c6c0a9row14_col4\" class=\"data row14 col4\" >-0.2162</td>\n",
       "                        <td id=\"T_c4c91a9c_1351_11eb_ae48_003ee1c6c0a9row14_col5\" class=\"data row14 col5\" >0.0135</td>\n",
       "                        <td id=\"T_c4c91a9c_1351_11eb_ae48_003ee1c6c0a9row14_col6\" class=\"data row14 col6\" >-0.1392</td>\n",
       "                        <td id=\"T_c4c91a9c_1351_11eb_ae48_003ee1c6c0a9row14_col7\" class=\"data row14 col7\" >0.1921</td>\n",
       "            </tr>\n",
       "            <tr>\n",
       "                        <th id=\"T_c4c91a9c_1351_11eb_ae48_003ee1c6c0a9level0_row15\" class=\"row_heading level0 row15\" >15</th>\n",
       "                        <td id=\"T_c4c91a9c_1351_11eb_ae48_003ee1c6c0a9row15_col0\" class=\"data row15 col0\" >Extreme Gradient Boosting</td>\n",
       "                        <td id=\"T_c4c91a9c_1351_11eb_ae48_003ee1c6c0a9row15_col1\" class=\"data row15 col1\" >0.0131</td>\n",
       "                        <td id=\"T_c4c91a9c_1351_11eb_ae48_003ee1c6c0a9row15_col2\" class=\"data row15 col2\" >0.0004</td>\n",
       "                        <td id=\"T_c4c91a9c_1351_11eb_ae48_003ee1c6c0a9row15_col3\" class=\"data row15 col3\" >0.0184</td>\n",
       "                        <td id=\"T_c4c91a9c_1351_11eb_ae48_003ee1c6c0a9row15_col4\" class=\"data row15 col4\" >-0.2441</td>\n",
       "                        <td id=\"T_c4c91a9c_1351_11eb_ae48_003ee1c6c0a9row15_col5\" class=\"data row15 col5\" >0.0124</td>\n",
       "                        <td id=\"T_c4c91a9c_1351_11eb_ae48_003ee1c6c0a9row15_col6\" class=\"data row15 col6\" >-0.1454</td>\n",
       "                        <td id=\"T_c4c91a9c_1351_11eb_ae48_003ee1c6c0a9row15_col7\" class=\"data row15 col7\" >0.0741</td>\n",
       "            </tr>\n",
       "            <tr>\n",
       "                        <th id=\"T_c4c91a9c_1351_11eb_ae48_003ee1c6c0a9level0_row16\" class=\"row_heading level0 row16\" >16</th>\n",
       "                        <td id=\"T_c4c91a9c_1351_11eb_ae48_003ee1c6c0a9row16_col0\" class=\"data row16 col0\" >Extra Trees Regressor</td>\n",
       "                        <td id=\"T_c4c91a9c_1351_11eb_ae48_003ee1c6c0a9row16_col1\" class=\"data row16 col1\" >0.0129</td>\n",
       "                        <td id=\"T_c4c91a9c_1351_11eb_ae48_003ee1c6c0a9row16_col2\" class=\"data row16 col2\" >0.0004</td>\n",
       "                        <td id=\"T_c4c91a9c_1351_11eb_ae48_003ee1c6c0a9row16_col3\" class=\"data row16 col3\" >0.0183</td>\n",
       "                        <td id=\"T_c4c91a9c_1351_11eb_ae48_003ee1c6c0a9row16_col4\" class=\"data row16 col4\" >-0.2445</td>\n",
       "                        <td id=\"T_c4c91a9c_1351_11eb_ae48_003ee1c6c0a9row16_col5\" class=\"data row16 col5\" >0.0125</td>\n",
       "                        <td id=\"T_c4c91a9c_1351_11eb_ae48_003ee1c6c0a9row16_col6\" class=\"data row16 col6\" >-0.1473</td>\n",
       "                        <td id=\"T_c4c91a9c_1351_11eb_ae48_003ee1c6c0a9row16_col7\" class=\"data row16 col7\" >0.2949</td>\n",
       "            </tr>\n",
       "            <tr>\n",
       "                        <th id=\"T_c4c91a9c_1351_11eb_ae48_003ee1c6c0a9level0_row17\" class=\"row_heading level0 row17\" >17</th>\n",
       "                        <td id=\"T_c4c91a9c_1351_11eb_ae48_003ee1c6c0a9row17_col0\" class=\"data row17 col0\" >K Neighbors Regressor</td>\n",
       "                        <td id=\"T_c4c91a9c_1351_11eb_ae48_003ee1c6c0a9row17_col1\" class=\"data row17 col1\" >0.0137</td>\n",
       "                        <td id=\"T_c4c91a9c_1351_11eb_ae48_003ee1c6c0a9row17_col2\" class=\"data row17 col2\" >0.0004</td>\n",
       "                        <td id=\"T_c4c91a9c_1351_11eb_ae48_003ee1c6c0a9row17_col3\" class=\"data row17 col3\" >0.0188</td>\n",
       "                        <td id=\"T_c4c91a9c_1351_11eb_ae48_003ee1c6c0a9row17_col4\" class=\"data row17 col4\" >-0.2668</td>\n",
       "                        <td id=\"T_c4c91a9c_1351_11eb_ae48_003ee1c6c0a9row17_col5\" class=\"data row17 col5\" >0.0131</td>\n",
       "                        <td id=\"T_c4c91a9c_1351_11eb_ae48_003ee1c6c0a9row17_col6\" class=\"data row17 col6\" >-0.1444</td>\n",
       "                        <td id=\"T_c4c91a9c_1351_11eb_ae48_003ee1c6c0a9row17_col7\" class=\"data row17 col7\" >0.0053</td>\n",
       "            </tr>\n",
       "            <tr>\n",
       "                        <th id=\"T_c4c91a9c_1351_11eb_ae48_003ee1c6c0a9level0_row18\" class=\"row_heading level0 row18\" >18</th>\n",
       "                        <td id=\"T_c4c91a9c_1351_11eb_ae48_003ee1c6c0a9row18_col0\" class=\"data row18 col0\" >Random Forest</td>\n",
       "                        <td id=\"T_c4c91a9c_1351_11eb_ae48_003ee1c6c0a9row18_col1\" class=\"data row18 col1\" >0.0135</td>\n",
       "                        <td id=\"T_c4c91a9c_1351_11eb_ae48_003ee1c6c0a9row18_col2\" class=\"data row18 col2\" >0.0004</td>\n",
       "                        <td id=\"T_c4c91a9c_1351_11eb_ae48_003ee1c6c0a9row18_col3\" class=\"data row18 col3\" >0.0191</td>\n",
       "                        <td id=\"T_c4c91a9c_1351_11eb_ae48_003ee1c6c0a9row18_col4\" class=\"data row18 col4\" >-0.3185</td>\n",
       "                        <td id=\"T_c4c91a9c_1351_11eb_ae48_003ee1c6c0a9row18_col5\" class=\"data row18 col5\" >0.0131</td>\n",
       "                        <td id=\"T_c4c91a9c_1351_11eb_ae48_003ee1c6c0a9row18_col6\" class=\"data row18 col6\" >-0.1450</td>\n",
       "                        <td id=\"T_c4c91a9c_1351_11eb_ae48_003ee1c6c0a9row18_col7\" class=\"data row18 col7\" >0.4196</td>\n",
       "            </tr>\n",
       "            <tr>\n",
       "                        <th id=\"T_c4c91a9c_1351_11eb_ae48_003ee1c6c0a9level0_row19\" class=\"row_heading level0 row19\" >19</th>\n",
       "                        <td id=\"T_c4c91a9c_1351_11eb_ae48_003ee1c6c0a9row19_col0\" class=\"data row19 col0\" >AdaBoost Regressor</td>\n",
       "                        <td id=\"T_c4c91a9c_1351_11eb_ae48_003ee1c6c0a9row19_col1\" class=\"data row19 col1\" >0.0134</td>\n",
       "                        <td id=\"T_c4c91a9c_1351_11eb_ae48_003ee1c6c0a9row19_col2\" class=\"data row19 col2\" >0.0004</td>\n",
       "                        <td id=\"T_c4c91a9c_1351_11eb_ae48_003ee1c6c0a9row19_col3\" class=\"data row19 col3\" >0.0189</td>\n",
       "                        <td id=\"T_c4c91a9c_1351_11eb_ae48_003ee1c6c0a9row19_col4\" class=\"data row19 col4\" >-0.3424</td>\n",
       "                        <td id=\"T_c4c91a9c_1351_11eb_ae48_003ee1c6c0a9row19_col5\" class=\"data row19 col5\" >0.0145</td>\n",
       "                        <td id=\"T_c4c91a9c_1351_11eb_ae48_003ee1c6c0a9row19_col6\" class=\"data row19 col6\" >-0.2306</td>\n",
       "                        <td id=\"T_c4c91a9c_1351_11eb_ae48_003ee1c6c0a9row19_col7\" class=\"data row19 col7\" >0.2164</td>\n",
       "            </tr>\n",
       "            <tr>\n",
       "                        <th id=\"T_c4c91a9c_1351_11eb_ae48_003ee1c6c0a9level0_row20\" class=\"row_heading level0 row20\" >20</th>\n",
       "                        <td id=\"T_c4c91a9c_1351_11eb_ae48_003ee1c6c0a9row20_col0\" class=\"data row20 col0\" >Decision Tree</td>\n",
       "                        <td id=\"T_c4c91a9c_1351_11eb_ae48_003ee1c6c0a9row20_col1\" class=\"data row20 col1\" >0.0169</td>\n",
       "                        <td id=\"T_c4c91a9c_1351_11eb_ae48_003ee1c6c0a9row20_col2\" class=\"data row20 col2\" >0.0006</td>\n",
       "                        <td id=\"T_c4c91a9c_1351_11eb_ae48_003ee1c6c0a9row20_col3\" class=\"data row20 col3\" >0.0239</td>\n",
       "                        <td id=\"T_c4c91a9c_1351_11eb_ae48_003ee1c6c0a9row20_col4\" class=\"data row20 col4\" >-1.2036</td>\n",
       "                        <td id=\"T_c4c91a9c_1351_11eb_ae48_003ee1c6c0a9row20_col5\" class=\"data row20 col5\" >0.0137</td>\n",
       "                        <td id=\"T_c4c91a9c_1351_11eb_ae48_003ee1c6c0a9row20_col6\" class=\"data row20 col6\" >-0.2325</td>\n",
       "                        <td id=\"T_c4c91a9c_1351_11eb_ae48_003ee1c6c0a9row20_col7\" class=\"data row20 col7\" >0.0105</td>\n",
       "            </tr>\n",
       "            <tr>\n",
       "                        <th id=\"T_c4c91a9c_1351_11eb_ae48_003ee1c6c0a9level0_row21\" class=\"row_heading level0 row21\" >21</th>\n",
       "                        <td id=\"T_c4c91a9c_1351_11eb_ae48_003ee1c6c0a9row21_col0\" class=\"data row21 col0\" >Support Vector Machine</td>\n",
       "                        <td id=\"T_c4c91a9c_1351_11eb_ae48_003ee1c6c0a9row21_col1\" class=\"data row21 col1\" >0.0203</td>\n",
       "                        <td id=\"T_c4c91a9c_1351_11eb_ae48_003ee1c6c0a9row21_col2\" class=\"data row21 col2\" >0.0006</td>\n",
       "                        <td id=\"T_c4c91a9c_1351_11eb_ae48_003ee1c6c0a9row21_col3\" class=\"data row21 col3\" >0.0246</td>\n",
       "                        <td id=\"T_c4c91a9c_1351_11eb_ae48_003ee1c6c0a9row21_col4\" class=\"data row21 col4\" >-1.3335</td>\n",
       "                        <td id=\"T_c4c91a9c_1351_11eb_ae48_003ee1c6c0a9row21_col5\" class=\"data row21 col5\" >0.0129</td>\n",
       "                        <td id=\"T_c4c91a9c_1351_11eb_ae48_003ee1c6c0a9row21_col6\" class=\"data row21 col6\" >-1.0662</td>\n",
       "                        <td id=\"T_c4c91a9c_1351_11eb_ae48_003ee1c6c0a9row21_col7\" class=\"data row21 col7\" >0.0062</td>\n",
       "            </tr>\n",
       "    </tbody></table>"
      ],
      "text/plain": [
       "<pandas.io.formats.style.Styler at 0x7f50fca84370>"
      ]
     },
     "metadata": {},
     "output_type": "display_data"
    },
    {
     "data": {
      "text/plain": [
       "HuberRegressor(alpha=0.0001, epsilon=1.35, fit_intercept=True, max_iter=100,\n",
       "               tol=1e-05, warm_start=False)"
      ]
     },
     "execution_count": 30,
     "metadata": {},
     "output_type": "execute_result"
    }
   ],
   "source": [
    "compare_models()"
   ]
  },
  {
   "cell_type": "code",
   "execution_count": 31,
   "metadata": {},
   "outputs": [
    {
     "data": {
      "text/html": [
       "<style  type=\"text/css\" >\n",
       "#T_e12f4ac6_1351_11eb_ae48_003ee1c6c0a9row10_col0,#T_e12f4ac6_1351_11eb_ae48_003ee1c6c0a9row10_col1,#T_e12f4ac6_1351_11eb_ae48_003ee1c6c0a9row10_col2,#T_e12f4ac6_1351_11eb_ae48_003ee1c6c0a9row10_col3,#T_e12f4ac6_1351_11eb_ae48_003ee1c6c0a9row10_col4,#T_e12f4ac6_1351_11eb_ae48_003ee1c6c0a9row10_col5{\n",
       "            background:  yellow;\n",
       "        }</style><table id=\"T_e12f4ac6_1351_11eb_ae48_003ee1c6c0a9\" ><thead>    <tr>        <th class=\"blank level0\" ></th>        <th class=\"col_heading level0 col0\" >MAE</th>        <th class=\"col_heading level0 col1\" >MSE</th>        <th class=\"col_heading level0 col2\" >RMSE</th>        <th class=\"col_heading level0 col3\" >R2</th>        <th class=\"col_heading level0 col4\" >RMSLE</th>        <th class=\"col_heading level0 col5\" >MAPE</th>    </tr></thead><tbody>\n",
       "                <tr>\n",
       "                        <th id=\"T_e12f4ac6_1351_11eb_ae48_003ee1c6c0a9level0_row0\" class=\"row_heading level0 row0\" >0</th>\n",
       "                        <td id=\"T_e12f4ac6_1351_11eb_ae48_003ee1c6c0a9row0_col0\" class=\"data row0 col0\" >0.0130</td>\n",
       "                        <td id=\"T_e12f4ac6_1351_11eb_ae48_003ee1c6c0a9row0_col1\" class=\"data row0 col1\" >0.0003</td>\n",
       "                        <td id=\"T_e12f4ac6_1351_11eb_ae48_003ee1c6c0a9row0_col2\" class=\"data row0 col2\" >0.0174</td>\n",
       "                        <td id=\"T_e12f4ac6_1351_11eb_ae48_003ee1c6c0a9row0_col3\" class=\"data row0 col3\" >-0.2470</td>\n",
       "                        <td id=\"T_e12f4ac6_1351_11eb_ae48_003ee1c6c0a9row0_col4\" class=\"data row0 col4\" >0.0145</td>\n",
       "                        <td id=\"T_e12f4ac6_1351_11eb_ae48_003ee1c6c0a9row0_col5\" class=\"data row0 col5\" >0.1716</td>\n",
       "            </tr>\n",
       "            <tr>\n",
       "                        <th id=\"T_e12f4ac6_1351_11eb_ae48_003ee1c6c0a9level0_row1\" class=\"row_heading level0 row1\" >1</th>\n",
       "                        <td id=\"T_e12f4ac6_1351_11eb_ae48_003ee1c6c0a9row1_col0\" class=\"data row1 col0\" >0.0136</td>\n",
       "                        <td id=\"T_e12f4ac6_1351_11eb_ae48_003ee1c6c0a9row1_col1\" class=\"data row1 col1\" >0.0003</td>\n",
       "                        <td id=\"T_e12f4ac6_1351_11eb_ae48_003ee1c6c0a9row1_col2\" class=\"data row1 col2\" >0.0170</td>\n",
       "                        <td id=\"T_e12f4ac6_1351_11eb_ae48_003ee1c6c0a9row1_col3\" class=\"data row1 col3\" >0.0661</td>\n",
       "                        <td id=\"T_e12f4ac6_1351_11eb_ae48_003ee1c6c0a9row1_col4\" class=\"data row1 col4\" >0.0149</td>\n",
       "                        <td id=\"T_e12f4ac6_1351_11eb_ae48_003ee1c6c0a9row1_col5\" class=\"data row1 col5\" >0.0857</td>\n",
       "            </tr>\n",
       "            <tr>\n",
       "                        <th id=\"T_e12f4ac6_1351_11eb_ae48_003ee1c6c0a9level0_row2\" class=\"row_heading level0 row2\" >2</th>\n",
       "                        <td id=\"T_e12f4ac6_1351_11eb_ae48_003ee1c6c0a9row2_col0\" class=\"data row2 col0\" >0.0108</td>\n",
       "                        <td id=\"T_e12f4ac6_1351_11eb_ae48_003ee1c6c0a9row2_col1\" class=\"data row2 col1\" >0.0002</td>\n",
       "                        <td id=\"T_e12f4ac6_1351_11eb_ae48_003ee1c6c0a9row2_col2\" class=\"data row2 col2\" >0.0129</td>\n",
       "                        <td id=\"T_e12f4ac6_1351_11eb_ae48_003ee1c6c0a9row2_col3\" class=\"data row2 col3\" >0.0986</td>\n",
       "                        <td id=\"T_e12f4ac6_1351_11eb_ae48_003ee1c6c0a9row2_col4\" class=\"data row2 col4\" >0.0118</td>\n",
       "                        <td id=\"T_e12f4ac6_1351_11eb_ae48_003ee1c6c0a9row2_col5\" class=\"data row2 col5\" >-0.2327</td>\n",
       "            </tr>\n",
       "            <tr>\n",
       "                        <th id=\"T_e12f4ac6_1351_11eb_ae48_003ee1c6c0a9level0_row3\" class=\"row_heading level0 row3\" >3</th>\n",
       "                        <td id=\"T_e12f4ac6_1351_11eb_ae48_003ee1c6c0a9row3_col0\" class=\"data row3 col0\" >0.0155</td>\n",
       "                        <td id=\"T_e12f4ac6_1351_11eb_ae48_003ee1c6c0a9row3_col1\" class=\"data row3 col1\" >0.0005</td>\n",
       "                        <td id=\"T_e12f4ac6_1351_11eb_ae48_003ee1c6c0a9row3_col2\" class=\"data row3 col2\" >0.0234</td>\n",
       "                        <td id=\"T_e12f4ac6_1351_11eb_ae48_003ee1c6c0a9row3_col3\" class=\"data row3 col3\" >-0.0594</td>\n",
       "                        <td id=\"T_e12f4ac6_1351_11eb_ae48_003ee1c6c0a9row3_col4\" class=\"data row3 col4\" >0.0194</td>\n",
       "                        <td id=\"T_e12f4ac6_1351_11eb_ae48_003ee1c6c0a9row3_col5\" class=\"data row3 col5\" >-0.2018</td>\n",
       "            </tr>\n",
       "            <tr>\n",
       "                        <th id=\"T_e12f4ac6_1351_11eb_ae48_003ee1c6c0a9level0_row4\" class=\"row_heading level0 row4\" >4</th>\n",
       "                        <td id=\"T_e12f4ac6_1351_11eb_ae48_003ee1c6c0a9row4_col0\" class=\"data row4 col0\" >0.0137</td>\n",
       "                        <td id=\"T_e12f4ac6_1351_11eb_ae48_003ee1c6c0a9row4_col1\" class=\"data row4 col1\" >0.0004</td>\n",
       "                        <td id=\"T_e12f4ac6_1351_11eb_ae48_003ee1c6c0a9row4_col2\" class=\"data row4 col2\" >0.0188</td>\n",
       "                        <td id=\"T_e12f4ac6_1351_11eb_ae48_003ee1c6c0a9row4_col3\" class=\"data row4 col3\" >-0.1368</td>\n",
       "                        <td id=\"T_e12f4ac6_1351_11eb_ae48_003ee1c6c0a9row4_col4\" class=\"data row4 col4\" >0.0145</td>\n",
       "                        <td id=\"T_e12f4ac6_1351_11eb_ae48_003ee1c6c0a9row4_col5\" class=\"data row4 col5\" >-0.1024</td>\n",
       "            </tr>\n",
       "            <tr>\n",
       "                        <th id=\"T_e12f4ac6_1351_11eb_ae48_003ee1c6c0a9level0_row5\" class=\"row_heading level0 row5\" >5</th>\n",
       "                        <td id=\"T_e12f4ac6_1351_11eb_ae48_003ee1c6c0a9row5_col0\" class=\"data row5 col0\" >0.0098</td>\n",
       "                        <td id=\"T_e12f4ac6_1351_11eb_ae48_003ee1c6c0a9row5_col1\" class=\"data row5 col1\" >0.0002</td>\n",
       "                        <td id=\"T_e12f4ac6_1351_11eb_ae48_003ee1c6c0a9row5_col2\" class=\"data row5 col2\" >0.0133</td>\n",
       "                        <td id=\"T_e12f4ac6_1351_11eb_ae48_003ee1c6c0a9row5_col3\" class=\"data row5 col3\" >0.1705</td>\n",
       "                        <td id=\"T_e12f4ac6_1351_11eb_ae48_003ee1c6c0a9row5_col4\" class=\"data row5 col4\" >0.0116</td>\n",
       "                        <td id=\"T_e12f4ac6_1351_11eb_ae48_003ee1c6c0a9row5_col5\" class=\"data row5 col5\" >0.0774</td>\n",
       "            </tr>\n",
       "            <tr>\n",
       "                        <th id=\"T_e12f4ac6_1351_11eb_ae48_003ee1c6c0a9level0_row6\" class=\"row_heading level0 row6\" >6</th>\n",
       "                        <td id=\"T_e12f4ac6_1351_11eb_ae48_003ee1c6c0a9row6_col0\" class=\"data row6 col0\" >0.0157</td>\n",
       "                        <td id=\"T_e12f4ac6_1351_11eb_ae48_003ee1c6c0a9row6_col1\" class=\"data row6 col1\" >0.0006</td>\n",
       "                        <td id=\"T_e12f4ac6_1351_11eb_ae48_003ee1c6c0a9row6_col2\" class=\"data row6 col2\" >0.0235</td>\n",
       "                        <td id=\"T_e12f4ac6_1351_11eb_ae48_003ee1c6c0a9row6_col3\" class=\"data row6 col3\" >-0.3838</td>\n",
       "                        <td id=\"T_e12f4ac6_1351_11eb_ae48_003ee1c6c0a9row6_col4\" class=\"data row6 col4\" >0.0190</td>\n",
       "                        <td id=\"T_e12f4ac6_1351_11eb_ae48_003ee1c6c0a9row6_col5\" class=\"data row6 col5\" >0.3463</td>\n",
       "            </tr>\n",
       "            <tr>\n",
       "                        <th id=\"T_e12f4ac6_1351_11eb_ae48_003ee1c6c0a9level0_row7\" class=\"row_heading level0 row7\" >7</th>\n",
       "                        <td id=\"T_e12f4ac6_1351_11eb_ae48_003ee1c6c0a9row7_col0\" class=\"data row7 col0\" >0.0093</td>\n",
       "                        <td id=\"T_e12f4ac6_1351_11eb_ae48_003ee1c6c0a9row7_col1\" class=\"data row7 col1\" >0.0001</td>\n",
       "                        <td id=\"T_e12f4ac6_1351_11eb_ae48_003ee1c6c0a9row7_col2\" class=\"data row7 col2\" >0.0114</td>\n",
       "                        <td id=\"T_e12f4ac6_1351_11eb_ae48_003ee1c6c0a9row7_col3\" class=\"data row7 col3\" >-0.0180</td>\n",
       "                        <td id=\"T_e12f4ac6_1351_11eb_ae48_003ee1c6c0a9row7_col4\" class=\"data row7 col4\" >0.0092</td>\n",
       "                        <td id=\"T_e12f4ac6_1351_11eb_ae48_003ee1c6c0a9row7_col5\" class=\"data row7 col5\" >-0.0057</td>\n",
       "            </tr>\n",
       "            <tr>\n",
       "                        <th id=\"T_e12f4ac6_1351_11eb_ae48_003ee1c6c0a9level0_row8\" class=\"row_heading level0 row8\" >8</th>\n",
       "                        <td id=\"T_e12f4ac6_1351_11eb_ae48_003ee1c6c0a9row8_col0\" class=\"data row8 col0\" >0.0125</td>\n",
       "                        <td id=\"T_e12f4ac6_1351_11eb_ae48_003ee1c6c0a9row8_col1\" class=\"data row8 col1\" >0.0002</td>\n",
       "                        <td id=\"T_e12f4ac6_1351_11eb_ae48_003ee1c6c0a9row8_col2\" class=\"data row8 col2\" >0.0155</td>\n",
       "                        <td id=\"T_e12f4ac6_1351_11eb_ae48_003ee1c6c0a9row8_col3\" class=\"data row8 col3\" >-0.0254</td>\n",
       "                        <td id=\"T_e12f4ac6_1351_11eb_ae48_003ee1c6c0a9row8_col4\" class=\"data row8 col4\" >0.0125</td>\n",
       "                        <td id=\"T_e12f4ac6_1351_11eb_ae48_003ee1c6c0a9row8_col5\" class=\"data row8 col5\" >-0.2179</td>\n",
       "            </tr>\n",
       "            <tr>\n",
       "                        <th id=\"T_e12f4ac6_1351_11eb_ae48_003ee1c6c0a9level0_row9\" class=\"row_heading level0 row9\" >9</th>\n",
       "                        <td id=\"T_e12f4ac6_1351_11eb_ae48_003ee1c6c0a9row9_col0\" class=\"data row9 col0\" >0.0156</td>\n",
       "                        <td id=\"T_e12f4ac6_1351_11eb_ae48_003ee1c6c0a9row9_col1\" class=\"data row9 col1\" >0.0004</td>\n",
       "                        <td id=\"T_e12f4ac6_1351_11eb_ae48_003ee1c6c0a9row9_col2\" class=\"data row9 col2\" >0.0197</td>\n",
       "                        <td id=\"T_e12f4ac6_1351_11eb_ae48_003ee1c6c0a9row9_col3\" class=\"data row9 col3\" >-0.1515</td>\n",
       "                        <td id=\"T_e12f4ac6_1351_11eb_ae48_003ee1c6c0a9row9_col4\" class=\"data row9 col4\" >0.0170</td>\n",
       "                        <td id=\"T_e12f4ac6_1351_11eb_ae48_003ee1c6c0a9row9_col5\" class=\"data row9 col5\" >-0.4152</td>\n",
       "            </tr>\n",
       "            <tr>\n",
       "                        <th id=\"T_e12f4ac6_1351_11eb_ae48_003ee1c6c0a9level0_row10\" class=\"row_heading level0 row10\" >Mean</th>\n",
       "                        <td id=\"T_e12f4ac6_1351_11eb_ae48_003ee1c6c0a9row10_col0\" class=\"data row10 col0\" >0.0130</td>\n",
       "                        <td id=\"T_e12f4ac6_1351_11eb_ae48_003ee1c6c0a9row10_col1\" class=\"data row10 col1\" >0.0003</td>\n",
       "                        <td id=\"T_e12f4ac6_1351_11eb_ae48_003ee1c6c0a9row10_col2\" class=\"data row10 col2\" >0.0173</td>\n",
       "                        <td id=\"T_e12f4ac6_1351_11eb_ae48_003ee1c6c0a9row10_col3\" class=\"data row10 col3\" >-0.0687</td>\n",
       "                        <td id=\"T_e12f4ac6_1351_11eb_ae48_003ee1c6c0a9row10_col4\" class=\"data row10 col4\" >0.0144</td>\n",
       "                        <td id=\"T_e12f4ac6_1351_11eb_ae48_003ee1c6c0a9row10_col5\" class=\"data row10 col5\" >-0.0495</td>\n",
       "            </tr>\n",
       "            <tr>\n",
       "                        <th id=\"T_e12f4ac6_1351_11eb_ae48_003ee1c6c0a9level0_row11\" class=\"row_heading level0 row11\" >SD</th>\n",
       "                        <td id=\"T_e12f4ac6_1351_11eb_ae48_003ee1c6c0a9row11_col0\" class=\"data row11 col0\" >0.0022</td>\n",
       "                        <td id=\"T_e12f4ac6_1351_11eb_ae48_003ee1c6c0a9row11_col1\" class=\"data row11 col1\" >0.0001</td>\n",
       "                        <td id=\"T_e12f4ac6_1351_11eb_ae48_003ee1c6c0a9row11_col2\" class=\"data row11 col2\" >0.0040</td>\n",
       "                        <td id=\"T_e12f4ac6_1351_11eb_ae48_003ee1c6c0a9row11_col3\" class=\"data row11 col3\" >0.1583</td>\n",
       "                        <td id=\"T_e12f4ac6_1351_11eb_ae48_003ee1c6c0a9row11_col4\" class=\"data row11 col4\" >0.0031</td>\n",
       "                        <td id=\"T_e12f4ac6_1351_11eb_ae48_003ee1c6c0a9row11_col5\" class=\"data row11 col5\" >0.2153</td>\n",
       "            </tr>\n",
       "    </tbody></table>"
      ],
      "text/plain": [
       "<pandas.io.formats.style.Styler at 0x7f50fca84dc0>"
      ]
     },
     "metadata": {},
     "output_type": "display_data"
    }
   ],
   "source": [
    "clf_rf = create_model('rf')\n",
    "tuned_rf = tune_model(clf_rf)"
   ]
  },
  {
   "cell_type": "code",
   "execution_count": 32,
   "metadata": {},
   "outputs": [
    {
     "data": {
      "text/html": [
       "<style  type=\"text/css\" >\n",
       "#T_ec2b0b7c_1351_11eb_ae48_003ee1c6c0a9row10_col0,#T_ec2b0b7c_1351_11eb_ae48_003ee1c6c0a9row10_col1,#T_ec2b0b7c_1351_11eb_ae48_003ee1c6c0a9row10_col2,#T_ec2b0b7c_1351_11eb_ae48_003ee1c6c0a9row10_col3,#T_ec2b0b7c_1351_11eb_ae48_003ee1c6c0a9row10_col4,#T_ec2b0b7c_1351_11eb_ae48_003ee1c6c0a9row10_col5{\n",
       "            background:  yellow;\n",
       "        }</style><table id=\"T_ec2b0b7c_1351_11eb_ae48_003ee1c6c0a9\" ><thead>    <tr>        <th class=\"blank level0\" ></th>        <th class=\"col_heading level0 col0\" >MAE</th>        <th class=\"col_heading level0 col1\" >MSE</th>        <th class=\"col_heading level0 col2\" >RMSE</th>        <th class=\"col_heading level0 col3\" >R2</th>        <th class=\"col_heading level0 col4\" >RMSLE</th>        <th class=\"col_heading level0 col5\" >MAPE</th>    </tr></thead><tbody>\n",
       "                <tr>\n",
       "                        <th id=\"T_ec2b0b7c_1351_11eb_ae48_003ee1c6c0a9level0_row0\" class=\"row_heading level0 row0\" >0</th>\n",
       "                        <td id=\"T_ec2b0b7c_1351_11eb_ae48_003ee1c6c0a9row0_col0\" class=\"data row0 col0\" >0.0103</td>\n",
       "                        <td id=\"T_ec2b0b7c_1351_11eb_ae48_003ee1c6c0a9row0_col1\" class=\"data row0 col1\" >0.0002</td>\n",
       "                        <td id=\"T_ec2b0b7c_1351_11eb_ae48_003ee1c6c0a9row0_col2\" class=\"data row0 col2\" >0.0153</td>\n",
       "                        <td id=\"T_ec2b0b7c_1351_11eb_ae48_003ee1c6c0a9row0_col3\" class=\"data row0 col3\" >0.0296</td>\n",
       "                        <td id=\"T_ec2b0b7c_1351_11eb_ae48_003ee1c6c0a9row0_col4\" class=\"data row0 col4\" >0.0113</td>\n",
       "                        <td id=\"T_ec2b0b7c_1351_11eb_ae48_003ee1c6c0a9row0_col5\" class=\"data row0 col5\" >0.1054</td>\n",
       "            </tr>\n",
       "            <tr>\n",
       "                        <th id=\"T_ec2b0b7c_1351_11eb_ae48_003ee1c6c0a9level0_row1\" class=\"row_heading level0 row1\" >1</th>\n",
       "                        <td id=\"T_ec2b0b7c_1351_11eb_ae48_003ee1c6c0a9row1_col0\" class=\"data row1 col0\" >0.0095</td>\n",
       "                        <td id=\"T_ec2b0b7c_1351_11eb_ae48_003ee1c6c0a9row1_col1\" class=\"data row1 col1\" >0.0002</td>\n",
       "                        <td id=\"T_ec2b0b7c_1351_11eb_ae48_003ee1c6c0a9row1_col2\" class=\"data row1 col2\" >0.0126</td>\n",
       "                        <td id=\"T_ec2b0b7c_1351_11eb_ae48_003ee1c6c0a9row1_col3\" class=\"data row1 col3\" >0.4870</td>\n",
       "                        <td id=\"T_ec2b0b7c_1351_11eb_ae48_003ee1c6c0a9row1_col4\" class=\"data row1 col4\" >0.0123</td>\n",
       "                        <td id=\"T_ec2b0b7c_1351_11eb_ae48_003ee1c6c0a9row1_col5\" class=\"data row1 col5\" >-0.0545</td>\n",
       "            </tr>\n",
       "            <tr>\n",
       "                        <th id=\"T_ec2b0b7c_1351_11eb_ae48_003ee1c6c0a9level0_row2\" class=\"row_heading level0 row2\" >2</th>\n",
       "                        <td id=\"T_ec2b0b7c_1351_11eb_ae48_003ee1c6c0a9row2_col0\" class=\"data row2 col0\" >0.0084</td>\n",
       "                        <td id=\"T_ec2b0b7c_1351_11eb_ae48_003ee1c6c0a9row2_col1\" class=\"data row2 col1\" >0.0001</td>\n",
       "                        <td id=\"T_ec2b0b7c_1351_11eb_ae48_003ee1c6c0a9row2_col2\" class=\"data row2 col2\" >0.0100</td>\n",
       "                        <td id=\"T_ec2b0b7c_1351_11eb_ae48_003ee1c6c0a9row2_col3\" class=\"data row2 col3\" >0.4608</td>\n",
       "                        <td id=\"T_ec2b0b7c_1351_11eb_ae48_003ee1c6c0a9row2_col4\" class=\"data row2 col4\" >0.0096</td>\n",
       "                        <td id=\"T_ec2b0b7c_1351_11eb_ae48_003ee1c6c0a9row2_col5\" class=\"data row2 col5\" >-0.2611</td>\n",
       "            </tr>\n",
       "            <tr>\n",
       "                        <th id=\"T_ec2b0b7c_1351_11eb_ae48_003ee1c6c0a9level0_row3\" class=\"row_heading level0 row3\" >3</th>\n",
       "                        <td id=\"T_ec2b0b7c_1351_11eb_ae48_003ee1c6c0a9row3_col0\" class=\"data row3 col0\" >0.0107</td>\n",
       "                        <td id=\"T_ec2b0b7c_1351_11eb_ae48_003ee1c6c0a9row3_col1\" class=\"data row3 col1\" >0.0003</td>\n",
       "                        <td id=\"T_ec2b0b7c_1351_11eb_ae48_003ee1c6c0a9row3_col2\" class=\"data row3 col2\" >0.0182</td>\n",
       "                        <td id=\"T_ec2b0b7c_1351_11eb_ae48_003ee1c6c0a9row3_col3\" class=\"data row3 col3\" >0.3602</td>\n",
       "                        <td id=\"T_ec2b0b7c_1351_11eb_ae48_003ee1c6c0a9row3_col4\" class=\"data row3 col4\" >0.0172</td>\n",
       "                        <td id=\"T_ec2b0b7c_1351_11eb_ae48_003ee1c6c0a9row3_col5\" class=\"data row3 col5\" >-0.2728</td>\n",
       "            </tr>\n",
       "            <tr>\n",
       "                        <th id=\"T_ec2b0b7c_1351_11eb_ae48_003ee1c6c0a9level0_row4\" class=\"row_heading level0 row4\" >4</th>\n",
       "                        <td id=\"T_ec2b0b7c_1351_11eb_ae48_003ee1c6c0a9row4_col0\" class=\"data row4 col0\" >0.0093</td>\n",
       "                        <td id=\"T_ec2b0b7c_1351_11eb_ae48_003ee1c6c0a9row4_col1\" class=\"data row4 col1\" >0.0002</td>\n",
       "                        <td id=\"T_ec2b0b7c_1351_11eb_ae48_003ee1c6c0a9row4_col2\" class=\"data row4 col2\" >0.0126</td>\n",
       "                        <td id=\"T_ec2b0b7c_1351_11eb_ae48_003ee1c6c0a9row4_col3\" class=\"data row4 col3\" >0.4898</td>\n",
       "                        <td id=\"T_ec2b0b7c_1351_11eb_ae48_003ee1c6c0a9row4_col4\" class=\"data row4 col4\" >0.0114</td>\n",
       "                        <td id=\"T_ec2b0b7c_1351_11eb_ae48_003ee1c6c0a9row4_col5\" class=\"data row4 col5\" >-0.0303</td>\n",
       "            </tr>\n",
       "            <tr>\n",
       "                        <th id=\"T_ec2b0b7c_1351_11eb_ae48_003ee1c6c0a9level0_row5\" class=\"row_heading level0 row5\" >5</th>\n",
       "                        <td id=\"T_ec2b0b7c_1351_11eb_ae48_003ee1c6c0a9row5_col0\" class=\"data row5 col0\" >0.0097</td>\n",
       "                        <td id=\"T_ec2b0b7c_1351_11eb_ae48_003ee1c6c0a9row5_col1\" class=\"data row5 col1\" >0.0002</td>\n",
       "                        <td id=\"T_ec2b0b7c_1351_11eb_ae48_003ee1c6c0a9row5_col2\" class=\"data row5 col2\" >0.0150</td>\n",
       "                        <td id=\"T_ec2b0b7c_1351_11eb_ae48_003ee1c6c0a9row5_col3\" class=\"data row5 col3\" >-0.0629</td>\n",
       "                        <td id=\"T_ec2b0b7c_1351_11eb_ae48_003ee1c6c0a9row5_col4\" class=\"data row5 col4\" >0.0101</td>\n",
       "                        <td id=\"T_ec2b0b7c_1351_11eb_ae48_003ee1c6c0a9row5_col5\" class=\"data row5 col5\" >0.2236</td>\n",
       "            </tr>\n",
       "            <tr>\n",
       "                        <th id=\"T_ec2b0b7c_1351_11eb_ae48_003ee1c6c0a9level0_row6\" class=\"row_heading level0 row6\" >6</th>\n",
       "                        <td id=\"T_ec2b0b7c_1351_11eb_ae48_003ee1c6c0a9row6_col0\" class=\"data row6 col0\" >0.0108</td>\n",
       "                        <td id=\"T_ec2b0b7c_1351_11eb_ae48_003ee1c6c0a9row6_col1\" class=\"data row6 col1\" >0.0002</td>\n",
       "                        <td id=\"T_ec2b0b7c_1351_11eb_ae48_003ee1c6c0a9row6_col2\" class=\"data row6 col2\" >0.0148</td>\n",
       "                        <td id=\"T_ec2b0b7c_1351_11eb_ae48_003ee1c6c0a9row6_col3\" class=\"data row6 col3\" >0.4541</td>\n",
       "                        <td id=\"T_ec2b0b7c_1351_11eb_ae48_003ee1c6c0a9row6_col4\" class=\"data row6 col4\" >0.0136</td>\n",
       "                        <td id=\"T_ec2b0b7c_1351_11eb_ae48_003ee1c6c0a9row6_col5\" class=\"data row6 col5\" >0.0884</td>\n",
       "            </tr>\n",
       "            <tr>\n",
       "                        <th id=\"T_ec2b0b7c_1351_11eb_ae48_003ee1c6c0a9level0_row7\" class=\"row_heading level0 row7\" >7</th>\n",
       "                        <td id=\"T_ec2b0b7c_1351_11eb_ae48_003ee1c6c0a9row7_col0\" class=\"data row7 col0\" >0.0074</td>\n",
       "                        <td id=\"T_ec2b0b7c_1351_11eb_ae48_003ee1c6c0a9row7_col1\" class=\"data row7 col1\" >0.0001</td>\n",
       "                        <td id=\"T_ec2b0b7c_1351_11eb_ae48_003ee1c6c0a9row7_col2\" class=\"data row7 col2\" >0.0088</td>\n",
       "                        <td id=\"T_ec2b0b7c_1351_11eb_ae48_003ee1c6c0a9row7_col3\" class=\"data row7 col3\" >0.3888</td>\n",
       "                        <td id=\"T_ec2b0b7c_1351_11eb_ae48_003ee1c6c0a9row7_col4\" class=\"data row7 col4\" >0.0072</td>\n",
       "                        <td id=\"T_ec2b0b7c_1351_11eb_ae48_003ee1c6c0a9row7_col5\" class=\"data row7 col5\" >0.0199</td>\n",
       "            </tr>\n",
       "            <tr>\n",
       "                        <th id=\"T_ec2b0b7c_1351_11eb_ae48_003ee1c6c0a9level0_row8\" class=\"row_heading level0 row8\" >8</th>\n",
       "                        <td id=\"T_ec2b0b7c_1351_11eb_ae48_003ee1c6c0a9row8_col0\" class=\"data row8 col0\" >0.0093</td>\n",
       "                        <td id=\"T_ec2b0b7c_1351_11eb_ae48_003ee1c6c0a9row8_col1\" class=\"data row8 col1\" >0.0001</td>\n",
       "                        <td id=\"T_ec2b0b7c_1351_11eb_ae48_003ee1c6c0a9row8_col2\" class=\"data row8 col2\" >0.0114</td>\n",
       "                        <td id=\"T_ec2b0b7c_1351_11eb_ae48_003ee1c6c0a9row8_col3\" class=\"data row8 col3\" >0.4449</td>\n",
       "                        <td id=\"T_ec2b0b7c_1351_11eb_ae48_003ee1c6c0a9row8_col4\" class=\"data row8 col4\" >0.0106</td>\n",
       "                        <td id=\"T_ec2b0b7c_1351_11eb_ae48_003ee1c6c0a9row8_col5\" class=\"data row8 col5\" >-0.0728</td>\n",
       "            </tr>\n",
       "            <tr>\n",
       "                        <th id=\"T_ec2b0b7c_1351_11eb_ae48_003ee1c6c0a9level0_row9\" class=\"row_heading level0 row9\" >9</th>\n",
       "                        <td id=\"T_ec2b0b7c_1351_11eb_ae48_003ee1c6c0a9row9_col0\" class=\"data row9 col0\" >0.0122</td>\n",
       "                        <td id=\"T_ec2b0b7c_1351_11eb_ae48_003ee1c6c0a9row9_col1\" class=\"data row9 col1\" >0.0003</td>\n",
       "                        <td id=\"T_ec2b0b7c_1351_11eb_ae48_003ee1c6c0a9row9_col2\" class=\"data row9 col2\" >0.0162</td>\n",
       "                        <td id=\"T_ec2b0b7c_1351_11eb_ae48_003ee1c6c0a9row9_col3\" class=\"data row9 col3\" >0.2196</td>\n",
       "                        <td id=\"T_ec2b0b7c_1351_11eb_ae48_003ee1c6c0a9row9_col4\" class=\"data row9 col4\" >0.0147</td>\n",
       "                        <td id=\"T_ec2b0b7c_1351_11eb_ae48_003ee1c6c0a9row9_col5\" class=\"data row9 col5\" >-0.3076</td>\n",
       "            </tr>\n",
       "            <tr>\n",
       "                        <th id=\"T_ec2b0b7c_1351_11eb_ae48_003ee1c6c0a9level0_row10\" class=\"row_heading level0 row10\" >Mean</th>\n",
       "                        <td id=\"T_ec2b0b7c_1351_11eb_ae48_003ee1c6c0a9row10_col0\" class=\"data row10 col0\" >0.0098</td>\n",
       "                        <td id=\"T_ec2b0b7c_1351_11eb_ae48_003ee1c6c0a9row10_col1\" class=\"data row10 col1\" >0.0002</td>\n",
       "                        <td id=\"T_ec2b0b7c_1351_11eb_ae48_003ee1c6c0a9row10_col2\" class=\"data row10 col2\" >0.0135</td>\n",
       "                        <td id=\"T_ec2b0b7c_1351_11eb_ae48_003ee1c6c0a9row10_col3\" class=\"data row10 col3\" >0.3272</td>\n",
       "                        <td id=\"T_ec2b0b7c_1351_11eb_ae48_003ee1c6c0a9row10_col4\" class=\"data row10 col4\" >0.0118</td>\n",
       "                        <td id=\"T_ec2b0b7c_1351_11eb_ae48_003ee1c6c0a9row10_col5\" class=\"data row10 col5\" >-0.0562</td>\n",
       "            </tr>\n",
       "            <tr>\n",
       "                        <th id=\"T_ec2b0b7c_1351_11eb_ae48_003ee1c6c0a9level0_row11\" class=\"row_heading level0 row11\" >SD</th>\n",
       "                        <td id=\"T_ec2b0b7c_1351_11eb_ae48_003ee1c6c0a9row11_col0\" class=\"data row11 col0\" >0.0013</td>\n",
       "                        <td id=\"T_ec2b0b7c_1351_11eb_ae48_003ee1c6c0a9row11_col1\" class=\"data row11 col1\" >0.0001</td>\n",
       "                        <td id=\"T_ec2b0b7c_1351_11eb_ae48_003ee1c6c0a9row11_col2\" class=\"data row11 col2\" >0.0028</td>\n",
       "                        <td id=\"T_ec2b0b7c_1351_11eb_ae48_003ee1c6c0a9row11_col3\" class=\"data row11 col3\" >0.1889</td>\n",
       "                        <td id=\"T_ec2b0b7c_1351_11eb_ae48_003ee1c6c0a9row11_col4\" class=\"data row11 col4\" >0.0027</td>\n",
       "                        <td id=\"T_ec2b0b7c_1351_11eb_ae48_003ee1c6c0a9row11_col5\" class=\"data row11 col5\" >0.1686</td>\n",
       "            </tr>\n",
       "    </tbody></table>"
      ],
      "text/plain": [
       "<pandas.io.formats.style.Styler at 0x7f50fca4edf0>"
      ]
     },
     "metadata": {},
     "output_type": "display_data"
    }
   ],
   "source": [
    "clf_mlp = create_model('mlp')\n",
    "tuned_mlp = tune_model(clf_mlp)"
   ]
  },
  {
   "cell_type": "code",
   "execution_count": 33,
   "metadata": {
    "scrolled": true
   },
   "outputs": [],
   "source": [
    "predict_clf=predict_model(tuned_rf,data=test[features])\n",
    "oop=predict_clf['Label'].values"
   ]
  },
  {
   "cell_type": "code",
   "execution_count": 34,
   "metadata": {},
   "outputs": [],
   "source": [
    "predict_mlp=predict_model(tuned_mlp,data=test[features])\n",
    "oop_mlp=predict_mlp['Label'].values"
   ]
  },
  {
   "cell_type": "code",
   "execution_count": 35,
   "metadata": {},
   "outputs": [
    {
     "data": {
      "text/plain": [
       "array([ 0.0055,  0.0006, -0.0087,  0.0104, -0.007 ])"
      ]
     },
     "execution_count": 35,
     "metadata": {},
     "output_type": "execute_result"
    }
   ],
   "source": [
    "oop_mlp"
   ]
  },
  {
   "cell_type": "code",
   "execution_count": 36,
   "metadata": {},
   "outputs": [
    {
     "data": {
      "text/plain": [
       "array([0.0063, 0.0044, 0.0044, 0.0065, 0.0057])"
      ]
     },
     "execution_count": 36,
     "metadata": {},
     "output_type": "execute_result"
    }
   ],
   "source": [
    "oop"
   ]
  },
  {
   "cell_type": "code",
   "execution_count": 38,
   "metadata": {},
   "outputs": [
    {
     "data": {
      "text/html": [
       "<div>\n",
       "<style scoped>\n",
       "    .dataframe tbody tr th:only-of-type {\n",
       "        vertical-align: middle;\n",
       "    }\n",
       "\n",
       "    .dataframe tbody tr th {\n",
       "        vertical-align: top;\n",
       "    }\n",
       "\n",
       "    .dataframe thead th {\n",
       "        text-align: right;\n",
       "    }\n",
       "</style>\n",
       "<table border=\"1\" class=\"dataframe\">\n",
       "  <thead>\n",
       "    <tr style=\"text-align: right;\">\n",
       "      <th></th>\n",
       "      <th>open</th>\n",
       "      <th>high</th>\n",
       "      <th>low</th>\n",
       "      <th>close</th>\n",
       "      <th>adj_close</th>\n",
       "      <th>volume</th>\n",
       "      <th>y</th>\n",
       "      <th>EMA_5</th>\n",
       "      <th>EMA_20</th>\n",
       "      <th>MA5</th>\n",
       "      <th>MA20</th>\n",
       "      <th>LOGRET_1</th>\n",
       "      <th>logRet</th>\n",
       "    </tr>\n",
       "    <tr>\n",
       "      <th>date</th>\n",
       "      <th></th>\n",
       "      <th></th>\n",
       "      <th></th>\n",
       "      <th></th>\n",
       "      <th></th>\n",
       "      <th></th>\n",
       "      <th></th>\n",
       "      <th></th>\n",
       "      <th></th>\n",
       "      <th></th>\n",
       "      <th></th>\n",
       "      <th></th>\n",
       "      <th></th>\n",
       "    </tr>\n",
       "  </thead>\n",
       "  <tbody>\n",
       "    <tr>\n",
       "      <th>2020-10-14</th>\n",
       "      <td>460.5</td>\n",
       "      <td>461.0</td>\n",
       "      <td>457.0</td>\n",
       "      <td>459.0</td>\n",
       "      <td>459.0</td>\n",
       "      <td>40809241</td>\n",
       "      <td>453.0</td>\n",
       "      <td>454.930702</td>\n",
       "      <td>442.761997</td>\n",
       "      <td>454.930702</td>\n",
       "      <td>442.761997</td>\n",
       "      <td>-0.006515</td>\n",
       "      <td>-0.006515</td>\n",
       "    </tr>\n",
       "    <tr>\n",
       "      <th>2020-10-15</th>\n",
       "      <td>456.0</td>\n",
       "      <td>456.5</td>\n",
       "      <td>450.0</td>\n",
       "      <td>453.0</td>\n",
       "      <td>453.0</td>\n",
       "      <td>47775028</td>\n",
       "      <td>449.0</td>\n",
       "      <td>454.287135</td>\n",
       "      <td>443.737045</td>\n",
       "      <td>454.287135</td>\n",
       "      <td>443.737045</td>\n",
       "      <td>-0.013158</td>\n",
       "      <td>-0.013158</td>\n",
       "    </tr>\n",
       "    <tr>\n",
       "      <th>2020-10-16</th>\n",
       "      <td>451.0</td>\n",
       "      <td>456.0</td>\n",
       "      <td>448.5</td>\n",
       "      <td>449.0</td>\n",
       "      <td>449.0</td>\n",
       "      <td>46876801</td>\n",
       "      <td>457.5</td>\n",
       "      <td>452.524756</td>\n",
       "      <td>444.238279</td>\n",
       "      <td>452.524756</td>\n",
       "      <td>444.238279</td>\n",
       "      <td>-0.008869</td>\n",
       "      <td>-0.008869</td>\n",
       "    </tr>\n",
       "    <tr>\n",
       "      <th>2020-10-19</th>\n",
       "      <td>453.0</td>\n",
       "      <td>457.5</td>\n",
       "      <td>451.0</td>\n",
       "      <td>457.5</td>\n",
       "      <td>457.5</td>\n",
       "      <td>34470906</td>\n",
       "      <td>451.0</td>\n",
       "      <td>454.183171</td>\n",
       "      <td>445.501300</td>\n",
       "      <td>454.183171</td>\n",
       "      <td>445.501300</td>\n",
       "      <td>0.018754</td>\n",
       "      <td>0.018754</td>\n",
       "    </tr>\n",
       "    <tr>\n",
       "      <th>2020-10-20</th>\n",
       "      <td>455.5</td>\n",
       "      <td>457.0</td>\n",
       "      <td>451.0</td>\n",
       "      <td>451.0</td>\n",
       "      <td>451.0</td>\n",
       "      <td>25205638</td>\n",
       "      <td>451.0</td>\n",
       "      <td>453.122114</td>\n",
       "      <td>446.024986</td>\n",
       "      <td>453.122114</td>\n",
       "      <td>446.024986</td>\n",
       "      <td>-0.014310</td>\n",
       "      <td>-0.014310</td>\n",
       "    </tr>\n",
       "  </tbody>\n",
       "</table>\n",
       "</div>"
      ],
      "text/plain": [
       "             open   high    low  close  adj_close    volume      y  \\\n",
       "date                                                                 \n",
       "2020-10-14  460.5  461.0  457.0  459.0      459.0  40809241  453.0   \n",
       "2020-10-15  456.0  456.5  450.0  453.0      453.0  47775028  449.0   \n",
       "2020-10-16  451.0  456.0  448.5  449.0      449.0  46876801  457.5   \n",
       "2020-10-19  453.0  457.5  451.0  457.5      457.5  34470906  451.0   \n",
       "2020-10-20  455.5  457.0  451.0  451.0      451.0  25205638  451.0   \n",
       "\n",
       "                 EMA_5      EMA_20         MA5        MA20  LOGRET_1    logRet  \n",
       "date                                                                            \n",
       "2020-10-14  454.930702  442.761997  454.930702  442.761997 -0.006515 -0.006515  \n",
       "2020-10-15  454.287135  443.737045  454.287135  443.737045 -0.013158 -0.013158  \n",
       "2020-10-16  452.524756  444.238279  452.524756  444.238279 -0.008869 -0.008869  \n",
       "2020-10-19  454.183171  445.501300  454.183171  445.501300  0.018754  0.018754  \n",
       "2020-10-20  453.122114  446.024986  453.122114  446.024986 -0.014310 -0.014310  "
      ]
     },
     "execution_count": 38,
     "metadata": {},
     "output_type": "execute_result"
    }
   ],
   "source": [
    "df_TSM.tail()"
   ]
  },
  {
   "cell_type": "raw",
   "metadata": {},
   "source": [
    "(df_TSM.iloc[-6:-1]['Close']+oop).values\n",
    "\n",
    "(df_TSM.iloc[-6:-1]['Close']+oop).values"
   ]
  },
  {
   "cell_type": "code",
   "execution_count": 37,
   "metadata": {},
   "outputs": [
    {
     "data": {
      "text/plain": [
       "date\n",
       "2020-10-14   -0.006515\n",
       "2020-10-15   -0.013158\n",
       "2020-10-16   -0.008869\n",
       "2020-10-19    0.018754\n",
       "2020-10-20   -0.014310\n",
       "Name: logRet, dtype: float64"
      ]
     },
     "execution_count": 37,
     "metadata": {},
     "output_type": "execute_result"
    }
   ],
   "source": [
    "df_TSM.iloc[-5:,-1]"
   ]
  },
  {
   "cell_type": "code",
   "execution_count": 39,
   "metadata": {},
   "outputs": [],
   "source": [
    "test['logRet_rf']=oop\n",
    "test['logRet_mlp']=oop_mlp"
   ]
  },
  {
   "cell_type": "code",
   "execution_count": 40,
   "metadata": {},
   "outputs": [
    {
     "data": {
      "text/plain": [
       "<AxesSubplot:xlabel='date'>"
      ]
     },
     "execution_count": 40,
     "metadata": {},
     "output_type": "execute_result"
    },
    {
     "data": {
      "image/png": "[encoded data removed]",
      "text/plain": [
       "<Figure size 432x288 with 1 Axes>"
      ]
     },
     "metadata": {
      "needs_background": "light"
     },
     "output_type": "display_data"
    }
   ],
   "source": [
    "test[['logRet','logRet_rf','logRet_mlp']].plot()"
   ]
  },
  {
   "cell_type": "code",
   "execution_count": 41,
   "metadata": {},
   "outputs": [
    {
     "data": {
      "application/vnd.plotly.v1+json": {
       "config": {
        "plotlyServerURL": "https://plot.ly"
       },
       "data": [
        {
         "hovertemplate": "variable=logRet<br>date=%{x}<br>value=%{y}<extra></extra>",
         "legendgroup": "logRet",
         "line": {
          "color": "#636efa",
          "dash": "solid"
         },
         "mode": "lines",
         "name": "logRet",
         "orientation": "v",
         "showlegend": true,
         "type": "scatter",
         "x": [
          "2020-10-14T00:00:00",
          "2020-10-15T00:00:00",
          "2020-10-16T00:00:00",
          "2020-10-19T00:00:00",
          "2020-10-20T00:00:00"
         ],
         "xaxis": "x",
         "y": [
          -0.006514681021193347,
          -0.013158084577510998,
          -0.008869237740779745,
          0.01875399697332103,
          -0.014309545212896957
         ],
         "yaxis": "y"
        },
        {
         "hovertemplate": "variable=logRet_rf<br>date=%{x}<br>value=%{y}<extra></extra>",
         "legendgroup": "logRet_rf",
         "line": {
          "color": "#EF553B",
          "dash": "solid"
         },
         "mode": "lines",
         "name": "logRet_rf",
         "orientation": "v",
         "showlegend": true,
         "type": "scatter",
         "x": [
          "2020-10-14T00:00:00",
          "2020-10-15T00:00:00",
          "2020-10-16T00:00:00",
          "2020-10-19T00:00:00",
          "2020-10-20T00:00:00"
         ],
         "xaxis": "x",
         "y": [
          0.0063,
          0.0044,
          0.0044,
          0.0065,
          0.0057
         ],
         "yaxis": "y"
        },
        {
         "hovertemplate": "variable=logRet_mlp<br>date=%{x}<br>value=%{y}<extra></extra>",
         "legendgroup": "logRet_mlp",
         "line": {
          "color": "#00cc96",
          "dash": "solid"
         },
         "mode": "lines",
         "name": "logRet_mlp",
         "orientation": "v",
         "showlegend": true,
         "type": "scatter",
         "x": [
          "2020-10-14T00:00:00",
          "2020-10-15T00:00:00",
          "2020-10-16T00:00:00",
          "2020-10-19T00:00:00",
          "2020-10-20T00:00:00"
         ],
         "xaxis": "x",
         "y": [
          0.0055,
          0.0006,
          -0.0087,
          0.0104,
          -0.007
         ],
         "yaxis": "y"
        }
       ],
       "layout": {
        "legend": {
         "title": {
          "text": "variable"
         },
         "tracegroupgap": 0
        },
        "template": {
         "data": {
          "bar": [
           {
            "error_x": {
             "color": "#2a3f5f"
            },
            "error_y": {
             "color": "#2a3f5f"
            },
            "marker": {
             "line": {
              "color": "#E5ECF6",
              "width": 0.5
             }
            },
            "type": "bar"
           }
          ],
          "barpolar": [
           {
            "marker": {
             "line": {
              "color": "#E5ECF6",
              "width": 0.5
             }
            },
            "type": "barpolar"
           }
          ],
          "carpet": [
           {
            "aaxis": {
             "endlinecolor": "#2a3f5f",
             "gridcolor": "white",
             "linecolor": "white",
             "minorgridcolor": "white",
             "startlinecolor": "#2a3f5f"
            },
            "baxis": {
             "endlinecolor": "#2a3f5f",
             "gridcolor": "white",
             "linecolor": "white",
             "minorgridcolor": "white",
             "startlinecolor": "#2a3f5f"
            },
            "type": "carpet"
           }
          ],
          "choropleth": [
           {
            "colorbar": {
             "outlinewidth": 0,
             "ticks": ""
            },
            "type": "choropleth"
           }
          ],
          "contour": [
           {
            "colorbar": {
             "outlinewidth": 0,
             "ticks": ""
            },
            "colorscale": [
             [
              0,
              "#0d0887"
             ],
             [
              0.1111111111111111,
              "#46039f"
             ],
             [
              0.2222222222222222,
              "#7201a8"
             ],
             [
              0.3333333333333333,
              "#9c179e"
             ],
             [
              0.4444444444444444,
              "#bd3786"
             ],
             [
              0.5555555555555556,
              "#d8576b"
             ],
             [
              0.6666666666666666,
              "#ed7953"
             ],
             [
              0.7777777777777778,
              "#fb9f3a"
             ],
             [
              0.8888888888888888,
              "#fdca26"
             ],
             [
              1,
              "#f0f921"
             ]
            ],
            "type": "contour"
           }
          ],
          "contourcarpet": [
           {
            "colorbar": {
             "outlinewidth": 0,
             "ticks": ""
            },
            "type": "contourcarpet"
           }
          ],
          "heatmap": [
           {
            "colorbar": {
             "outlinewidth": 0,
             "ticks": ""
            },
            "colorscale": [
             [
              0,
              "#0d0887"
             ],
             [
              0.1111111111111111,
              "#46039f"
             ],
             [
              0.2222222222222222,
              "#7201a8"
             ],
             [
              0.3333333333333333,
              "#9c179e"
             ],
             [
              0.4444444444444444,
              "#bd3786"
             ],
             [
              0.5555555555555556,
              "#d8576b"
             ],
             [
              0.6666666666666666,
              "#ed7953"
             ],
             [
              0.7777777777777778,
              "#fb9f3a"
             ],
             [
              0.8888888888888888,
              "#fdca26"
             ],
             [
              1,
              "#f0f921"
             ]
            ],
            "type": "heatmap"
           }
          ],
          "heatmapgl": [
           {
            "colorbar": {
             "outlinewidth": 0,
             "ticks": ""
            },
            "colorscale": [
             [
              0,
              "#0d0887"
             ],
             [
              0.1111111111111111,
              "#46039f"
             ],
             [
              0.2222222222222222,
              "#7201a8"
             ],
             [
              0.3333333333333333,
              "#9c179e"
             ],
             [
              0.4444444444444444,
              "#bd3786"
             ],
             [
              0.5555555555555556,
              "#d8576b"
             ],
             [
              0.6666666666666666,
              "#ed7953"
             ],
             [
              0.7777777777777778,
              "#fb9f3a"
             ],
             [
              0.8888888888888888,
              "#fdca26"
             ],
             [
              1,
              "#f0f921"
             ]
            ],
            "type": "heatmapgl"
           }
          ],
          "histogram": [
           {
            "marker": {
             "colorbar": {
              "outlinewidth": 0,
              "ticks": ""
             }
            },
            "type": "histogram"
           }
          ],
          "histogram2d": [
           {
            "colorbar": {
             "outlinewidth": 0,
             "ticks": ""
            },
            "colorscale": [
             [
              0,
              "#0d0887"
             ],
             [
              0.1111111111111111,
              "#46039f"
             ],
             [
              0.2222222222222222,
              "#7201a8"
             ],
             [
              0.3333333333333333,
              "#9c179e"
             ],
             [
              0.4444444444444444,
              "#bd3786"
             ],
             [
              0.5555555555555556,
              "#d8576b"
             ],
             [
              0.6666666666666666,
              "#ed7953"
             ],
             [
              0.7777777777777778,
              "#fb9f3a"
             ],
             [
              0.8888888888888888,
              "#fdca26"
             ],
             [
              1,
              "#f0f921"
             ]
            ],
            "type": "histogram2d"
           }
          ],
          "histogram2dcontour": [
           {
            "colorbar": {
             "outlinewidth": 0,
             "ticks": ""
            },
            "colorscale": [
             [
              0,
              "#0d0887"
             ],
             [
              0.1111111111111111,
              "#46039f"
             ],
             [
              0.2222222222222222,
              "#7201a8"
             ],
             [
              0.3333333333333333,
              "#9c179e"
             ],
             [
              0.4444444444444444,
              "#bd3786"
             ],
             [
              0.5555555555555556,
              "#d8576b"
             ],
             [
              0.6666666666666666,
              "#ed7953"
             ],
             [
              0.7777777777777778,
              "#fb9f3a"
             ],
             [
              0.8888888888888888,
              "#fdca26"
             ],
             [
              1,
              "#f0f921"
             ]
            ],
            "type": "histogram2dcontour"
           }
          ],
          "mesh3d": [
           {
            "colorbar": {
             "outlinewidth": 0,
             "ticks": ""
            },
            "type": "mesh3d"
           }
          ],
          "parcoords": [
           {
            "line": {
             "colorbar": {
              "outlinewidth": 0,
              "ticks": ""
             }
            },
            "type": "parcoords"
           }
          ],
          "pie": [
           {
            "automargin": true,
            "type": "pie"
           }
          ],
          "scatter": [
           {
            "marker": {
             "colorbar": {
              "outlinewidth": 0,
              "ticks": ""
             }
            },
            "type": "scatter"
           }
          ],
          "scatter3d": [
           {
            "line": {
             "colorbar": {
              "outlinewidth": 0,
              "ticks": ""
             }
            },
            "marker": {
             "colorbar": {
              "outlinewidth": 0,
              "ticks": ""
             }
            },
            "type": "scatter3d"
           }
          ],
          "scattercarpet": [
           {
            "marker": {
             "colorbar": {
              "outlinewidth": 0,
              "ticks": ""
             }
            },
            "type": "scattercarpet"
           }
          ],
          "scattergeo": [
           {
            "marker": {
             "colorbar": {
              "outlinewidth": 0,
              "ticks": ""
             }
            },
            "type": "scattergeo"
           }
          ],
          "scattergl": [
           {
            "marker": {
             "colorbar": {
              "outlinewidth": 0,
              "ticks": ""
             }
            },
            "type": "scattergl"
           }
          ],
          "scattermapbox": [
           {
            "marker": {
             "colorbar": {
              "outlinewidth": 0,
              "ticks": ""
             }
            },
            "type": "scattermapbox"
           }
          ],
          "scatterpolar": [
           {
            "marker": {
             "colorbar": {
              "outlinewidth": 0,
              "ticks": ""
             }
            },
            "type": "scatterpolar"
           }
          ],
          "scatterpolargl": [
           {
            "marker": {
             "colorbar": {
              "outlinewidth": 0,
              "ticks": ""
             }
            },
            "type": "scatterpolargl"
           }
          ],
          "scatterternary": [
           {
            "marker": {
             "colorbar": {
              "outlinewidth": 0,
              "ticks": ""
             }
            },
            "type": "scatterternary"
           }
          ],
          "surface": [
           {
            "colorbar": {
             "outlinewidth": 0,
             "ticks": ""
            },
            "colorscale": [
             [
              0,
              "#0d0887"
             ],
             [
              0.1111111111111111,
              "#46039f"
             ],
             [
              0.2222222222222222,
              "#7201a8"
             ],
             [
              0.3333333333333333,
              "#9c179e"
             ],
             [
              0.4444444444444444,
              "#bd3786"
             ],
             [
              0.5555555555555556,
              "#d8576b"
             ],
             [
              0.6666666666666666,
              "#ed7953"
             ],
             [
              0.7777777777777778,
              "#fb9f3a"
             ],
             [
              0.8888888888888888,
              "#fdca26"
             ],
             [
              1,
              "#f0f921"
             ]
            ],
            "type": "surface"
           }
          ],
          "table": [
           {
            "cells": {
             "fill": {
              "color": "#EBF0F8"
             },
             "line": {
              "color": "white"
             }
            },
            "header": {
             "fill": {
              "color": "#C8D4E3"
             },
             "line": {
              "color": "white"
             }
            },
            "type": "table"
           }
          ]
         },
         "layout": {
          "annotationdefaults": {
           "arrowcolor": "#2a3f5f",
           "arrowhead": 0,
           "arrowwidth": 1
          },
          "coloraxis": {
           "colorbar": {
            "outlinewidth": 0,
            "ticks": ""
           }
          },
          "colorscale": {
           "diverging": [
            [
             0,
             "#8e0152"
            ],
            [
             0.1,
             "#c51b7d"
            ],
            [
             0.2,
             "#de77ae"
            ],
            [
             0.3,
             "#f1b6da"
            ],
            [
             0.4,
             "#fde0ef"
            ],
            [
             0.5,
             "#f7f7f7"
            ],
            [
             0.6,
             "#e6f5d0"
            ],
            [
             0.7,
             "#b8e186"
            ],
            [
             0.8,
             "#7fbc41"
            ],
            [
             0.9,
             "#4d9221"
            ],
            [
             1,
             "#276419"
            ]
           ],
           "sequential": [
            [
             0,
             "#0d0887"
            ],
            [
             0.1111111111111111,
             "#46039f"
            ],
            [
             0.2222222222222222,
             "#7201a8"
            ],
            [
             0.3333333333333333,
             "#9c179e"
            ],
            [
             0.4444444444444444,
             "#bd3786"
            ],
            [
             0.5555555555555556,
             "#d8576b"
            ],
            [
             0.6666666666666666,
             "#ed7953"
            ],
            [
             0.7777777777777778,
             "#fb9f3a"
            ],
            [
             0.8888888888888888,
             "#fdca26"
            ],
            [
             1,
             "#f0f921"
            ]
           ],
           "sequentialminus": [
            [
             0,
             "#0d0887"
            ],
            [
             0.1111111111111111,
             "#46039f"
            ],
            [
             0.2222222222222222,
             "#7201a8"
            ],
            [
             0.3333333333333333,
             "#9c179e"
            ],
            [
             0.4444444444444444,
             "#bd3786"
            ],
            [
             0.5555555555555556,
             "#d8576b"
            ],
            [
             0.6666666666666666,
             "#ed7953"
            ],
            [
             0.7777777777777778,
             "#fb9f3a"
            ],
            [
             0.8888888888888888,
             "#fdca26"
            ],
            [
             1,
             "#f0f921"
            ]
           ]
          },
          "colorway": [
           "#636efa",
           "#EF553B",
           "#00cc96",
           "#ab63fa",
           "#FFA15A",
           "#19d3f3",
           "#FF6692",
           "#B6E880",
           "#FF97FF",
           "#FECB52"
          ],
          "font": {
           "color": "#2a3f5f"
          },
          "geo": {
           "bgcolor": "white",
           "lakecolor": "white",
           "landcolor": "#E5ECF6",
           "showlakes": true,
           "showland": true,
           "subunitcolor": "white"
          },
          "hoverlabel": {
           "align": "left"
          },
          "hovermode": "closest",
          "mapbox": {
           "style": "light"
          },
          "paper_bgcolor": "white",
          "plot_bgcolor": "#E5ECF6",
          "polar": {
           "angularaxis": {
            "gridcolor": "white",
            "linecolor": "white",
            "ticks": ""
           },
           "bgcolor": "#E5ECF6",
           "radialaxis": {
            "gridcolor": "white",
            "linecolor": "white",
            "ticks": ""
           }
          },
          "scene": {
           "xaxis": {
            "backgroundcolor": "#E5ECF6",
            "gridcolor": "white",
            "gridwidth": 2,
            "linecolor": "white",
            "showbackground": true,
            "ticks": "",
            "zerolinecolor": "white"
           },
           "yaxis": {
            "backgroundcolor": "#E5ECF6",
            "gridcolor": "white",
            "gridwidth": 2,
            "linecolor": "white",
            "showbackground": true,
            "ticks": "",
            "zerolinecolor": "white"
           },
           "zaxis": {
            "backgroundcolor": "#E5ECF6",
            "gridcolor": "white",
            "gridwidth": 2,
            "linecolor": "white",
            "showbackground": true,
            "ticks": "",
            "zerolinecolor": "white"
           }
          },
          "shapedefaults": {
           "line": {
            "color": "#2a3f5f"
           }
          },
          "ternary": {
           "aaxis": {
            "gridcolor": "white",
            "linecolor": "white",
            "ticks": ""
           },
           "baxis": {
            "gridcolor": "white",
            "linecolor": "white",
            "ticks": ""
           },
           "bgcolor": "#E5ECF6",
           "caxis": {
            "gridcolor": "white",
            "linecolor": "white",
            "ticks": ""
           }
          },
          "title": {
           "x": 0.05
          },
          "xaxis": {
           "automargin": true,
           "gridcolor": "white",
           "linecolor": "white",
           "ticks": "",
           "title": {
            "standoff": 15
           },
           "zerolinecolor": "white",
           "zerolinewidth": 2
          },
          "yaxis": {
           "automargin": true,
           "gridcolor": "white",
           "linecolor": "white",
           "ticks": "",
           "title": {
            "standoff": 15
           },
           "zerolinecolor": "white",
           "zerolinewidth": 2
          }
         }
        },
        "title": {
         "text": "Predict Log of Return"
        },
        "xaxis": {
         "anchor": "y",
         "domain": [
          0,
          1
         ],
         "title": {
          "text": "date"
         }
        },
        "yaxis": {
         "anchor": "x",
         "domain": [
          0,
          1
         ],
         "title": {
          "text": "value"
         }
        }
       }
      },
      "text/html": [
       "<div>                            <div id=\"53553c8c-fdfa-4e50-b2ae-ff0aba562c3e\" class=\"plotly-graph-div\" style=\"height:525px; width:100%;\"></div>            <script type=\"text/javascript\">                require([\"plotly\"], function(Plotly) {                    window.PLOTLYENV=window.PLOTLYENV || {};                                    if (document.getElementById(\"53553c8c-fdfa-4e50-b2ae-ff0aba562c3e\")) {                    Plotly.newPlot(                        \"53553c8c-fdfa-4e50-b2ae-ff0aba562c3e\",                        [{\"hovertemplate\": \"variable=logRet<br>date=%{x}<br>value=%{y}<extra></extra>\", \"legendgroup\": \"logRet\", \"line\": {\"color\": \"#636efa\", \"dash\": \"solid\"}, \"mode\": \"lines\", \"name\": \"logRet\", \"orientation\": \"v\", \"showlegend\": true, \"type\": \"scatter\", \"x\": [\"2020-10-14T00:00:00\", \"2020-10-15T00:00:00\", \"2020-10-16T00:00:00\", \"2020-10-19T00:00:00\", \"2020-10-20T00:00:00\"], \"xaxis\": \"x\", \"y\": [-0.006514681021193347, -0.013158084577510998, -0.008869237740779745, 0.01875399697332103, -0.014309545212896957], \"yaxis\": \"y\"}, {\"hovertemplate\": \"variable=logRet_rf<br>date=%{x}<br>value=%{y}<extra></extra>\", \"legendgroup\": \"logRet_rf\", \"line\": {\"color\": \"#EF553B\", \"dash\": \"solid\"}, \"mode\": \"lines\", \"name\": \"logRet_rf\", \"orientation\": \"v\", \"showlegend\": true, \"type\": \"scatter\", \"x\": [\"2020-10-14T00:00:00\", \"2020-10-15T00:00:00\", \"2020-10-16T00:00:00\", \"2020-10-19T00:00:00\", \"2020-10-20T00:00:00\"], \"xaxis\": \"x\", \"y\": [0.0063, 0.0044, 0.0044, 0.0065, 0.0057], \"yaxis\": \"y\"}, {\"hovertemplate\": \"variable=logRet_mlp<br>date=%{x}<br>value=%{y}<extra></extra>\", \"legendgroup\": \"logRet_mlp\", \"line\": {\"color\": \"#00cc96\", \"dash\": \"solid\"}, \"mode\": \"lines\", \"name\": \"logRet_mlp\", \"orientation\": \"v\", \"showlegend\": true, \"type\": \"scatter\", \"x\": [\"2020-10-14T00:00:00\", \"2020-10-15T00:00:00\", \"2020-10-16T00:00:00\", \"2020-10-19T00:00:00\", \"2020-10-20T00:00:00\"], \"xaxis\": \"x\", \"y\": [0.0055, 0.0006, -0.0087, 0.0104, -0.007], \"yaxis\": \"y\"}],                        {\"legend\": {\"title\": {\"text\": \"variable\"}, \"tracegroupgap\": 0}, \"template\": {\"data\": {\"bar\": [{\"error_x\": {\"color\": \"#2a3f5f\"}, \"error_y\": {\"color\": \"#2a3f5f\"}, \"marker\": {\"line\": {\"color\": \"#E5ECF6\", \"width\": 0.5}}, \"type\": \"bar\"}], \"barpolar\": [{\"marker\": {\"line\": {\"color\": \"#E5ECF6\", \"width\": 0.5}}, \"type\": \"barpolar\"}], \"carpet\": [{\"aaxis\": {\"endlinecolor\": \"#2a3f5f\", \"gridcolor\": \"white\", \"linecolor\": \"white\", \"minorgridcolor\": \"white\", \"startlinecolor\": \"#2a3f5f\"}, \"baxis\": {\"endlinecolor\": \"#2a3f5f\", \"gridcolor\": \"white\", \"linecolor\": \"white\", \"minorgridcolor\": \"white\", \"startlinecolor\": \"#2a3f5f\"}, \"type\": \"carpet\"}], \"choropleth\": [{\"colorbar\": {\"outlinewidth\": 0, \"ticks\": \"\"}, \"type\": \"choropleth\"}], \"contour\": [{\"colorbar\": {\"outlinewidth\": 0, \"ticks\": \"\"}, \"colorscale\": [[0.0, \"#0d0887\"], [0.1111111111111111, \"#46039f\"], [0.2222222222222222, \"#7201a8\"], [0.3333333333333333, \"#9c179e\"], [0.4444444444444444, \"#bd3786\"], [0.5555555555555556, \"#d8576b\"], [0.6666666666666666, \"#ed7953\"], [0.7777777777777778, \"#fb9f3a\"], [0.8888888888888888, \"#fdca26\"], [1.0, \"#f0f921\"]], \"type\": \"contour\"}], \"contourcarpet\": [{\"colorbar\": {\"outlinewidth\": 0, \"ticks\": \"\"}, \"type\": \"contourcarpet\"}], \"heatmap\": [{\"colorbar\": {\"outlinewidth\": 0, \"ticks\": \"\"}, \"colorscale\": [[0.0, \"#0d0887\"], [0.1111111111111111, \"#46039f\"], [0.2222222222222222, \"#7201a8\"], [0.3333333333333333, \"#9c179e\"], [0.4444444444444444, \"#bd3786\"], [0.5555555555555556, \"#d8576b\"], [0.6666666666666666, \"#ed7953\"], [0.7777777777777778, \"#fb9f3a\"], [0.8888888888888888, \"#fdca26\"], [1.0, \"#f0f921\"]], \"type\": \"heatmap\"}], \"heatmapgl\": [{\"colorbar\": {\"outlinewidth\": 0, \"ticks\": \"\"}, \"colorscale\": [[0.0, \"#0d0887\"], [0.1111111111111111, \"#46039f\"], [0.2222222222222222, \"#7201a8\"], [0.3333333333333333, \"#9c179e\"], [0.4444444444444444, \"#bd3786\"], [0.5555555555555556, \"#d8576b\"], [0.6666666666666666, \"#ed7953\"], [0.7777777777777778, \"#fb9f3a\"], [0.8888888888888888, \"#fdca26\"], [1.0, \"#f0f921\"]], \"type\": \"heatmapgl\"}], \"histogram\": [{\"marker\": {\"colorbar\": {\"outlinewidth\": 0, \"ticks\": \"\"}}, \"type\": \"histogram\"}], \"histogram2d\": [{\"colorbar\": {\"outlinewidth\": 0, \"ticks\": \"\"}, \"colorscale\": [[0.0, \"#0d0887\"], [0.1111111111111111, \"#46039f\"], [0.2222222222222222, \"#7201a8\"], [0.3333333333333333, \"#9c179e\"], [0.4444444444444444, \"#bd3786\"], [0.5555555555555556, \"#d8576b\"], [0.6666666666666666, \"#ed7953\"], [0.7777777777777778, \"#fb9f3a\"], [0.8888888888888888, \"#fdca26\"], [1.0, \"#f0f921\"]], \"type\": \"histogram2d\"}], \"histogram2dcontour\": [{\"colorbar\": {\"outlinewidth\": 0, \"ticks\": \"\"}, \"colorscale\": [[0.0, \"#0d0887\"], [0.1111111111111111, \"#46039f\"], [0.2222222222222222, \"#7201a8\"], [0.3333333333333333, \"#9c179e\"], [0.4444444444444444, \"#bd3786\"], [0.5555555555555556, \"#d8576b\"], [0.6666666666666666, \"#ed7953\"], [0.7777777777777778, \"#fb9f3a\"], [0.8888888888888888, \"#fdca26\"], [1.0, \"#f0f921\"]], \"type\": \"histogram2dcontour\"}], \"mesh3d\": [{\"colorbar\": {\"outlinewidth\": 0, \"ticks\": \"\"}, \"type\": \"mesh3d\"}], \"parcoords\": [{\"line\": {\"colorbar\": {\"outlinewidth\": 0, \"ticks\": \"\"}}, \"type\": \"parcoords\"}], \"pie\": [{\"automargin\": true, \"type\": \"pie\"}], \"scatter\": [{\"marker\": {\"colorbar\": {\"outlinewidth\": 0, \"ticks\": \"\"}}, \"type\": \"scatter\"}], \"scatter3d\": [{\"line\": {\"colorbar\": {\"outlinewidth\": 0, \"ticks\": \"\"}}, \"marker\": {\"colorbar\": {\"outlinewidth\": 0, \"ticks\": \"\"}}, \"type\": \"scatter3d\"}], \"scattercarpet\": [{\"marker\": {\"colorbar\": {\"outlinewidth\": 0, \"ticks\": \"\"}}, \"type\": \"scattercarpet\"}], \"scattergeo\": [{\"marker\": {\"colorbar\": {\"outlinewidth\": 0, \"ticks\": \"\"}}, \"type\": \"scattergeo\"}], \"scattergl\": [{\"marker\": {\"colorbar\": {\"outlinewidth\": 0, \"ticks\": \"\"}}, \"type\": \"scattergl\"}], \"scattermapbox\": [{\"marker\": {\"colorbar\": {\"outlinewidth\": 0, \"ticks\": \"\"}}, \"type\": \"scattermapbox\"}], \"scatterpolar\": [{\"marker\": {\"colorbar\": {\"outlinewidth\": 0, \"ticks\": \"\"}}, \"type\": \"scatterpolar\"}], \"scatterpolargl\": [{\"marker\": {\"colorbar\": {\"outlinewidth\": 0, \"ticks\": \"\"}}, \"type\": \"scatterpolargl\"}], \"scatterternary\": [{\"marker\": {\"colorbar\": {\"outlinewidth\": 0, \"ticks\": \"\"}}, \"type\": \"scatterternary\"}], \"surface\": [{\"colorbar\": {\"outlinewidth\": 0, \"ticks\": \"\"}, \"colorscale\": [[0.0, \"#0d0887\"], [0.1111111111111111, \"#46039f\"], [0.2222222222222222, \"#7201a8\"], [0.3333333333333333, \"#9c179e\"], [0.4444444444444444, \"#bd3786\"], [0.5555555555555556, \"#d8576b\"], [0.6666666666666666, \"#ed7953\"], [0.7777777777777778, \"#fb9f3a\"], [0.8888888888888888, \"#fdca26\"], [1.0, \"#f0f921\"]], \"type\": \"surface\"}], \"table\": [{\"cells\": {\"fill\": {\"color\": \"#EBF0F8\"}, \"line\": {\"color\": \"white\"}}, \"header\": {\"fill\": {\"color\": \"#C8D4E3\"}, \"line\": {\"color\": \"white\"}}, \"type\": \"table\"}]}, \"layout\": {\"annotationdefaults\": {\"arrowcolor\": \"#2a3f5f\", \"arrowhead\": 0, \"arrowwidth\": 1}, \"coloraxis\": {\"colorbar\": {\"outlinewidth\": 0, \"ticks\": \"\"}}, \"colorscale\": {\"diverging\": [[0, \"#8e0152\"], [0.1, \"#c51b7d\"], [0.2, \"#de77ae\"], [0.3, \"#f1b6da\"], [0.4, \"#fde0ef\"], [0.5, \"#f7f7f7\"], [0.6, \"#e6f5d0\"], [0.7, \"#b8e186\"], [0.8, \"#7fbc41\"], [0.9, \"#4d9221\"], [1, \"#276419\"]], \"sequential\": [[0.0, \"#0d0887\"], [0.1111111111111111, \"#46039f\"], [0.2222222222222222, \"#7201a8\"], [0.3333333333333333, \"#9c179e\"], [0.4444444444444444, \"#bd3786\"], [0.5555555555555556, \"#d8576b\"], [0.6666666666666666, \"#ed7953\"], [0.7777777777777778, \"#fb9f3a\"], [0.8888888888888888, \"#fdca26\"], [1.0, \"#f0f921\"]], \"sequentialminus\": [[0.0, \"#0d0887\"], [0.1111111111111111, \"#46039f\"], [0.2222222222222222, \"#7201a8\"], [0.3333333333333333, \"#9c179e\"], [0.4444444444444444, \"#bd3786\"], [0.5555555555555556, \"#d8576b\"], [0.6666666666666666, \"#ed7953\"], [0.7777777777777778, \"#fb9f3a\"], [0.8888888888888888, \"#fdca26\"], [1.0, \"#f0f921\"]]}, \"colorway\": [\"#636efa\", \"#EF553B\", \"#00cc96\", \"#ab63fa\", \"#FFA15A\", \"#19d3f3\", \"#FF6692\", \"#B6E880\", \"#FF97FF\", \"#FECB52\"], \"font\": {\"color\": \"#2a3f5f\"}, \"geo\": {\"bgcolor\": \"white\", \"lakecolor\": \"white\", \"landcolor\": \"#E5ECF6\", \"showlakes\": true, \"showland\": true, \"subunitcolor\": \"white\"}, \"hoverlabel\": {\"align\": \"left\"}, \"hovermode\": \"closest\", \"mapbox\": {\"style\": \"light\"}, \"paper_bgcolor\": \"white\", \"plot_bgcolor\": \"#E5ECF6\", \"polar\": {\"angularaxis\": {\"gridcolor\": \"white\", \"linecolor\": \"white\", \"ticks\": \"\"}, \"bgcolor\": \"#E5ECF6\", \"radialaxis\": {\"gridcolor\": \"white\", \"linecolor\": \"white\", \"ticks\": \"\"}}, \"scene\": {\"xaxis\": {\"backgroundcolor\": \"#E5ECF6\", \"gridcolor\": \"white\", \"gridwidth\": 2, \"linecolor\": \"white\", \"showbackground\": true, \"ticks\": \"\", \"zerolinecolor\": \"white\"}, \"yaxis\": {\"backgroundcolor\": \"#E5ECF6\", \"gridcolor\": \"white\", \"gridwidth\": 2, \"linecolor\": \"white\", \"showbackground\": true, \"ticks\": \"\", \"zerolinecolor\": \"white\"}, \"zaxis\": {\"backgroundcolor\": \"#E5ECF6\", \"gridcolor\": \"white\", \"gridwidth\": 2, \"linecolor\": \"white\", \"showbackground\": true, \"ticks\": \"\", \"zerolinecolor\": \"white\"}}, \"shapedefaults\": {\"line\": {\"color\": \"#2a3f5f\"}}, \"ternary\": {\"aaxis\": {\"gridcolor\": \"white\", \"linecolor\": \"white\", \"ticks\": \"\"}, \"baxis\": {\"gridcolor\": \"white\", \"linecolor\": \"white\", \"ticks\": \"\"}, \"bgcolor\": \"#E5ECF6\", \"caxis\": {\"gridcolor\": \"white\", \"linecolor\": \"white\", \"ticks\": \"\"}}, \"title\": {\"x\": 0.05}, \"xaxis\": {\"automargin\": true, \"gridcolor\": \"white\", \"linecolor\": \"white\", \"ticks\": \"\", \"title\": {\"standoff\": 15}, \"zerolinecolor\": \"white\", \"zerolinewidth\": 2}, \"yaxis\": {\"automargin\": true, \"gridcolor\": \"white\", \"linecolor\": \"white\", \"ticks\": \"\", \"title\": {\"standoff\": 15}, \"zerolinecolor\": \"white\", \"zerolinewidth\": 2}}}, \"title\": {\"text\": \"Predict Log of Return\"}, \"xaxis\": {\"anchor\": \"y\", \"domain\": [0.0, 1.0], \"title\": {\"text\": \"date\"}}, \"yaxis\": {\"anchor\": \"x\", \"domain\": [0.0, 1.0], \"title\": {\"text\": \"value\"}}},                        {\"responsive\": true}                    ).then(function(){\n",
       "                            \n",
       "var gd = document.getElementById('53553c8c-fdfa-4e50-b2ae-ff0aba562c3e');\n",
       "var x = new MutationObserver(function (mutations, observer) {{\n",
       "        var display = window.getComputedStyle(gd).display;\n",
       "        if (!display || display === 'none') {{\n",
       "            console.log([gd, 'removed!']);\n",
       "            Plotly.purge(gd);\n",
       "            observer.disconnect();\n",
       "        }}\n",
       "}});\n",
       "\n",
       "// Listen for the removal of the full notebook cells\n",
       "var notebookContainer = gd.closest('#notebook-container');\n",
       "if (notebookContainer) {{\n",
       "    x.observe(notebookContainer, {childList: true});\n",
       "}}\n",
       "\n",
       "// Listen for the clearing of the current output cell\n",
       "var outputEl = gd.closest('.output');\n",
       "if (outputEl) {{\n",
       "    x.observe(outputEl, {childList: true});\n",
       "}}\n",
       "\n",
       "                        })                };                });            </script>        </div>"
      ]
     },
     "metadata": {},
     "output_type": "display_data"
    }
   ],
   "source": [
    "ex.line(test[['logRet','logRet_rf','logRet_mlp']],title=\"Predict Log of Return\")"
   ]
  },
  {
   "cell_type": "code",
   "execution_count": 42,
   "metadata": {},
   "outputs": [
    {
     "data": {
      "text/html": [
       "<div>\n",
       "<style scoped>\n",
       "    .dataframe tbody tr th:only-of-type {\n",
       "        vertical-align: middle;\n",
       "    }\n",
       "\n",
       "    .dataframe tbody tr th {\n",
       "        vertical-align: top;\n",
       "    }\n",
       "\n",
       "    .dataframe thead th {\n",
       "        text-align: right;\n",
       "    }\n",
       "</style>\n",
       "<table border=\"1\" class=\"dataframe\">\n",
       "  <thead>\n",
       "    <tr style=\"text-align: right;\">\n",
       "      <th></th>\n",
       "      <th>open</th>\n",
       "      <th>high</th>\n",
       "      <th>low</th>\n",
       "      <th>close</th>\n",
       "      <th>adj_close</th>\n",
       "      <th>volume</th>\n",
       "      <th>y</th>\n",
       "      <th>EMA_5</th>\n",
       "      <th>EMA_20</th>\n",
       "      <th>MA5</th>\n",
       "      <th>MA20</th>\n",
       "      <th>LOGRET_1</th>\n",
       "      <th>logRet</th>\n",
       "      <th>logRet_rf</th>\n",
       "      <th>logRet_mlp</th>\n",
       "    </tr>\n",
       "    <tr>\n",
       "      <th>date</th>\n",
       "      <th></th>\n",
       "      <th></th>\n",
       "      <th></th>\n",
       "      <th></th>\n",
       "      <th></th>\n",
       "      <th></th>\n",
       "      <th></th>\n",
       "      <th></th>\n",
       "      <th></th>\n",
       "      <th></th>\n",
       "      <th></th>\n",
       "      <th></th>\n",
       "      <th></th>\n",
       "      <th></th>\n",
       "      <th></th>\n",
       "    </tr>\n",
       "  </thead>\n",
       "  <tbody>\n",
       "    <tr>\n",
       "      <th>2020-10-14</th>\n",
       "      <td>460.5</td>\n",
       "      <td>461.0</td>\n",
       "      <td>457.0</td>\n",
       "      <td>459.0</td>\n",
       "      <td>459.0</td>\n",
       "      <td>40809241</td>\n",
       "      <td>453.0</td>\n",
       "      <td>454.930702</td>\n",
       "      <td>442.761997</td>\n",
       "      <td>454.930702</td>\n",
       "      <td>442.761997</td>\n",
       "      <td>-0.006515</td>\n",
       "      <td>-0.006515</td>\n",
       "      <td>0.0063</td>\n",
       "      <td>0.0055</td>\n",
       "    </tr>\n",
       "    <tr>\n",
       "      <th>2020-10-15</th>\n",
       "      <td>456.0</td>\n",
       "      <td>456.5</td>\n",
       "      <td>450.0</td>\n",
       "      <td>453.0</td>\n",
       "      <td>453.0</td>\n",
       "      <td>47775028</td>\n",
       "      <td>449.0</td>\n",
       "      <td>454.287135</td>\n",
       "      <td>443.737045</td>\n",
       "      <td>454.287135</td>\n",
       "      <td>443.737045</td>\n",
       "      <td>-0.013158</td>\n",
       "      <td>-0.013158</td>\n",
       "      <td>0.0044</td>\n",
       "      <td>0.0006</td>\n",
       "    </tr>\n",
       "    <tr>\n",
       "      <th>2020-10-16</th>\n",
       "      <td>451.0</td>\n",
       "      <td>456.0</td>\n",
       "      <td>448.5</td>\n",
       "      <td>449.0</td>\n",
       "      <td>449.0</td>\n",
       "      <td>46876801</td>\n",
       "      <td>457.5</td>\n",
       "      <td>452.524756</td>\n",
       "      <td>444.238279</td>\n",
       "      <td>452.524756</td>\n",
       "      <td>444.238279</td>\n",
       "      <td>-0.008869</td>\n",
       "      <td>-0.008869</td>\n",
       "      <td>0.0044</td>\n",
       "      <td>-0.0087</td>\n",
       "    </tr>\n",
       "    <tr>\n",
       "      <th>2020-10-19</th>\n",
       "      <td>453.0</td>\n",
       "      <td>457.5</td>\n",
       "      <td>451.0</td>\n",
       "      <td>457.5</td>\n",
       "      <td>457.5</td>\n",
       "      <td>34470906</td>\n",
       "      <td>451.0</td>\n",
       "      <td>454.183171</td>\n",
       "      <td>445.501300</td>\n",
       "      <td>454.183171</td>\n",
       "      <td>445.501300</td>\n",
       "      <td>0.018754</td>\n",
       "      <td>0.018754</td>\n",
       "      <td>0.0065</td>\n",
       "      <td>0.0104</td>\n",
       "    </tr>\n",
       "    <tr>\n",
       "      <th>2020-10-20</th>\n",
       "      <td>455.5</td>\n",
       "      <td>457.0</td>\n",
       "      <td>451.0</td>\n",
       "      <td>451.0</td>\n",
       "      <td>451.0</td>\n",
       "      <td>25205638</td>\n",
       "      <td>451.0</td>\n",
       "      <td>453.122114</td>\n",
       "      <td>446.024986</td>\n",
       "      <td>453.122114</td>\n",
       "      <td>446.024986</td>\n",
       "      <td>-0.014310</td>\n",
       "      <td>-0.014310</td>\n",
       "      <td>0.0057</td>\n",
       "      <td>-0.0070</td>\n",
       "    </tr>\n",
       "  </tbody>\n",
       "</table>\n",
       "</div>"
      ],
      "text/plain": [
       "             open   high    low  close  adj_close    volume      y  \\\n",
       "date                                                                 \n",
       "2020-10-14  460.5  461.0  457.0  459.0      459.0  40809241  453.0   \n",
       "2020-10-15  456.0  456.5  450.0  453.0      453.0  47775028  449.0   \n",
       "2020-10-16  451.0  456.0  448.5  449.0      449.0  46876801  457.5   \n",
       "2020-10-19  453.0  457.5  451.0  457.5      457.5  34470906  451.0   \n",
       "2020-10-20  455.5  457.0  451.0  451.0      451.0  25205638  451.0   \n",
       "\n",
       "                 EMA_5      EMA_20         MA5        MA20  LOGRET_1  \\\n",
       "date                                                                   \n",
       "2020-10-14  454.930702  442.761997  454.930702  442.761997 -0.006515   \n",
       "2020-10-15  454.287135  443.737045  454.287135  443.737045 -0.013158   \n",
       "2020-10-16  452.524756  444.238279  452.524756  444.238279 -0.008869   \n",
       "2020-10-19  454.183171  445.501300  454.183171  445.501300  0.018754   \n",
       "2020-10-20  453.122114  446.024986  453.122114  446.024986 -0.014310   \n",
       "\n",
       "              logRet  logRet_rf  logRet_mlp  \n",
       "date                                         \n",
       "2020-10-14 -0.006515     0.0063      0.0055  \n",
       "2020-10-15 -0.013158     0.0044      0.0006  \n",
       "2020-10-16 -0.008869     0.0044     -0.0087  \n",
       "2020-10-19  0.018754     0.0065      0.0104  \n",
       "2020-10-20 -0.014310     0.0057     -0.0070  "
      ]
     },
     "execution_count": 42,
     "metadata": {},
     "output_type": "execute_result"
    }
   ],
   "source": [
    "test"
   ]
  },
  {
   "cell_type": "code",
   "execution_count": 45,
   "metadata": {},
   "outputs": [
    {
     "data": {
      "text/plain": [
       "date\n",
       "2020-10-13    462.0\n",
       "2020-10-14    459.0\n",
       "2020-10-15    453.0\n",
       "2020-10-16    449.0\n",
       "2020-10-19    457.5\n",
       "Name: close, dtype: float64"
      ]
     },
     "execution_count": 45,
     "metadata": {},
     "output_type": "execute_result"
    }
   ],
   "source": [
    "df_TSM['close'][-6:-1]"
   ]
  },
  {
   "cell_type": "code",
   "execution_count": 48,
   "metadata": {},
   "outputs": [
    {
     "data": {
      "text/plain": [
       "date\n",
       "2020-10-14    459.0\n",
       "2020-10-15    453.0\n",
       "2020-10-16    449.0\n",
       "2020-10-19    457.5\n",
       "2020-10-20    451.0\n",
       "Name: logRet, dtype: float64"
      ]
     },
     "execution_count": 48,
     "metadata": {},
     "output_type": "execute_result"
    }
   ],
   "source": [
    "df_TSM['close'][-6:-1].values*np.exp(df_TSM['logRet'][-5:])"
   ]
  },
  {
   "cell_type": "code",
   "execution_count": 50,
   "metadata": {},
   "outputs": [],
   "source": [
    "test['Predict_MLP']=df_TSM['close'][-6:-1].values*np.exp(test['logRet_mlp'].values)\n",
    "test['Predict_rf']=df_TSM['close'][-6:-1].values*np.exp(test['logRet_rf'].values)\n"
   ]
  },
  {
   "cell_type": "code",
   "execution_count": 54,
   "metadata": {},
   "outputs": [
    {
     "data": {
      "application/vnd.plotly.v1+json": {
       "config": {
        "plotlyServerURL": "https://plot.ly"
       },
       "data": [
        {
         "hovertemplate": "variable=close<br>date=%{x}<br>value=%{y}<extra></extra>",
         "legendgroup": "close",
         "line": {
          "color": "#636efa",
          "dash": "solid"
         },
         "mode": "lines",
         "name": "close",
         "orientation": "v",
         "showlegend": true,
         "type": "scatter",
         "x": [
          "2020-10-14T00:00:00",
          "2020-10-15T00:00:00",
          "2020-10-16T00:00:00",
          "2020-10-19T00:00:00",
          "2020-10-20T00:00:00"
         ],
         "xaxis": "x",
         "y": [
          459,
          453,
          449,
          457.5,
          451
         ],
         "yaxis": "y"
        },
        {
         "hovertemplate": "variable=Predict_rf<br>date=%{x}<br>value=%{y}<extra></extra>",
         "legendgroup": "Predict_rf",
         "line": {
          "color": "#EF553B",
          "dash": "solid"
         },
         "mode": "lines",
         "name": "Predict_rf",
         "orientation": "v",
         "showlegend": true,
         "type": "scatter",
         "x": [
          "2020-10-14T00:00:00",
          "2020-10-15T00:00:00",
          "2020-10-16T00:00:00",
          "2020-10-19T00:00:00",
          "2020-10-20T00:00:00"
         ],
         "xaxis": "x",
         "y": [
          464.9197876739817,
          461.0240496437505,
          454.9975914784727,
          451.92800570954313,
          460.1151962286116
         ],
         "yaxis": "y"
        },
        {
         "hovertemplate": "variable=Predict_MLP<br>date=%{x}<br>value=%{y}<extra></extra>",
         "legendgroup": "Predict_MLP",
         "line": {
          "color": "#00cc96",
          "dash": "solid"
         },
         "mode": "lines",
         "name": "Predict_MLP",
         "orientation": "v",
         "showlegend": true,
         "type": "scatter",
         "x": [
          "2020-10-14T00:00:00",
          "2020-10-15T00:00:00",
          "2020-10-16T00:00:00",
          "2020-10-19T00:00:00",
          "2020-10-20T00:00:00"
         ],
         "xaxis": "x",
         "y": [
          464.54800057850935,
          459.2754826365265,
          449.07599417597004,
          453.6939663166397,
          454.30868264195504
         ],
         "yaxis": "y"
        }
       ],
       "layout": {
        "legend": {
         "title": {
          "text": "variable"
         },
         "tracegroupgap": 0
        },
        "template": {
         "data": {
          "bar": [
           {
            "error_x": {
             "color": "#2a3f5f"
            },
            "error_y": {
             "color": "#2a3f5f"
            },
            "marker": {
             "line": {
              "color": "#E5ECF6",
              "width": 0.5
             }
            },
            "type": "bar"
           }
          ],
          "barpolar": [
           {
            "marker": {
             "line": {
              "color": "#E5ECF6",
              "width": 0.5
             }
            },
            "type": "barpolar"
           }
          ],
          "carpet": [
           {
            "aaxis": {
             "endlinecolor": "#2a3f5f",
             "gridcolor": "white",
             "linecolor": "white",
             "minorgridcolor": "white",
             "startlinecolor": "#2a3f5f"
            },
            "baxis": {
             "endlinecolor": "#2a3f5f",
             "gridcolor": "white",
             "linecolor": "white",
             "minorgridcolor": "white",
             "startlinecolor": "#2a3f5f"
            },
            "type": "carpet"
           }
          ],
          "choropleth": [
           {
            "colorbar": {
             "outlinewidth": 0,
             "ticks": ""
            },
            "type": "choropleth"
           }
          ],
          "contour": [
           {
            "colorbar": {
             "outlinewidth": 0,
             "ticks": ""
            },
            "colorscale": [
             [
              0,
              "#0d0887"
             ],
             [
              0.1111111111111111,
              "#46039f"
             ],
             [
              0.2222222222222222,
              "#7201a8"
             ],
             [
              0.3333333333333333,
              "#9c179e"
             ],
             [
              0.4444444444444444,
              "#bd3786"
             ],
             [
              0.5555555555555556,
              "#d8576b"
             ],
             [
              0.6666666666666666,
              "#ed7953"
             ],
             [
              0.7777777777777778,
              "#fb9f3a"
             ],
             [
              0.8888888888888888,
              "#fdca26"
             ],
             [
              1,
              "#f0f921"
             ]
            ],
            "type": "contour"
           }
          ],
          "contourcarpet": [
           {
            "colorbar": {
             "outlinewidth": 0,
             "ticks": ""
            },
            "type": "contourcarpet"
           }
          ],
          "heatmap": [
           {
            "colorbar": {
             "outlinewidth": 0,
             "ticks": ""
            },
            "colorscale": [
             [
              0,
              "#0d0887"
             ],
             [
              0.1111111111111111,
              "#46039f"
             ],
             [
              0.2222222222222222,
              "#7201a8"
             ],
             [
              0.3333333333333333,
              "#9c179e"
             ],
             [
              0.4444444444444444,
              "#bd3786"
             ],
             [
              0.5555555555555556,
              "#d8576b"
             ],
             [
              0.6666666666666666,
              "#ed7953"
             ],
             [
              0.7777777777777778,
              "#fb9f3a"
             ],
             [
              0.8888888888888888,
              "#fdca26"
             ],
             [
              1,
              "#f0f921"
             ]
            ],
            "type": "heatmap"
           }
          ],
          "heatmapgl": [
           {
            "colorbar": {
             "outlinewidth": 0,
             "ticks": ""
            },
            "colorscale": [
             [
              0,
              "#0d0887"
             ],
             [
              0.1111111111111111,
              "#46039f"
             ],
             [
              0.2222222222222222,
              "#7201a8"
             ],
             [
              0.3333333333333333,
              "#9c179e"
             ],
             [
              0.4444444444444444,
              "#bd3786"
             ],
             [
              0.5555555555555556,
              "#d8576b"
             ],
             [
              0.6666666666666666,
              "#ed7953"
             ],
             [
              0.7777777777777778,
              "#fb9f3a"
             ],
             [
              0.8888888888888888,
              "#fdca26"
             ],
             [
              1,
              "#f0f921"
             ]
            ],
            "type": "heatmapgl"
           }
          ],
          "histogram": [
           {
            "marker": {
             "colorbar": {
              "outlinewidth": 0,
              "ticks": ""
             }
            },
            "type": "histogram"
           }
          ],
          "histogram2d": [
           {
            "colorbar": {
             "outlinewidth": 0,
             "ticks": ""
            },
            "colorscale": [
             [
              0,
              "#0d0887"
             ],
             [
              0.1111111111111111,
              "#46039f"
             ],
             [
              0.2222222222222222,
              "#7201a8"
             ],
             [
              0.3333333333333333,
              "#9c179e"
             ],
             [
              0.4444444444444444,
              "#bd3786"
             ],
             [
              0.5555555555555556,
              "#d8576b"
             ],
             [
              0.6666666666666666,
              "#ed7953"
             ],
             [
              0.7777777777777778,
              "#fb9f3a"
             ],
             [
              0.8888888888888888,
              "#fdca26"
             ],
             [
              1,
              "#f0f921"
             ]
            ],
            "type": "histogram2d"
           }
          ],
          "histogram2dcontour": [
           {
            "colorbar": {
             "outlinewidth": 0,
             "ticks": ""
            },
            "colorscale": [
             [
              0,
              "#0d0887"
             ],
             [
              0.1111111111111111,
              "#46039f"
             ],
             [
              0.2222222222222222,
              "#7201a8"
             ],
             [
              0.3333333333333333,
              "#9c179e"
             ],
             [
              0.4444444444444444,
              "#bd3786"
             ],
             [
              0.5555555555555556,
              "#d8576b"
             ],
             [
              0.6666666666666666,
              "#ed7953"
             ],
             [
              0.7777777777777778,
              "#fb9f3a"
             ],
             [
              0.8888888888888888,
              "#fdca26"
             ],
             [
              1,
              "#f0f921"
             ]
            ],
            "type": "histogram2dcontour"
           }
          ],
          "mesh3d": [
           {
            "colorbar": {
             "outlinewidth": 0,
             "ticks": ""
            },
            "type": "mesh3d"
           }
          ],
          "parcoords": [
           {
            "line": {
             "colorbar": {
              "outlinewidth": 0,
              "ticks": ""
             }
            },
            "type": "parcoords"
           }
          ],
          "pie": [
           {
            "automargin": true,
            "type": "pie"
           }
          ],
          "scatter": [
           {
            "marker": {
             "colorbar": {
              "outlinewidth": 0,
              "ticks": ""
             }
            },
            "type": "scatter"
           }
          ],
          "scatter3d": [
           {
            "line": {
             "colorbar": {
              "outlinewidth": 0,
              "ticks": ""
             }
            },
            "marker": {
             "colorbar": {
              "outlinewidth": 0,
              "ticks": ""
             }
            },
            "type": "scatter3d"
           }
          ],
          "scattercarpet": [
           {
            "marker": {
             "colorbar": {
              "outlinewidth": 0,
              "ticks": ""
             }
            },
            "type": "scattercarpet"
           }
          ],
          "scattergeo": [
           {
            "marker": {
             "colorbar": {
              "outlinewidth": 0,
              "ticks": ""
             }
            },
            "type": "scattergeo"
           }
          ],
          "scattergl": [
           {
            "marker": {
             "colorbar": {
              "outlinewidth": 0,
              "ticks": ""
             }
            },
            "type": "scattergl"
           }
          ],
          "scattermapbox": [
           {
            "marker": {
             "colorbar": {
              "outlinewidth": 0,
              "ticks": ""
             }
            },
            "type": "scattermapbox"
           }
          ],
          "scatterpolar": [
           {
            "marker": {
             "colorbar": {
              "outlinewidth": 0,
              "ticks": ""
             }
            },
            "type": "scatterpolar"
           }
          ],
          "scatterpolargl": [
           {
            "marker": {
             "colorbar": {
              "outlinewidth": 0,
              "ticks": ""
             }
            },
            "type": "scatterpolargl"
           }
          ],
          "scatterternary": [
           {
            "marker": {
             "colorbar": {
              "outlinewidth": 0,
              "ticks": ""
             }
            },
            "type": "scatterternary"
           }
          ],
          "surface": [
           {
            "colorbar": {
             "outlinewidth": 0,
             "ticks": ""
            },
            "colorscale": [
             [
              0,
              "#0d0887"
             ],
             [
              0.1111111111111111,
              "#46039f"
             ],
             [
              0.2222222222222222,
              "#7201a8"
             ],
             [
              0.3333333333333333,
              "#9c179e"
             ],
             [
              0.4444444444444444,
              "#bd3786"
             ],
             [
              0.5555555555555556,
              "#d8576b"
             ],
             [
              0.6666666666666666,
              "#ed7953"
             ],
             [
              0.7777777777777778,
              "#fb9f3a"
             ],
             [
              0.8888888888888888,
              "#fdca26"
             ],
             [
              1,
              "#f0f921"
             ]
            ],
            "type": "surface"
           }
          ],
          "table": [
           {
            "cells": {
             "fill": {
              "color": "#EBF0F8"
             },
             "line": {
              "color": "white"
             }
            },
            "header": {
             "fill": {
              "color": "#C8D4E3"
             },
             "line": {
              "color": "white"
             }
            },
            "type": "table"
           }
          ]
         },
         "layout": {
          "annotationdefaults": {
           "arrowcolor": "#2a3f5f",
           "arrowhead": 0,
           "arrowwidth": 1
          },
          "coloraxis": {
           "colorbar": {
            "outlinewidth": 0,
            "ticks": ""
           }
          },
          "colorscale": {
           "diverging": [
            [
             0,
             "#8e0152"
            ],
            [
             0.1,
             "#c51b7d"
            ],
            [
             0.2,
             "#de77ae"
            ],
            [
             0.3,
             "#f1b6da"
            ],
            [
             0.4,
             "#fde0ef"
            ],
            [
             0.5,
             "#f7f7f7"
            ],
            [
             0.6,
             "#e6f5d0"
            ],
            [
             0.7,
             "#b8e186"
            ],
            [
             0.8,
             "#7fbc41"
            ],
            [
             0.9,
             "#4d9221"
            ],
            [
             1,
             "#276419"
            ]
           ],
           "sequential": [
            [
             0,
             "#0d0887"
            ],
            [
             0.1111111111111111,
             "#46039f"
            ],
            [
             0.2222222222222222,
             "#7201a8"
            ],
            [
             0.3333333333333333,
             "#9c179e"
            ],
            [
             0.4444444444444444,
             "#bd3786"
            ],
            [
             0.5555555555555556,
             "#d8576b"
            ],
            [
             0.6666666666666666,
             "#ed7953"
            ],
            [
             0.7777777777777778,
             "#fb9f3a"
            ],
            [
             0.8888888888888888,
             "#fdca26"
            ],
            [
             1,
             "#f0f921"
            ]
           ],
           "sequentialminus": [
            [
             0,
             "#0d0887"
            ],
            [
             0.1111111111111111,
             "#46039f"
            ],
            [
             0.2222222222222222,
             "#7201a8"
            ],
            [
             0.3333333333333333,
             "#9c179e"
            ],
            [
             0.4444444444444444,
             "#bd3786"
            ],
            [
             0.5555555555555556,
             "#d8576b"
            ],
            [
             0.6666666666666666,
             "#ed7953"
            ],
            [
             0.7777777777777778,
             "#fb9f3a"
            ],
            [
             0.8888888888888888,
             "#fdca26"
            ],
            [
             1,
             "#f0f921"
            ]
           ]
          },
          "colorway": [
           "#636efa",
           "#EF553B",
           "#00cc96",
           "#ab63fa",
           "#FFA15A",
           "#19d3f3",
           "#FF6692",
           "#B6E880",
           "#FF97FF",
           "#FECB52"
          ],
          "font": {
           "color": "#2a3f5f"
          },
          "geo": {
           "bgcolor": "white",
           "lakecolor": "white",
           "landcolor": "#E5ECF6",
           "showlakes": true,
           "showland": true,
           "subunitcolor": "white"
          },
          "hoverlabel": {
           "align": "left"
          },
          "hovermode": "closest",
          "mapbox": {
           "style": "light"
          },
          "paper_bgcolor": "white",
          "plot_bgcolor": "#E5ECF6",
          "polar": {
           "angularaxis": {
            "gridcolor": "white",
            "linecolor": "white",
            "ticks": ""
           },
           "bgcolor": "#E5ECF6",
           "radialaxis": {
            "gridcolor": "white",
            "linecolor": "white",
            "ticks": ""
           }
          },
          "scene": {
           "xaxis": {
            "backgroundcolor": "#E5ECF6",
            "gridcolor": "white",
            "gridwidth": 2,
            "linecolor": "white",
            "showbackground": true,
            "ticks": "",
            "zerolinecolor": "white"
           },
           "yaxis": {
            "backgroundcolor": "#E5ECF6",
            "gridcolor": "white",
            "gridwidth": 2,
            "linecolor": "white",
            "showbackground": true,
            "ticks": "",
            "zerolinecolor": "white"
           },
           "zaxis": {
            "backgroundcolor": "#E5ECF6",
            "gridcolor": "white",
            "gridwidth": 2,
            "linecolor": "white",
            "showbackground": true,
            "ticks": "",
            "zerolinecolor": "white"
           }
          },
          "shapedefaults": {
           "line": {
            "color": "#2a3f5f"
           }
          },
          "ternary": {
           "aaxis": {
            "gridcolor": "white",
            "linecolor": "white",
            "ticks": ""
           },
           "baxis": {
            "gridcolor": "white",
            "linecolor": "white",
            "ticks": ""
           },
           "bgcolor": "#E5ECF6",
           "caxis": {
            "gridcolor": "white",
            "linecolor": "white",
            "ticks": ""
           }
          },
          "title": {
           "x": 0.05
          },
          "xaxis": {
           "automargin": true,
           "gridcolor": "white",
           "linecolor": "white",
           "ticks": "",
           "title": {
            "standoff": 15
           },
           "zerolinecolor": "white",
           "zerolinewidth": 2
          },
          "yaxis": {
           "automargin": true,
           "gridcolor": "white",
           "linecolor": "white",
           "ticks": "",
           "title": {
            "standoff": 15
           },
           "zerolinecolor": "white",
           "zerolinewidth": 2
          }
         }
        },
        "title": {
         "text": "Predict"
        },
        "xaxis": {
         "anchor": "y",
         "domain": [
          0,
          1
         ],
         "title": {
          "text": "date"
         }
        },
        "yaxis": {
         "anchor": "x",
         "domain": [
          0,
          1
         ],
         "title": {
          "text": "value"
         }
        }
       }
      },
      "text/html": [
       "<div>                            <div id=\"31653dea-82dd-4e6a-a63a-38905afcae65\" class=\"plotly-graph-div\" style=\"height:525px; width:100%;\"></div>            <script type=\"text/javascript\">                require([\"plotly\"], function(Plotly) {                    window.PLOTLYENV=window.PLOTLYENV || {};                                    if (document.getElementById(\"31653dea-82dd-4e6a-a63a-38905afcae65\")) {                    Plotly.newPlot(                        \"31653dea-82dd-4e6a-a63a-38905afcae65\",                        [{\"hovertemplate\": \"variable=close<br>date=%{x}<br>value=%{y}<extra></extra>\", \"legendgroup\": \"close\", \"line\": {\"color\": \"#636efa\", \"dash\": \"solid\"}, \"mode\": \"lines\", \"name\": \"close\", \"orientation\": \"v\", \"showlegend\": true, \"type\": \"scatter\", \"x\": [\"2020-10-14T00:00:00\", \"2020-10-15T00:00:00\", \"2020-10-16T00:00:00\", \"2020-10-19T00:00:00\", \"2020-10-20T00:00:00\"], \"xaxis\": \"x\", \"y\": [459.0, 453.0, 449.0, 457.5, 451.0], \"yaxis\": \"y\"}, {\"hovertemplate\": \"variable=Predict_rf<br>date=%{x}<br>value=%{y}<extra></extra>\", \"legendgroup\": \"Predict_rf\", \"line\": {\"color\": \"#EF553B\", \"dash\": \"solid\"}, \"mode\": \"lines\", \"name\": \"Predict_rf\", \"orientation\": \"v\", \"showlegend\": true, \"type\": \"scatter\", \"x\": [\"2020-10-14T00:00:00\", \"2020-10-15T00:00:00\", \"2020-10-16T00:00:00\", \"2020-10-19T00:00:00\", \"2020-10-20T00:00:00\"], \"xaxis\": \"x\", \"y\": [464.9197876739817, 461.0240496437505, 454.9975914784727, 451.92800570954313, 460.1151962286116], \"yaxis\": \"y\"}, {\"hovertemplate\": \"variable=Predict_MLP<br>date=%{x}<br>value=%{y}<extra></extra>\", \"legendgroup\": \"Predict_MLP\", \"line\": {\"color\": \"#00cc96\", \"dash\": \"solid\"}, \"mode\": \"lines\", \"name\": \"Predict_MLP\", \"orientation\": \"v\", \"showlegend\": true, \"type\": \"scatter\", \"x\": [\"2020-10-14T00:00:00\", \"2020-10-15T00:00:00\", \"2020-10-16T00:00:00\", \"2020-10-19T00:00:00\", \"2020-10-20T00:00:00\"], \"xaxis\": \"x\", \"y\": [464.54800057850935, 459.2754826365265, 449.07599417597004, 453.6939663166397, 454.30868264195504], \"yaxis\": \"y\"}],                        {\"legend\": {\"title\": {\"text\": \"variable\"}, \"tracegroupgap\": 0}, \"template\": {\"data\": {\"bar\": [{\"error_x\": {\"color\": \"#2a3f5f\"}, \"error_y\": {\"color\": \"#2a3f5f\"}, \"marker\": {\"line\": {\"color\": \"#E5ECF6\", \"width\": 0.5}}, \"type\": \"bar\"}], \"barpolar\": [{\"marker\": {\"line\": {\"color\": \"#E5ECF6\", \"width\": 0.5}}, \"type\": \"barpolar\"}], \"carpet\": [{\"aaxis\": {\"endlinecolor\": \"#2a3f5f\", \"gridcolor\": \"white\", \"linecolor\": \"white\", \"minorgridcolor\": \"white\", \"startlinecolor\": \"#2a3f5f\"}, \"baxis\": {\"endlinecolor\": \"#2a3f5f\", \"gridcolor\": \"white\", \"linecolor\": \"white\", \"minorgridcolor\": \"white\", \"startlinecolor\": \"#2a3f5f\"}, \"type\": \"carpet\"}], \"choropleth\": [{\"colorbar\": {\"outlinewidth\": 0, \"ticks\": \"\"}, \"type\": \"choropleth\"}], \"contour\": [{\"colorbar\": {\"outlinewidth\": 0, \"ticks\": \"\"}, \"colorscale\": [[0.0, \"#0d0887\"], [0.1111111111111111, \"#46039f\"], [0.2222222222222222, \"#7201a8\"], [0.3333333333333333, \"#9c179e\"], [0.4444444444444444, \"#bd3786\"], [0.5555555555555556, \"#d8576b\"], [0.6666666666666666, \"#ed7953\"], [0.7777777777777778, \"#fb9f3a\"], [0.8888888888888888, \"#fdca26\"], [1.0, \"#f0f921\"]], \"type\": \"contour\"}], \"contourcarpet\": [{\"colorbar\": {\"outlinewidth\": 0, \"ticks\": \"\"}, \"type\": \"contourcarpet\"}], \"heatmap\": [{\"colorbar\": {\"outlinewidth\": 0, \"ticks\": \"\"}, \"colorscale\": [[0.0, \"#0d0887\"], [0.1111111111111111, \"#46039f\"], [0.2222222222222222, \"#7201a8\"], [0.3333333333333333, \"#9c179e\"], [0.4444444444444444, \"#bd3786\"], [0.5555555555555556, \"#d8576b\"], [0.6666666666666666, \"#ed7953\"], [0.7777777777777778, \"#fb9f3a\"], [0.8888888888888888, \"#fdca26\"], [1.0, \"#f0f921\"]], \"type\": \"heatmap\"}], \"heatmapgl\": [{\"colorbar\": {\"outlinewidth\": 0, \"ticks\": \"\"}, \"colorscale\": [[0.0, \"#0d0887\"], [0.1111111111111111, \"#46039f\"], [0.2222222222222222, \"#7201a8\"], [0.3333333333333333, \"#9c179e\"], [0.4444444444444444, \"#bd3786\"], [0.5555555555555556, \"#d8576b\"], [0.6666666666666666, \"#ed7953\"], [0.7777777777777778, \"#fb9f3a\"], [0.8888888888888888, \"#fdca26\"], [1.0, \"#f0f921\"]], \"type\": \"heatmapgl\"}], \"histogram\": [{\"marker\": {\"colorbar\": {\"outlinewidth\": 0, \"ticks\": \"\"}}, \"type\": \"histogram\"}], \"histogram2d\": [{\"colorbar\": {\"outlinewidth\": 0, \"ticks\": \"\"}, \"colorscale\": [[0.0, \"#0d0887\"], [0.1111111111111111, \"#46039f\"], [0.2222222222222222, \"#7201a8\"], [0.3333333333333333, \"#9c179e\"], [0.4444444444444444, \"#bd3786\"], [0.5555555555555556, \"#d8576b\"], [0.6666666666666666, \"#ed7953\"], [0.7777777777777778, \"#fb9f3a\"], [0.8888888888888888, \"#fdca26\"], [1.0, \"#f0f921\"]], \"type\": \"histogram2d\"}], \"histogram2dcontour\": [{\"colorbar\": {\"outlinewidth\": 0, \"ticks\": \"\"}, \"colorscale\": [[0.0, \"#0d0887\"], [0.1111111111111111, \"#46039f\"], [0.2222222222222222, \"#7201a8\"], [0.3333333333333333, \"#9c179e\"], [0.4444444444444444, \"#bd3786\"], [0.5555555555555556, \"#d8576b\"], [0.6666666666666666, \"#ed7953\"], [0.7777777777777778, \"#fb9f3a\"], [0.8888888888888888, \"#fdca26\"], [1.0, \"#f0f921\"]], \"type\": \"histogram2dcontour\"}], \"mesh3d\": [{\"colorbar\": {\"outlinewidth\": 0, \"ticks\": \"\"}, \"type\": \"mesh3d\"}], \"parcoords\": [{\"line\": {\"colorbar\": {\"outlinewidth\": 0, \"ticks\": \"\"}}, \"type\": \"parcoords\"}], \"pie\": [{\"automargin\": true, \"type\": \"pie\"}], \"scatter\": [{\"marker\": {\"colorbar\": {\"outlinewidth\": 0, \"ticks\": \"\"}}, \"type\": \"scatter\"}], \"scatter3d\": [{\"line\": {\"colorbar\": {\"outlinewidth\": 0, \"ticks\": \"\"}}, \"marker\": {\"colorbar\": {\"outlinewidth\": 0, \"ticks\": \"\"}}, \"type\": \"scatter3d\"}], \"scattercarpet\": [{\"marker\": {\"colorbar\": {\"outlinewidth\": 0, \"ticks\": \"\"}}, \"type\": \"scattercarpet\"}], \"scattergeo\": [{\"marker\": {\"colorbar\": {\"outlinewidth\": 0, \"ticks\": \"\"}}, \"type\": \"scattergeo\"}], \"scattergl\": [{\"marker\": {\"colorbar\": {\"outlinewidth\": 0, \"ticks\": \"\"}}, \"type\": \"scattergl\"}], \"scattermapbox\": [{\"marker\": {\"colorbar\": {\"outlinewidth\": 0, \"ticks\": \"\"}}, \"type\": \"scattermapbox\"}], \"scatterpolar\": [{\"marker\": {\"colorbar\": {\"outlinewidth\": 0, \"ticks\": \"\"}}, \"type\": \"scatterpolar\"}], \"scatterpolargl\": [{\"marker\": {\"colorbar\": {\"outlinewidth\": 0, \"ticks\": \"\"}}, \"type\": \"scatterpolargl\"}], \"scatterternary\": [{\"marker\": {\"colorbar\": {\"outlinewidth\": 0, \"ticks\": \"\"}}, \"type\": \"scatterternary\"}], \"surface\": [{\"colorbar\": {\"outlinewidth\": 0, \"ticks\": \"\"}, \"colorscale\": [[0.0, \"#0d0887\"], [0.1111111111111111, \"#46039f\"], [0.2222222222222222, \"#7201a8\"], [0.3333333333333333, \"#9c179e\"], [0.4444444444444444, \"#bd3786\"], [0.5555555555555556, \"#d8576b\"], [0.6666666666666666, \"#ed7953\"], [0.7777777777777778, \"#fb9f3a\"], [0.8888888888888888, \"#fdca26\"], [1.0, \"#f0f921\"]], \"type\": \"surface\"}], \"table\": [{\"cells\": {\"fill\": {\"color\": \"#EBF0F8\"}, \"line\": {\"color\": \"white\"}}, \"header\": {\"fill\": {\"color\": \"#C8D4E3\"}, \"line\": {\"color\": \"white\"}}, \"type\": \"table\"}]}, \"layout\": {\"annotationdefaults\": {\"arrowcolor\": \"#2a3f5f\", \"arrowhead\": 0, \"arrowwidth\": 1}, \"coloraxis\": {\"colorbar\": {\"outlinewidth\": 0, \"ticks\": \"\"}}, \"colorscale\": {\"diverging\": [[0, \"#8e0152\"], [0.1, \"#c51b7d\"], [0.2, \"#de77ae\"], [0.3, \"#f1b6da\"], [0.4, \"#fde0ef\"], [0.5, \"#f7f7f7\"], [0.6, \"#e6f5d0\"], [0.7, \"#b8e186\"], [0.8, \"#7fbc41\"], [0.9, \"#4d9221\"], [1, \"#276419\"]], \"sequential\": [[0.0, \"#0d0887\"], [0.1111111111111111, \"#46039f\"], [0.2222222222222222, \"#7201a8\"], [0.3333333333333333, \"#9c179e\"], [0.4444444444444444, \"#bd3786\"], [0.5555555555555556, \"#d8576b\"], [0.6666666666666666, \"#ed7953\"], [0.7777777777777778, \"#fb9f3a\"], [0.8888888888888888, \"#fdca26\"], [1.0, \"#f0f921\"]], \"sequentialminus\": [[0.0, \"#0d0887\"], [0.1111111111111111, \"#46039f\"], [0.2222222222222222, \"#7201a8\"], [0.3333333333333333, \"#9c179e\"], [0.4444444444444444, \"#bd3786\"], [0.5555555555555556, \"#d8576b\"], [0.6666666666666666, \"#ed7953\"], [0.7777777777777778, \"#fb9f3a\"], [0.8888888888888888, \"#fdca26\"], [1.0, \"#f0f921\"]]}, \"colorway\": [\"#636efa\", \"#EF553B\", \"#00cc96\", \"#ab63fa\", \"#FFA15A\", \"#19d3f3\", \"#FF6692\", \"#B6E880\", \"#FF97FF\", \"#FECB52\"], \"font\": {\"color\": \"#2a3f5f\"}, \"geo\": {\"bgcolor\": \"white\", \"lakecolor\": \"white\", \"landcolor\": \"#E5ECF6\", \"showlakes\": true, \"showland\": true, \"subunitcolor\": \"white\"}, \"hoverlabel\": {\"align\": \"left\"}, \"hovermode\": \"closest\", \"mapbox\": {\"style\": \"light\"}, \"paper_bgcolor\": \"white\", \"plot_bgcolor\": \"#E5ECF6\", \"polar\": {\"angularaxis\": {\"gridcolor\": \"white\", \"linecolor\": \"white\", \"ticks\": \"\"}, \"bgcolor\": \"#E5ECF6\", \"radialaxis\": {\"gridcolor\": \"white\", \"linecolor\": \"white\", \"ticks\": \"\"}}, \"scene\": {\"xaxis\": {\"backgroundcolor\": \"#E5ECF6\", \"gridcolor\": \"white\", \"gridwidth\": 2, \"linecolor\": \"white\", \"showbackground\": true, \"ticks\": \"\", \"zerolinecolor\": \"white\"}, \"yaxis\": {\"backgroundcolor\": \"#E5ECF6\", \"gridcolor\": \"white\", \"gridwidth\": 2, \"linecolor\": \"white\", \"showbackground\": true, \"ticks\": \"\", \"zerolinecolor\": \"white\"}, \"zaxis\": {\"backgroundcolor\": \"#E5ECF6\", \"gridcolor\": \"white\", \"gridwidth\": 2, \"linecolor\": \"white\", \"showbackground\": true, \"ticks\": \"\", \"zerolinecolor\": \"white\"}}, \"shapedefaults\": {\"line\": {\"color\": \"#2a3f5f\"}}, \"ternary\": {\"aaxis\": {\"gridcolor\": \"white\", \"linecolor\": \"white\", \"ticks\": \"\"}, \"baxis\": {\"gridcolor\": \"white\", \"linecolor\": \"white\", \"ticks\": \"\"}, \"bgcolor\": \"#E5ECF6\", \"caxis\": {\"gridcolor\": \"white\", \"linecolor\": \"white\", \"ticks\": \"\"}}, \"title\": {\"x\": 0.05}, \"xaxis\": {\"automargin\": true, \"gridcolor\": \"white\", \"linecolor\": \"white\", \"ticks\": \"\", \"title\": {\"standoff\": 15}, \"zerolinecolor\": \"white\", \"zerolinewidth\": 2}, \"yaxis\": {\"automargin\": true, \"gridcolor\": \"white\", \"linecolor\": \"white\", \"ticks\": \"\", \"title\": {\"standoff\": 15}, \"zerolinecolor\": \"white\", \"zerolinewidth\": 2}}}, \"title\": {\"text\": \"Predict\"}, \"xaxis\": {\"anchor\": \"y\", \"domain\": [0.0, 1.0], \"title\": {\"text\": \"date\"}}, \"yaxis\": {\"anchor\": \"x\", \"domain\": [0.0, 1.0], \"title\": {\"text\": \"value\"}}},                        {\"responsive\": true}                    ).then(function(){\n",
       "                            \n",
       "var gd = document.getElementById('31653dea-82dd-4e6a-a63a-38905afcae65');\n",
       "var x = new MutationObserver(function (mutations, observer) {{\n",
       "        var display = window.getComputedStyle(gd).display;\n",
       "        if (!display || display === 'none') {{\n",
       "            console.log([gd, 'removed!']);\n",
       "            Plotly.purge(gd);\n",
       "            observer.disconnect();\n",
       "        }}\n",
       "}});\n",
       "\n",
       "// Listen for the removal of the full notebook cells\n",
       "var notebookContainer = gd.closest('#notebook-container');\n",
       "if (notebookContainer) {{\n",
       "    x.observe(notebookContainer, {childList: true});\n",
       "}}\n",
       "\n",
       "// Listen for the clearing of the current output cell\n",
       "var outputEl = gd.closest('.output');\n",
       "if (outputEl) {{\n",
       "    x.observe(outputEl, {childList: true});\n",
       "}}\n",
       "\n",
       "                        })                };                });            </script>        </div>"
      ]
     },
     "metadata": {},
     "output_type": "display_data"
    }
   ],
   "source": [
    "ex.line(test[['close','Predict_rf','Predict_MLP']],title=\"Predict\")"
   ]
  },
  {
   "cell_type": "code",
   "execution_count": 43,
   "metadata": {},
   "outputs": [
    {
     "data": {
      "text/plain": [
       "458.99985358875125"
      ]
     },
     "execution_count": 43,
     "metadata": {},
     "output_type": "execute_result"
    }
   ],
   "source": [
    "462.0*np.exp(-0.006515),462.0*np.exp(-0.006515)"
   ]
  },
  {
   "cell_type": "code",
   "execution_count": 53,
   "metadata": {},
   "outputs": [
    {
     "data": {
      "text/plain": [
       "-0.006514681021193642"
      ]
     },
     "execution_count": 53,
     "metadata": {},
     "output_type": "execute_result"
    }
   ],
   "source": [
    "np.log(459/462)"
   ]
  },
  {
   "cell_type": "raw",
   "metadata": {},
   "source": [
    "test['Close']+oop"
   ]
  },
  {
   "cell_type": "code",
   "execution_count": 68,
   "metadata": {},
   "outputs": [],
   "source": [
    "test['pred']=(df_TSM.iloc[-6:-1]['Close']+oop).values"
   ]
  },
  {
   "cell_type": "code",
   "execution_count": 81,
   "metadata": {},
   "outputs": [],
   "source": [
    "test['pred_mlp']=(df_TSM.iloc[-6:-1]['Close']+oop_mlp).values"
   ]
  },
  {
   "cell_type": "code",
   "execution_count": 44,
   "metadata": {},
   "outputs": [],
   "source": []
  },
  {
   "cell_type": "code",
   "execution_count": 82,
   "metadata": {},
   "outputs": [
    {
     "data": {
      "text/plain": [
       "<AxesSubplot:xlabel='Date'>"
      ]
     },
     "execution_count": 82,
     "metadata": {},
     "output_type": "execute_result"
    },
    {
     "data": {
      "image/png": "[encoded data removed]",
      "text/plain": [
       "<Figure size 432x288 with 1 Axes>"
      ]
     },
     "metadata": {
      "needs_background": "light"
     },
     "output_type": "display_data"
    }
   ],
   "source": [
    "test[['Open','High','Low','Close','y','pred','pred_mlp']].plot()"
   ]
  },
  {
   "cell_type": "code",
   "execution_count": null,
   "metadata": {},
   "outputs": [],
   "source": [
    "ex.line(test[['Open','High','Low','Close','y','pred','pred_mlp']])"
   ]
  },
  {
   "cell_type": "code",
   "execution_count": 49,
   "metadata": {},
   "outputs": [
    {
     "data": {
      "text/html": [
       "<div>\n",
       "<style scoped>\n",
       "    .dataframe tbody tr th:only-of-type {\n",
       "        vertical-align: middle;\n",
       "    }\n",
       "\n",
       "    .dataframe tbody tr th {\n",
       "        vertical-align: top;\n",
       "    }\n",
       "\n",
       "    .dataframe thead th {\n",
       "        text-align: right;\n",
       "    }\n",
       "</style>\n",
       "<table border=\"1\" class=\"dataframe\">\n",
       "  <thead>\n",
       "    <tr style=\"text-align: right;\">\n",
       "      <th></th>\n",
       "      <th>Open</th>\n",
       "      <th>High</th>\n",
       "      <th>Low</th>\n",
       "      <th>Close</th>\n",
       "      <th>Adj Close</th>\n",
       "      <th>Volume</th>\n",
       "      <th>y</th>\n",
       "      <th>diff</th>\n",
       "    </tr>\n",
       "    <tr>\n",
       "      <th>Date</th>\n",
       "      <th></th>\n",
       "      <th></th>\n",
       "      <th></th>\n",
       "      <th></th>\n",
       "      <th></th>\n",
       "      <th></th>\n",
       "      <th></th>\n",
       "      <th></th>\n",
       "    </tr>\n",
       "  </thead>\n",
       "  <tbody>\n",
       "    <tr>\n",
       "      <th>2020-10-06</th>\n",
       "      <td>441.5</td>\n",
       "      <td>442.0</td>\n",
       "      <td>437.5</td>\n",
       "      <td>439.5</td>\n",
       "      <td>439.5</td>\n",
       "      <td>35775395</td>\n",
       "      <td>443.0</td>\n",
       "      <td>3.5</td>\n",
       "    </tr>\n",
       "    <tr>\n",
       "      <th>2020-10-07</th>\n",
       "      <td>435.0</td>\n",
       "      <td>445.0</td>\n",
       "      <td>435.0</td>\n",
       "      <td>443.0</td>\n",
       "      <td>443.0</td>\n",
       "      <td>42926239</td>\n",
       "      <td>453.0</td>\n",
       "      <td>10.0</td>\n",
       "    </tr>\n",
       "  </tbody>\n",
       "</table>\n",
       "</div>"
      ],
      "text/plain": [
       "             Open   High    Low  Close  Adj Close    Volume      y  diff\n",
       "Date                                                                    \n",
       "2020-10-06  441.5  442.0  437.5  439.5      439.5  35775395  443.0   3.5\n",
       "2020-10-07  435.0  445.0  435.0  443.0      443.0  42926239  453.0  10.0"
      ]
     },
     "execution_count": 49,
     "metadata": {},
     "output_type": "execute_result"
    }
   ],
   "source": [
    "train[-2:]"
   ]
  },
  {
   "cell_type": "code",
   "execution_count": 50,
   "metadata": {},
   "outputs": [
    {
     "data": {
      "text/html": [
       "<div>\n",
       "<style scoped>\n",
       "    .dataframe tbody tr th:only-of-type {\n",
       "        vertical-align: middle;\n",
       "    }\n",
       "\n",
       "    .dataframe tbody tr th {\n",
       "        vertical-align: top;\n",
       "    }\n",
       "\n",
       "    .dataframe thead th {\n",
       "        text-align: right;\n",
       "    }\n",
       "</style>\n",
       "<table border=\"1\" class=\"dataframe\">\n",
       "  <thead>\n",
       "    <tr style=\"text-align: right;\">\n",
       "      <th></th>\n",
       "      <th>Open</th>\n",
       "      <th>High</th>\n",
       "      <th>Low</th>\n",
       "      <th>Close</th>\n",
       "      <th>Adj Close</th>\n",
       "      <th>Volume</th>\n",
       "      <th>y</th>\n",
       "      <th>diff</th>\n",
       "      <th>pred</th>\n",
       "    </tr>\n",
       "    <tr>\n",
       "      <th>Date</th>\n",
       "      <th></th>\n",
       "      <th></th>\n",
       "      <th></th>\n",
       "      <th></th>\n",
       "      <th></th>\n",
       "      <th></th>\n",
       "      <th></th>\n",
       "      <th></th>\n",
       "      <th></th>\n",
       "    </tr>\n",
       "  </thead>\n",
       "  <tbody>\n",
       "    <tr>\n",
       "      <th>2020-10-08</th>\n",
       "      <td>450.0</td>\n",
       "      <td>454.0</td>\n",
       "      <td>448.5</td>\n",
       "      <td>453.0</td>\n",
       "      <td>453.0</td>\n",
       "      <td>60853811</td>\n",
       "      <td>460.0</td>\n",
       "      <td>7.0</td>\n",
       "      <td>447.500</td>\n",
       "    </tr>\n",
       "    <tr>\n",
       "      <th>2020-10-12</th>\n",
       "      <td>458.0</td>\n",
       "      <td>462.0</td>\n",
       "      <td>457.5</td>\n",
       "      <td>460.0</td>\n",
       "      <td>460.0</td>\n",
       "      <td>64719223</td>\n",
       "      <td>462.0</td>\n",
       "      <td>2.0</td>\n",
       "      <td>454.500</td>\n",
       "    </tr>\n",
       "    <tr>\n",
       "      <th>2020-10-13</th>\n",
       "      <td>465.0</td>\n",
       "      <td>465.0</td>\n",
       "      <td>456.5</td>\n",
       "      <td>462.0</td>\n",
       "      <td>462.0</td>\n",
       "      <td>45750738</td>\n",
       "      <td>459.0</td>\n",
       "      <td>-3.0</td>\n",
       "      <td>456.500</td>\n",
       "    </tr>\n",
       "    <tr>\n",
       "      <th>2020-10-14</th>\n",
       "      <td>460.5</td>\n",
       "      <td>461.0</td>\n",
       "      <td>457.0</td>\n",
       "      <td>459.0</td>\n",
       "      <td>459.0</td>\n",
       "      <td>40809241</td>\n",
       "      <td>453.0</td>\n",
       "      <td>-6.0</td>\n",
       "      <td>455.025</td>\n",
       "    </tr>\n",
       "    <tr>\n",
       "      <th>2020-10-15</th>\n",
       "      <td>456.0</td>\n",
       "      <td>456.5</td>\n",
       "      <td>450.0</td>\n",
       "      <td>453.0</td>\n",
       "      <td>453.0</td>\n",
       "      <td>47775028</td>\n",
       "      <td>453.0</td>\n",
       "      <td>0.0</td>\n",
       "      <td>447.500</td>\n",
       "    </tr>\n",
       "  </tbody>\n",
       "</table>\n",
       "</div>"
      ],
      "text/plain": [
       "             Open   High    Low  Close  Adj Close    Volume      y  diff  \\\n",
       "Date                                                                       \n",
       "2020-10-08  450.0  454.0  448.5  453.0      453.0  60853811  460.0   7.0   \n",
       "2020-10-12  458.0  462.0  457.5  460.0      460.0  64719223  462.0   2.0   \n",
       "2020-10-13  465.0  465.0  456.5  462.0      462.0  45750738  459.0  -3.0   \n",
       "2020-10-14  460.5  461.0  457.0  459.0      459.0  40809241  453.0  -6.0   \n",
       "2020-10-15  456.0  456.5  450.0  453.0      453.0  47775028  453.0   0.0   \n",
       "\n",
       "               pred  \n",
       "Date                 \n",
       "2020-10-08  447.500  \n",
       "2020-10-12  454.500  \n",
       "2020-10-13  456.500  \n",
       "2020-10-14  455.025  \n",
       "2020-10-15  447.500  "
      ]
     },
     "execution_count": 50,
     "metadata": {},
     "output_type": "execute_result"
    }
   ],
   "source": [
    "test"
   ]
  },
  {
   "cell_type": "code",
   "execution_count": null,
   "metadata": {},
   "outputs": [],
   "source": []
  },
  {
   "cell_type": "code",
   "execution_count": 8,
   "metadata": {},
   "outputs": [],
   "source": [
    "df_TSM.to_csv(\"csv/TSM.csv\")"
   ]
  },
  {
   "cell_type": "code",
   "execution_count": null,
   "metadata": {},
   "outputs": [],
   "source": [
    "df_MediaT=web.get_data_yahoo([MediaT],start, end)"
   ]
  },
  {
   "cell_type": "code",
   "execution_count": null,
   "metadata": {},
   "outputs": [],
   "source": [
    "df_Macronix=web.get_data_yahoo([Macronix],start, end)"
   ]
  },
  {
   "cell_type": "code",
   "execution_count": null,
   "metadata": {},
   "outputs": [],
   "source": [
    "len(df_AAPL),len(df_TSM)"
   ]
  },
  {
   "cell_type": "code",
   "execution_count": null,
   "metadata": {},
   "outputs": [],
   "source": [
    "df=df_AAPL[['Close']].copy()"
   ]
  },
  {
   "cell_type": "code",
   "execution_count": null,
   "metadata": {},
   "outputs": [],
   "source": [
    "df.rename(columns={'Close':'AAPL'},inplace=True)\n"
   ]
  },
  {
   "cell_type": "code",
   "execution_count": null,
   "metadata": {},
   "outputs": [],
   "source": [
    "df['TSM']=df_TSM['Close']"
   ]
  },
  {
   "cell_type": "code",
   "execution_count": null,
   "metadata": {},
   "outputs": [],
   "source": [
    "df.fillna(method='bfill',inplace=True)"
   ]
  },
  {
   "cell_type": "code",
   "execution_count": null,
   "metadata": {},
   "outputs": [],
   "source": [
    "df.info()"
   ]
  },
  {
   "cell_type": "code",
   "execution_count": null,
   "metadata": {},
   "outputs": [],
   "source": [
    "df.head()"
   ]
  },
  {
   "cell_type": "code",
   "execution_count": null,
   "metadata": {},
   "outputs": [],
   "source": [
    "df.plot(figsize=[12,6])"
   ]
  },
  {
   "cell_type": "code",
   "execution_count": null,
   "metadata": {},
   "outputs": [],
   "source": [
    "(df/df.iloc[0]).plot(figsize=[12,6],title=\"Profit, $p_i/p_{i-1}$\");"
   ]
  },
  {
   "cell_type": "code",
   "execution_count": null,
   "metadata": {},
   "outputs": [],
   "source": [
    "Return=np.log(df/df.shift(1))\n",
    "Return=Return.dropna()\n"
   ]
  },
  {
   "cell_type": "markdown",
   "metadata": {},
   "source": [
    "Return.hist(bins=25,figsize=(12,4));"
   ]
  },
  {
   "cell_type": "markdown",
   "metadata": {},
   "source": [
    "Execellent visualization, right? But we can  do this better by plotly!"
   ]
  },
  {
   "cell_type": "code",
   "execution_count": null,
   "metadata": {},
   "outputs": [],
   "source": [
    "Return.hist?"
   ]
  },
  {
   "cell_type": "code",
   "execution_count": null,
   "metadata": {},
   "outputs": [],
   "source": [
    "pd.options.plotting.backend =\"plotly\""
   ]
  },
  {
   "cell_type": "code",
   "execution_count": null,
   "metadata": {},
   "outputs": [],
   "source": [
    "Return.plot(kind=\"hist\", opacity=0.6, bins=25,title=\" Returrns of Comanies\")"
   ]
  },
  {
   "cell_type": "markdown",
   "metadata": {},
   "source": [
    "As expected, more flexibly than matplotlib redering. You can try other otionals: \n",
    "```\n",
    "histnorm='probability density',\n",
    "marginal='box',\n",
    "```"
   ]
  },
  {
   "cell_type": "code",
   "execution_count": null,
   "metadata": {},
   "outputs": [],
   "source": [
    "Ret_mean=Return.mean()*252\n",
    "Ret_mean"
   ]
  },
  {
   "cell_type": "code",
   "execution_count": null,
   "metadata": {},
   "outputs": [],
   "source": [
    "Ret_cov=Return.cov()*252\n",
    "Ret_cov"
   ]
  },
  {
   "cell_type": "code",
   "execution_count": null,
   "metadata": {},
   "outputs": [],
   "source": []
  },
  {
   "cell_type": "code",
   "execution_count": null,
   "metadata": {},
   "outputs": [],
   "source": [
    "Ret_cor=Return.corr()\n",
    "Ret_cor"
   ]
  },
  {
   "cell_type": "code",
   "execution_count": null,
   "metadata": {},
   "outputs": [],
   "source": []
  },
  {
   "cell_type": "code",
   "execution_count": null,
   "metadata": {},
   "outputs": [],
   "source": [
    "x=np.random.random(len(df.columns))\n",
    "w=x/x.sum()\n",
    "w"
   ]
  },
  {
   "cell_type": "code",
   "execution_count": null,
   "metadata": {},
   "outputs": [],
   "source": [
    "R_Bin=np.sum(w*Ret_mean)\n",
    "R_Bin"
   ]
  },
  {
   "cell_type": "code",
   "execution_count": null,
   "metadata": {},
   "outputs": [],
   "source": [
    "vol_Bin=np.sqrt(np.dot(w,np.dot(Ret_cov,w.T)))\n",
    "vol_Bin"
   ]
  },
  {
   "cell_type": "code",
   "execution_count": null,
   "metadata": {},
   "outputs": [],
   "source": [
    "print(\"Portfolio: \",list(df.columns))\n",
    "\n",
    "print(\"Weights: %6.4f, %6.4f\" %(w[0],w[1]))\n",
    "\n",
    "print(\"Profit, %6.4f, with volatility, %6.4f\" %(R_Bin,vol_Bin))"
   ]
  },
  {
   "cell_type": "code",
   "execution_count": null,
   "metadata": {},
   "outputs": [],
   "source": []
  }
 ],
 "metadata": {
  "kernelspec": {
   "display_name": "Python 3",
   "language": "python",
   "name": "python3"
  },
  "language_info": {
   "codemirror_mode": {
    "name": "ipython",
    "version": 3
   },
   "file_extension": ".py",
   "mimetype": "text/x-python",
   "name": "python",
   "nbconvert_exporter": "python",
   "pygments_lexer": "ipython3",
   "version": "3.8.3"
  }
 },
 "nbformat": 4,
 "nbformat_minor": 4
}
