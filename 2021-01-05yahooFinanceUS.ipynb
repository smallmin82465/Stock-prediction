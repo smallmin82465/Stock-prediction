{
 "cells": [
  {
   "cell_type": "code",
   "execution_count": 32,
   "id": "322d15c9-e1de-4825-9356-ec373ed71ab8",
   "metadata": {},
   "outputs": [],
   "source": [
    "import requests\n",
    "from bs4 import BeautifulSoup\n",
    "import os \n",
    "import re\n",
    "import urllib"
   ]
  },
  {
   "cell_type": "code",
   "execution_count": 133,
   "id": "233a904a-cc4b-40d3-a198-73f457e4a642",
   "metadata": {},
   "outputs": [],
   "source": [
    "def titleFind():\n",
    "    resp = requests.get('https://finance.yahoo.com/quote/AAPL?p=AAPL&.tsrc=fin-srch')\n",
    "    soup = BeautifulSoup(resp.text, 'html.parser')\n",
    "    titles=soup.find_all(class_='Mb(5px)')\n",
    "    for title in titles:\n",
    "        print(title.getText())"
   ]
  },
  {
   "cell_type": "code",
   "execution_count": 134,
   "id": "c454937e-5f44-4fff-8dde-c9aeb6cdc478",
   "metadata": {},
   "outputs": [
    {
     "name": "stdout",
     "output_type": "stream",
     "text": [
      "Apple Inc. (AAPL)NasdaqGS - NasdaqGS Real Time Price. Currency in USDAdd to watchlistVisitors trend2W10W9M179.70-2.31 (-1.27%)At close:  04:00PM EST179.33 -0.37 (-0.21%)After hours: 07:59PM EST  \n",
      "                Advertisement\n",
      "\n",
      "Yahoo Finance Presents: Jeffrey Gundlach\n",
      "Apple stock ‘is overpriced right now, and significantly so’: Strategist\n",
      "Tesla, Apple and the new China syndrome\n",
      "Sony Explores Selling EVs, Joining Tech Rush Into Red-Hot Arena\n",
      "Apple (AAPL) Dips More Than Broader Markets: What You Should Know\n",
      "Warren Buffett is ready to ride out 2022 with these dividend stocks — 3 picks to help you prioritize safety this year\n",
      "Wolfe Research Sees Sharp Upside In Match Group, Bets On Online Dating, Apple\n",
      "Chip Delivery Times Are on the Rise Again, Shortages to Continue\n",
      "Is Apple Stock's Next Stop $2 Trillion or $4 Trillion?\n",
      "Analyst Price Targets (42)\n"
     ]
    }
   ],
   "source": [
    "titleFind()"
   ]
  },
  {
   "cell_type": "code",
   "execution_count": null,
   "id": "4ee1ea18-cb00-42a8-a222-a21022bb9306",
   "metadata": {},
   "outputs": [],
   "source": []
  }
 ],
 "metadata": {
  "kernelspec": {
   "display_name": "Python 3",
   "language": "python",
   "name": "python3"
  },
  "language_info": {
   "codemirror_mode": {
    "name": "ipython",
    "version": 3
   },
   "file_extension": ".py",
   "mimetype": "text/x-python",
   "name": "python",
   "nbconvert_exporter": "python",
   "pygments_lexer": "ipython3",
   "version": "3.8.8"
  }
 },
 "nbformat": 4,
 "nbformat_minor": 5
}
